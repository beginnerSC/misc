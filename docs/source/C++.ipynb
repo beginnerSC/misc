{
 "cells": [
  {
   "cell_type": "code",
   "execution_count": 23,
   "metadata": {
    "collapsed": false,
    "jupyter": {
     "outputs_hidden": false
    }
   },
   "outputs": [
    {
     "name": "stdout",
     "output_type": "stream",
     "text": [
      "baa\n"
     ]
    }
   ],
   "source": [
    "#include<iostream>\n",
    "#include<string>\n",
    "\n",
    "{\n",
    "//     const char* s = \"aaa\";  // 可以宣告但不能改內容。string literal 是存在 const 區\n",
    "//     std::string s = \"aaa\";  // 可以宣告也可以改內容\n",
    "//     char* s = \"aaa\";        // interpreter 不給過。因為 string literal 是 const 所以這樣宣告不合法\n",
    "    char s[] = \"aaa\";       // 宣告成 array：可以宣告也可以改內容。其實這樣宣告\n",
    "    \n",
    "    s[0] = 'b';\n",
    "    std::cout << s << std::endl;\n",
    "    \n",
    "}"
   ]
  }
 ],
 "metadata": {
  "kernelspec": {
   "display_name": "C++17",
   "language": "C++17",
   "name": "xcpp17"
  },
  "language_info": {
   "codemirror_mode": "text/x-c++src",
   "file_extension": ".cpp",
   "mimetype": "text/x-c++src",
   "name": "c++",
   "version": "17"
  }
 },
 "nbformat": 4,
 "nbformat_minor": 4
}

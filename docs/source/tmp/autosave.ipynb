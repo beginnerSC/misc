{
 "cells": [
  {
   "cell_type": "markdown",
   "metadata": {},
   "source": [
    "# Autosave\n",
    "\n",
    "* Below is how subprocess can call an alias, code from [here](https://stackoverflow.com/questions/12060863/python-subprocess-call-a-bash-alias). \n",
    "* In terminal, turn this into a python script, say ```autosave.ipynb``\n",
    "    ```\n",
    "    jupyter nbconvert --to script autosave.ipynb\n",
    "    ```\n",
    "* Also in terminal ```python autosave.py```\n",
    "* This can be used with the schedule library\n"
   ]
  },
  {
   "cell_type": "code",
   "execution_count": null,
   "metadata": {},
   "outputs": [],
   "source": [
    "import schedule \n",
    "import datetime, time, subprocess\n",
    "\n",
    "def autosave():\n",
    "    subprocess.call(['/bin/bash', '-i', '-c', 'cnp'])\n",
    "    print('Pushed', datetime.datetime.now())\n",
    "\n",
    "if __name__ == '__main__':\n",
    "    schedule.every(5).minutes.do(autosave)\n",
    "    while True:\n",
    "        schedule.run_pending() \n",
    "        time.sleep(1) "
   ]
  }
 ],
 "metadata": {
  "kernelspec": {
   "display_name": "Python 3",
   "language": "python",
   "name": "python3"
  },
  "language_info": {
   "codemirror_mode": {
    "name": "ipython",
    "version": 3
   },
   "file_extension": ".py",
   "mimetype": "text/x-python",
   "name": "python",
   "nbconvert_exporter": "python",
   "pygments_lexer": "ipython3",
   "version": "3.7.8"
  }
 },
 "nbformat": 4,
 "nbformat_minor": 4
}

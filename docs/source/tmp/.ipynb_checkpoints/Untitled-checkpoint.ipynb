{
 "cells": [
  {
   "cell_type": "code",
   "execution_count": 10,
   "metadata": {},
   "outputs": [
    {
     "data": {
      "application/javascript": [
       "\n",
       "Jupyter.notebook.kernel.comm_manager.register_target('my_comm_target',\n",
       "    function(comm, msg) {\n",
       "        // comm is the frontend comm instance\n",
       "        // msg is the comm_open message, which can carry data\n",
       "\n",
       "        // Register handlers for later messages:\n",
       "        comm.on_msg(function(msg) {});\n",
       "        comm.on_close(function(msg) {});\n",
       "        comm.send({'foo': 0});\n",
       "    });\n"
      ],
      "text/plain": [
       "<IPython.core.display.Javascript object>"
      ]
     },
     "metadata": {},
     "output_type": "display_data"
    }
   ],
   "source": [
    "%%js\n",
    "\n",
    "# this can only run on Jupyter Notebook, not JupyterLab\n",
    "\n",
    "Jupyter.notebook.kernel.comm_manager.register_target('my_comm_target',\n",
    "    function(comm, msg) {\n",
    "        // comm is the frontend comm instance\n",
    "        // msg is the comm_open message, which can carry data\n",
    "\n",
    "        // Register handlers for later messages:\n",
    "        comm.on_msg(function(msg) {});\n",
    "        comm.on_close(function(msg) {});\n",
    "        comm.send({'foo': 0});\n",
    "    });\n"
   ]
  },
  {
   "cell_type": "code",
   "execution_count": 11,
   "metadata": {},
   "outputs": [],
   "source": [
    "# https://jupyter-notebook.readthedocs.io/en/stable/comms.html\n",
    "\n",
    "import IPython\n",
    "from ipykernel.comm import Comm\n",
    "import time\n",
    "import sys\n",
    "\n",
    "# Use comm to send a message from the kernel\n",
    "\n",
    "_jupyter_config = {}\n",
    "my_comm = Comm(target_name='my_comm_target', data={'foo': 1})\n",
    "my_comm.send({'foo': 2})\n",
    "\n",
    "# Add a callback for received messages.\n",
    "@my_comm.on_msg\n",
    "def _recv(msg):\n",
    "    # Use msg['content']['data'] for the data in the message\n",
    "    msg_data = msg.get('content').get('data')\n",
    "    msg_type = msg_data.get('type', None)\n",
    "    if msg_type == 'base_url_response':\n",
    "        _jupyter_config.update(msg_data)\n",
    "\n",
    "my_comm.send({'type': 'base_url_request'})    "
   ]
  },
  {
   "cell_type": "code",
   "execution_count": 13,
   "metadata": {},
   "outputs": [
    {
     "name": "stdout",
     "output_type": "stream",
     "text": [
      "0\n"
     ]
    },
    {
     "ename": "OSError",
     "evalue": "Unable to communicate with the jupyter_dash notebook or JupyterLab \nextension required to infer Jupyter configuration.",
     "output_type": "error",
     "traceback": [
      "\u001b[0;31m---------------------------------------------------------------------------\u001b[0m",
      "\u001b[0;31mOSError\u001b[0m                                   Traceback (most recent call last)",
      "\u001b[0;32m<ipython-input-12-887fce504dbd>\u001b[0m in \u001b[0;36m<module>\u001b[0;34m\u001b[0m\n\u001b[1;32m     20\u001b[0m         \u001b[0;31m# give up\u001b[0m\u001b[0;34m\u001b[0m\u001b[0;34m\u001b[0m\u001b[0;34m\u001b[0m\u001b[0m\n\u001b[1;32m     21\u001b[0m         raise EnvironmentError(\n\u001b[0;32m---> 22\u001b[0;31m             \u001b[0;34m\"Unable to communicate with the jupyter_dash notebook or JupyterLab \\n\"\u001b[0m\u001b[0;34m\u001b[0m\u001b[0;34m\u001b[0m\u001b[0m\n\u001b[0m\u001b[1;32m     23\u001b[0m             \u001b[0;34m\"extension required to infer Jupyter configuration.\"\u001b[0m\u001b[0;34m\u001b[0m\u001b[0;34m\u001b[0m\u001b[0m\n\u001b[1;32m     24\u001b[0m         )\n",
      "\u001b[0;31mOSError\u001b[0m: Unable to communicate with the jupyter_dash notebook or JupyterLab \nextension required to infer Jupyter configuration."
     ]
    }
   ],
   "source": [
    "# Get shell and kernel\n",
    "shell = IPython.get_ipython()\n",
    "kernel = shell.kernel\n",
    "\n",
    "# Start capturing shell events to replay later\n",
    "captured_events = []\n",
    "\n",
    "def capture_event(stream, ident, parent):\n",
    "    captured_events.append((stream, ident, parent))\n",
    "\n",
    "kernel.shell_handlers['execute_request'] = capture_event\n",
    "\n",
    "# increment execution count to avoid collision error\n",
    "shell.execution_count += 1\n",
    "\n",
    "print(0)\n",
    "t0 = time.time()\n",
    "while True:\n",
    "    if (time.time() - t0) > 2:\n",
    "        # give up\n",
    "        raise EnvironmentError(\n",
    "            \"Unable to communicate with the jupyter_dash notebook or JupyterLab \\n\"\n",
    "            \"extension required to infer Jupyter configuration.\"\n",
    "        )\n",
    "    if bool(_jupyter_config):\n",
    "        break\n",
    "\n",
    "    kernel.do_one_iteration()\n",
    "\n",
    "print(0)\n",
    "_jupyter_config\n",
    "\n"
   ]
  },
  {
   "cell_type": "code",
   "execution_count": 31,
   "metadata": {},
   "outputs": [
    {
     "data": {
      "application/javascript": [
       "\n",
       "const fs = require('fs')\n",
       "writeFile(\"url.txt\", window.location.href)\n"
      ],
      "text/plain": [
       "<IPython.core.display.Javascript object>"
      ]
     },
     "metadata": {},
     "output_type": "display_data"
    }
   ],
   "source": [
    "%%js\n",
    "\n",
    "const fs = require('fs')\n",
    "writeFile(\"url.txt\", window.location.href)"
   ]
  },
  {
   "cell_type": "code",
   "execution_count": 1,
   "metadata": {},
   "outputs": [
    {
     "data": {
      "text/plain": [
       "'/home/jovyan/.ipython/profile_default/startup'"
      ]
     },
     "execution_count": 1,
     "metadata": {},
     "output_type": "execute_result"
    }
   ],
   "source": [
    "# url = window.location.href\n",
    "\n",
    "get_ipython().profile_dir.startup_dir"
   ]
  },
  {
   "cell_type": "markdown",
   "metadata": {},
   "source": [
    "My Journey Towards Becoming a Full Stack Developer"
   ]
  },
  {
   "cell_type": "markdown",
   "metadata": {},
   "source": [
    "如果目前的配置用起來順利，這個 cell（本來放在這個 repo 的 environment.yml 和 JupyterLab link）和壞掉的 binder-sandbox repo 就可以砍掉了\n",
    "\n",
    "```\n",
    "name: xeus-cling\n",
    "channels:\n",
    "  - conda-forge\n",
    "dependencies:\n",
    "  - numpy\n",
    "  - scipy\n",
    "  - pandas\n",
    "  - seaborn\n",
    "  - matplotlib\n",
    "  - bokeh\n",
    "  - xeus-cling=0.10.0\n",
    "  - xtensor=0.21.2\n",
    "  - xtensor-blas=0.17.1\n",
    "  - notebook\n",
    "```\n",
    "\n",
    "https://mybinder.org/v2/gh/beginnerSC/misc/master?urlpath=lab"
   ]
  },
  {
   "cell_type": "code",
   "execution_count": 13,
   "metadata": {},
   "outputs": [
    {
     "data": {
      "text/plain": [
       "[2, 3, 2, 3, 3, 4, 3, 5, 8, 6, 8, 8, 9]"
      ]
     },
     "execution_count": 13,
     "metadata": {},
     "output_type": "execute_result"
    }
   ],
   "source": [
    "import heapq\n",
    "\n",
    "aaa = [8, 6, 4, 3, 3, 2, 3, 5, 8, 3, 8, 2, 9]\n",
    "\n",
    "heapq.heapify(aaa)\n",
    "\n",
    "aaa"
   ]
  },
  {
   "cell_type": "markdown",
   "metadata": {},
   "source": [
    "## [Not All LeetCode Questions are Created Equal](https://www.reddit.com/r/cscareerquestions/comments/7rey82/how_to_avoid_wasting_time_on_weird_leetcode/)\n",
    "\n",
    "These types of questions won't get asked: \n",
    "* problem statement are too long for interviewer to remember\n",
    "* too many corner cases to finish in interview\n",
    "\n",
    "Look for: \n",
    "* questions that implement popular fundamental algorithms like trees, string manipulation, dfs/bfs, matrix\n",
    "* questions that have good real life application like regular expression\n"
   ]
  },
  {
   "cell_type": "markdown",
   "metadata": {},
   "source": [
    "## Gauss Quadrature\n",
    "\n",
    "\n",
    "\n",
    "The following is a simplied case of the fundamental theorem from wikipedia, and its proof. \n",
    "\n",
    "If $p_n$ is a polynomial of degree $n$ such that\n",
    "\\begin{eqnarray}\n",
    "\\int_{-1}^1 x^k p_n(x)\\,dx=0\\qquad \\forall k=0, 1, 2, \\ldots, n-1, \n",
    "\\end{eqnarray}\n",
    "and $\\{x_i\\}$ are roots of $p_n$, then there is a set of weights $\\{w_i\\}$ such that\n",
    "$$\n",
    "\\int_{-1}^1 h(x)\\,dx = \\sum_{i=1}^n h(x_i)w_i\n",
    "$$\n",
    "for all polynomial $h$ of degree $2n-1$. \n",
    "\n",
    "\n",
    "To prove, first write \n",
    "$$\n",
    "\\underbrace{h(x)}_{\\text{of degree } 2n-1} = \\underbrace{p_n(x)}_{n}\\underbrace{q(x)}_{n-1}+\\underbrace{r(x)}_{n-1}. \n",
    "$$ Thus\n",
    "$$\n",
    "\\int_{-1}^1 h(x)\\,dx = \\underbrace{\\int_{-1}^1 p_n(x)q(x)\\,dx}_{= 0} + \\int_{-1}^1 r(x)\\,dx. \n",
    "$$\n",
    "The first term of the right hand side vanishes.\n",
    "On the other hand, we also have\n",
    "$$\n",
    "\\sum_{i=1}^n h(x_i)w_i = \\underbrace{\\sum_{i=1}^n p_n(x_i)q(x_i)w_i}_{=0} + \\sum_{i=1}^n r(x_i)w_i\n",
    "$$\n",
    "since $\\{x_i\\}$ are roots of $p_n(x)$. \n",
    "It remains to prove there is a set of weights $\\{w_i\\}$ such that\n",
    "$$\n",
    "\\int_{-1}^1 r(x)\\,dx = \\sum_{i=1}^n r(x_i)w_i\n",
    "$$\n",
    "for all polynomial $r(x)$ of degree $n-1$, which is true if and only if\n",
    "$$\n",
    "\\int_{-1}^1 x^k\\,dx = \\sum_{i=1}^n x_i^k w_i\\qquad\\forall k=0, 1, 2, \\ldots, n-1. \n",
    "$$\n",
    "Set $I_k = \\int_{-1}^1 x^k\\,dx$. The above can be written as a linear system\n",
    "\n",
    "\n",
    "$$\n",
    "\\begin{pmatrix}\n",
    "1   & 1   & 1   & \\cdots & 1   \\\\\n",
    "x_1 & x_2 & x_3 & \\cdots & x_n \\\\\n",
    "x_1^2 & x_2^2 & x_3^2 & \\cdots & x_n^2 \\\\\n",
    "\\vdots & \\vdots & \\vdots & \\ddots & \\vdots \\\\\n",
    "x_1^{n-1} & x_2^{n-1} & x_3^{n-1} & \\cdots & x_n^{n-1}\n",
    "\\end{pmatrix}\n",
    "\\begin{pmatrix}\n",
    "w_1\\\\\n",
    "w_2\\\\\n",
    "w_3\\\\\n",
    "\\vdots\\\\\n",
    "w_n\n",
    "\\end{pmatrix}\n",
    "=\n",
    "\\begin{pmatrix}\n",
    "I_0\\\\\n",
    "I_1\\\\\n",
    "I_2\\\\\n",
    "\\vdots\\\\\n",
    "I_{n-1}\n",
    "\\end{pmatrix}. \n",
    "$$\n",
    "\n",
    "\n",
    "The existence of $\\{w_i\\}$ is obvious since the matrix is invertible. \n"
   ]
  }
 ],
 "metadata": {
  "kernelspec": {
   "display_name": "Python 3",
   "language": "python",
   "name": "python3"
  },
  "language_info": {
   "codemirror_mode": {
    "name": "ipython",
    "version": 3
   },
   "file_extension": ".py",
   "mimetype": "text/x-python",
   "name": "python",
   "nbconvert_exporter": "python",
   "pygments_lexer": "ipython3",
   "version": "3.7.8"
  }
 },
 "nbformat": 4,
 "nbformat_minor": 4
}

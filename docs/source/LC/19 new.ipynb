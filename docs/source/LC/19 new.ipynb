{
 "cells": [
  {
   "cell_type": "markdown",
   "metadata": {},
   "source": [
    "# 19 new"
   ]
  },
  {
   "cell_type": "markdown",
   "metadata": {},
   "source": [
    "## 969. Pancake Sorting\n",
    "Medium\n",
    "\n",
    "Given an array of integers arr, sort the array by performing a series of pancake flips.\n",
    "\n",
    "In one pancake flip we do the following steps:\n",
    "\n",
    "    Choose an integer k where 1 <= k <= arr.length.\n",
    "    Reverse the sub-array arr[1...k].\n",
    "\n",
    "For example, if arr = [3,2,1,4] and we performed a pancake flip choosing k = 3, we reverse the sub-array [3,2,1], so arr = [1,2,3,4] after the pancake flip at k = 3.\n",
    "\n",
    "Return the k-values corresponding to a sequence of pancake flips that sort arr. Any valid answer that sorts the array within 10 * arr.length flips will be judged as correct.\n",
    "\n",
    " \n",
    "```\n",
    "Example:\n",
    "Input: arr = [3,2,4,1]\n",
    "Output: [4,2,4,3]\n",
    "Explanation: \n",
    "We perform 4 pancake flips, with k values 4, 2, 4, and 3.\n",
    "Starting state: arr = [3, 2, 4, 1]\n",
    "After 1st flip (k = 4): arr = [1, 4, 2, 3]\n",
    "After 2nd flip (k = 2): arr = [4, 1, 2, 3]\n",
    "After 3rd flip (k = 4): arr = [3, 2, 1, 4]\n",
    "After 4th flip (k = 3): arr = [1, 2, 3, 4], which is sorted.\n",
    "Notice that we return an array of the chosen k values of the pancake flips.\n",
    "```"
   ]
  },
  {
   "cell_type": "code",
   "execution_count": 11,
   "metadata": {},
   "outputs": [
    {
     "data": {
      "text/plain": [
       "[3, 4, 2, 3, 2]"
      ]
     },
     "execution_count": 11,
     "metadata": {},
     "output_type": "execute_result"
    }
   ],
   "source": [
    "arr = [3, 2, 4, 1]\n",
    "\n",
    "def pancakeSort(arr):\n",
    "    n = len(arr)\n",
    "    res = []\n",
    "    \n",
    "    for i in range(n, 1, -1):\n",
    "        k = arr.index(i) + 1\n",
    "        if k != 1:\n",
    "            res.append(k)\n",
    "            arr[:k] = arr[:k][::-1]    \n",
    "        res.append(i)\n",
    "        arr[:i] = arr[:i][::-1]\n",
    "        \n",
    "    return res\n",
    "\n",
    "pancakeSort(arr)"
   ]
  },
  {
   "cell_type": "markdown",
   "metadata": {},
   "source": [
    "## 200. Number of Islands\n",
    "Medium\n",
    "\n",
    "Given a 2d grid map of '1's (land) and '0's (water), count the number of islands. An island is surrounded by water and is formed by connecting adjacent lands horizontally or vertically. You may assume all four edges of the grid are all surrounded by water.\n",
    "\n",
    "```\n",
    "Example: \n",
    "Input: grid = [\n",
    "  [\"1\",\"1\",\"1\",\"1\",\"0\"],\n",
    "  [\"1\",\"1\",\"0\",\"1\",\"0\"],\n",
    "  [\"1\",\"1\",\"0\",\"0\",\"0\"],\n",
    "  [\"0\",\"0\",\"0\",\"0\",\"0\"]\n",
    "]\n",
    "Output: 1\n",
    "```"
   ]
  },
  {
   "cell_type": "code",
   "execution_count": 8,
   "metadata": {},
   "outputs": [
    {
     "data": {
      "text/plain": [
       "3"
      ]
     },
     "execution_count": 8,
     "metadata": {},
     "output_type": "execute_result"
    }
   ],
   "source": [
    "grid = [\n",
    "    ['1', '1', '0', '0', '0'],\n",
    "    ['1', '1', '0', '0', '0'],\n",
    "    ['0', '0', '1', '0', '0'],\n",
    "    ['0', '0', '0', '1', '1']\n",
    "]\n",
    "\n",
    "def numIslands(grid):\n",
    "    if not grid: return 0\n",
    "    else:\n",
    "        m = len(grid)\n",
    "        n = len(grid[0])\n",
    "\n",
    "        def paint(i, j):\n",
    "            grid[i][j] = '0'\n",
    "            if i!=0   and grid[i-1][j]=='1':  paint(i-1, j)\n",
    "            if i!=m-1 and grid[i+1][j]=='1':  paint(i+1, j)\n",
    "            if j!=0   and grid[i][j-1]=='1':  paint(i, j-1)\n",
    "            if j!=n-1 and grid[i][j+1]=='1':  paint(i, j+1)\n",
    "\n",
    "        count = 0\n",
    "        for i in range(m):\n",
    "            for j in range(n):\n",
    "                if grid[i][j] == '1':\n",
    "                    paint(i, j)\n",
    "                    count +=1\n",
    "\n",
    "        return count\n",
    "\n",
    "numIslands(grid)"
   ]
  },
  {
   "cell_type": "markdown",
   "metadata": {},
   "source": [
    "## 560. Subarray Sum Equals K\n",
    "Medium\n",
    "\n",
    "Given an array of integers and an integer k, you need to find the total number of continuous subarrays whose sum equals to k.\n",
    "\n",
    "```\n",
    "Example:\n",
    "Input:nums = [1,1,1], k = 2\n",
    "Output: 2\n",
    "```"
   ]
  },
  {
   "cell_type": "code",
   "execution_count": 19,
   "metadata": {},
   "outputs": [
    {
     "data": {
      "text/plain": [
       "2"
      ]
     },
     "execution_count": 19,
     "metadata": {},
     "output_type": "execute_result"
    }
   ],
   "source": [
    "# nums = [-1, -1, 1]\n",
    "# k = 0\n",
    "\n",
    "nums = [1, 1, 1]\n",
    "k = 2\n",
    "\n",
    "def subarraySum(nums, k):\n",
    "    cumsumCount = {0: 1}   # running cumsum counts\n",
    "    curSum = 0\n",
    "    res = 0\n",
    "    for i, n in enumerate(nums):\n",
    "        curSum += n\n",
    "        res += cumsumCount.get(curSum-k, 0)  # 一定要放在 update 字典之前不然遇到 k=0 的情況會把自己算進去\n",
    "\n",
    "        if curSum in cumsumCount:\n",
    "            cumsumCount[curSum] += 1\n",
    "        else:\n",
    "            cumsumCount[curSum] = 1\n",
    "    return res\n",
    "\n",
    "subarraySum(nums, k)"
   ]
  },
  {
   "cell_type": "markdown",
   "metadata": {},
   "source": [
    "## 64. Minimum Path Sum\n",
    "Medium\n",
    "\n",
    "Given a m x n grid filled with non-negative numbers, find a path from top left to bottom right which minimizes the sum of all numbers along its path.\n",
    "\n",
    "Note: You can only move either down or right at any point in time.\n",
    "\n",
    "```\n",
    "Example:\n",
    "Input:\n",
    "[\n",
    "  [1,3,1],\n",
    "  [1,5,1],\n",
    "  [4,2,1]\n",
    "]\n",
    "Output: 7\n",
    "Explanation: Because the path 1→3→1→1→1 minimizes the sum.\n",
    "```"
   ]
  },
  {
   "cell_type": "code",
   "execution_count": 2,
   "metadata": {},
   "outputs": [
    {
     "data": {
      "text/plain": [
       "7"
      ]
     },
     "execution_count": 2,
     "metadata": {},
     "output_type": "execute_result"
    }
   ],
   "source": [
    "grid = [\n",
    "    [1, 3, 1], \n",
    "    [1, 5, 1], \n",
    "    [4, 2, 1]\n",
    "]\n",
    "\n",
    "def minPathSum(grid):\n",
    "    m = len(grid)\n",
    "    n = len(grid[0])\n",
    "    \n",
    "    for i in range(1, m):\n",
    "        grid[i][0] += grid[i-1][0] \n",
    "        \n",
    "    for j in range(1, n):\n",
    "        grid[0][j] += grid[0][j-1] \n",
    "    \n",
    "    for i in range(1, m):\n",
    "        for j in range(1, n):\n",
    "            grid[i][j] += min(grid[i-1][j], grid[i][j-1])\n",
    "        \n",
    "    return grid[-1][-1]\n",
    "    \n",
    "minPathSum(grid)"
   ]
  },
  {
   "cell_type": "markdown",
   "metadata": {},
   "source": [
    "## 47. Permutations II\n",
    "Medium\n",
    "\n",
    "Given a collection of numbers that might contain duplicates, return all possible unique permutations.\n",
    "\n",
    "```\n",
    "Example:\n",
    "Input: [1,1,2]\n",
    "Output:\n",
    "[\n",
    "  [1,1,2],\n",
    "  [1,2,1],\n",
    "  [2,1,1]\n",
    "]\n",
    "```"
   ]
  },
  {
   "cell_type": "code",
   "execution_count": 3,
   "metadata": {},
   "outputs": [
    {
     "data": {
      "text/plain": [
       "[[3, 3, 5], [3, 5, 3], [5, 3, 3]]"
      ]
     },
     "execution_count": 3,
     "metadata": {},
     "output_type": "execute_result"
    }
   ],
   "source": [
    "nums = [3, 3, 5]\n",
    "\n",
    "def permuteUnique(nums):\n",
    "    if not nums:\n",
    "        return [nums]\n",
    "    else:\n",
    "        idx = {}\n",
    "        for i, n in enumerate(nums):\n",
    "            if n not in idx:\n",
    "                idx[n] = i\n",
    "\n",
    "        res = []\n",
    "        for n, i in idx.items():\n",
    "            for l in permuteUnique(nums[:i] + nums[i+1:]):\n",
    "                res.append([n]+l)\n",
    "\n",
    "        return res\n",
    "\n",
    "permuteUnique(nums)"
   ]
  },
  {
   "cell_type": "markdown",
   "metadata": {},
   "source": [
    "## 15. 3Sum\n",
    "Medium\n",
    "\n",
    "Given an array nums of n integers, are there elements a, b, c in nums such that a + b + c = 0? Find all unique triplets in the array which gives the sum of zero.\n",
    "\n",
    "Notice that the solution set must not contain duplicate triplets.\n",
    "\n",
    "```\n",
    "Example:\n",
    "Input: nums = [-1,0,1,2,-1,-4]\n",
    "Output: [[-1,-1,2],[-1,0,1]]\n",
    "```"
   ]
  },
  {
   "cell_type": "code",
   "execution_count": 18,
   "metadata": {},
   "outputs": [
    {
     "data": {
      "text/plain": [
       "[[-1, -1, 2], [-1, 0, 1]]"
      ]
     },
     "execution_count": 18,
     "metadata": {},
     "output_type": "execute_result"
    }
   ],
   "source": [
    "nums = [-1, 0, 1, 2, -1, -4]\n",
    "\n",
    "def threeSum(nums):\n",
    "    nums = sorted(nums)\n",
    "    n = len(nums)\n",
    "    i = 0\n",
    "    j = 1\n",
    "    k = n-1\n",
    "    \n",
    "    res = []\n",
    "    for i in range(n-2):\n",
    "        if i > 0 and nums[i] == nums[i-1]:    # skip duplicate numbers\n",
    "            continue\n",
    "            \n",
    "        j = i+1\n",
    "        k = n-1\n",
    "        while j<k:\n",
    "            s = nums[i] + nums[j] + nums[k]\n",
    "            if s > 0:    k -= 1\n",
    "            elif s < 0:  j += 1\n",
    "            elif s == 0: \n",
    "                res.append([nums[i], nums[j], nums[k]])\n",
    "                while j < k and nums[j] == nums[j+1]:     # skip duplicate numbers\n",
    "                    j += 1\n",
    "                while j < k and nums[k] == nums[k-1]:     # skip duplicate numbers\n",
    "                    k -= 1\n",
    "                j += 1\n",
    "                k -= 1  \n",
    "    return res\n",
    "\n",
    "threeSum(nums)"
   ]
  },
  {
   "cell_type": "code",
   "execution_count": null,
   "metadata": {},
   "outputs": [],
   "source": [
    "# solution making use of two sum; slow but will pass\n",
    "\n",
    "nums = [-1, 0, 1, 2, -1, -4]\n",
    "\n",
    "def twoSum(nums, target):\n",
    "    '''\n",
    "    This is a stronger version of twoSum that can handle multiple solutions as well as no solution\n",
    "    '''\n",
    "    allSln = set([])\n",
    "    s = set([])\n",
    "    for n in nums:\n",
    "        if target - n in s:\n",
    "            allSln.add((n, target-n))\n",
    "        s.add(n)\n",
    "\n",
    "    return allSln\n",
    "\n",
    "def threeSum(nums):\n",
    "    res = set([])\n",
    "    for i, a in enumerate(nums):\n",
    "        for b, c in twoSum(nums[i+1:], -a):\n",
    "            res.add(tuple(sorted([a, b, c])))\n",
    "\n",
    "    return [list(sln) for sln in res]\n",
    "\n",
    "# twoSum([1, 7, 5, 5, 4, 4, 4, 4, 5, 3, 3], 8)\n",
    "# twoSum([1, 2], 8)\n",
    "\n",
    "threeSum(nums)"
   ]
  },
  {
   "cell_type": "markdown",
   "metadata": {},
   "source": [
    "## 104. Maximum Depth of Binary Tree\n",
    "Easy\n",
    "\n",
    "Given a binary tree, find its maximum depth.\n",
    "\n",
    "The maximum depth is the number of nodes along the longest path from the root node down to the farthest leaf node.\n",
    "\n",
    "Note: A leaf is a node with no children.\n",
    "\n",
    "```\n",
    "Example:\n",
    "Given binary tree [3,9,20,null,null,15,7],\n",
    "\n",
    "    3\n",
    "   / \\\n",
    "  9  20\n",
    "    /  \\\n",
    "   15   7\n",
    "\n",
    "return its depth = 3.\n",
    "```\n"
   ]
  },
  {
   "cell_type": "code",
   "execution_count": 5,
   "metadata": {},
   "outputs": [],
   "source": [
    "# Definition for a binary tree node.\n",
    "# class TreeNode:\n",
    "#     def __init__(self, val=0, left=None, right=None):\n",
    "#         self.val = val\n",
    "#         self.left = left\n",
    "#         self.right = right\n",
    "\n",
    "def maxDepth(root):\n",
    "    if root==None:\n",
    "        return 0\n",
    "    else:\n",
    "        return 1 + max(maxDepth(root.left), maxDepth(root.right))"
   ]
  },
  {
   "cell_type": "markdown",
   "metadata": {},
   "source": [
    "## 344. Reverse String\n",
    "Easy\n",
    "\n",
    "Write a function that reverses a string. The input string is given as an array of characters char[].\n",
    "\n",
    "Do not allocate extra space for another array, you must do this by modifying the input array in-place with O(1) extra memory.\n",
    "\n",
    "You may assume all the characters consist of printable ascii characters.\n",
    "\n",
    "```\n",
    "Example:\n",
    "Input: [\"h\",\"e\",\"l\",\"l\",\"o\"]\n",
    "Output: [\"o\",\"l\",\"l\",\"e\",\"h\"]\n",
    "```"
   ]
  },
  {
   "cell_type": "code",
   "execution_count": 6,
   "metadata": {},
   "outputs": [
    {
     "data": {
      "text/plain": [
       "['o', 'l', 'l', 'e', 'h']"
      ]
     },
     "execution_count": 6,
     "metadata": {},
     "output_type": "execute_result"
    }
   ],
   "source": [
    "s = ['h', 'e', 'l', 'l', 'o']\n",
    "\n",
    "def reverseString(s):\n",
    "    n = len(s)\n",
    "    for i in range(n//2):\n",
    "        s[i], s[-i-1] = s[-i-1], s[i]\n",
    "\n",
    "reverseString(s)\n",
    "s"
   ]
  },
  {
   "cell_type": "markdown",
   "metadata": {},
   "source": [
    "## 122. Best Time to Buy and Sell Stock II\n",
    "Easy\n",
    "\n",
    "Say you have an array prices for which the ith element is the price of a given stock on day i.\n",
    "\n",
    "Design an algorithm to find the maximum profit. You may complete as many transactions as you like (i.e., buy one and sell one share of the stock multiple times).\n",
    "\n",
    "Note: You may not engage in multiple transactions at the same time (i.e., you must sell the stock before you buy again).\n",
    "\n",
    "```\n",
    "Example:\n",
    "Input: [7,1,5,3,6,4]\n",
    "Output: 7\n",
    "```"
   ]
  },
  {
   "cell_type": "code",
   "execution_count": 7,
   "metadata": {},
   "outputs": [
    {
     "data": {
      "text/plain": [
       "7"
      ]
     },
     "execution_count": 7,
     "metadata": {},
     "output_type": "execute_result"
    }
   ],
   "source": [
    "prices = [7, 1, 5, 3, 6, 4]\n",
    "\n",
    "def maxProfit2(prices):\n",
    "    import numpy as np\n",
    "    diff = np.diff(prices)\n",
    "    return diff[np.where(diff > 0)].sum()\n",
    "\n",
    "maxProfit2(prices)"
   ]
  },
  {
   "cell_type": "markdown",
   "metadata": {},
   "source": [
    "## 121. Best Time to Buy and Sell Stock\n",
    "Easy\n",
    "\n",
    "Say you have an array for which the ith element is the price of a given stock on day i.\n",
    "\n",
    "If you were only permitted to complete at most one transaction (i.e., buy one and sell one share of the stock), design an algorithm to find the maximum profit.\n",
    "\n",
    "Note that you cannot sell a stock before you buy one.\n",
    "\n",
    "```\n",
    "Example:\n",
    "Input: [7,1,5,3,6,4]\n",
    "Output: 5\n",
    "```    "
   ]
  },
  {
   "cell_type": "code",
   "execution_count": 8,
   "metadata": {},
   "outputs": [
    {
     "data": {
      "text/plain": [
       "5"
      ]
     },
     "execution_count": 8,
     "metadata": {},
     "output_type": "execute_result"
    }
   ],
   "source": [
    "prices = [7, 1, 5, 3, 6, 4]\n",
    "\n",
    "def maxProfit(prices):\n",
    "    curMaxProfit = 0\n",
    "    if len(prices) > 0:\n",
    "        curMin = prices[0]\n",
    "        for price in prices:\n",
    "            curMin = min(curMin, price)\n",
    "            curMaxProfit = max(price - curMin, curMaxProfit)\n",
    "            \n",
    "    return curMaxProfit\n",
    "\n",
    "maxProfit(prices)"
   ]
  },
  {
   "cell_type": "markdown",
   "metadata": {},
   "source": [
    "## 53. Maximum Subarray\n",
    "Easy\n",
    "\n",
    "Given an integer array nums, find the contiguous subarray (containing at least one number) which has the largest sum and return its sum.\n",
    "\n",
    "Follow up: If you have figured out the O(n) solution, try coding another solution using the divide and conquer approach, which is more subtle.\n",
    "\n",
    "```\n",
    "Example:\n",
    "Input: nums = [-2, 1, -3, 4, -1, 2, 1, -5, 4]\n",
    "Output: 6\n",
    "```"
   ]
  },
  {
   "cell_type": "code",
   "execution_count": 9,
   "metadata": {},
   "outputs": [
    {
     "data": {
      "text/plain": [
       "6"
      ]
     },
     "execution_count": 9,
     "metadata": {},
     "output_type": "execute_result"
    }
   ],
   "source": [
    "nums = [-2, 1, -3, 4, -1, 2, 1, -5, 4]\n",
    "\n",
    "def maxSubArray(nums):\n",
    "    import numpy as np\n",
    "    return maxProfit(np.cumsum(nums))\n",
    "\n",
    "maxSubArray(nums)"
   ]
  },
  {
   "cell_type": "markdown",
   "metadata": {},
   "source": [
    "## 1. Two Sum\n",
    "Easy\n",
    "\n",
    "Given an array of integers nums and an integer target, return indices of the two numbers such that they add up to target.\n",
    "\n",
    "You may assume that each input would have exactly one solution, and you may not use the same element twice.\n",
    "\n",
    "You can return the answer in any order.\n",
    "\n",
    "```\n",
    "Example:\n",
    "Input: nums = [2,7,11,15], target = 9\n",
    "Output: [0,1]\n",
    "```"
   ]
  },
  {
   "cell_type": "code",
   "execution_count": 10,
   "metadata": {},
   "outputs": [
    {
     "data": {
      "text/plain": [
       "[0, 1]"
      ]
     },
     "execution_count": 10,
     "metadata": {},
     "output_type": "execute_result"
    }
   ],
   "source": [
    "nums = [2, 7, 11, 15]\n",
    "target = 9\n",
    "\n",
    "def twoSum(nums, target):\n",
    "    d = {}\n",
    "    for idx, n in enumerate(nums):\n",
    "        if target - n in d:\n",
    "            return [d[target - n], idx]\n",
    "        else:\n",
    "            d[n] = idx\n",
    "\n",
    "twoSum(nums, target)"
   ]
  }
 ],
 "metadata": {
  "kernelspec": {
   "display_name": "Python 3.7 (XPython)",
   "language": "python",
   "name": "xpython"
  },
  "language_info": {
   "file_extension": ".py",
   "mimetype": "text/x-python",
   "name": "python",
   "version": "3.7.8"
  }
 },
 "nbformat": 4,
 "nbformat_minor": 4
}

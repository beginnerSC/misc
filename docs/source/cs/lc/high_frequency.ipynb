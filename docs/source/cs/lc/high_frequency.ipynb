{
 "cells": [
  {
   "cell_type": "markdown",
   "metadata": {},
   "source": [
    "# High Frequency\n",
    "\n",
    "See notes how I got this list. "
   ]
  },
  {
   "cell_type": "code",
   "execution_count": 2,
   "metadata": {},
   "outputs": [
    {
     "data": {
      "text/html": [
       "<script>code_show=true; function code_toggle() { if (code_show){ $('div.nbinput').show(); } else { $('div.nbinput').hide(); } code_show = !code_show} $( document ).ready(code_toggle);</script><form action=\"javascript:code_toggle()\"><input type=\"submit\" value=\"Click here to toggle on/off the raw code.\"></form>"
      ],
      "text/plain": [
       "<IPython.core.display.HTML object>"
      ]
     },
     "execution_count": 2,
     "metadata": {},
     "output_type": "execute_result"
    }
   ],
   "source": [
    "import IPython; IPython.display.HTML('''<script>code_show=true; function code_toggle() { if (code_show){ $('div.nbinput').show(); } else { $('div.nbinput').hide(); } code_show = !code_show} $( document ).ready(code_toggle);</script><form action=\"javascript:code_toggle()\"><input type=\"submit\" value=\"Click here to toggle on/off the raw code.\"></form>''')"
   ]
  },
  {
   "cell_type": "markdown",
   "metadata": {},
   "source": [
    "| 題目名稱 | 難度 | ZXI | BL75 | LC75 | LC150 | 出現次數 |\n",
    "|----------|------|-----|------|------|--------|-----------|\n",
    "| [1. Two Sum](https://leetcode.com/problems/two-sum/) | Easy | o | o | o | o | 4 |\n",
    "| [121. Best Time to Buy and Sell Stock](https://leetcode.com/problems/best-time-to-buy-and-sell-stock/) | Easy | o | o | o | o | 4 |\n",
    "| [20. Valid Parentheses](https://leetcode.com/problems/valid-parentheses/) | Easy | o | o | o | o | 4 |\n",
    "| [21. Merge Two Sorted Lists](https://leetcode.com/problems/merge-two-sorted-lists/) | Easy | o | o | o | o | 4 |\n",
    "| [242. Valid Anagram](https://leetcode.com/problems/valid-anagram/) | Easy | o | o | o | o | 4 |\n",
    "| [226. Invert Binary Tree](https://leetcode.com/problems/invert-binary-tree/) | Easy | o | o | o | o | 4 |\n",
    "| [141. Linked List Cycle](https://leetcode.com/problems/linked-list-cycle/) | Easy | o | o | o | o | 4 |\n",
    "| [206. Reverse Linked List](https://leetcode.com/problems/reverse-linked-list/) | Easy | o | o | o | o | 4 |\n",
    "| [53. Maximum Subarray](https://leetcode.com/problems/maximum-subarray/) | Medium | o | o | o | o | 4 |\n",
    "| [238. Product of Array Except Self](https://leetcode.com/problems/product-of-array-except-self/) | Medium | o | o | o | o | 4 |\n",
    "| [102. Binary Tree Level Order Traversal](https://leetcode.com/problems/binary-tree-level-order-traversal/) | Medium | o | o | o | o | 4 |\n",
    "| [56. Merge Intervals](https://leetcode.com/problems/merge-intervals/) | Medium | o | o | o | o | 4 |\n",
    "| [33. Search in Rotated Sorted Array](https://leetcode.com/problems/search-in-rotated-sorted-array/) | Medium | o | o | o | o | 4 |\n",
    "| [3. Longest Substring Without Repeating Characters](https://leetcode.com/problems/longest-substring-without-repeating-characters/) | Medium | o | o | o | o | 4 |\n",
    "| [139. Word Break](https://leetcode.com/problems/word-break/) | Medium | o | o | o | o | 4 |\n",
    "| [207. Course Schedule](https://leetcode.com/problems/course-schedule/) | Medium | o | o | o | o | 4 |\n",
    "| [125. Valid Palindrome](https://leetcode.com/problems/valid-palindrome/) | Easy | o | o | - | o | 3 |\n",
    "| [217. Contains Duplicate](https://leetcode.com/problems/contains-duplicate/) | Easy | o | o | - | o | 3 |\n",
    "| [70. Climbing Stairs](https://leetcode.com/problems/climbing-stairs/) | Easy | o | o | o | - | 3 |\n",
    "| [252. Meeting Rooms](https://leetcode.com/problems/meeting-rooms/) | Easy | o | o | o | - | 3 |\n",
    "| [253. Meeting Rooms II](https://leetcode.com/problems/meeting-rooms-ii/) | Medium | o | o | o | - | 3 |\n",
    "| [49. Group Anagrams](https://leetcode.com/problems/group-anagrams/) | Medium | o | o | - | o | 3 |\n",
    "| [5. Longest Palindromic Substring](https://leetcode.com/problems/longest-palindromic-substring/) | Medium | o | o | - | o | 3 |\n",
    "| [647. Palindromic Substrings](https://leetcode.com/problems/palindromic-substrings/) | Medium | o | o | - | o | 3 |\n",
    "| [271. Encode and Decode Strings](https://leetcode.com/problems/encode-and-decode-strings/) | Medium | - | o | o | o | 3 |\n",
    "| [230. Kth Smallest Element in a BST](https://leetcode.com/problems/kth-smallest-element-in-a-bst/) | Medium | o | o | - | o | 3 |\n",
    "| [235. Lowest Common Ancestor of BST](https://leetcode.com/problems/lowest-common-ancestor-of-a-binary-search-tree/) | Medium | o | o | - | o | 3 |\n",
    "| [208. Implement Trie](https://leetcode.com/problems/implement-trie-prefix-tree/) | Medium | o | o | - | o | 3 |\n",
    "| [211. Add and Search Word](https://leetcode.com/problems/add-and-search-word-data-structure-design/) | Medium | o | o | - | o | 3 |\n",
    "| [347. Top K Frequent Elements](https://leetcode.com/problems/top-k-frequent-elements/) | Medium | o | o | - | o | 3 |\n",
    "| [322. Coin Change](https://leetcode.com/problems/coin-change/) | Medium | o | o | o | - | 3 |\n",
    "| [198. House Robber](https://leetcode.com/problems/house-robber/) | Medium | o | o | o | - | 3 |\n",
    "| [62. Unique Paths](https://leetcode.com/problems/unique-paths/) | Medium | o | o | o | - | 3 |\n",
    "| [55. Jump Game](https://leetcode.com/problems/jump-game/) | Medium | o | o | o | - | 3 |\n",
    "| [133. Clone Graph](https://leetcode.com/problems/clone-graph/) | Medium | o | o | o | - | 3 |\n",
    "| [200. Number of Islands](https://leetcode.com/problems/number-of-islands/) | Medium | o | o | o | - | 3 |\n",
    "| [261. Graph Valid Tree](https://leetcode.com/problems/graph-valid-tree/) | Medium | o | o | o | - | 3 |\n",
    "| [57. Insert Interval](https://leetcode.com/problems/insert-interval/) | Medium | o | o | o | - | 3 |\n",
    "| [435. Non-overlapping Intervals](https://leetcode.com/problems/non-overlapping-intervals/) | Medium | o | o | o | - | 3 |\n",
    "| [212. Word Search II](https://leetcode.com/problems/word-search-ii/) | Hard | o | o | - | o | 3 |\n",
    "| [295. Find Median from Data Stream](https://leetcode.com/problems/find-median-from-data-stream/) | Hard | o | o | - | o | 3 |\n",
    "| [269. Alien Dictionary](https://leetcode.com/problems/alien-dictionary/) | Hard | o | o | o | - | 3 |"
   ]
  },
  {
   "cell_type": "markdown",
   "metadata": {},
   "source": [
    "## 20. Valid Parentheses\n",
    "\n",
    "Easy\n",
    "\n",
    "Given a string s containing just the characters '(', ')', '{', '}', '[' and ']', determine if the input string is valid.\n",
    "\n",
    "An input string is valid if: 1. Open brackets must be closed by the same type of brackets, 2. Open brackets must be closed in the correct order, and 3. Every close bracket has a corresponding open bracket of the same type.\n",
    " \n",
    "    Example 1:\n",
    "    \n",
    "    Input: s = \"()\"\n",
    "    Output: true\n",
    "    \n",
    "    Example 2:\n",
    "    \n",
    "    Input: s = \"()[]{}\"\n",
    "    Output: true\n",
    "     \n",
    "    Constraints:\n",
    "    \n",
    "    1 <= s.length <= 104\n",
    "    s consists of parentheses only '()[]{}'."
   ]
  },
  {
   "cell_type": "code",
   "execution_count": 8,
   "metadata": {},
   "outputs": [
    {
     "data": {
      "text/plain": [
       "False"
      ]
     },
     "execution_count": 8,
     "metadata": {},
     "output_type": "execute_result"
    }
   ],
   "source": [
    "# best solution by AI\n",
    "# 遇 closing 時 stack 最上層必需是 matching open\n",
    "\n",
    "def isValid(s):\n",
    "    stack = []\n",
    "    match = {')': '(', \n",
    "             ']': '[', \n",
    "             '}': '{'}\n",
    "    \n",
    "    for c in s:\n",
    "        if c in match:\n",
    "            if not stack or stack[-1] != match[c]:\n",
    "                return False\n",
    "            stack.pop()\n",
    "        else:\n",
    "            stack.append(c)\n",
    "    \n",
    "    return not stack\n",
    "\n",
    "isValid('([)]')"
   ]
  },
  {
   "cell_type": "markdown",
   "metadata": {},
   "source": [
    "## 1. Two Sum\n",
    "Easy\n",
    "\n",
    "Given an array of integers nums and an integer target, return indices of the two numbers such that they add up to target.\n",
    "\n",
    "You may assume that each input would have exactly one solution, and you may not use the same element twice.\n",
    "\n",
    "You can return the answer in any order.\n",
    "\n",
    "\n",
    "    Example:\n",
    "    \n",
    "    Input: nums = [2,7,11,15], target = 9\n",
    "    Output: [0,1]\n"
   ]
  },
  {
   "cell_type": "code",
   "execution_count": 10,
   "metadata": {},
   "outputs": [
    {
     "data": {
      "text/plain": [
       "[0, 1]"
      ]
     },
     "execution_count": 10,
     "metadata": {},
     "output_type": "execute_result"
    }
   ],
   "source": [
    "nums = [2, 7, 11, 15]\n",
    "target = 9\n",
    "\n",
    "def twoSum(nums, target):\n",
    "    d = {}\n",
    "    for idx, n in enumerate(nums):\n",
    "        if target - n in d:\n",
    "            return [d[target - n], idx]\n",
    "        else:\n",
    "            d[n] = idx\n",
    "\n",
    "twoSum(nums, target)"
   ]
  }
 ],
 "metadata": {
  "kernelspec": {
   "display_name": "Python 3 (ipykernel)",
   "language": "python",
   "name": "python3"
  },
  "language_info": {
   "codemirror_mode": {
    "name": "ipython",
    "version": 3
   },
   "file_extension": ".py",
   "mimetype": "text/x-python",
   "name": "python",
   "nbconvert_exporter": "python",
   "pygments_lexer": "ipython3",
   "version": "3.12.3"
  }
 },
 "nbformat": 4,
 "nbformat_minor": 4
}

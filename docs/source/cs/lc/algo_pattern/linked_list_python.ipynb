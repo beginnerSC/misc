{
 "cells": [
  {
   "cell_type": "markdown",
   "id": "southwest-express",
   "metadata": {},
   "source": [
    "# [Linked List Python](https://github.com/dashidhy/algorithm-pattern-python/blob/master/data_structure/linked_list.md)"
   ]
  },
  {
   "cell_type": "code",
   "execution_count": 2,
   "id": "compact-scroll",
   "metadata": {},
   "outputs": [
    {
     "data": {
      "text/html": [
       "<script>code_show=true; function code_toggle() { if (code_show){ $('div.nbinput').show(); } else { $('div.nbinput').hide(); } code_show = !code_show} $( document ).ready(code_toggle);</script><form action=\"javascript:code_toggle()\"><input type=\"submit\" value=\"Click here to toggle on/off the raw code.\"></form>"
      ],
      "text/plain": [
       "<IPython.core.display.HTML object>"
      ]
     },
     "execution_count": 2,
     "metadata": {},
     "output_type": "execute_result"
    }
   ],
   "source": [
    "import IPython; IPython.display.HTML('''<script>code_show=true; function code_toggle() { if (code_show){ $('div.nbinput').show(); } else { $('div.nbinput').hide(); } code_show = !code_show} $( document ).ready(code_toggle);</script><form action=\"javascript:code_toggle()\"><input type=\"submit\" value=\"Click here to toggle on/off the raw code.\"></form>''')"
   ]
  },
  {
   "attachments": {
    "73ab9c6f-60f0-4b2c-a2cb-d96feb33b232.png": {
     "image/png": "[encoded data removed]"
    }
   },
   "cell_type": "markdown",
   "id": "pressed-wyoming",
   "metadata": {},
   "source": [
    "## [83. Remove Duplicates from Sorted List](https://leetcode.com/problems/remove-duplicates-from-sorted-list/)\n",
    "\n",
    "Easy\n",
    "\n",
    "Given the head of a sorted linked list, delete all duplicates such that each element appears only once. Return the linked list sorted as well.\n",
    "\n",
    "Example 1:\n",
    "\n",
    "![image83.png](attachment:73ab9c6f-60f0-4b2c-a2cb-d96feb33b232.png)\n",
    "\n",
    "    Input: head = [1,1,2]\n",
    "    Output: [1,2]\n",
    " \n",
    "Constraints:\n",
    "\n",
    "    The number of nodes in the list is in the range [0, 300].\n",
    "    -100 <= Node.val <= 100\n",
    "    The list is guaranteed to be sorted in ascending order."
   ]
  },
  {
   "cell_type": "code",
   "execution_count": 1,
   "id": "dimensional-reserve",
   "metadata": {},
   "outputs": [],
   "source": [
    "def deleteDuplicates(head):\n",
    "    cur = head\n",
    "    while cur and cur.next:\n",
    "        if cur.val == cur.next.val:\n",
    "            cur.next = cur.next.next\n",
    "        else:\n",
    "            cur = cur.next\n",
    "\n",
    "    return head"
   ]
  },
  {
   "cell_type": "markdown",
   "id": "statewide-labor",
   "metadata": {},
   "source": [
    "* [remove-duplicates-from-sorted-list-ii](https://leetcode.com/problems/remove-duplicates-from-sorted-list-ii/)\n",
    "* [reverse-linked-list](https://leetcode.com/problems/reverse-linked-list/)\n",
    "* [reverse-linked-list-ii](https://leetcode.com/problems/reverse-linked-list-ii/)\n",
    "* [merge-two-sorted-lists](https://leetcode.com/problems/merge-two-sorted-lists/)\n",
    "* [partition-list](https://leetcode.com/problems/partition-list/)\n",
    "* [sort-list](https://leetcode.com/problems/sort-list/)\n",
    "* [reorder-list](https://leetcode.com/problems/reorder-list/)\n",
    "* [linked-list-cycle](https://leetcode.com/problems/linked-list-cycle/)\n",
    "* [linked-list-cycle-ii](https://leetcode.com/problems/https://leetcode.com/problems/linked-list-cycle-ii/)\n",
    "* [palindrome-linked-list](https://leetcode.com/problems/palindrome-linked-list/)\n",
    "* [copy-list-with-random-pointer](https://leetcode.com/problems/copy-list-with-random-pointer/)"
   ]
  }
 ],
 "metadata": {
  "kernelspec": {
   "display_name": "Python 3",
   "language": "python",
   "name": "python3"
  },
  "language_info": {
   "codemirror_mode": {
    "name": "ipython",
    "version": 3
   },
   "file_extension": ".py",
   "mimetype": "text/x-python",
   "name": "python",
   "nbconvert_exporter": "python",
   "pygments_lexer": "ipython3",
   "version": "3.7.10"
  }
 },
 "nbformat": 4,
 "nbformat_minor": 5
}

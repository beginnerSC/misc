{
 "cells": [
  {
   "cell_type": "markdown",
   "id": "looking-transaction",
   "metadata": {},
   "source": [
    "# [Linked List Python](https://github.com/dashidhy/algorithm-pattern-python/blob/master/data_structure/linked_list.md)"
   ]
  },
  {
   "cell_type": "code",
   "execution_count": 2,
   "id": "induced-shame",
   "metadata": {},
   "outputs": [
    {
     "data": {
      "text/html": [
       "<script>code_show=true; function code_toggle() { if (code_show){ $('div.nbinput').show(); } else { $('div.nbinput').hide(); } code_show = !code_show} $( document ).ready(code_toggle);</script><form action=\"javascript:code_toggle()\"><input type=\"submit\" value=\"Click here to toggle on/off the raw code.\"></form>"
      ],
      "text/plain": [
       "<IPython.core.display.HTML object>"
      ]
     },
     "execution_count": 2,
     "metadata": {},
     "output_type": "execute_result"
    }
   ],
   "source": [
    "import IPython; IPython.display.HTML('''<script>code_show=true; function code_toggle() { if (code_show){ $('div.nbinput').show(); } else { $('div.nbinput').hide(); } code_show = !code_show} $( document ).ready(code_toggle);</script><form action=\"javascript:code_toggle()\"><input type=\"submit\" value=\"Click here to toggle on/off the raw code.\"></form>''')"
   ]
  },
  {
   "cell_type": "markdown",
   "id": "literary-butler",
   "metadata": {},
   "source": [
    "\n",
    "* [remove-duplicates-from-sorted-list](https://leetcode.com/problems/remove-duplicates-from-sorted-list/)\n",
    "* [remove-duplicates-from-sorted-list-ii](https://leetcode.com/problems/remove-duplicates-from-sorted-list-ii/)\n",
    "* [reverse-linked-list](https://leetcode.com/problems/reverse-linked-list/)\n",
    "* [reverse-linked-list-ii](https://leetcode.com/problems/reverse-linked-list-ii/)\n",
    "* [merge-two-sorted-lists](https://leetcode.com/problems/merge-two-sorted-lists/)\n",
    "* [partition-list](https://leetcode.com/problems/partition-list/)\n",
    "* [sort-list](https://leetcode.com/problems/sort-list/)\n",
    "* [reorder-list](https://leetcode.com/problems/reorder-list/)\n",
    "* [linked-list-cycle](https://leetcode.com/problems/linked-list-cycle/)\n",
    "* [linked-list-cycle-ii](https://leetcode.com/problems/https://leetcode.com/problems/linked-list-cycle-ii/)\n",
    "* [palindrome-linked-list](https://leetcode.com/problems/palindrome-linked-list/)\n",
    "* [copy-list-with-random-pointer](https://leetcode.com/problems/copy-list-with-random-pointer/)"
   ]
  }
 ],
 "metadata": {
  "kernelspec": {
   "display_name": "Python 3",
   "language": "python",
   "name": "python3"
  },
  "language_info": {
   "codemirror_mode": {
    "name": "ipython",
    "version": 3
   },
   "file_extension": ".py",
   "mimetype": "text/x-python",
   "name": "python",
   "nbconvert_exporter": "python",
   "pygments_lexer": "ipython3",
   "version": "3.7.10"
  }
 },
 "nbformat": 4,
 "nbformat_minor": 5
}

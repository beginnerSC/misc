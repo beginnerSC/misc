{
 "cells": [
  {
   "cell_type": "markdown",
   "id": "dental-peace",
   "metadata": {},
   "source": [
    "# [Quick Start](https://github.com/greyireland/algorithm-pattern/blob/master/introduction/quickstart.md)"
   ]
  },
  {
   "cell_type": "code",
   "execution_count": 2,
   "id": "clear-fraction",
   "metadata": {},
   "outputs": [
    {
     "data": {
      "text/html": [
       "<script>code_show=true; function code_toggle() { if (code_show){ $('div.nbinput').show(); } else { $('div.nbinput').hide(); } code_show = !code_show} $( document ).ready(code_toggle);</script><form action=\"javascript:code_toggle()\"><input type=\"submit\" value=\"Click here to toggle on/off the raw code.\"></form>"
      ],
      "text/plain": [
       "<IPython.core.display.HTML object>"
      ]
     },
     "execution_count": 2,
     "metadata": {},
     "output_type": "execute_result"
    }
   ],
   "source": [
    "import IPython; IPython.display.HTML('''<script>code_show=true; function code_toggle() { if (code_show){ $('div.nbinput').show(); } else { $('div.nbinput').hide(); } code_show = !code_show} $( document ).ready(code_toggle);</script><form action=\"javascript:code_toggle()\"><input type=\"submit\" value=\"Click here to toggle on/off the raw code.\"></form>''')"
   ]
  },
  {
   "cell_type": "markdown",
   "id": "incoming-retention",
   "metadata": {},
   "source": [
    "## 28. Implement strStr()\n",
    "\n",
    "Easy\n",
    "\n",
    "Implement strStr().\n",
    "\n",
    "Return the index of the first occurrence of needle in haystack, or -1 if needle is not part of haystack.\n",
    "\n",
    "Clarification:\n",
    "\n",
    "What should we return when needle is an empty string? This is a great question to ask during an interview.\n",
    "\n",
    "For the purpose of this problem, we will return 0 when needle is an empty string. This is consistent to C's strstr() and Java's indexOf().\n",
    "\n",
    "\n",
    "Example 1:\n",
    "\n",
    "    Input: haystack = \"hello\", needle = \"ll\"\n",
    "    Output: 2\n",
    " \n",
    "\n",
    "Constraints:\n",
    "\n",
    "    0 <= haystack.length, needle.length <= 5 * 10^4\n",
    "    haystack and needle consist of only lower-case English characters.\n",
    "\n"
   ]
  },
  {
   "cell_type": "code",
   "execution_count": 26,
   "id": "average-maldives",
   "metadata": {},
   "outputs": [
    {
     "data": {
      "text/plain": [
       "2"
      ]
     },
     "execution_count": 26,
     "metadata": {},
     "output_type": "execute_result"
    }
   ],
   "source": [
    "// std::string 有 .c_str() 可以轉成 const char *\n",
    "\n",
    "#include <cstring>\n",
    "#include <string>\n",
    "\n",
    "int strStr(std::string haystack, std::string needle)\n",
    "{   \n",
    "    const char* ptr = std::strstr(haystack.c_str(), needle.c_str());\n",
    "    \n",
    "    return ptr ? (long)(ptr - haystack.c_str()) : -1;\n",
    "}\n",
    "\n",
    "const char* haystack = \"hello\";\n",
    "const char* needle = \"ll\";\n",
    "\n",
    "strStr(haystack, needle)"
   ]
  },
  {
   "cell_type": "code",
   "execution_count": 5,
   "id": "authorized-processing",
   "metadata": {},
   "outputs": [
    {
     "data": {
      "text/plain": [
       "2"
      ]
     },
     "execution_count": 5,
     "metadata": {},
     "output_type": "execute_result"
    }
   ],
   "source": [
    "// LeetCode 上的 readable solution\n",
    "\n",
    "#include <cstring>\n",
    "#include <string>\n",
    "\n",
    "int strStr(std::string haystack, std::string needle) {\n",
    "    if(needle.size() == 0)\n",
    "        return 0;\n",
    "    \n",
    "    int len = haystack.length() - needle.length();\n",
    "\n",
    "    for(int i=0 ; i<=len ; i++) {\n",
    "        if(haystack.substr(i, needle.length()) == needle)\n",
    "            return i;\n",
    "    }\n",
    "    return -1;\n",
    "}\n",
    "\n",
    "const char* haystack = \"hello\";\n",
    "const char* needle = \"ll\";\n",
    "\n",
    "strStr(haystack, needle)"
   ]
  },
  {
   "cell_type": "markdown",
   "id": "typical-thirty",
   "metadata": {},
   "source": [
    "## 78. Subsets\n",
    "\n",
    "Medium\n",
    "\n",
    "Given an integer array nums of unique elements, return all possible subsets (the power set).\n",
    "\n",
    "The solution set must not contain duplicate subsets. Return the solution in any order.\n",
    "\n",
    "\n",
    "\n",
    "Example 1:\n",
    "\n",
    "    Input: nums = [1,2,3]\n",
    "    Output: [[],[1],[2],[1,2],[3],[1,3],[2,3],[1,2,3]]\n",
    "\n",
    "Constraints:\n",
    "\n",
    "    1 <= nums.length <= 10\n",
    "    -10 <= nums[i] <= 10\n",
    "    All the numbers of nums are unique."
   ]
  },
  {
   "cell_type": "code",
   "execution_count": 1,
   "id": "spoken-tolerance",
   "metadata": {},
   "outputs": [
    {
     "name": "stderr",
     "output_type": "stream",
     "text": [
      "input_line_9:16:17: error: no matching member function for call to 'push_back'\n",
      "            res.push_back(&new_subset);\n",
      "            ~~~~^~~~~~~~~\n",
      "/srv/conda/envs/notebook/bin/../lib/gcc/x86_64-conda-linux-gnu/9.3.0/../../../../x86_64-conda-linux-gnu/include/c++/9.3.0/bits/stl_vector.h:1184:7: note: candidate function not viable: no known conversion from 'std::shared_ptr<vector<int, allocator<int> > > *' (aka 'std::shared_ptr<std::vector<int, std::allocator<int> > > *') to 'const std::vector<std::vector<int, std::allocator<int> >, std::allocator<std::vector<int, std::allocator<int> > > >::value_type' (aka 'const std::vector<int, std::allocator<int> >') for 1st argument\n",
      "      push_back(const value_type& __x)\n",
      "      ^\n",
      "/srv/conda/envs/notebook/bin/../lib/gcc/x86_64-conda-linux-gnu/9.3.0/../../../../x86_64-conda-linux-gnu/include/c++/9.3.0/bits/stl_vector.h:1200:7: note: candidate function not viable: no known conversion from 'std::shared_ptr<vector<int, allocator<int> > > *' (aka 'std::shared_ptr<std::vector<int, std::allocator<int> > > *') to 'std::vector<std::vector<int, std::allocator<int> >, std::allocator<std::vector<int, std::allocator<int> > > >::value_type' (aka 'std::vector<int, std::allocator<int> >') for 1st argument\n",
      "      push_back(value_type&& __x)\n",
      "      ^\n"
     ]
    },
    {
     "ename": "Interpreter Error",
     "evalue": "",
     "output_type": "error",
     "traceback": [
      "Interpreter Error: "
     ]
    }
   ],
   "source": [
    "// bottom up\n",
    "\n",
    "#include <vector>\n",
    "#include <iostream>\n",
    "#include <memory>\n",
    "\n",
    "auto subsets(std::vector<int>& nums) {\n",
    "    std::vector<std::vector<int>> res = {{}};\n",
    "    for(const int n : nums)\n",
    "    {\n",
    "        for(const std::vector<int> subset : res)\n",
    "        {\n",
    "            for (auto vec : res){\n",
    "                for (auto e : vec){\n",
    "                    std::cout << e << \", \";\n",
    "                }\n",
    "                std::cout << \"---\";\n",
    "            }\n",
    "            \n",
    "            std::shared_ptr new_subset = std::make_shared<std::vector<int>>(subset);\n",
    "            new_subset -> push_back(n);\n",
    "            res.push_back(&new_subset);\n",
    "        }\n",
    "    }\n",
    "    return res;\n",
    "}\n",
    "\n",
    "std::vector<int> nums = {1, 2, 3};\n",
    "subsets(nums)"
   ]
  }
 ],
 "metadata": {
  "kernelspec": {
   "display_name": "C++17",
   "language": "C++17",
   "name": "xcpp17"
  },
  "language_info": {
   "codemirror_mode": "text/x-c++src",
   "file_extension": ".cpp",
   "mimetype": "text/x-c++src",
   "name": "c++",
   "version": "17"
  }
 },
 "nbformat": 4,
 "nbformat_minor": 5
}

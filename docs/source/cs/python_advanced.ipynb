{
 "cells": [
  {
   "cell_type": "markdown",
   "metadata": {},
   "source": [
    "# Python Advanced"
   ]
  },
  {
   "cell_type": "markdown",
   "metadata": {},
   "source": [
    "## Decorator fixSeed\n",
    "\n",
    "* 寫的很好的 [RealPython tutorial](https://realpython.com/primer-on-python-decorators/#stateful-decorators)"
   ]
  },
  {
   "cell_type": "code",
   "execution_count": 270,
   "metadata": {},
   "outputs": [
    {
     "name": "stdout",
     "output_type": "stream",
     "text": [
      "0.5488135039273248\n",
      "0.08230461279964163\n"
     ]
    }
   ],
   "source": [
    "# fix_seed：固定 seed = 0 版本。離開函數 seed 會還原成 None\n",
    "\n",
    "import numpy as np\n",
    "import functools\n",
    "\n",
    "def fix_seed(fnc):\n",
    "    @functools.wraps(fnc)\n",
    "    def wrapper_fix_seed(*args, **kargs):\n",
    "        np.random.seed(0)\n",
    "        res = fnc(*args, **kargs)\n",
    "        np.random.seed()\n",
    "        return res\n",
    "    return wrapper_fix_seed\n",
    "\n",
    "@fix_seed\n",
    "def printRand():\n",
    "    print(np.random.uniform())\n",
    "    \n",
    "printRand()\n",
    "print(np.random.uniform())"
   ]
  },
  {
   "cell_type": "code",
   "execution_count": 205,
   "metadata": {},
   "outputs": [
    {
     "name": "stdout",
     "output_type": "stream",
     "text": [
      "0.5434049417909654\n",
      "0.029539348912305363\n"
     ]
    }
   ],
   "source": [
    "# 接受 argument 版本，但變成一定要指定 seed\n",
    "\n",
    "import numpy as np\n",
    "import functools\n",
    "\n",
    "def fix_seed(seed=0):\n",
    "    def decorator_fix_seed(fnc):\n",
    "        @functools.wraps(fnc)\n",
    "        def wrapper_fix_seed(*args, **kargs):\n",
    "            np.random.seed(seed)\n",
    "            res = fnc(*args, **kargs)\n",
    "            np.random.seed()\n",
    "            return res\n",
    "        return wrapper_fix_seed\n",
    "    return decorator_fix_seed\n",
    "\n",
    "@fix_seed(100)\n",
    "def printRand():\n",
    "    print(np.random.uniform())\n",
    "    \n",
    "printRand()\n",
    "print(np.random.uniform())"
   ]
  },
  {
   "cell_type": "code",
   "execution_count": 269,
   "metadata": {},
   "outputs": [
    {
     "name": "stdout",
     "output_type": "stream",
     "text": [
      "0.5488135039273248\n",
      "0.8637724770666958\n"
     ]
    }
   ],
   "source": [
    "# 可以指定也可以不指定。若不指定 seed 預設為 0。若要指定一定要寫 seed=\n",
    "\n",
    "import numpy as np\n",
    "import functools\n",
    "\n",
    "def fix_seed(_func=None, *, seed=0):\n",
    "    def decorator_fix_seed(func):\n",
    "        @functools.wraps(func)\n",
    "        def wrapper_fix_seed(*args, **kwargs):\n",
    "            np.random.seed(seed)\n",
    "            res = func(*args, **kwargs)\n",
    "            np.random.seed()\n",
    "            return res\n",
    "        return wrapper_fix_seed\n",
    "\n",
    "    if _func:\n",
    "        return decorator_fix_seed(_func)\n",
    "    else:\n",
    "        return decorator_fix_seed\n",
    "\n",
    "    \n",
    "# @fix_seed(0)   # TypeError: 'int' object is not callable\n",
    "# @fix_seed(seed=0)\n",
    "@fix_seed\n",
    "def printRand():\n",
    "    print(np.random.uniform())\n",
    "    \n",
    "printRand()\n",
    "print(np.random.uniform())    "
   ]
  }
 ],
 "metadata": {
  "kernelspec": {
   "display_name": "Python 3",
   "language": "python",
   "name": "python3"
  },
  "language_info": {
   "codemirror_mode": {
    "name": "ipython",
    "version": 3
   },
   "file_extension": ".py",
   "mimetype": "text/x-python",
   "name": "python",
   "nbconvert_exporter": "python",
   "pygments_lexer": "ipython3",
   "version": "3.7.8"
  }
 },
 "nbformat": 4,
 "nbformat_minor": 4
}

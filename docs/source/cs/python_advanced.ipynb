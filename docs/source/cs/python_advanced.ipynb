{
 "cells": [
  {
   "cell_type": "markdown",
   "metadata": {},
   "source": [
    "# Python Advanced"
   ]
  },
  {
   "cell_type": "markdown",
   "metadata": {},
   "source": [
    "## Decorator fixSeed"
   ]
  },
  {
   "cell_type": "code",
   "execution_count": 167,
   "metadata": {},
   "outputs": [
    {
     "name": "stdout",
     "output_type": "stream",
     "text": [
      "0.5488135039273248\n",
      "0.4123412361846971\n"
     ]
    }
   ],
   "source": [
    "# 固定 seed = 0 版本\n",
    "\n",
    "import numpy as np\n",
    "import functools\n",
    "\n",
    "def fixSeed(fnc):\n",
    "    @functools.wraps(fnc)\n",
    "    def wrapperFixSeed(*args, **kargs):\n",
    "        np.random.seed(0)\n",
    "        returnValue = fnc(*args, **kargs)\n",
    "        np.random.seed()\n",
    "        return returnValue\n",
    "    return wrapperFixSeed\n",
    "\n",
    "@fixSeed\n",
    "def printRand():\n",
    "    print(np.random.uniform())\n",
    "    \n",
    "printRand()\n",
    "print(np.random.uniform())"
   ]
  },
  {
   "cell_type": "code",
   "execution_count": 171,
   "metadata": {},
   "outputs": [
    {
     "name": "stdout",
     "output_type": "stream",
     "text": [
      "0.5434049417909654\n",
      "0.7994076348626472\n"
     ]
    }
   ],
   "source": [
    "# 接受 argument 版本，但變成一定要指定 seed\n",
    "\n",
    "import numpy as np\n",
    "import functools\n",
    "\n",
    "def fixSeed(seed=0):\n",
    "    def decoratorFixSeed(fnc):\n",
    "        @functools.wraps(fnc)\n",
    "        def wrapperFixSeed(*args, **kargs):\n",
    "            np.random.seed(seed)\n",
    "            returnValue = fnc(*args, **kargs)\n",
    "            np.random.seed()\n",
    "            return returnValue\n",
    "        return wrapperFixSeed\n",
    "    return decoratorFixSeed\n",
    "\n",
    "@fixSeed(100)\n",
    "def printRand():\n",
    "    print(np.random.uniform())\n",
    "    \n",
    "printRand()\n",
    "print(np.random.uniform())"
   ]
  }
 ],
 "metadata": {
  "kernelspec": {
   "display_name": "Python 3",
   "language": "python",
   "name": "python3"
  },
  "language_info": {
   "codemirror_mode": {
    "name": "ipython",
    "version": 3
   },
   "file_extension": ".py",
   "mimetype": "text/x-python",
   "name": "python",
   "nbconvert_exporter": "python",
   "pygments_lexer": "ipython3",
   "version": "3.7.8"
  }
 },
 "nbformat": 4,
 "nbformat_minor": 4
}

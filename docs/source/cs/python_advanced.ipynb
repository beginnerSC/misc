{
 "cells": [
  {
   "cell_type": "markdown",
   "metadata": {},
   "source": [
    "# Python Advanced"
   ]
  },
  {
   "cell_type": "markdown",
   "metadata": {},
   "source": [
    "## Generator"
   ]
  },
  {
   "cell_type": "code",
   "execution_count": 10,
   "metadata": {},
   "outputs": [
    {
     "name": "stdout",
     "output_type": "stream",
     "text": [
      "[2, 4, 8, 16, 32, 64, 128, 256, 512]\n",
      "2\n",
      "4\n",
      "8\n"
     ]
    }
   ],
   "source": [
    "def pow2():\n",
    "    n = 2\n",
    "    while n < 1000:\n",
    "        yield n\n",
    "        n *= 2\n",
    "\n",
    "print([i for i in pow2()])\n",
    "\n",
    "a = pow2()\n",
    "\n",
    "print(next(a))\n",
    "print(next(a))\n",
    "print(next(a))"
   ]
  },
  {
   "cell_type": "markdown",
   "metadata": {},
   "source": [
    "## [Coroutine](https://www.youtube.com/watch?v=7AoANOGIDuM)"
   ]
  },
  {
   "cell_type": "code",
   "execution_count": 6,
   "metadata": {},
   "outputs": [
    {
     "name": "stdout",
     "output_type": "stream",
     "text": [
      "Received: 100\n",
      "1\n"
     ]
    }
   ],
   "source": [
    "# 呼叫 next() 時會跑到 coro 裡的下一個 yield\n",
    "# 然後可以用 send 把值傳進正在跑的函數裡，同時 send 也會 return yield 的結果\n",
    "\n",
    "def coro():\n",
    "    step = 0\n",
    "    while True:\n",
    "        received = yield step\n",
    "        step += 1\n",
    "        print(f'Received: {received}')\n",
    "\n",
    "c = coro()\n",
    "next(c)               # important! get to the first yield\n",
    "print(c.send(100))"
   ]
  },
  {
   "cell_type": "markdown",
   "metadata": {},
   "source": [
    "## Decorator \n",
    "\n",
    "* 寫的很好的 [RealPython tutorial](https://realpython.com/primer-on-python-decorators/#stateful-decorators)，整篇看完了但沒時間作筆記\n",
    "* ```@debug``` 印下函數的 input/output，可以用寫 recursive 的時候 debug\n",
    "* [classes as decorators](https://realpython.com/primer-on-python-decorators/#classes-as-decorators)，implement ```__init__``` 和 ```__call__```，可以存狀態，例如 lru_cache\n",
    "\n",
    "### General Pattern (No Argument)"
   ]
  },
  {
   "cell_type": "code",
   "execution_count": 7,
   "metadata": {},
   "outputs": [],
   "source": [
    "import functools\n",
    "\n",
    "def decorator(func):\n",
    "    @functools.wraps(func)\n",
    "    def wrapper_decorator(*args, **kwargs):\n",
    "        # Do something before\n",
    "        value = func(*args, **kwargs)\n",
    "        # Do something after\n",
    "        return value\n",
    "    return wrapper_decorator"
   ]
  },
  {
   "cell_type": "markdown",
   "metadata": {},
   "source": [
    "### Decorator fix_seed"
   ]
  },
  {
   "cell_type": "code",
   "execution_count": 367,
   "metadata": {},
   "outputs": [
    {
     "name": "stdout",
     "output_type": "stream",
     "text": [
      "0.5488135039273248\n",
      "0.6161167995056092\n"
     ]
    }
   ],
   "source": [
    "# fix_seed：固定 seed = 0 版本。離開函數 seed 會還原成 None\n",
    "\n",
    "import numpy as np\n",
    "import functools\n",
    "\n",
    "def fix_seed(fnc):\n",
    "    @functools.wraps(fnc)\n",
    "    def wrapper_fix_seed(*args, **kargs):\n",
    "        np.random.seed(0)\n",
    "        res = fnc(*args, **kargs)\n",
    "        np.random.seed()\n",
    "        return res\n",
    "    return wrapper_fix_seed\n",
    "\n",
    "@fix_seed\n",
    "def printRand():\n",
    "    print(np.random.uniform())\n",
    "    \n",
    "printRand()\n",
    "print(np.random.uniform())"
   ]
  },
  {
   "cell_type": "code",
   "execution_count": 377,
   "metadata": {},
   "outputs": [
    {
     "name": "stdout",
     "output_type": "stream",
     "text": [
      "0.5434049417909654\n",
      "0.3289099673526439\n"
     ]
    }
   ],
   "source": [
    "# 接受 argument 版本，但變成一定要指定 seed\n",
    "\n",
    "import numpy as np\n",
    "import functools\n",
    "\n",
    "def fix_seed(seed=0):\n",
    "    def decorator_fix_seed(fnc):\n",
    "        @functools.wraps(fnc)\n",
    "        def wrapper_fix_seed(*args, **kargs):\n",
    "            np.random.seed(seed)\n",
    "            res = fnc(*args, **kargs)\n",
    "            np.random.seed()\n",
    "            return res\n",
    "        return wrapper_fix_seed\n",
    "    return decorator_fix_seed\n",
    "\n",
    "@fix_seed(100)\n",
    "def printRand():\n",
    "    print(np.random.uniform())\n",
    "    \n",
    "printRand()\n",
    "print(np.random.uniform())"
   ]
  },
  {
   "cell_type": "code",
   "execution_count": 6,
   "metadata": {},
   "outputs": [
    {
     "name": "stdout",
     "output_type": "stream",
     "text": [
      "0.5488135039273248\n",
      "0.13056825103667768\n"
     ]
    }
   ],
   "source": [
    "# 可以指定也可以不指定。若不指定 seed 預設為 0。若要指定一定要寫 seed=\n",
    "\n",
    "# 有指定 seed 的時候相當於 printRand = fix_seed(seed=0)(printRand)，所以 _func 是 None\n",
    "# 不指定 seed 的時候則變成 printRand = fix_seed(printRand)          把 function 傳進去\n",
    "\n",
    "import numpy as np\n",
    "import functools\n",
    "\n",
    "def fix_seed(_func=None, *, seed=0):\n",
    "    def decorator_fix_seed(func):\n",
    "        @functools.wraps(func)\n",
    "        def wrapper_fix_seed(*args, **kwargs):\n",
    "            np.random.seed(seed)\n",
    "            res = func(*args, **kwargs)\n",
    "            np.random.seed()\n",
    "            return res\n",
    "        return wrapper_fix_seed\n",
    "\n",
    "    if _func:\n",
    "        return decorator_fix_seed(_func)\n",
    "    else:\n",
    "        return decorator_fix_seed\n",
    "\n",
    "    \n",
    "# @fix_seed(0)   # TypeError: 'int' object is not callable\n",
    "# @fix_seed(seed=0)\n",
    "@fix_seed\n",
    "def printRand():\n",
    "    print(np.random.uniform())\n",
    "    \n",
    "printRand()\n",
    "print(np.random.uniform())    "
   ]
  }
 ],
 "metadata": {
  "kernelspec": {
   "display_name": "Python 3",
   "language": "python",
   "name": "python3"
  },
  "language_info": {
   "codemirror_mode": {
    "name": "ipython",
    "version": 3
   },
   "file_extension": ".py",
   "mimetype": "text/x-python",
   "name": "python",
   "nbconvert_exporter": "python",
   "pygments_lexer": "ipython3",
   "version": "3.7.8"
  }
 },
 "nbformat": 4,
 "nbformat_minor": 4
}

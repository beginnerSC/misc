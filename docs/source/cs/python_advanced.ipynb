{
 "cells": [
  {
   "cell_type": "markdown",
   "metadata": {},
   "source": [
    "# Python Advanced"
   ]
  },
  {
   "cell_type": "markdown",
   "metadata": {},
   "source": [
    "## [OOP by Corey Schafer](https://www.youtube.com/watch?v=bD05uGo_sVI)\n",
    "\n",
    "### FirstClass"
   ]
  },
  {
   "cell_type": "code",
   "execution_count": 1,
   "metadata": {},
   "outputs": [],
   "source": [
    "class Employee:\n",
    "\n",
    "    def __init__(self, first, last, pay):\n",
    "        self.first = first\n",
    "        self.last = last\n",
    "        self.email = first + '.' + last + '@email.com'\n",
    "        self.pay = pay\n",
    "\n",
    "    def fullname(self):\n",
    "        return '{} {}'.format(self.first, self.last)\n",
    "\n",
    "emp_1 = Employee('Corey', 'Schafer', 50000)\n",
    "emp_2 = Employee('Test', 'Employee', 60000)"
   ]
  },
  {
   "cell_type": "code",
   "execution_count": 2,
   "metadata": {},
   "outputs": [],
   "source": [
    "class Employee:\n",
    "\n",
    "    def __init__(self, first, last, pay):\n",
    "        self.first = first\n",
    "        self.last = last\n",
    "        self.email = first + '.' + last + '@email.com'\n",
    "        self.pay = pay\n",
    "\n",
    "    def fullname(self):\n",
    "        return '{} {}'.format(self.first, self.last)\n",
    "\n",
    "emp_1 = Employee('Corey', 'Schafer', 50000)\n",
    "emp_2 = Employee('Test', 'Employee', 60000)"
   ]
  },
  {
   "cell_type": "code",
   "execution_count": 3,
   "metadata": {},
   "outputs": [
    {
     "name": "stdout",
     "output_type": "stream",
     "text": [
      "1.05\n",
      "1.05\n",
      "1.05\n",
      "John.Doe@email.com\n",
      "70000\n",
      "True\n"
     ]
    }
   ],
   "source": [
    "class Employee:\n",
    "\n",
    "    num_of_emps = 0\n",
    "    raise_amt = 1.04\n",
    "\n",
    "    def __init__(self, first, last, pay):\n",
    "        self.first = first\n",
    "        self.last = last\n",
    "        self.email = first + '.' + last + '@email.com'\n",
    "        self.pay = pay\n",
    "\n",
    "        Employee.num_of_emps += 1\n",
    "\n",
    "    def fullname(self):\n",
    "        return '{} {}'.format(self.first, self.last)\n",
    "\n",
    "    def apply_raise(self):\n",
    "        self.pay = int(self.pay * self.raise_amt)\n",
    "\n",
    "    @classmethod\n",
    "    def set_raise_amt(cls, amount):\n",
    "        cls.raise_amt = amount\n",
    "\n",
    "    @classmethod\n",
    "    def from_string(cls, emp_str):\n",
    "        first, last, pay = emp_str.split('-')\n",
    "        return cls(first, last, pay)\n",
    "\n",
    "    @staticmethod\n",
    "    def is_workday(day):\n",
    "        if day.weekday() == 5 or day.weekday() == 6:\n",
    "            return False\n",
    "        return True\n",
    "\n",
    "\n",
    "emp_1 = Employee('Corey', 'Schafer', 50000)\n",
    "emp_2 = Employee('Test', 'Employee', 60000)\n",
    "\n",
    "Employee.set_raise_amt(1.05)\n",
    "\n",
    "print(Employee.raise_amt)\n",
    "print(emp_1.raise_amt)\n",
    "print(emp_2.raise_amt)\n",
    "\n",
    "emp_str_1 = 'John-Doe-70000'\n",
    "emp_str_2 = 'Steve-Smith-30000'\n",
    "emp_str_3 = 'Jane-Doe-90000'\n",
    "\n",
    "first, last, pay = emp_str_1.split('-')\n",
    "\n",
    "#new_emp_1 = Employee(first, last, pay)\n",
    "new_emp_1 = Employee.from_string(emp_str_1)\n",
    "\n",
    "print(new_emp_1.email)\n",
    "print(new_emp_1.pay)\n",
    "\n",
    "import datetime\n",
    "my_date = datetime.date(2016, 7, 11)\n",
    "\n",
    "print(Employee.is_workday(my_date))"
   ]
  },
  {
   "cell_type": "code",
   "execution_count": 4,
   "metadata": {},
   "outputs": [
    {
     "name": "stdout",
     "output_type": "stream",
     "text": [
      "Corey.Schafer@email.com\n",
      "Test.Employee@email.com\n"
     ]
    }
   ],
   "source": [
    "class Employee:\n",
    "\n",
    "    raise_amt = 1.04\n",
    "\n",
    "    def __init__(self, first, last, pay):\n",
    "        self.first = first\n",
    "        self.last = last\n",
    "        self.email = first + '.' + last + '@email.com'\n",
    "        self.pay = pay\n",
    "\n",
    "    def fullname(self):\n",
    "        return '{} {}'.format(self.first, self.last)\n",
    "\n",
    "    def apply_raise(self):\n",
    "        self.pay = int(self.pay * self.raise_amt)\n",
    "\n",
    "\n",
    "dev_1 = Employee('Corey', 'Schafer', 50000)\n",
    "dev_2 = Employee('Test', 'Employee', 60000)\n",
    "\n",
    "print(dev_1.email)\n",
    "print(dev_2.email)\n",
    "\n",
    "\n",
    "# print(dev_1.raise_amt)\n",
    "# dev_1.apply_raise()\n",
    "# print(dev_1.raise_amt)"
   ]
  },
  {
   "cell_type": "code",
   "execution_count": 5,
   "metadata": {},
   "outputs": [
    {
     "name": "stdout",
     "output_type": "stream",
     "text": [
      "Corey\n",
      "Corey.Schafer@email.com\n",
      "Corey Schafer\n",
      "Delete Name!\n"
     ]
    }
   ],
   "source": [
    "class Employee:\n",
    "\n",
    "    def __init__(self, first, last):\n",
    "        self.first = first\n",
    "        self.last = last\n",
    "\n",
    "    @property\n",
    "    def email(self):\n",
    "        return '{}.{}@email.com'.format(self.first, self.last)\n",
    "\n",
    "    @property\n",
    "    def fullname(self):\n",
    "        return '{} {}'.format(self.first, self.last)\n",
    "    \n",
    "    @fullname.setter\n",
    "    def fullname(self, name):\n",
    "        first, last = name.split(' ')\n",
    "        self.first = first\n",
    "        self.last = last\n",
    "    \n",
    "    @fullname.deleter\n",
    "    def fullname(self):\n",
    "        print('Delete Name!')\n",
    "        self.first = None\n",
    "        self.last = None\n",
    "\n",
    "\n",
    "emp_1 = Employee('John', 'Smith')\n",
    "emp_1.fullname = \"Corey Schafer\"\n",
    "\n",
    "print(emp_1.first)\n",
    "print(emp_1.email)\n",
    "print(emp_1.fullname)\n",
    "\n",
    "del emp_1.fullname"
   ]
  },
  {
   "cell_type": "markdown",
   "metadata": {},
   "source": [
    "## Generator"
   ]
  },
  {
   "cell_type": "code",
   "execution_count": 10,
   "metadata": {},
   "outputs": [
    {
     "name": "stdout",
     "output_type": "stream",
     "text": [
      "[2, 4, 8, 16, 32, 64, 128, 256, 512]\n",
      "2\n",
      "4\n",
      "8\n"
     ]
    }
   ],
   "source": [
    "def pow2():\n",
    "    n = 2\n",
    "    while n < 1000:\n",
    "        yield n\n",
    "        n *= 2\n",
    "\n",
    "print([i for i in pow2()])\n",
    "\n",
    "a = pow2()\n",
    "\n",
    "print(next(a))\n",
    "print(next(a))\n",
    "print(next(a))"
   ]
  },
  {
   "cell_type": "markdown",
   "metadata": {},
   "source": [
    "## [Coroutine](https://www.youtube.com/watch?v=7AoANOGIDuM)"
   ]
  },
  {
   "cell_type": "code",
   "execution_count": 6,
   "metadata": {},
   "outputs": [
    {
     "name": "stdout",
     "output_type": "stream",
     "text": [
      "Received: 100\n",
      "1\n"
     ]
    }
   ],
   "source": [
    "# 呼叫 next() 時會跑到 coro 裡的下一個 yield\n",
    "# 然後可以用 send 把值傳進正在跑的函數裡，同時 send 也會 return yield 的結果\n",
    "\n",
    "def coro():\n",
    "    step = 0\n",
    "    while True:\n",
    "        received = yield step\n",
    "        step += 1\n",
    "        print(f'Received: {received}')\n",
    "\n",
    "c = coro()\n",
    "next(c)               # important! get to the first yield\n",
    "print(c.send(100))"
   ]
  },
  {
   "cell_type": "markdown",
   "metadata": {},
   "source": [
    "## Decorator \n",
    "\n",
    "* 寫的很好的 [RealPython tutorial](https://realpython.com/primer-on-python-decorators/#stateful-decorators)，整篇看完了但沒時間作筆記\n",
    "* 被 decorate 過的函數呼叫 ```.__name__``` 或 ```.__doc__```（```help()```）的時候會叫到 wrapper 的，所以才需要用 ```@functools.wraps(func)``` 把 func 的 name 和 docstring 抄給 wrapper\n",
    "* ```@debug``` 印下函數的 input/output，可以用寫 recursive 的時候 debug\n",
    "* [classes as decorators](https://realpython.com/primer-on-python-decorators/#classes-as-decorators)，implement ```__init__``` 和 ```__call__```，可以存狀態，例如 lru_cache\n",
    "\n",
    "### General Pattern (No Argument)"
   ]
  },
  {
   "cell_type": "code",
   "execution_count": 7,
   "metadata": {},
   "outputs": [],
   "source": [
    "import functools\n",
    "\n",
    "def decorator(func):\n",
    "    @functools.wraps(func)\n",
    "    def wrapper_decorator(*args, **kwargs):\n",
    "        # Do something before\n",
    "        value = func(*args, **kwargs)\n",
    "        # Do something after\n",
    "        return value\n",
    "    return wrapper_decorator"
   ]
  },
  {
   "cell_type": "markdown",
   "metadata": {},
   "source": [
    "### Decorator fix_seed"
   ]
  },
  {
   "cell_type": "code",
   "execution_count": 367,
   "metadata": {},
   "outputs": [
    {
     "name": "stdout",
     "output_type": "stream",
     "text": [
      "0.5488135039273248\n",
      "0.6161167995056092\n"
     ]
    }
   ],
   "source": [
    "# fix_seed：固定 seed = 0 版本。離開函數 seed 會還原成 None\n",
    "\n",
    "import numpy as np\n",
    "import functools\n",
    "\n",
    "def fix_seed(fnc):\n",
    "    @functools.wraps(fnc)\n",
    "    def wrapper_fix_seed(*args, **kargs):\n",
    "        np.random.seed(0)\n",
    "        res = fnc(*args, **kargs)\n",
    "        np.random.seed()\n",
    "        return res\n",
    "    return wrapper_fix_seed\n",
    "\n",
    "@fix_seed\n",
    "def printRand():\n",
    "    print(np.random.uniform())\n",
    "    \n",
    "printRand()\n",
    "print(np.random.uniform())"
   ]
  },
  {
   "cell_type": "code",
   "execution_count": 377,
   "metadata": {},
   "outputs": [
    {
     "name": "stdout",
     "output_type": "stream",
     "text": [
      "0.5434049417909654\n",
      "0.3289099673526439\n"
     ]
    }
   ],
   "source": [
    "# 接受 argument 版本，但變成一定要指定 seed\n",
    "\n",
    "import numpy as np\n",
    "import functools\n",
    "\n",
    "def fix_seed(seed=0):\n",
    "    def decorator_fix_seed(fnc):\n",
    "        @functools.wraps(fnc)\n",
    "        def wrapper_fix_seed(*args, **kargs):\n",
    "            np.random.seed(seed)\n",
    "            res = fnc(*args, **kargs)\n",
    "            np.random.seed()\n",
    "            return res\n",
    "        return wrapper_fix_seed\n",
    "    return decorator_fix_seed\n",
    "\n",
    "@fix_seed(100)\n",
    "def printRand():\n",
    "    print(np.random.uniform())\n",
    "    \n",
    "printRand()\n",
    "print(np.random.uniform())"
   ]
  },
  {
   "cell_type": "code",
   "execution_count": 6,
   "metadata": {},
   "outputs": [
    {
     "name": "stdout",
     "output_type": "stream",
     "text": [
      "0.5488135039273248\n",
      "0.13056825103667768\n"
     ]
    }
   ],
   "source": [
    "# 可以指定也可以不指定。若不指定 seed 預設為 0。若要指定一定要寫 seed=\n",
    "\n",
    "# 有指定 seed 的時候相當於 printRand = fix_seed(seed=0)(printRand)，所以 _func 是 None\n",
    "# 不指定 seed 的時候則變成 printRand = fix_seed(printRand)          把 function 傳進去\n",
    "\n",
    "import numpy as np\n",
    "import functools\n",
    "\n",
    "def fix_seed(_func=None, *, seed=0):\n",
    "    def decorator_fix_seed(func):\n",
    "        @functools.wraps(func)\n",
    "        def wrapper_fix_seed(*args, **kwargs):\n",
    "            np.random.seed(seed)\n",
    "            res = func(*args, **kwargs)\n",
    "            np.random.seed()\n",
    "            return res\n",
    "        return wrapper_fix_seed\n",
    "\n",
    "    if _func:\n",
    "        return decorator_fix_seed(_func)\n",
    "    else:\n",
    "        return decorator_fix_seed\n",
    "\n",
    "    \n",
    "# @fix_seed(0)   # TypeError: 'int' object is not callable\n",
    "# @fix_seed(seed=0)\n",
    "@fix_seed\n",
    "def printRand():\n",
    "    print(np.random.uniform())\n",
    "    \n",
    "printRand()\n",
    "print(np.random.uniform())    "
   ]
  }
 ],
 "metadata": {
  "kernelspec": {
   "display_name": "Python 3",
   "language": "python",
   "name": "python3"
  },
  "language_info": {
   "codemirror_mode": {
    "name": "ipython",
    "version": 3
   },
   "file_extension": ".py",
   "mimetype": "text/x-python",
   "name": "python",
   "nbconvert_exporter": "python",
   "pygments_lexer": "ipython3",
   "version": "3.7.8"
  }
 },
 "nbformat": 4,
 "nbformat_minor": 4
}

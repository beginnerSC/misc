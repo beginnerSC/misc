{
 "cells": [
  {
   "cell_type": "markdown",
   "metadata": {},
   "source": [
    "# Huffman Coding"
   ]
  },
  {
   "cell_type": "code",
   "execution_count": 2,
   "metadata": {},
   "outputs": [
    {
     "name": "stdout",
     "output_type": "stream",
     "text": [
      "(\u0000, 409)\n",
      "(\u0000, 168)\n",
      "(\u0000, 241)\n",
      "(\u0000, 76)\n",
      "(\u0000, 36)\n",
      "(\u0000, 18)\n",
      "(\u0000, 9)\n",
      "(\u0000, 4)\n",
      "(T, 2)\n"
     ]
    }
   ],
   "source": [
    "#include <iostream>\n",
    "#include <string>\n",
    "#include <queue>       // std::priority_queue\n",
    "#include <vector>\n",
    "#include <utility>     // std::pair\n",
    "#include <functional>  // std::greater\n",
    "#include <unordered_map>\n",
    "\n",
    "class HeapNode\n",
    "{\n",
    "public: \n",
    "    HeapNode* left = nullptr;\n",
    "    HeapNode* right = nullptr;\n",
    "    int freq;\n",
    "    char ch;\n",
    "    \n",
    "    HeapNode(int freq, char ch, HeapNode* left, HeapNode* right) \n",
    "        : freq(freq), ch(ch), left(left), right(right) {}\n",
    "    \n",
    "    HeapNode(const HeapNode& other) { \n",
    "        HeapNode* p = clone(&other); \n",
    "        \n",
    "        this->freq = p->freq;\n",
    "        this->ch = p->ch;\n",
    "        this->left = p->left;\n",
    "        this->right = p->right;\n",
    "    }\n",
    "    \n",
    "    HeapNode* clone(const HeapNode* other) {\n",
    "        HeapNode* p = new HeapNode(other->freq, other->ch, nullptr, nullptr);\n",
    "        \n",
    "        if (other->left)\n",
    "            p->left = clone(other->left);\n",
    "        if (other->right)\n",
    "            p->right = clone(other->right);\n",
    "        \n",
    "        return p;\n",
    "    }\n",
    "    \n",
    "    void print() const { \n",
    "        std::cout << \"(\" << ch << \", \" << freq << \")\" << std::endl; \n",
    "    }\n",
    "    \n",
    "    friend bool operator>(const HeapNode& a, const HeapNode& b) { \n",
    "        return a.freq > b.freq; \n",
    "    }\n",
    "};\n",
    "\n",
    "std::string message(R\"(In computer science and information theory, a Huffman code is a particular type of optimal prefix code that is commonly used for lossless data compression. The process of finding or using such a code proceeds by means of Huffman coding, an algorithm developed by David A. Huffman while he was a Sc.D. student at MIT, and published in the 1952 paper \"A Method for the Construction of Minimum-Redundancy Codes\".)\");\n",
    "\n",
    "std::unordered_map<char, int> freq;\n",
    "for (const char& c : message)\n",
    "    freq[c]++;\n",
    "\n",
    "std::vector<HeapNode> nodes;\n",
    "for (const auto& pair : freq){\n",
    "    char letter = pair.first;\n",
    "    int frequency = pair.second;\n",
    "    nodes.push_back(HeapNode(frequency, letter, nullptr, nullptr));\n",
    "}\n",
    "\n",
    "std::priority_queue<HeapNode, std::vector<HeapNode>, std::greater<HeapNode>> q(std::greater<HeapNode>(), nodes);\n",
    "\n",
    "while(q.size() > 1) \n",
    "{\n",
    "    // when this loop finishes, q.top() will be the root of a Huffman tree\n",
    "\n",
    "    HeapNode leftNode = q.top();  \n",
    "    HeapNode* left = &leftNode;\n",
    "    q.pop();\n",
    "    \n",
    "    HeapNode rightNode = q.top();\n",
    "    HeapNode* right = &rightNode;\n",
    "    q.pop();\n",
    "\n",
    "    \n",
    "//     HeapNode(left->freq + right->freq, '\\0', left, right).print();\n",
    "//     left->print();\n",
    "//     right->print();\n",
    "//     std::cout << std::endl;\n",
    "    \n",
    "    q.push(HeapNode(left->freq + right->freq, '\\0', left, right));\n",
    "    if (q.size()==1){\n",
    "        const HeapNode* root = &(q.top());\n",
    "\n",
    "        root->print();\n",
    "        root->left->print();\n",
    "        root->right->print();\n",
    "        root->left->left->print();\n",
    "        root->left->left->left->print();\n",
    "        root->left->left->left->left->print();\n",
    "        root->left->left->left->left->left->print();\n",
    "        root->left->left->left->left->left->left->print();\n",
    "        root->left->left->left->left->left->left->left->print();\n",
    "    }\n",
    "}"
   ]
  },
  {
   "cell_type": "code",
   "execution_count": 3,
   "metadata": {},
   "outputs": [
    {
     "name": "stdout",
     "output_type": "stream",
     "text": [
      "(\u0000, 409)\n"
     ]
    }
   ],
   "source": [
    "const HeapNode* root = &(q.top());\n",
    "\n",
    "root->print();\n",
    "root->left->print();\n",
    "root->right->print();\n",
    "root->left->left->print();\n"
   ]
  },
  {
   "cell_type": "code",
   "execution_count": 2,
   "metadata": {},
   "outputs": [
    {
     "name": "stderr",
     "output_type": "stream",
     "text": [
      "input_line_9:3:1: error: function definition is not allowed here\n",
      "{\n",
      "^\n"
     ]
    },
    {
     "ename": "Interpreter Error",
     "evalue": "",
     "output_type": "error",
     "traceback": [
      "Interpreter Error: "
     ]
    }
   ],
   "source": [
    "std::vector<std::pair<char, std::string>> codeCharPairs(const HeapNode* p)\n",
    "{\n",
    "    if (p->left==nullptr && p->right==nullptr)\n",
    "    {\n",
    "        std::cout << \"end\" << std::endl;\n",
    "        return std::vector<std::pair<char, std::string>> {{p->ch, \"\"}};\n",
    "    } \n",
    "    else \n",
    "    {\n",
    "        std::vector<std::pair<char, std::string>> from_left = codeCharPairs(p->left);\n",
    "        std::vector<std::pair<char, std::string>> from_right = codeCharPairs(p->right);\n",
    "        \n",
    "        std::cout << from_left.size() << \", \" << from_right.size() << std::endl;\n",
    "        \n",
    "        for (auto& tuple : from_left)\n",
    "            tuple.second = '0' + tuple.second;\n",
    "        \n",
    "        for (auto& tuple : from_right)\n",
    "            tuple.second = '1' + tuple.second;\n",
    "        \n",
    "        from_left.insert(from_left.end(), from_right.begin(), from_right.end());\n",
    "        return from_left;\n",
    "    }\n",
    "}"
   ]
  },
  {
   "cell_type": "code",
   "execution_count": 3,
   "metadata": {},
   "outputs": [
    {
     "name": "stderr",
     "output_type": "stream",
     "text": [
      "input_line_10:3:14: error: use of undeclared identifier 'codeCharPairs'\n",
      "std::cout << codeCharPairs(root) << std::endl;\n",
      "             ^\n"
     ]
    },
    {
     "ename": "Interpreter Error",
     "evalue": "",
     "output_type": "error",
     "traceback": [
      "Interpreter Error: "
     ]
    }
   ],
   "source": [
    "const HeapNode* root = &(q.top());\n",
    "\n",
    "std::cout << codeCharPairs(root) << std::endl;\n"
   ]
  },
  {
   "cell_type": "markdown",
   "metadata": {},
   "source": [
    "[Does Not Work](http://cpp.sh/83qtg)"
   ]
  }
 ],
 "metadata": {
  "kernelspec": {
   "display_name": "C++17",
   "language": "C++17",
   "name": "xcpp17"
  },
  "language_info": {
   "codemirror_mode": "text/x-c++src",
   "file_extension": ".cpp",
   "mimetype": "text/x-c++src",
   "name": "c++",
   "version": "17"
  }
 },
 "nbformat": 4,
 "nbformat_minor": 4
}

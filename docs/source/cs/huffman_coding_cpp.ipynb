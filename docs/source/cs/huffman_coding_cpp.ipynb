{
 "cells": [
  {
   "cell_type": "markdown",
   "metadata": {},
   "source": [
    "# Huffman Coding"
   ]
  },
  {
   "cell_type": "code",
   "execution_count": 1,
   "metadata": {},
   "outputs": [
    {
     "name": "stdout",
     "output_type": "stream",
     "text": [
      "(5, 1)\n",
      "(x, 1)\n",
      "(R, 1)\n",
      "(2, 1)\n",
      "(S, 1)\n",
      "(9, 1)\n",
      "(1, 1)\n",
      "(-, 1)\n",
      "(v, 2)\n",
      "(\", 2)\n",
      "(I, 2)\n",
      "(D, 2)\n",
      "(C, 2)\n",
      "(T, 2)\n",
      "(w, 2)\n",
      "(A, 2)\n",
      "(M, 3)\n",
      "(H, 3)\n",
      "(,, 3)\n",
      "(b, 3)\n",
      "(g, 4)\n",
      "(., 5)\n",
      "(y, 6)\n",
      "(l, 9)\n",
      "(h, 11)\n",
      "(p, 12)\n",
      "(u, 13)\n",
      "(m, 13)\n",
      "(f, 15)\n",
      "(r, 15)\n",
      "(c, 16)\n",
      "(t, 18)\n",
      "(d, 19)\n",
      "(i, 21)\n",
      "(s, 21)\n",
      "(n, 24)\n",
      "(a, 24)\n",
      "(o, 29)\n",
      "(e, 30)\n",
      "( , 68)\n"
     ]
    }
   ],
   "source": [
    "#include <iostream>\n",
    "#include <string>\n",
    "#include <queue>       // std::priority_queue\n",
    "#include <vector>\n",
    "#include <functional>  // std::greater\n",
    "#include <unordered_map>\n",
    "\n",
    "\n",
    "class HeapNode\n",
    "{\n",
    "    HeapNode* left = nullptr;\n",
    "    HeapNode* right = nullptr;\n",
    "    double freq;\n",
    "    char ch;\n",
    "\n",
    "public: \n",
    "    HeapNode(const double& freq, const char& ch, HeapNode* left=nullptr, HeapNode* right=nullptr) \n",
    "        : freq(freq), ch(ch), left(left), right(right) {}\n",
    "    \n",
    "    void print() const { std::cout << \"(\" << ch << \", \" << freq << \")\" << std::endl; }\n",
    "    \n",
    "    friend bool operator<(const HeapNode& a, const HeapNode& b) { \n",
    "        return a.freq > b.freq; \n",
    "    }\n",
    "};\n",
    "\n",
    "std::string message(R\"(In computer science and information theory, a Huffman code is a particular type of optimal prefix code that is commonly used for lossless data compression. The process of finding or using such a code proceeds by means of Huffman coding, an algorithm developed by David A. Huffman while he was a Sc.D. student at MIT, and published in the 1952 paper \"A Method for the Construction of Minimum-Redundancy Codes\".)\");\n",
    "\n",
    "std::unordered_map<char, int> freq;\n",
    "for (const char& c : message)\n",
    "    freq[c]++;\n",
    "\n",
    "std::vector<HeapNode> nodes;\n",
    "for (auto [letter, frequency] : freq)\n",
    "    nodes.push_back(HeapNode(frequency, letter));\n",
    "\n",
    "std::priority_queue<HeapNode> q(std::less<HeapNode>(), nodes);\n",
    "\n",
    "while(!q.empty()) \n",
    "{\n",
    "    const auto& p = q.top();\n",
    "    p.print();\n",
    "    q.pop();\n",
    "}\n"
   ]
  }
 ],
 "metadata": {
  "kernelspec": {
   "display_name": "C++17",
   "language": "C++17",
   "name": "xcpp17"
  },
  "language_info": {
   "codemirror_mode": "text/x-c++src",
   "file_extension": ".cpp",
   "mimetype": "text/x-c++src",
   "name": "c++",
   "version": "17"
  }
 },
 "nbformat": 4,
 "nbformat_minor": 4
}

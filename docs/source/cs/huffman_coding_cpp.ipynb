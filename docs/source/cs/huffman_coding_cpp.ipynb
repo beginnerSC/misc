{
 "cells": [
  {
   "cell_type": "markdown",
   "metadata": {},
   "source": [
    "# Huffman Coding"
   ]
  },
  {
   "cell_type": "code",
   "execution_count": 3,
   "metadata": {},
   "outputs": [],
   "source": [
    "class HeapNode\n",
    "{\n",
    "    HeapNode* left = nullptr;\n",
    "    HeapNode* right = nullptr;\n",
    "    double freq;\n",
    "    char ch;\n",
    "\n",
    "public: \n",
    "    HeapNode(const double& freq, const char& ch, HeapNode* left=nullptr, HeapNode* right=nullptr) \n",
    "        : freq(freq), ch(ch), left(left), right(right) {}\n",
    "    \n",
    "    bool operator<(const HeapNode& other){\n",
    "        return this->freq < other.freq;\n",
    "    }\n",
    "};"
   ]
  },
  {
   "cell_type": "code",
   "execution_count": 2,
   "metadata": {},
   "outputs": [
    {
     "name": "stderr",
     "output_type": "stream",
     "text": [
      "In file included from input_line_5:1:\n",
      "In file included from /srv/conda/envs/notebook/include/xeus/xinterpreter.hpp:13:\n",
      "In file included from /usr/lib/gcc/x86_64-linux-gnu/7.5.0/../../../../include/c++/7.5.0/functional:49:\n",
      "/usr/lib/gcc/x86_64-linux-gnu/7.5.0/../../../../include/c++/7.5.0/bits/stl_function.h:386:20: error: invalid operands to binary expression ('const __cling_N52::HeapNode' and 'const __cling_N52::HeapNode')\n",
      "      { return __x < __y; }\n",
      "               ~~~ ^ ~~~\n",
      "/usr/lib/gcc/x86_64-linux-gnu/7.5.0/../../../../include/c++/7.5.0/bits/predefined_ops.h:143:23: note: in instantiation of member function 'std::less<__cling_N52::HeapNode>::operator()' requested here\n",
      "        { return bool(_M_comp(*__it1, *__it2)); }\n",
      "                      ^\n",
      "/usr/lib/gcc/x86_64-linux-gnu/7.5.0/../../../../include/c++/7.5.0/bits/stl_heap.h:222:8: note: in instantiation of function template specialization '__gnu_cxx::__ops::_Iter_comp_iter<std::less<__cling_N52::HeapNode> >::operator()<__gnu_cxx::__normal_iterator<__cling_N52::HeapNode *, std::vector<__cling_N52::HeapNode, std::allocator<__cling_N52::HeapNode> > >, __gnu_cxx::__normal_iterator<__cling_N52::HeapNode *, std::vector<__cling_N52::HeapNode, std::allocator<__cling_N52::HeapNode> > > >' requested here\n",
      "          if (__comp(__first + __secondChild,\n",
      "              ^\n",
      "/usr/lib/gcc/x86_64-linux-gnu/7.5.0/../../../../include/c++/7.5.0/bits/stl_heap.h:342:9: note: in instantiation of function template specialization 'std::__adjust_heap<__gnu_cxx::__normal_iterator<__cling_N52::HeapNode *, std::vector<__cling_N52::HeapNode, std::allocator<__cling_N52::HeapNode> > >, long, __cling_N52::HeapNode, __gnu_cxx::__ops::_Iter_comp_iter<std::less<__cling_N52::HeapNode> > >' requested here\n",
      "          std::__adjust_heap(__first, __parent, __len, _GLIBCXX_MOVE(__value),\n",
      "               ^\n",
      "/usr/lib/gcc/x86_64-linux-gnu/7.5.0/../../../../include/c++/7.5.0/bits/stl_heap.h:397:12: note: in instantiation of function template specialization 'std::__make_heap<__gnu_cxx::__normal_iterator<__cling_N52::HeapNode *, std::vector<__cling_N52::HeapNode, std::allocator<__cling_N52::HeapNode> > >, __gnu_cxx::__ops::_Iter_comp_iter<std::less<__cling_N52::HeapNode> > >' requested here\n",
      "      std::__make_heap(__first, __last, __cmp);\n",
      "           ^\n",
      "/usr/lib/gcc/x86_64-linux-gnu/7.5.0/../../../../include/c++/7.5.0/bits/stl_queue.h:479:14: note: in instantiation of function template specialization 'std::make_heap<__gnu_cxx::__normal_iterator<__cling_N52::HeapNode *, std::vector<__cling_N52::HeapNode, std::allocator<__cling_N52::HeapNode> > >, std::less<__cling_N52::HeapNode> >' requested here\n",
      "      { std::make_heap(c.begin(), c.end(), comp); }\n",
      "             ^\n",
      "input_line_9:9:31: note: in instantiation of member function 'std::priority_queue<__cling_N52::HeapNode, std::vector<__cling_N52::HeapNode, std::allocator<__cling_N52::HeapNode> >, std::less<__cling_N52::HeapNode> >::priority_queue' requested here\n",
      "std::priority_queue<HeapNode> q(std::less<HeapNode>(), nodes);\n",
      "                              ^\n"
     ]
    },
    {
     "ename": "Interpreter Error",
     "evalue": "",
     "output_type": "error",
     "traceback": [
      "Interpreter Error: "
     ]
    }
   ],
   "source": [
    "#include <string>\n",
    "#include <queue>\n",
    "#include <vector>\n",
    "#include <functional>\n",
    "#include <unordered_map>\n",
    "\n",
    "std::string message(R\"(In computer science and information theory, a Huffman code is a particular type of optimal prefix code that is commonly used for lossless data compression. The process of finding or using such a code proceeds by means of Huffman coding, an algorithm developed by David A. Huffman while he was a Sc.D. student at MIT, and published in the 1952 paper \"A Method for the Construction of Minimum-Redundancy Codes\".)\");\n",
    "\n",
    "std::unordered_map<char, int> freq;\n",
    "for (const char& c : message)\n",
    "    freq[c]++;\n",
    "\n",
    "std::vector<HeapNode> nodes;\n",
    "for (auto [letter, frequency] : freq)\n",
    "    nodes.push_back(HeapNode(frequency, letter));\n",
    "\n",
    "std::priority_queue<HeapNode> q(std::less<HeapNode>(), nodes);\n",
    "\n",
    "q"
   ]
  }
 ],
 "metadata": {
  "kernelspec": {
   "display_name": "C++17",
   "language": "C++17",
   "name": "xcpp17"
  },
  "language_info": {
   "codemirror_mode": "text/x-c++src",
   "file_extension": ".cpp",
   "mimetype": "text/x-c++src",
   "name": "c++",
   "version": "17"
  }
 },
 "nbformat": 4,
 "nbformat_minor": 4
}

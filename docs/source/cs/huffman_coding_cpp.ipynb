{
 "cells": [
  {
   "cell_type": "markdown",
   "metadata": {},
   "source": [
    "# Huffman Coding in C++\n",
    "\n",
    "* 結果是對的但有 memory leaking，只有 ```new``` 沒有 ```delete```，下面的 dtor 寫的不對\n",
    "* coding 結果和 python 不一樣，可能是因為 priority queue 處理同 freq 的 node 方法不同\n",
    "* ```original_message``` 是用來計算 frequency table 和建立 Huffman Tree 的，可以和要壓縮的字串不同"
   ]
  },
  {
   "cell_type": "code",
   "execution_count": 1,
   "metadata": {},
   "outputs": [],
   "source": [
    "#include <iostream>\n",
    "#include <string>\n",
    "#include <queue>       // std::priority_queue\n",
    "#include <vector>\n",
    "#include <utility>     // std::pair, std::swap\n",
    "#include <functional>  // std::greater\n",
    "#include <unordered_map>\n",
    "\n",
    "class HeapNode\n",
    "{\n",
    "public: \n",
    "    HeapNode* left = nullptr;\n",
    "    HeapNode* right = nullptr;\n",
    "    int freq;\n",
    "    char ch;\n",
    "    \n",
    "    HeapNode(int freq, char ch, HeapNode* left, HeapNode* right) \n",
    "        : freq(freq), ch(ch), left(left), right(right) {}\n",
    "    \n",
    "    HeapNode(const HeapNode& other) {  // copy ctor\n",
    "        HeapNode* p = clone(&other); \n",
    "        \n",
    "        this->freq = p->freq;\n",
    "        this->ch = p->ch;\n",
    "        this->left = p->left;\n",
    "        this->right = p->right;\n",
    "    }\n",
    " \n",
    "//     ~HeapNode() { \n",
    "//         deleteNode(this->left);\n",
    "//         deleteNode(this->right);\n",
    "//     }\n",
    " \n",
    "//     void deleteNode(const HeapNode* p) {\n",
    "//         if (p){\n",
    "//             deleteNode(p->left);\n",
    "//             deleteNode(p->right);\n",
    "//             delete p;\n",
    "//         }\n",
    "//     }\n",
    "    \n",
    "    HeapNode* clone(const HeapNode* other) {\n",
    "        HeapNode* p = new HeapNode(other->freq, other->ch, nullptr, nullptr);\n",
    "        \n",
    "        if (other->left)\n",
    "            p->left = clone(other->left);\n",
    "        if (other->right)\n",
    "            p->right = clone(other->right);\n",
    "        \n",
    "        return p;\n",
    "    }\n",
    "    \n",
    "    friend bool operator>(const HeapNode& a, const HeapNode& b) { \n",
    "        return a.freq > b.freq; \n",
    "    }\n",
    "};"
   ]
  },
  {
   "cell_type": "code",
   "execution_count": 2,
   "metadata": {},
   "outputs": [
    {
     "data": {
      "text/plain": [
       "\"In computer science and information theory, a Huffman code is a particular type of optimal prefix code that is commonly used for lossless data compression. The process of finding or using such a code proceeds by means of Huffman coding, an algorithm developed by David A. Huffman while he was a Sc.D. student at MIT, and published in the 1952 paper \"A Method for the Construction of Minimum-Redundancy Codes\".\""
      ]
     },
     "execution_count": 2,
     "metadata": {},
     "output_type": "execute_result"
    }
   ],
   "source": [
    "class HuffmanCoding{\n",
    "\n",
    "    std::string original_message;\n",
    "    std::vector<std::pair<std::string, std::string>> codeCharPairs;\n",
    "    const HeapNode* huffmanTree;\n",
    "    std::priority_queue<HeapNode, std::vector<HeapNode>, std::greater<HeapNode>>* q;\n",
    "    \n",
    "    void buildHuffmanTree()\n",
    "    {\n",
    "        std::unordered_map<char, int> freq;\n",
    "        for (const char& c : original_message)\n",
    "            freq[c]++;\n",
    "\n",
    "        std::vector<HeapNode> nodes;\n",
    "        for (const auto& pair : freq){\n",
    "            char letter = pair.first;\n",
    "            int frequency = pair.second;\n",
    "            nodes.push_back(HeapNode(frequency, letter, nullptr, nullptr));\n",
    "        }\n",
    "\n",
    "        q = new std::priority_queue<HeapNode, std::vector<HeapNode>, std::greater<HeapNode>>(std::greater<HeapNode>(), nodes);\n",
    "\n",
    "        while(q->size() > 1) \n",
    "        {\n",
    "            HeapNode* left = new HeapNode(q->top());\n",
    "            q->pop();\n",
    "            \n",
    "            HeapNode* right = new HeapNode(q->top());\n",
    "            q->pop();\n",
    "            \n",
    "            HeapNode* root = new HeapNode(left->freq + right->freq, '\\0', left, right);\n",
    "            q->push(*root);\n",
    "        }\n",
    "        huffmanTree = &(q->top());\n",
    "    }\n",
    "    \n",
    "    std::vector<std::pair<std::string, std::string>> getCodeCharPairs(const HeapNode* p)\n",
    "    {        \n",
    "        // if this weren't a member function it would have to be defined as an auto as the original signature wouldn't work in cling\n",
    "        // this is a known issue; see https://github.com/jupyter-xeus/xeus-cling/issues/40\n",
    "\n",
    "        if (p->ch)\n",
    "        {\n",
    "            std::string ch(1, p->ch);\n",
    "            return std::vector<std::pair<std::string, std::string>> {{ch, \"\"}};\n",
    "        }\n",
    "        else \n",
    "        {\n",
    "            std::vector<std::pair<std::string, std::string>> from_left = getCodeCharPairs(p->left);\n",
    "            std::vector<std::pair<std::string, std::string>> from_right = getCodeCharPairs(p->right);\n",
    "\n",
    "            for (auto& pair : from_left)\n",
    "                pair.second = '0' + pair.second;\n",
    "\n",
    "            for (auto& pair : from_right)\n",
    "                pair.second = '1' + pair.second;\n",
    "\n",
    "            from_left.insert(from_left.end(), from_right.begin(), from_right.end());\n",
    "            return from_left;\n",
    "        }\n",
    "    }\n",
    "\n",
    "public:\n",
    "    HuffmanCoding(const std::string& original_message) : original_message(original_message) {}\n",
    "    \n",
    "    std::string compress(const std::string& message){\n",
    "        if (!huffmanTree)\n",
    "            buildHuffmanTree();\n",
    "        if (codeCharPairs.size()==0)\n",
    "            codeCharPairs = getCodeCharPairs(huffmanTree);\n",
    "        \n",
    "        std::unordered_map<std::string, std::string> codeTable(codeCharPairs.begin(), codeCharPairs.end());\n",
    "        \n",
    "        std::string compressed;\n",
    "        for (const char& c : message)\n",
    "        {\n",
    "            std::string ch(1, c);\n",
    "            compressed += codeTable[ch];\n",
    "        }\n",
    "        return compressed;\n",
    "    }\n",
    "    std::string decompress(const std::string& compressed){\n",
    "        if (!huffmanTree)\n",
    "            buildHuffmanTree();\n",
    "        if (codeCharPairs.size()==0)\n",
    "            codeCharPairs = getCodeCharPairs(huffmanTree);\n",
    "\n",
    "        for (auto& pair : codeCharPairs)\n",
    "            std::swap(pair.first, pair.second);\n",
    "\n",
    "        std::unordered_map<std::string, std::string> charTable(codeCharPairs.begin(), codeCharPairs.end());\n",
    "\n",
    "        std::string::const_iterator it = compressed.begin();\n",
    "        std::string code, message;\n",
    "\n",
    "        while (it!=compressed.end())\n",
    "        {\n",
    "            code += *it;\n",
    "            if (charTable.find(code) != charTable.end()){\n",
    "                message += charTable[code];\n",
    "                code = \"\";\n",
    "            }\n",
    "            it++;\n",
    "        }\n",
    "        return message;\n",
    "    }\n",
    "};\n",
    "\n",
    "std::string original_message(R\"(In computer science and information theory, a Huffman code is a particular type of optimal prefix code that is commonly used for lossless data compression. The process of finding or using such a code proceeds by means of Huffman coding, an algorithm developed by David A. Huffman while he was a Sc.D. student at MIT, and published in the 1952 paper \"A Method for the Construction of Minimum-Redundancy Codes\".)\");\n",
    "\n",
    "original_message"
   ]
  },
  {
   "cell_type": "code",
   "execution_count": 3,
   "metadata": {},
   "outputs": [
    {
     "data": {
      "text/plain": [
       "\"110110000110111110101010100011000010010000111001011011100111101001001100011011010110011101110110001011101000110101111010101101000101110001010010100110111000101010110010101011001011010011001110111111010111010010101111011110001011101101111101010100010110011101000011111011111110000011110110000101001101010010000010111101101110001010110100001100111101010111111101010000000101001000101110000111110000101101100101110100100111001111110101010001011001110001010100111000111101000011111110101010100011000110100110000010101101111001000111100001011110111101010110111000011010001100110000111000011001111100100111000101111111101010101000110000101101100001100110100101001100000011110000000010101100111100001011010101101011000011001111110101011111110111010001100010010001101101110111101010110111100100011010001101101110111001110010110100101011101111111101010100010110011110000101101010110101100110000100011111100110101011011110001110001110110001111110101011111101011101001010111101111000101110110111110101010001001000110110111010011001110111011011101110000111011101010101100100000101010100011110010110011011110110000001101010000110000101111001101010110111110110100111110111100100001011110011110000001111010111010010101111011110001011101101110000001010100100000011100111010101100111000000101110011111011111110011101011010000001110110100000011110011000110010001011000110000111101110001111010111111011000000000010011001110111011000101111000010010100110100001010000110101011000010111010001101110001010101100111110110010100111011100111000100111111111100000111100001100101101111101111110011110111010111111000001010101010001011110111101010110111000101010110011111011011101001100011000110110100101101000010100101001101111010101111110101111010001100100100011001010001110110011100111110110000101001001100010011101101101001011011111011011101000101100001111011111000001\""
      ]
     },
     "execution_count": 3,
     "metadata": {},
     "output_type": "execute_result"
    }
   ],
   "source": [
    "HuffmanCoding hc(original_message);\n",
    "\n",
    "std::string message = original_message;\n",
    "std::string compressed = hc.compress(message);\n",
    "compressed"
   ]
  },
  {
   "cell_type": "code",
   "execution_count": 4,
   "metadata": {},
   "outputs": [
    {
     "data": {
      "text/plain": [
       "\"In computer science and information theory, a Huffman code is a particular type of optimal prefix code that is commonly used for lossless data compression. The process of finding or using such a code proceeds by means of Huffman coding, an algorithm developed by David A. Huffman while he was a Sc.D. student at MIT, and published in the 1952 paper \"A Method for the Construction of Minimum-Redundancy Codes\".\""
      ]
     },
     "execution_count": 4,
     "metadata": {},
     "output_type": "execute_result"
    }
   ],
   "source": [
    "std::string recovered = hc.decompress(compressed);\n",
    "recovered"
   ]
  },
  {
   "cell_type": "code",
   "execution_count": 5,
   "metadata": {},
   "outputs": [
    {
     "data": {
      "text/plain": [
       "true"
      ]
     },
     "execution_count": 5,
     "metadata": {},
     "output_type": "execute_result"
    }
   ],
   "source": [
    "(recovered == message)"
   ]
  }
 ],
 "metadata": {
  "kernelspec": {
   "display_name": "C++17",
   "language": "C++17",
   "name": "xcpp17"
  },
  "language_info": {
   "codemirror_mode": "text/x-c++src",
   "file_extension": ".cpp",
   "mimetype": "text/x-c++src",
   "name": "c++",
   "version": "17"
  }
 },
 "nbformat": 4,
 "nbformat_minor": 4
}

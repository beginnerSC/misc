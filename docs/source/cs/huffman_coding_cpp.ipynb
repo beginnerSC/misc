{
 "cells": [
  {
   "cell_type": "markdown",
   "metadata": {},
   "source": [
    "# Huffman Coding"
   ]
  },
  {
   "cell_type": "code",
   "execution_count": 1,
   "metadata": {},
   "outputs": [
    {
     "name": "stderr",
     "output_type": "stream",
     "text": [
      "input_line_8:25:31: error: no matching constructor for initialization of 'std::priority_queue<HeapNode>'\n",
      "std::priority_queue<HeapNode> q(std::greater<HeapNode>(), nodes);\n",
      "                              ^ ~~~~~~~~~~~~~~~~~~~~~~~~~~~~~~~\n",
      "/usr/lib/gcc/x86_64-linux-gnu/7.5.0/../../../../include/c++/7.5.0/bits/stl_queue.h:477:7: note: candidate constructor not viable: no known conversion from 'std::greater<HeapNode>' to 'const std::less<__cling_N52::HeapNode>' for 1st argument\n",
      "      priority_queue(const _Compare& __x, const _Sequence& __s)\n",
      "      ^\n",
      "/usr/lib/gcc/x86_64-linux-gnu/7.5.0/../../../../include/c++/7.5.0/bits/stl_queue.h:482:7: note: candidate constructor not viable: no known conversion from 'std::greater<HeapNode>' to 'const std::less<__cling_N52::HeapNode>' for 1st argument\n",
      "      priority_queue(const _Compare& __x, _Sequence&& __s = _Sequence())\n",
      "      ^\n",
      "/usr/lib/gcc/x86_64-linux-gnu/7.5.0/../../../../include/c++/7.5.0/bits/stl_queue.h:552:2: note: candidate template ignored: deduced conflicting types for parameter '_InputIterator' ('std::greater<__cling_N52::HeapNode>' vs. 'std::vector<__cling_N52::HeapNode, std::allocator<__cling_N52::HeapNode> >')\n",
      "        priority_queue(_InputIterator __first, _InputIterator __last,\n",
      "        ^\n",
      "/usr/lib/gcc/x86_64-linux-gnu/7.5.0/../../../../include/c++/7.5.0/bits/stl_queue.h:492:2: note: candidate template ignored: requirement 'uses_allocator<vector<HeapNode, allocator<HeapNode> >, vector<HeapNode, allocator<HeapNode> > >::value' was not satisfied [with _Alloc = std::vector<__cling_N52::HeapNode, std::allocator<__cling_N52::HeapNode> >]\n",
      "        priority_queue(const _Compare& __x, const _Alloc& __a)\n",
      "        ^\n",
      "/usr/lib/gcc/x86_64-linux-gnu/7.5.0/../../../../include/c++/7.5.0/bits/stl_queue.h:505:2: note: candidate template ignored: requirement 'uses_allocator<vector<HeapNode, allocator<HeapNode> >, vector<HeapNode, allocator<HeapNode> > >::value' was not satisfied [with _Alloc = std::vector<__cling_N52::HeapNode, std::allocator<__cling_N52::HeapNode> >]\n",
      "        priority_queue(const priority_queue& __q, const _Alloc& __a)\n",
      "        ^\n",
      "/usr/lib/gcc/x86_64-linux-gnu/7.5.0/../../../../include/c++/7.5.0/bits/stl_queue.h:509:2: note: candidate template ignored: requirement 'uses_allocator<vector<HeapNode, allocator<HeapNode> >, vector<HeapNode, allocator<HeapNode> > >::value' was not satisfied [with _Alloc = std::vector<__cling_N52::HeapNode, std::allocator<__cling_N52::HeapNode> >]\n",
      "        priority_queue(priority_queue&& __q, const _Alloc& __a)\n",
      "        ^\n",
      "/usr/lib/gcc/x86_64-linux-gnu/7.5.0/../../../../include/c++/7.5.0/bits/stl_queue.h:473:2: note: candidate constructor template not viable: requires 0 arguments, but 2 were provided\n",
      "        priority_queue()\n",
      "        ^\n",
      "/usr/lib/gcc/x86_64-linux-gnu/7.5.0/../../../../include/c++/7.5.0/bits/stl_queue.h:488:2: note: candidate constructor template not viable: requires single argument '__a', but 2 arguments were provided\n",
      "        priority_queue(const _Alloc& __a)\n",
      "        ^\n",
      "/usr/lib/gcc/x86_64-linux-gnu/7.5.0/../../../../include/c++/7.5.0/bits/stl_queue.h:496:2: note: candidate constructor template not viable: requires 3 arguments, but 2 were provided\n",
      "        priority_queue(const _Compare& __x, const _Sequence& __c,\n",
      "        ^\n",
      "/usr/lib/gcc/x86_64-linux-gnu/7.5.0/../../../../include/c++/7.5.0/bits/stl_queue.h:501:2: note: candidate constructor template not viable: requires 3 arguments, but 2 were provided\n",
      "        priority_queue(const _Compare& __x, _Sequence&& __c, const _Alloc& __a)\n",
      "        ^\n",
      "/usr/lib/gcc/x86_64-linux-gnu/7.5.0/../../../../include/c++/7.5.0/bits/stl_queue.h:541:2: note: candidate constructor template not viable: requires 4 arguments, but 2 were provided\n",
      "        priority_queue(_InputIterator __first, _InputIterator __last,\n",
      "        ^\n",
      "/usr/lib/gcc/x86_64-linux-gnu/7.5.0/../../../../include/c++/7.5.0/bits/stl_queue.h:423:11: note: candidate constructor (the implicit copy constructor) not viable: requires 1 argument, but 2 were provided\n",
      "    class priority_queue\n",
      "          ^\n",
      "/usr/lib/gcc/x86_64-linux-gnu/7.5.0/../../../../include/c++/7.5.0/bits/stl_queue.h:423:11: note: candidate constructor (the implicit move constructor) not viable: requires 1 argument, but 2 were provided\n"
     ]
    },
    {
     "ename": "Interpreter Error",
     "evalue": "",
     "output_type": "error",
     "traceback": [
      "Interpreter Error: "
     ]
    }
   ],
   "source": [
    "#include <iostream>\n",
    "#include <string>\n",
    "#include <queue>       // std::priority_queue\n",
    "#include <vector>\n",
    "#include <functional>  // std::greater\n",
    "#include <unordered_map>\n",
    "\n",
    "\n",
    "class HeapNode\n",
    "{\n",
    "    HeapNode* left = nullptr;\n",
    "    HeapNode* right = nullptr;\n",
    "    double freq;\n",
    "    char ch;\n",
    "\n",
    "public: \n",
    "    HeapNode(const double& freq, const char& ch, HeapNode* left=nullptr, HeapNode* right=nullptr) \n",
    "        : freq(freq), ch(ch), left(left), right(right) {}\n",
    "    \n",
    "    void print() const { std::cout << \"(\" << ch << \", \" << freq << \")\" << std::endl; }\n",
    "    \n",
    "    friend bool operator<(const HeapNode& a, const HeapNode& b) { \n",
    "        return a.freq < b.freq; \n",
    "    }\n",
    "};\n",
    "\n",
    "std::string message(R\"(In computer science and information theory, a Huffman code is a particular type of optimal prefix code that is commonly used for lossless data compression. The process of finding or using such a code proceeds by means of Huffman coding, an algorithm developed by David A. Huffman while he was a Sc.D. student at MIT, and published in the 1952 paper \"A Method for the Construction of Minimum-Redundancy Codes\".)\");\n",
    "\n",
    "std::unordered_map<char, int> freq;\n",
    "for (const char& c : message)\n",
    "    freq[c]++;\n",
    "\n",
    "std::vector<HeapNode> nodes;\n",
    "for (auto [letter, frequency] : freq)\n",
    "    nodes.push_back(HeapNode(frequency, letter));\n",
    "\n",
    "std::priority_queue<HeapNode> q(std::less<HeapNode>(), nodes);\n",
    "\n",
    "while(!q.empty()) \n",
    "{\n",
    "    const auto& p = q.top();\n",
    "    p.print();\n",
    "    q.pop();\n",
    "}\n"
   ]
  }
 ],
 "metadata": {
  "kernelspec": {
   "display_name": "C++17",
   "language": "C++17",
   "name": "xcpp17"
  },
  "language_info": {
   "codemirror_mode": "text/x-c++src",
   "file_extension": ".cpp",
   "mimetype": "text/x-c++src",
   "name": "c++",
   "version": "17"
  }
 },
 "nbformat": 4,
 "nbformat_minor": 4
}

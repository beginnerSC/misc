{
 "cells": [
  {
   "cell_type": "markdown",
   "metadata": {},
   "source": [
    "# Huffman Coding"
   ]
  },
  {
   "cell_type": "code",
   "execution_count": 1,
   "metadata": {},
   "outputs": [],
   "source": [
    "#include <iostream>\n",
    "#include <string>\n",
    "#include <queue>       // std::priority_queue\n",
    "#include <vector>\n",
    "#include <functional>  // std::greater\n",
    "#include <unordered_map>\n",
    "#include <vector>\n",
    "\n",
    "class HeapNode\n",
    "{\n",
    "public: \n",
    "    const HeapNode* left = nullptr;\n",
    "    const HeapNode* right = nullptr;\n",
    "    int freq;\n",
    "    char ch;\n",
    "    \n",
    "    HeapNode(int freq, char ch, const HeapNode* left, const HeapNode* right) \n",
    "        : freq(freq), ch(ch), left(left), right(right) {}\n",
    "    \n",
    "    void print() const { \n",
    "        std::cout << \"(\" << ch << \", \" << freq << \")\" << std::endl; \n",
    "    }\n",
    "    friend bool operator>(const HeapNode& a, const HeapNode& b) { \n",
    "        return a.freq > b.freq; \n",
    "    }\n",
    "};\n",
    "\n",
    "std::string message(R\"(In computer science and information theory, a Huffman code is a particular type of optimal prefix code that is commonly used for lossless data compression. The process of finding or using such a code proceeds by means of Huffman coding, an algorithm developed by David A. Huffman while he was a Sc.D. student at MIT, and published in the 1952 paper \"A Method for the Construction of Minimum-Redundancy Codes\".)\");\n",
    "\n",
    "std::unordered_map<char, int> freq;\n",
    "for (const char& c : message)\n",
    "    freq[c]++;\n",
    "\n",
    "std::vector<HeapNode> nodes;\n",
    "for (auto tuple : freq){\n",
    "    char letter = tuple.first;\n",
    "    int frequency = tuple.second;\n",
    "    nodes.push_back(HeapNode(frequency, letter, nullptr, nullptr));\n",
    "}\n",
    "\n",
    "std::priority_queue<HeapNode, std::vector<HeapNode>, std::greater<HeapNode>> q(std::greater<HeapNode>(), nodes);\n",
    "\n",
    "while(q.size() > 1) \n",
    "{\n",
    "    const HeapNode* left = &(q.top());\n",
    "    q.pop();\n",
    "    \n",
    "    const HeapNode* right = &(q.top());\n",
    "    q.pop();\n",
    "    \n",
    "    q.push(HeapNode(left->freq + right->freq, '\\0', left, right));\n",
    "}"
   ]
  }
 ],
 "metadata": {
  "kernelspec": {
   "display_name": "C++17",
   "language": "C++17",
   "name": "xcpp17"
  },
  "language_info": {
   "codemirror_mode": "text/x-c++src",
   "file_extension": ".cpp",
   "mimetype": "text/x-c++src",
   "name": "c++",
   "version": "17"
  }
 },
 "nbformat": 4,
 "nbformat_minor": 4
}

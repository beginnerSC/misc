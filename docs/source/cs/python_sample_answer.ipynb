{
 "cells": [
  {
   "cell_type": "markdown",
   "metadata": {},
   "source": [
    "# Python Samle Scripts -- Answer Sheet\n",
    "\n",
    "* 每次把下面所有 cell 砍掉重寫一次然後 diff against head"
   ]
  },
  {
   "cell_type": "code",
   "execution_count": 31,
   "metadata": {},
   "outputs": [
    {
     "name": "stdout",
     "output_type": "stream",
     "text": [
      "[Errno 2] No such file or directory: 'circles_.py'\n",
      "Done!\n"
     ]
    }
   ],
   "source": [
    "# Exception\n",
    "\n",
    "try: \n",
    "    f = open('circles_.py')\n",
    "except FileNotFoundError as e:\n",
    "    print(e)\n",
    "else:\n",
    "    print(f.readline())\n",
    "    f.close()\n",
    "finally:\n",
    "    print('Done!')"
   ]
  },
  {
   "cell_type": "code",
   "execution_count": 2,
   "metadata": {},
   "outputs": [],
   "source": [
    "# circles.py\n",
    "\n",
    "from math import pi\n",
    "\n",
    "def circle_area(r):\n",
    "    if type(r) not in [float, int]:\n",
    "        raise TypeError('radius must be int or float')\n",
    "    if r < 0:\n",
    "        raise ValueError('radius must be positive.')\n",
    "    return pi*(r**2)    "
   ]
  },
  {
   "cell_type": "code",
   "execution_count": 38,
   "metadata": {},
   "outputs": [],
   "source": [
    "# test_circles.py\n",
    "\n",
    "import unittest\n",
    "from math import pi\n",
    "\n",
    "class TestCircleArea(unittest.TestCase):\n",
    "    def test_area(self):\n",
    "        self.assertAlmostEqual(circle_area(1), pi)\n",
    "        self.assertAlmostEqual(circle_area(0), 0)\n",
    "        self.assertAlmostEqual(circle_area(2.1), pi*(2.1**2))\n",
    "\n",
    "    def test_values(self):\n",
    "        with self.assertRaises(ValueError):                 # 寫法二，可以正常呼叫函數\n",
    "            circle_area(-2)\n",
    "\n",
    "    def test_types(self):\n",
    "        with self.assertRaises(TypeError):\n",
    "            circle_area(3+5j)\n",
    "            circle_area(True)\n",
    "            circle_area(\"radius\")"
   ]
  },
  {
   "cell_type": "code",
   "execution_count": 7,
   "metadata": {},
   "outputs": [
    {
     "name": "stdout",
     "output_type": "stream",
     "text": [
      "My name is Corey\n",
      "My name is Wade Wilson\n",
      "And I'm Deadpool\n"
     ]
    }
   ],
   "source": [
    "# OOP\n",
    "\n",
    "class Person:\n",
    "    def __init__(self, name):\n",
    "        self.name = name\n",
    "        \n",
    "    def reveal_id(self):\n",
    "        print(f\"My name is {self.name}\")\n",
    "\n",
    "class SuperHero(Person):\n",
    "    def __init__(self, name, hero_name):\n",
    "        super().__init__(name)\n",
    "        self.hero_name = hero_name\n",
    "        \n",
    "    def reveal_id(self):\n",
    "        super().reveal_id()\n",
    "        print(f\"And I'm {self.hero_name}\")\n",
    "\n",
    "corey = Person('Corey')\n",
    "wade = SuperHero('Wade Wilson', 'Deadpool')\n",
    "\n",
    "corey.reveal_id()\n",
    "wade.reveal_id()"
   ]
  },
  {
   "cell_type": "code",
   "execution_count": 8,
   "metadata": {},
   "outputs": [
    {
     "data": {
      "text/plain": [
       "[2, 4, 8, 16, 32, 64, 128, 256, 512]"
      ]
     },
     "execution_count": 8,
     "metadata": {},
     "output_type": "execute_result"
    }
   ],
   "source": [
    "# Generator\n",
    "\n",
    "def pow2():\n",
    "    n = 2\n",
    "    while n < 1000:\n",
    "        yield n\n",
    "        n *= 2\n",
    "\n",
    "[n for n in pow2()]"
   ]
  },
  {
   "cell_type": "code",
   "execution_count": 20,
   "metadata": {},
   "outputs": [
    {
     "name": "stdout",
     "output_type": "stream",
     "text": [
      "0.5488135039273248\n"
     ]
    },
    {
     "data": {
      "text/plain": [
       "0.8296626092208376"
      ]
     },
     "execution_count": 20,
     "metadata": {},
     "output_type": "execute_result"
    }
   ],
   "source": [
    "# Decorator no argument\n",
    "\n",
    "import numpy as np\n",
    "import functools\n",
    "\n",
    "def fix_seed(fnc):\n",
    "    @functools.wraps(fnc)\n",
    "    def wrapper_fix_seed(*arg, **kwarg):\n",
    "        np.random.seed(0)\n",
    "        res = fnc(*arg, **kwarg)\n",
    "        np.random.seed()\n",
    "        return res\n",
    "    return wrapper_fix_seed\n",
    "\n",
    "@fix_seed\n",
    "def print_rand():\n",
    "    print(np.random.uniform())\n",
    "\n",
    "print_rand()\n",
    "np.random.uniform()"
   ]
  },
  {
   "cell_type": "code",
   "execution_count": 37,
   "metadata": {},
   "outputs": [
    {
     "name": "stdout",
     "output_type": "stream",
     "text": [
      "0.5434049417909654\n"
     ]
    },
    {
     "data": {
      "text/plain": [
       "0.4658436044294738"
      ]
     },
     "execution_count": 37,
     "metadata": {},
     "output_type": "execute_result"
    }
   ],
   "source": [
    "# Decorator with argument\n",
    "\n",
    "import numpy as np\n",
    "import functools\n",
    "\n",
    "def fix_seed(seed):\n",
    "    def decorator_fix_seed(fnc):\n",
    "        @functools.wraps(fnc)\n",
    "        def wrapper_fix_seed(*arg, **kwarg):\n",
    "            np.random.seed(seed)\n",
    "            res = fnc(*arg, **kwarg)\n",
    "            np.random.seed()\n",
    "            return res\n",
    "        return wrapper_fix_seed\n",
    "    return decorator_fix_seed\n",
    "\n",
    "@fix_seed(100)\n",
    "def print_rand():\n",
    "    print(np.random.uniform())\n",
    "\n",
    "print_rand()\n",
    "np.random.uniform()"
   ]
  }
 ],
 "metadata": {
  "kernelspec": {
   "display_name": "Python 3",
   "language": "python",
   "name": "python3"
  },
  "language_info": {
   "codemirror_mode": {
    "name": "ipython",
    "version": 3
   },
   "file_extension": ".py",
   "mimetype": "text/x-python",
   "name": "python",
   "nbconvert_exporter": "python",
   "pygments_lexer": "ipython3",
   "version": "3.7.8"
  }
 },
 "nbformat": 4,
 "nbformat_minor": 4
}

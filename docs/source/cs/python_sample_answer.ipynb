{
 "cells": [
  {
   "cell_type": "markdown",
   "metadata": {},
   "source": [
    "# Python Samle Scripts -- Answer Sheet\n",
    "\n",
    "* 每次把下面所有 cell 砍掉重寫一次然後 diff against head"
   ]
  },
  {
   "cell_type": "code",
   "execution_count": 8,
   "metadata": {},
   "outputs": [
    {
     "name": "stdout",
     "output_type": "stream",
     "text": [
      "0.5488135039273248\n",
      "0.8257180778110472\n"
     ]
    }
   ],
   "source": [
    "import numpy as np\n",
    "\n",
    "class fix_seed:\n",
    "    def __init__(self, seed):\n",
    "        self.seed = seed\n",
    "    \n",
    "    def __enter__(self):\n",
    "        np.random.seed(self.seed)\n",
    "    \n",
    "    def __exit__(self, exc_type=None, exc_value=None, traceback=None):\n",
    "        np.random.seed()\n",
    "        \n",
    "with fix_seed(0):\n",
    "    print(np.random.uniform())\n",
    "print(np.random.uniform())"
   ]
  },
  {
   "cell_type": "code",
   "execution_count": 9,
   "metadata": {},
   "outputs": [
    {
     "name": "stdout",
     "output_type": "stream",
     "text": [
      "[Errno 2] No such file or directory: 'circles_.py'\n",
      "Done!\n"
     ]
    }
   ],
   "source": [
    "try:\n",
    "    file = open('circles_.py')\n",
    "except FileNotFoundError as e:\n",
    "    print(e)\n",
    "else:\n",
    "    print(file.readline())\n",
    "    file.close()\n",
    "finally:\n",
    "    print('Done!')"
   ]
  },
  {
   "cell_type": "code",
   "execution_count": 10,
   "metadata": {},
   "outputs": [],
   "source": [
    "from math import pi\n",
    "import unittest\n",
    "\n",
    "def circle_area(r):\n",
    "    if type(r) not in [int, float]:\n",
    "        raise TypeError('Radius must be int or float')        \n",
    "    if r < 0:\n",
    "        raise ValueError('Radius must be positive')\n",
    "\n",
    "    return pi*(r**2)\n",
    "\n",
    "class TestCircleArea(unittest.TestCase):\n",
    "    def test_areas(self):\n",
    "        self.assertAlmostEqual(circle_area(1), pi)\n",
    "        self.assertAlmostEqual(circle_area(0), 0)\n",
    "        self.assertAlmostEqual(circle_area(2.1), pi*(2.1**2))\n",
    "        \n",
    "    def test_values(self):\n",
    "        with self.assertRaises(ValueError):\n",
    "            circle_area(-2)\n",
    "        \n",
    "    def test_types(self):\n",
    "        with self.assertRaises(TypeError):\n",
    "            circle_area(3+5j)\n",
    "            circle_area(True)\n",
    "            circle_area(\"radius\")"
   ]
  },
  {
   "cell_type": "code",
   "execution_count": 11,
   "metadata": {},
   "outputs": [
    {
     "name": "stdout",
     "output_type": "stream",
     "text": [
      "My name is Corey\n",
      "My name is Wade Wilson\n",
      "And I'm Deadpool\n"
     ]
    }
   ],
   "source": [
    "class Person:\n",
    "    def __init__(self, name):\n",
    "        self.name = name\n",
    "    \n",
    "    def reveal_id(self):\n",
    "        print(f'My name is {self.name}')\n",
    "        \n",
    "class SuperHero(Person):\n",
    "    def __init__(self, name, hero_name):\n",
    "        super().__init__(name)\n",
    "        self.hero_name = hero_name\n",
    "    \n",
    "    def reveal_id(self):\n",
    "        super().reveal_id()\n",
    "        print(f\"And I'm {self.hero_name}\")\n",
    "        \n",
    "corey = Person('Corey')\n",
    "wade = SuperHero('Wade Wilson', 'Deadpool')\n",
    "\n",
    "corey.reveal_id()\n",
    "wade.reveal_id()"
   ]
  },
  {
   "cell_type": "code",
   "execution_count": 12,
   "metadata": {},
   "outputs": [
    {
     "name": "stdout",
     "output_type": "stream",
     "text": [
      "[2, 4, 8, 16, 32, 64, 128, 256, 512]\n"
     ]
    }
   ],
   "source": [
    "def pow2():\n",
    "    n = 2\n",
    "    while n < 1000:\n",
    "        yield n\n",
    "        n *= 2\n",
    "        \n",
    "list(pow2())"
   ]
  },
  {
   "cell_type": "code",
   "execution_count": 20,
   "metadata": {},
   "outputs": [
    {
     "name": "stdout",
     "output_type": "stream",
     "text": [
      "0.5488135039273248\n",
      "0.4482060274743239\n"
     ]
    }
   ],
   "source": [
    "import numpy as np\n",
    "import functools\n",
    "\n",
    "def fix_seed(fnc):\n",
    "    @functools.wraps(fnc)\n",
    "    def wrap_fix_seed(*args, **kwargs):\n",
    "        np.random.seed(0)\n",
    "        res = fnc(*args, **kwargs)\n",
    "        np.random.seed()\n",
    "        return res\n",
    "    return wrap_fix_seed\n",
    "\n",
    "@fix_seed\n",
    "def print_rand():\n",
    "    print(np.random.uniform())\n",
    "\n",
    "print_rand()\n",
    "print(np.random.uniform())"
   ]
  },
  {
   "cell_type": "code",
   "execution_count": 27,
   "metadata": {},
   "outputs": [
    {
     "name": "stdout",
     "output_type": "stream",
     "text": [
      "0.5434049417909654\n",
      "0.8941881753283919\n"
     ]
    }
   ],
   "source": [
    "import numpy as np\n",
    "import functools\n",
    "\n",
    "def fix_seed(seed=0):\n",
    "    def decorator_fix_seed(fnc):\n",
    "        @functools.wraps(fnc)\n",
    "        def wrap_fix_seed(*args, **kwargs):\n",
    "            np.random.seed(seed)\n",
    "            res = fnc(*args, **kwargs)\n",
    "            np.random.seed()\n",
    "            return res\n",
    "        return wrap_fix_seed\n",
    "    return decorator_fix_seed\n",
    "\n",
    "@fix_seed(seed=100)\n",
    "def print_rand():\n",
    "    print(np.random.uniform())\n",
    "\n",
    "print_rand()\n",
    "print(np.random.uniform())"
   ]
  }
 ],
 "metadata": {
  "kernelspec": {
   "display_name": "Python 3",
   "language": "python",
   "name": "python3"
  },
  "language_info": {
   "codemirror_mode": {
    "name": "ipython",
    "version": 3
   },
   "file_extension": ".py",
   "mimetype": "text/x-python",
   "name": "python",
   "nbconvert_exporter": "python",
   "pygments_lexer": "ipython3",
   "version": "3.8.5"
  }
 },
 "nbformat": 4,
 "nbformat_minor": 4
}

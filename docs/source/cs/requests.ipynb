{
 "cells": [
  {
   "cell_type": "markdown",
   "metadata": {},
   "source": [
    "# Python requests\n",
    "\n",
    "* Number of countries that have substring 'un' in their names and have population over 100,090.\n",
    "* 實測 HR 沒有 pandas 只有 requests"
   ]
  },
  {
   "cell_type": "code",
   "execution_count": 3,
   "metadata": {},
   "outputs": [
    {
     "data": {
      "text/plain": [
       "8"
      ]
     },
     "execution_count": 3,
     "metadata": {},
     "output_type": "execute_result"
    }
   ],
   "source": [
    "import requests\n",
    "import numpy as np\n",
    "\n",
    "# 還要寫 standard input？\n",
    "\n",
    "s = 'un'\n",
    "p = 100090\n",
    "\n",
    "def getCountries(s, p):\n",
    "    url = r'https://jsonmock.hackerrank.com/api/countries/search'\n",
    "    payload = {\n",
    "        'name' : s, \n",
    "        'page' : 1\n",
    "    }    \n",
    "    resp = requests.get(url, params=payload).json()\n",
    "    total_pages = resp['total_pages']\n",
    "    \n",
    "    countries = []\n",
    "    for i in range(1, total_pages+1):\n",
    "        payload['page'] = i\n",
    "        resp = requests.get(url, params=payload).json()\n",
    "        countries += resp['data']\n",
    "        \n",
    "    count = sum([1 for country in countries if country['population'] > p])\n",
    "    \n",
    "    return count\n",
    "\n",
    "getCountries(s, p)"
   ]
  }
 ],
 "metadata": {
  "kernelspec": {
   "display_name": "Python 3",
   "language": "python",
   "name": "python3"
  },
  "language_info": {
   "codemirror_mode": {
    "name": "ipython",
    "version": 3
   },
   "file_extension": ".py",
   "mimetype": "text/x-python",
   "name": "python",
   "nbconvert_exporter": "python",
   "pygments_lexer": "ipython3",
   "version": "3.7.8"
  }
 },
 "nbformat": 4,
 "nbformat_minor": 4
}

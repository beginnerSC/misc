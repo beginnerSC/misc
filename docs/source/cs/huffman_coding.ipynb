{
 "cells": [
  {
   "cell_type": "markdown",
   "metadata": {},
   "source": [
    "# Huffman Coding"
   ]
  },
  {
   "cell_type": "code",
   "execution_count": 1,
   "metadata": {},
   "outputs": [
    {
     "data": {
      "text/plain": [
       "True"
      ]
     },
     "execution_count": 1,
     "metadata": {},
     "output_type": "execute_result"
    }
   ],
   "source": [
    "'''\n",
    "直接用 HeapNode 當 Huffman Tree 的 Node。HeapNode 裡的 left 和 right 和 heap 無關\n",
    "'''\n",
    "\n",
    "from pandas import DataFrame\n",
    "import heapq\n",
    "\n",
    "class HeapNode:\n",
    "    def __init__(self, freq, char=None, left=None, right=None):\n",
    "        self.char = char\n",
    "        self.freq = freq\n",
    "        \n",
    "        # Children of the Huffman Tree, not the heap\n",
    "        self.left = left\n",
    "        self.right = right\n",
    "        \n",
    "    def __lt__(self, other):\n",
    "        return self.freq < other.freq\n",
    "    \n",
    "    def __repr__(self):\n",
    "        return f'({self.char}, {self.freq})'\n",
    "\n",
    "    \n",
    "class HuffmanCoding:\n",
    "    \n",
    "    def __init__(self, message):\n",
    "        self.message = message\n",
    "        self.huffmanTree = None\n",
    "        \n",
    "    def _buildHuffmanTree(self):\n",
    "        freqTable = DataFrame(list(self.message), columns=['char']).groupby('char').size().to_frame(name='freq').reset_index()\n",
    "        nodes = [HeapNode(char=char, freq=freq) for char, freq in freqTable.values]\n",
    "        h = []\n",
    "        for node in nodes:\n",
    "            heapq.heappush(h, node)\n",
    "\n",
    "        while len(h) > 1:\n",
    "            left = heapq.heappop(h)\n",
    "            right = heapq.heappop(h)\n",
    "            heapq.heappush(h, HeapNode(freq=left.freq+right.freq, left=left, right=right))\n",
    "            \n",
    "        return h[0]\n",
    "\n",
    "    def codeCharPairs(self, root):\n",
    "        '''\n",
    "        return a list of tuples (code, char)\n",
    "        '''\n",
    "        if root.char:\n",
    "            return [('', root.char)]\n",
    "        else:\n",
    "            L = [('0'+code, char) for code, char in self.codeCharPairs(root.left)]\n",
    "            R = [('1'+code, char) for code, char in self.codeCharPairs(root.right)]\n",
    "            return L+R\n",
    "\n",
    "    def compress(self, message):\n",
    "        self.huffmanTree = self.huffmanTree or self._buildHuffmanTree()\n",
    "        codeTable = {char: code for code, char in self.codeCharPairs(self.huffmanTree)}\n",
    "        return ''.join([codeTable[char] for char in message])\n",
    "\n",
    "    def decompress(self, compressed):\n",
    "        self.huffmanTree = self.huffmanTree or self._buildHuffmanTree()\n",
    "        codeTable = {code: char for code, char in self.codeCharPairs(self.huffmanTree)}\n",
    "        message = ''\n",
    "        code = ''\n",
    "        for digit in compressed:\n",
    "            code += digit\n",
    "            if code in codeTable:\n",
    "                message += codeTable[code]\n",
    "                code = ''\n",
    "\n",
    "        return message\n",
    "    \n",
    "message = r'In computer science and information theory, a Huffman code is a particular type of optimal prefix code that is commonly used for lossless data compression. The process of finding or using such a code proceeds by means of Huffman coding, an algorithm developed by David A. Huffman while he was a Sc.D. student at MIT, and published in the 1952 paper \"A Method for the Construction of Minimum-Redundancy Codes\".'\n",
    "\n",
    "hc = HuffmanCoding(message)\n",
    "compressed = hc.compress(message)\n",
    "message == hc.decompress(compressed)"
   ]
  }
 ],
 "metadata": {
  "kernelspec": {
   "display_name": "Python 3",
   "language": "python",
   "name": "python3"
  },
  "language_info": {
   "codemirror_mode": {
    "name": "ipython",
    "version": 3
   },
   "file_extension": ".py",
   "mimetype": "text/x-python",
   "name": "python",
   "nbconvert_exporter": "python",
   "pygments_lexer": "ipython3",
   "version": "3.7.8"
  }
 },
 "nbformat": 4,
 "nbformat_minor": 4
}

{
 "cells": [
  {
   "cell_type": "markdown",
   "metadata": {},
   "source": [
    "# Huffman Coding"
   ]
  },
  {
   "cell_type": "code",
   "execution_count": 20,
   "metadata": {},
   "outputs": [
    {
     "data": {
      "text/plain": [
       "[(-, 1),\n",
       " (5, 1),\n",
       " (1, 1),\n",
       " (9, 1),\n",
       " (A, 2),\n",
       " (D, 2),\n",
       " (2, 1),\n",
       " (R, 1),\n",
       " (x, 1),\n",
       " (b, 3),\n",
       " (C, 2),\n",
       " (,, 3),\n",
       " (H, 3),\n",
       " (I, 2),\n",
       " (M, 3),\n",
       " (p, 12),\n",
       " (S, 1),\n",
       " (T, 2),\n",
       " (\", 2),\n",
       " (., 5),\n",
       " (c, 16),\n",
       " (d, 19),\n",
       " (e, 30),\n",
       " (f, 15),\n",
       " (g, 4),\n",
       " (h, 11),\n",
       " (i, 21),\n",
       " (l, 9),\n",
       " (m, 13),\n",
       " (n, 24),\n",
       " (o, 29),\n",
       " ( , 68),\n",
       " (r, 15),\n",
       " (s, 21),\n",
       " (t, 18),\n",
       " (u, 13),\n",
       " (v, 2),\n",
       " (a, 24),\n",
       " (w, 2),\n",
       " (y, 6)]"
      ]
     },
     "execution_count": 20,
     "metadata": {},
     "output_type": "execute_result"
    }
   ],
   "source": [
    "from pandas import DataFrame\n",
    "import heapq\n",
    "\n",
    "class HeapNode:\n",
    "    def __init__(self, char, freq):\n",
    "        self.char = char\n",
    "        self.freq = freq\n",
    "        \n",
    "    def __lt__(self, other):\n",
    "        return self.freq < other.freq\n",
    "    \n",
    "    def __le__(self, other):\n",
    "        return self.freq <= other.freq\n",
    "    \n",
    "    def __eq__(self, other):\n",
    "        return self.freq == other.freq\n",
    "    \n",
    "    def __repr__(self):\n",
    "        return f'({self.char}, {self.freq})'\n",
    "\n",
    "class TreeNode:\n",
    "    def __init__(self, val=0, left=None, right=None):\n",
    "        self.val = val\n",
    "        self.left = None\n",
    "        self.right = None\n",
    "    \n",
    "message = r'In computer science and information theory, a Huffman code is a particular type of optimal prefix code that is commonly used for lossless data compression. The process of finding or using such a code proceeds by means of Huffman coding, an algorithm developed by David A. Huffman while he was a Sc.D. student at MIT, and published in the 1952 paper \"A Method for the Construction of Minimum-Redundancy Codes\".'\n",
    "freqTable = DataFrame(list(message), columns=['char']).groupby('char').size().to_frame(name='freq').reset_index()\n",
    "\n",
    "nodes = [HeapNode(char=char, freq=freq) for char, freq in freqTable.values]\n",
    "\n",
    "h = []\n",
    "for node in nodes:\n",
    "    heapq.heappush(h, node)\n",
    "\n"
   ]
  }
 ],
 "metadata": {
  "kernelspec": {
   "display_name": "Python 3",
   "language": "python",
   "name": "python3"
  },
  "language_info": {
   "codemirror_mode": {
    "name": "ipython",
    "version": 3
   },
   "file_extension": ".py",
   "mimetype": "text/x-python",
   "name": "python",
   "nbconvert_exporter": "python",
   "pygments_lexer": "ipython3",
   "version": "3.7.8"
  }
 },
 "nbformat": 4,
 "nbformat_minor": 4
}

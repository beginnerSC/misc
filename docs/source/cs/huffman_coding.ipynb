{
 "cells": [
  {
   "cell_type": "markdown",
   "metadata": {},
   "source": [
    "# Huffman Coding"
   ]
  },
  {
   "cell_type": "code",
   "execution_count": 13,
   "metadata": {},
   "outputs": [
    {
     "data": {
      "text/plain": [
       "'In computer science and information theory, a Huffman code is a particular type of optimal prefix code that is commonly used for lossless data compression. The process of finding or using such a code proceeds by means of Huffman coding, an algorithm developed by David A. Huffman while he was a Sc.D. student at MIT, and published in the 1952 paper \"A Method for the Construction of Minimum-Redundancy Codes\".'"
      ]
     },
     "execution_count": 13,
     "metadata": {},
     "output_type": "execute_result"
    }
   ],
   "source": [
    "'''\n",
    "直接用 HeapNode 當 Huffman Tree 的 Node。HeapNode 裡的 left 和 right 和 heap 無關\n",
    "'''\n",
    "\n",
    "from pandas import DataFrame\n",
    "import heapq\n",
    "\n",
    "class HeapNode:\n",
    "    def __init__(self, freq, char=None, left=None, right=None):\n",
    "        self.char = char\n",
    "        self.freq = freq\n",
    "        \n",
    "        # Children of the Huffman Tree, not the heap\n",
    "        self.left = left\n",
    "        self.right = right\n",
    "        \n",
    "    def __lt__(self, other):\n",
    "        return self.freq < other.freq\n",
    "    \n",
    "    def __repr__(self):\n",
    "        return f'({self.char}, {self.freq})'\n",
    "\n",
    "    \n",
    "class HuffmanCoding:\n",
    "    \n",
    "    def __init__(self, message):\n",
    "        self.message = message\n",
    "        self.huffmanTree = None\n",
    "        \n",
    "    def _buildHuffmanTree(self):\n",
    "        freqTable = DataFrame(list(self.message), columns=['char']).groupby('char').size().to_frame(name='freq').reset_index()\n",
    "        nodes = [HeapNode(char=char, freq=freq) for char, freq in freqTable.values]\n",
    "        h = []\n",
    "        for node in nodes:\n",
    "            heapq.heappush(h, node)\n",
    "\n",
    "        while len(h) > 1:\n",
    "            left = heapq.heappop(h)\n",
    "            right = heapq.heappop(h)\n",
    "            heapq.heappush(h, HeapNode(freq=left.freq+right.freq, left=left, right=right))\n",
    "            \n",
    "        return h[0]\n",
    "\n",
    "    def codeCharPairs(self, root):\n",
    "        '''\n",
    "        return a list of tuples (code, char)\n",
    "        '''\n",
    "        if root.char:\n",
    "            return [('', root.char)]\n",
    "        else:\n",
    "            L = [('0'+code, char) for code, char in self.codeCharPairs(root.left)]\n",
    "            R = [('1'+code, char) for code, char in self.codeCharPairs(root.right)]\n",
    "            return L+R\n",
    "\n",
    "    def compress(self, message):\n",
    "        self.huffmanTree = self.huffmanTree or self._buildHuffmanTree()\n",
    "        codeTable = {char: code for code, char in self.codeCharPairs(self.huffmanTree)}\n",
    "        return ''.join([codeTable[char] for char in message])\n",
    "\n",
    "    def decompress(self, compressed):\n",
    "        self.huffmanTree = self.huffmanTree or self._buildHuffmanTree()\n",
    "        codeTable = {code: char for code, char in self.codeCharPairs(self.huffmanTree)}\n",
    "        message = ''\n",
    "        code = ''\n",
    "        for digit in compressed:\n",
    "            code += digit\n",
    "            if code in codeTable:\n",
    "                message += codeTable[code]\n",
    "                code = ''\n",
    "\n",
    "        return message\n",
    "    \n",
    "# original message    \n",
    "\n",
    "message = r'In computer science and information theory, a Huffman code is a particular type of optimal prefix code that is commonly used for lossless data compression. The process of finding or using such a code proceeds by means of Huffman coding, an algorithm developed by David A. Huffman while he was a Sc.D. student at MIT, and published in the 1952 paper \"A Method for the Construction of Minimum-Redundancy Codes\".'\n",
    "message"
   ]
  },
  {
   "cell_type": "code",
   "execution_count": 10,
   "metadata": {},
   "outputs": [
    {
     "data": {
      "text/plain": [
       "True"
      ]
     },
     "execution_count": 10,
     "metadata": {},
     "output_type": "execute_result"
    }
   ],
   "source": [
    "# compression and decompression get back the original message\n",
    "\n",
    "hc = HuffmanCoding(message)\n",
    "compressed = hc.compress(message)\n",
    "message == hc.decompress(compressed)"
   ]
  },
  {
   "cell_type": "code",
   "execution_count": 11,
   "metadata": {},
   "outputs": [
    {
     "data": {
      "text/plain": [
       "'110110000110111110101010100011000010010000010111100011101001101000111011011011010101111101110110001011100110110110011010110001000101110000001110100110111000001010101110101100010011001011101110111111010110110010110011100110001011101101111101010100010101111100110100111011111110000011111000000000111101010010000110111110001110000100110100001011111101011001111101010000000000111000101110001111110000110001011110010011110110101111110101010001010111110000010100111000011100110100111110101010100011000110100110000111001101111001001001011001011111001101011000111000111010010001000001110110100010011100100111000001111111101010101000110000110001011010001000011101001100001011111001111001010101111110000110001010110101011010001001111010110011111100100110110001000110110110111011110101100011110010010000110110110111011101001001011010010101110111111110101010001010111111000011000101011010101110110010010011101011111001101111000110110111011001001111010110011110101101100101100111001100010111011011111010101000100011011011011100101110111011101101110111000111101110101011000001100000101010001111001010111001110110110001110101000010110010111010111110011011111011110011110011101001100101110001000000101111010110110010110011100110001011101101111101100101010001100011101111101010101111111011001011101001110111111110111111110100001011101111000010111101000000100100010101101100000111011100001110101100110110001001111001011101110111011000101111000010010010111100011001101000101010110010111001101101110000010101011111100111001110110100100111111100111110111100000111100001011110001111101101100010001110101100101100000101010100010111110011010110001110000010101011111000100110100110010000001100010010110100000001110100110111101011001111010110000110110001110001100101000110011100011011111010110010100100110001001110110110101001101110001001101000101011010011011011000101'"
      ]
     },
     "execution_count": 11,
     "metadata": {},
     "output_type": "execute_result"
    }
   ],
   "source": [
    "# compressed message\n",
    "\n",
    "compressed"
   ]
  },
  {
   "cell_type": "code",
   "execution_count": 12,
   "metadata": {},
   "outputs": [
    {
     "data": {
      "text/plain": [
       "0.562958435207824"
      ]
     },
     "execution_count": 12,
     "metadata": {},
     "output_type": "execute_result"
    }
   ],
   "source": [
    "# compression ratio\n",
    "\n",
    "len(compressed)/(len(message)*8)"
   ]
  },
  {
   "cell_type": "code",
   "execution_count": 2,
   "metadata": {},
   "outputs": [
    {
     "data": {
      "text/plain": [
       "[('0000', 't'),\n",
       " ('0001000', 'A'),\n",
       " ('0001001', 'C'),\n",
       " ('000101', '.'),\n",
       " ('00011', 'l'),\n",
       " ('0010', 'd'),\n",
       " ('0011', 'i'),\n",
       " ('0100', 's'),\n",
       " ('01010', 'h'),\n",
       " ('0101100', 'M'),\n",
       " ('0101101', 'H'),\n",
       " ('0101110', ','),\n",
       " ('0101111', 'b'),\n",
       " ('0110', 'n'),\n",
       " ('0111', 'a'),\n",
       " ('10000', 'p'),\n",
       " ('10001', 'm'),\n",
       " ('10010', 'u'),\n",
       " ('100110', 'y'),\n",
       " ('100111000', '-'),\n",
       " ('100111001', '1'),\n",
       " ('10011101', 'v'),\n",
       " ('10011110', 'T'),\n",
       " ('100111110', '2'),\n",
       " ('100111111', '5'),\n",
       " ('1010', 'o'),\n",
       " ('1011', 'e'),\n",
       " ('11000', 'r'),\n",
       " ('11001', 'f'),\n",
       " ('11010', 'c'),\n",
       " ('11011000', 'I'),\n",
       " ('11011001', 'w'),\n",
       " ('110110100', '9'),\n",
       " ('110110101', 'x'),\n",
       " ('11011011', '\"'),\n",
       " ('1101110', 'g'),\n",
       " ('11011110', 'D'),\n",
       " ('110111110', 'R'),\n",
       " ('110111111', 'S'),\n",
       " ('111', ' ')]"
      ]
     },
     "execution_count": 2,
     "metadata": {},
     "output_type": "execute_result"
    }
   ],
   "source": [
    "hc.codeCharPairs(hc.huffmanTree)"
   ]
  }
 ],
 "metadata": {
  "kernelspec": {
   "display_name": "Python 3",
   "language": "python",
   "name": "python3"
  },
  "language_info": {
   "codemirror_mode": {
    "name": "ipython",
    "version": 3
   },
   "file_extension": ".py",
   "mimetype": "text/x-python",
   "name": "python",
   "nbconvert_exporter": "python",
   "pygments_lexer": "ipython3",
   "version": "3.7.8"
  }
 },
 "nbformat": 4,
 "nbformat_minor": 4
}

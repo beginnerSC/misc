{
 "cells": [
  {
   "cell_type": "markdown",
   "metadata": {},
   "source": [
    "# Huffman Coding in C++"
   ]
  },
  {
   "cell_type": "markdown",
   "metadata": {},
   "source": [
    "* 結果是對的但有 memory leaking，只有 ```new``` 沒有 ```delete```，下面的 dtor 寫的不對\n",
    "* coding 結果和 python 不一樣，可能是因為 priority queue 處理同 freq 的 node 方法不同"
   ]
  },
  {
   "cell_type": "code",
   "execution_count": 6,
   "metadata": {},
   "outputs": [],
   "source": [
    "#include <iostream>\n",
    "#include <string>\n",
    "#include <queue>       // std::priority_queue\n",
    "#include <vector>\n",
    "#include <utility>     // std::pair, std::swap\n",
    "#include <functional>  // std::greater\n",
    "#include <unordered_map>\n",
    "\n",
    "class HeapNode\n",
    "{\n",
    "public: \n",
    "    HeapNode* left = nullptr;\n",
    "    HeapNode* right = nullptr;\n",
    "    int freq;\n",
    "    char ch;\n",
    "    \n",
    "    HeapNode(int freq, char ch, HeapNode* left, HeapNode* right) \n",
    "        : freq(freq), ch(ch), left(left), right(right) {}\n",
    "    \n",
    "    HeapNode(const HeapNode& other) { \n",
    "        HeapNode* p = clone(&other); \n",
    "        \n",
    "        this->freq = p->freq;\n",
    "        this->ch = p->ch;\n",
    "        this->left = p->left;\n",
    "        this->right = p->right;\n",
    "    }\n",
    " \n",
    "//     ~HeapNode() { \n",
    "//         deleteNode(this->left);\n",
    "//         deleteNode(this->right);\n",
    "//     }\n",
    " \n",
    "//     void deleteNode(const HeapNode* p) {\n",
    "//         if (p){\n",
    "//             deleteNode(p->left);\n",
    "//             deleteNode(p->right);\n",
    "//             delete p;\n",
    "//         }\n",
    "//     }\n",
    "    \n",
    "    HeapNode* clone(const HeapNode* other) {\n",
    "        HeapNode* p = new HeapNode(other->freq, other->ch, nullptr, nullptr);\n",
    "        \n",
    "        if (other->left)\n",
    "            p->left = clone(other->left);\n",
    "        if (other->right)\n",
    "            p->right = clone(other->right);\n",
    "        \n",
    "        return p;\n",
    "    }\n",
    "\n",
    "    void print() const { \n",
    "        std::cout << \"(\" << ch << \", \" << freq << \")\" << std::endl; \n",
    "    }\n",
    "    \n",
    "    friend bool operator>(const HeapNode& a, const HeapNode& b) { \n",
    "        return a.freq > b.freq; \n",
    "    }\n",
    "};"
   ]
  },
  {
   "cell_type": "code",
   "execution_count": 7,
   "metadata": {},
   "outputs": [
    {
     "data": {
      "text/plain": [
       "\"In computer science and information theory, a Huffman code is a particular type of optimal prefix code that is commonly used for lossless data compression. The process of finding or using such a code proceeds by means of Huffman coding, an algorithm developed by David A. Huffman while he was a Sc.D. student at MIT, and published in the 1952 paper \"A Method for the Construction of Minimum-Redundancy Codes\".\""
      ]
     },
     "execution_count": 7,
     "metadata": {},
     "output_type": "execute_result"
    }
   ],
   "source": [
    "class HuffmanCoding{\n",
    "\n",
    "    std::string original_message;\n",
    "    std::vector<std::pair<std::string, std::string>> codeCharPairs;\n",
    "    const HeapNode* huffmanTree;\n",
    "        \n",
    "    const HeapNode* buildHuffmanTree()\n",
    "    {\n",
    "        std::unordered_map<char, int> freq;\n",
    "        for (const char& c : original_message)\n",
    "            freq[c]++;\n",
    "\n",
    "        std::vector<HeapNode> nodes;\n",
    "        for (const auto& pair : freq){\n",
    "            char letter = pair.first;\n",
    "            int frequency = pair.second;\n",
    "            nodes.push_back(HeapNode(frequency, letter, nullptr, nullptr));\n",
    "        }\n",
    "\n",
    "        std::priority_queue<HeapNode, std::vector<HeapNode>, std::greater<HeapNode>> q(std::greater<HeapNode>(), nodes);\n",
    "\n",
    "        while(q.size() > 1) \n",
    "        {\n",
    "            HeapNode leftNode = q.top();  \n",
    "            HeapNode* left = &leftNode;\n",
    "            q.pop();\n",
    "\n",
    "            HeapNode rightNode = q.top();\n",
    "            HeapNode* right = &rightNode;\n",
    "            q.pop();\n",
    "\n",
    "            q.push(HeapNode(left->freq + right->freq, '\\0', left, right));\n",
    "        }\n",
    "        return &(q.top());\n",
    "    }\n",
    "    \n",
    "    std::vector<std::pair<std::string, std::string>> getCodeCharPairs(const HeapNode* p)\n",
    "    {        \n",
    "        // if this weren't a member function it would have to be defined as an auto as the original signature wouldn't work in cling\n",
    "        // this is a known issue; see https://github.com/jupyter-xeus/xeus-cling/issues/40\n",
    "\n",
    "        if (p->ch)\n",
    "        {\n",
    "            std::string ch(1, p->ch);\n",
    "            return std::vector<std::pair<std::string, std::string>> {{ch, \"\"}};\n",
    "        }\n",
    "        else \n",
    "        {\n",
    "            std::vector<std::pair<std::string, std::string>> from_left = getCodeCharPairs(p->left);\n",
    "            std::vector<std::pair<std::string, std::string>> from_right = getCodeCharPairs(p->right);\n",
    "\n",
    "            for (auto& pair : from_left)\n",
    "                pair.second = '0' + pair.second;\n",
    "\n",
    "            for (auto& pair : from_right)\n",
    "                pair.second = '1' + pair.second;\n",
    "\n",
    "            from_left.insert(from_left.end(), from_right.begin(), from_right.end());\n",
    "            return from_left;\n",
    "        }\n",
    "    }\n",
    "\n",
    "public:\n",
    "    HuffmanCoding(const std::string& original_message) : original_message(original_message) {}\n",
    "    \n",
    "    std::string compress(const std::string& message){\n",
    "        if (!huffmanTree)\n",
    "            huffmanTree = buildHuffmanTree();\n",
    "        if (codeCharPairs.size()==0)\n",
    "            codeCharPairs = getCodeCharPairs(huffmanTree);\n",
    "\n",
    "        std::unordered_map<std::string, std::string> codeTable(codeCharPairs.begin(), codeCharPairs.end());\n",
    "        \n",
    "        std::string compressed;\n",
    "        for (const char& c : message)\n",
    "        {\n",
    "            std::string ch(1, c);\n",
    "            compressed += codeTable[ch];\n",
    "        }\n",
    "        return compressed;\n",
    "    }\n",
    "    std::string decompress(const std::string& compressed){\n",
    "        if (!huffmanTree)\n",
    "            huffmanTree = buildHuffmanTree();\n",
    "        if (codeCharPairs.size()==0)\n",
    "            codeCharPairs = getCodeCharPairs(huffmanTree);\n",
    "\n",
    "        for (auto& pair : codeCharPairs)\n",
    "            std::swap(pair.first, pair.second);\n",
    "\n",
    "        std::unordered_map<std::string, std::string> charTable(codeCharPairs.begin(), codeCharPairs.end());\n",
    "\n",
    "        std::string::const_iterator it = compressed.begin();\n",
    "        std::string code, decompressed;\n",
    "\n",
    "        while (it!=compressed.end())\n",
    "        {\n",
    "            code += *it;\n",
    "            if (charTable.find(code) != charTable.end()){\n",
    "                decompressed += charTable[code];\n",
    "                code = \"\";\n",
    "            }\n",
    "            it++;\n",
    "        }\n",
    "        return decompressed;\n",
    "    }\n",
    "};\n",
    "\n",
    "std::string original_message(R\"(In computer science and information theory, a Huffman code is a particular type of optimal prefix code that is commonly used for lossless data compression. The process of finding or using such a code proceeds by means of Huffman coding, an algorithm developed by David A. Huffman while he was a Sc.D. student at MIT, and published in the 1952 paper \"A Method for the Construction of Minimum-Redundancy Codes\".)\");\n",
    "\n",
    "original_message"
   ]
  },
  {
   "cell_type": "code",
   "execution_count": 8,
   "metadata": {},
   "outputs": [
    {
     "data": {
      "text/plain": [
       "\"In computer science and information theory, a Huffman code is a particular type of optimal prefix code that is commonly used for lossless data compression. The process of finding or using such a code proceeds by means of Huffman coding, an algorithm developed by David A. Huffman while he was a Sc.D. student at MIT, and published in the 1952 paper \"A Method for the Construction of Minimum-Redundancy Codes\".\""
      ]
     },
     "execution_count": 8,
     "metadata": {},
     "output_type": "execute_result"
    }
   ],
   "source": [
    "HuffmanCoding hc(original_message);\n",
    "\n",
    "original_message"
   ]
  },
  {
   "cell_type": "code",
   "execution_count": 9,
   "metadata": {},
   "outputs": [
    {
     "data": {
      "text/plain": [
       "\"\""
      ]
     },
     "execution_count": 9,
     "metadata": {},
     "output_type": "execute_result"
    }
   ],
   "source": [
    "std::string compressed = hc.compress(original_message);\n",
    "\n",
    "compressed"
   ]
  },
  {
   "cell_type": "code",
   "execution_count": 3,
   "metadata": {},
   "outputs": [
    {
     "data": {
      "text/plain": [
       "\"ddddddddddddddddddd\""
      ]
     },
     "execution_count": 3,
     "metadata": {},
     "output_type": "execute_result"
    }
   ],
   "source": [
    "std::string message = hc.decompress(compressed);\n",
    "\n",
    "(\n",
    "\n",
    " \n",
    "message"
   ]
  },
  {
   "cell_type": "code",
   "execution_count": 4,
   "metadata": {},
   "outputs": [
    {
     "data": {
      "text/plain": [
       "\"ddddddddddddddddddd\""
      ]
     },
     "execution_count": 4,
     "metadata": {},
     "output_type": "execute_result"
    }
   ],
   "source": [
    "\n",
    "\n",
    "original_message"
   ]
  },
  {
   "cell_type": "code",
   "execution_count": 4,
   "metadata": {},
   "outputs": [
    {
     "data": {
      "text/plain": [
       "\"In computer science and information theory, a Huffman code is a particular type of optimal prefix code that is commonly used for lossless data compression. The process of finding or using such a code proceeds by means of Huffman coding, an algorithm developed by David A. Huffman while he was a Sc.D. student at MIT, and published in the 1952 paper \"A Method for the Construction of Minimum-Redundancy Codes\".\""
      ]
     },
     "execution_count": 4,
     "metadata": {},
     "output_type": "execute_result"
    }
   ],
   "source": []
  },
  {
   "cell_type": "code",
   "execution_count": 5,
   "metadata": {},
   "outputs": [
    {
     "data": {
      "text/plain": [
       "true"
      ]
     },
     "execution_count": 5,
     "metadata": {},
     "output_type": "execute_result"
    }
   ],
   "source": [
    "(decompressed == message)"
   ]
  }
 ],
 "metadata": {
  "kernelspec": {
   "display_name": "C++17",
   "language": "C++17",
   "name": "xcpp17"
  },
  "language_info": {
   "codemirror_mode": "text/x-c++src",
   "file_extension": ".cpp",
   "mimetype": "text/x-c++src",
   "name": "c++",
   "version": "17"
  }
 },
 "nbformat": 4,
 "nbformat_minor": 4
}

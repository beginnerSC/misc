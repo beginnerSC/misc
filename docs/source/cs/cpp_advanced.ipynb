{
 "cells": [
  {
   "cell_type": "markdown",
   "id": "3c1e938d-bbc3-4191-b9c2-518d903f18a3",
   "metadata": {},
   "source": [
    "# C++ Advanced"
   ]
  },
  {
   "cell_type": "markdown",
   "id": "bad6fd62-7285-4108-9fde-d58e601dcff1",
   "metadata": {},
   "source": [
    "## Keeping `std::function` Alive in Lambda"
   ]
  },
  {
   "cell_type": "code",
   "execution_count": null,
   "id": "8f39ad51-3ccd-4873-bb36-05c479070792",
   "metadata": {},
   "outputs": [],
   "source": [
    "// crash\n",
    "\n",
    "#include <functional>\n",
    "\n",
    "class Function {\n",
    "public: \n",
    "    Function(std::function<double(double)> func) : m_func(func) {}\n",
    "\n",
    "    double operator()(double t) const {\n",
    "        return m_func(t);\n",
    "    }\n",
    "    Function operator+(const Function& other) const {\n",
    "        return Function([=](double t){ return m_func(t) + other.m_func(t); });\n",
    "    }\n",
    "private: \n",
    "    std::function<double(double)> m_func;\n",
    "};\n",
    "\n",
    "Function f1([](double t) { return 1.; }), \n",
    "         f2([](double t) { return 10.; }), \n",
    "         f3([](double t) { return 100.; });\n",
    "\n",
    "Function h = f1 + f2 + f3;\n",
    "\n",
    "h(3.5)"
   ]
  },
  {
   "cell_type": "code",
   "execution_count": 2,
   "id": "baa3c6e4-8b2a-4a2f-9b1d-add988a208e8",
   "metadata": {},
   "outputs": [
    {
     "data": {
      "text/plain": [
       "111.00000"
      ]
     },
     "execution_count": 2,
     "metadata": {},
     "output_type": "execute_result"
    }
   ],
   "source": [
    "// working\n",
    "\n",
    "#include <functional>\n",
    "#include <memory>\n",
    "\n",
    "class Function {\n",
    "public: \n",
    "    Function(std::function<double(double)> func) : m_func(func) {}\n",
    "\n",
    "    double operator()(double t) const {\n",
    "        return m_func(t);\n",
    "    }\n",
    "    Function operator+(const Function& other) const {\n",
    "        auto shared_this = std::make_shared<Function>(*this);\n",
    "        auto shared_other = std::make_shared<Function>(other);\n",
    "        return Function([=](double t){ return (shared_this->m_func)(t) + (shared_other->m_func)(t); });\n",
    "    }\n",
    "private: \n",
    "    std::function<double(double)> m_func;\n",
    "};\n",
    "\n",
    "Function f1([](double t) { return 1.; }), \n",
    "         f2([](double t) { return 10.; }), \n",
    "         f3([](double t) { return 100.; });\n",
    "\n",
    "Function h = f1 + f2 + f3;\n",
    "\n",
    "h(3.5)"
   ]
  }
 ],
 "metadata": {
  "kernelspec": {
   "display_name": "C++17",
   "language": "C++17",
   "name": "xcpp17"
  },
  "language_info": {
   "codemirror_mode": "text/x-c++src",
   "file_extension": ".cpp",
   "mimetype": "text/x-c++src",
   "name": "c++",
   "version": "17"
  }
 },
 "nbformat": 4,
 "nbformat_minor": 5
}

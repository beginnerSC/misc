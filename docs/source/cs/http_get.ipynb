{
 "cells": [
  {
   "cell_type": "markdown",
   "metadata": {},
   "source": [
    "# HTTP GET in Python\n",
    "\n",
    "* Countries that have substring 'un' in their names and have population over 100,090."
   ]
  },
  {
   "cell_type": "code",
   "execution_count": 46,
   "metadata": {},
   "outputs": [
    {
     "data": {
      "text/plain": [
       "8"
      ]
     },
     "execution_count": 46,
     "metadata": {},
     "output_type": "execute_result"
    }
   ],
   "source": [
    "import requests\n",
    "from pandas import DataFrame\n",
    "\n",
    "resp = requests.get(r'https://jsonmock.hackerrank.com/api/countries/search?name=un').json()  # filter 'un'\n",
    "\n",
    "# resp = requests.get(r'https://jsonmock.hackerrank.com/api/countries/').json()              # no filter\n",
    "\n",
    "data = sum([resp['data'] for _ in range(resp['total_pages'])], [])    # there can be multiple pages; concatenate the data\n",
    "\n",
    "df = DataFrame(data)\n",
    "\n",
    "len(df[df['population'] > 100090])                   # filter by populations\n"
   ]
  }
 ],
 "metadata": {
  "kernelspec": {
   "display_name": "Python 3",
   "language": "python",
   "name": "python3"
  },
  "language_info": {
   "codemirror_mode": {
    "name": "ipython",
    "version": 3
   },
   "file_extension": ".py",
   "mimetype": "text/x-python",
   "name": "python",
   "nbconvert_exporter": "python",
   "pygments_lexer": "ipython3",
   "version": "3.7.8"
  }
 },
 "nbformat": 4,
 "nbformat_minor": 4
}

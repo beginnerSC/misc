{
 "cells": [
  {
   "cell_type": "markdown",
   "metadata": {},
   "source": [
    "# HTTP GET in Python\n",
    "\n",
    "* Countries that have substring 'un' in their names and have population over 100,090.\n",
    "* 實測 HR 沒有 pandas 只有 requests"
   ]
  },
  {
   "cell_type": "code",
   "execution_count": 46,
   "metadata": {},
   "outputs": [
    {
     "data": {
      "text/plain": [
       "8"
      ]
     },
     "execution_count": 46,
     "metadata": {},
     "output_type": "execute_result"
    }
   ],
   "source": [
    "import requests\n",
    "from pandas import DataFrame\n",
    "\n",
    "resp = requests.get(r'https://jsonmock.hackerrank.com/api/countries/search?name=un').json()  # filter 'un'\n",
    "\n",
    "# resp = requests.get(r'https://jsonmock.hackerrank.com/api/countries/').json()              # no filter\n",
    "\n",
    "data = sum([resp['data'] for _ in range(resp['total_pages'])], [])    # there can be multiple pages; concatenate the data\n",
    "\n",
    "df = DataFrame(data)\n",
    "\n",
    "len(df[df['population'] > 100090])                   # filter by populations\n"
   ]
  },
  {
   "cell_type": "code",
   "execution_count": 65,
   "metadata": {},
   "outputs": [
    {
     "data": {
      "text/plain": [
       "8"
      ]
     },
     "execution_count": 65,
     "metadata": {},
     "output_type": "execute_result"
    }
   ],
   "source": [
    "import requests\n",
    "import numpy as np\n",
    "\n",
    "# 還要寫 standard input？\n",
    "\n",
    "s = 'un'\n",
    "p = 100090\n",
    "\n",
    "def getCountries(s, p):\n",
    "    url = f'https://jsonmock.hackerrank.com/api/countries/search?name={s.lower()}'\n",
    "    resp = requests.get(url).json()\n",
    "    \n",
    "    \n",
    "#     這樣寫抓不到第二頁以後！！！！\n",
    "    \n",
    "#    countries = sum([resp['data'] for _ in range(resp['total_pages'])], [])  # there can be multiple pages; concatenate the data\n",
    "\n",
    "    countries = np.concatenate([resp['data'] for _ in range(resp['total_pages'])])   # more readable if numpy is available\n",
    "    count = sum([1 for country in countries if country['population'] > p])\n",
    "    \n",
    "    return count\n",
    "\n",
    "getCountries(s, p)"
   ]
  }
 ],
 "metadata": {
  "kernelspec": {
   "display_name": "Python 3",
   "language": "python",
   "name": "python3"
  },
  "language_info": {
   "codemirror_mode": {
    "name": "ipython",
    "version": 3
   },
   "file_extension": ".py",
   "mimetype": "text/x-python",
   "name": "python",
   "nbconvert_exporter": "python",
   "pygments_lexer": "ipython3",
   "version": "3.7.8"
  }
 },
 "nbformat": 4,
 "nbformat_minor": 4
}

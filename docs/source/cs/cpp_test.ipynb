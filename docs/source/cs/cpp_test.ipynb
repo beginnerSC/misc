{
 "cells": [
  {
   "cell_type": "markdown",
   "metadata": {},
   "source": [
    "# C++ Test"
   ]
  },
  {
   "cell_type": "markdown",
   "metadata": {},
   "source": [
    "## valarray\n",
    "\n",
    "valarray 可以直接丟整進 cmath function 裡"
   ]
  },
  {
   "cell_type": "code",
   "execution_count": 2,
   "metadata": {},
   "outputs": [
    {
     "name": "stdout",
     "output_type": "stream",
     "text": [
      "1, 1.41421, 1.73205, 2, 2.23607, "
     ]
    }
   ],
   "source": [
    "#include <valarray>\n",
    "#include <iostream>\n",
    "#include <cmath>\n",
    "\n",
    "std::valarray<double> nums = {1, 2, 3, 4, 5};\n",
    "std::valarray<double> sqrts = sqrt(nums);\n",
    "\n",
    "for(const double& num : sqrts)\n",
    "    std::cout << num << \", \"; \n"
   ]
  },
  {
   "cell_type": "markdown",
   "metadata": {},
   "source": [
    "## Range Enumeration 貌似不能用 Temporary Object\n",
    "\n",
    "下面這樣不行："
   ]
  },
  {
   "cell_type": "code",
   "execution_count": null,
   "metadata": {},
   "outputs": [],
   "source": [
    "#include <valarray>\n",
    "#include <iostream>\n",
    "#include <cmath>\n",
    "\n",
    "std::valarray<double> nums = {1, 2, 3, 4, 5};\n",
    "\n",
    "for(const double& num : sqrt(nums))\n",
    "    std::cout << num << \", \"; \n"
   ]
  },
  {
   "cell_type": "markdown",
   "metadata": {},
   "source": [
    "cast 成 `valarray<double>` 就可以："
   ]
  },
  {
   "cell_type": "code",
   "execution_count": 4,
   "metadata": {},
   "outputs": [
    {
     "name": "stdout",
     "output_type": "stream",
     "text": [
      "1, 1.41421, 1.73205, 2, 2.23607, "
     ]
    }
   ],
   "source": [
    "#include <valarray>\n",
    "#include <iostream>\n",
    "#include <cmath>\n",
    "\n",
    "std::valarray<double> nums = {1, 2, 3, 4, 5};\n",
    "\n",
    "for(const double& num : static_cast<std::valarray<double>>(sqrt(nums)))\n",
    "    std::cout << num << \", \"; \n"
   ]
  },
  {
   "cell_type": "markdown",
   "metadata": {},
   "source": [
    "## [CppQuiz.org](https://cppquiz.org/quiz/question/225)"
   ]
  },
  {
   "cell_type": "markdown",
   "metadata": {},
   "source": [
    "## py\n",
    "\n",
    "* structured binding\n",
    "* `std::max`（定義在 algorithm 裡）對三個數以上要這樣用 `std::max({1, 2, 3})`。直接寫 `std::max(1, 2, 3)` 的時候第三個 arg 是 comp\n",
    "* python list append = c++ vector push_back\n",
    "* python `math.inf` = c++ `std::numeric_limits<double>::infinity()`，定義在 `<limit>`\n",
    "* `deque` 比較"
   ]
  },
  {
   "cell_type": "markdown",
   "metadata": {},
   "source": [
    "## `deque<T>` 的 `pop_front()` 和 `pop_back()` 不回傳 element\n",
    "\n",
    "* [如果設計成回傳 element 會有兩個問題：](https://stackoverflow.com/questions/25035691/why-doesnt-stdqueuepop-return-value)\n",
    "    * return element 會呼叫 copy ctor。如果 copy ctor 在 return 時 throw exception，該 element 也已經消失了\n",
    "    * 對於不真正需要 popped element 的程序，return 時的 copy 是浪費時間"
   ]
  },
  {
   "cell_type": "code",
   "execution_count": null,
   "metadata": {},
   "outputs": [],
   "source": [
    "template<class T>\n",
    "class queue {\n",
    "    T* elements;\n",
    "    std::size_t top_position;\n",
    "    // stuff here\n",
    "    T pop()\n",
    "    {\n",
    "        auto x = elements[top_position];\n",
    "        // TODO: call destructor for elements[top_position] here\n",
    "        --top_position;  // alter queue state here\n",
    "        return x;        // calls T(const T&) which may throw\n",
    "    }\n",
    "};"
   ]
  },
  {
   "cell_type": "markdown",
   "metadata": {},
   "source": [
    "## Ranges (C++ 20)\n",
    "\n",
    "* Functional programming in C++\n",
    "* [Cppcon presentation](https://youtu.be/FRkJCvHWdwQ?t=878)"
   ]
  },
  {
   "cell_type": "code",
   "execution_count": null,
   "metadata": {},
   "outputs": [],
   "source": [
    "vector data {1, 2, 3, 4, 5, 6, 7, 8, 9, 10};\n",
    "auto result { data\n",
    "    | views::filter([](const auto& value) { return value % 2 == 0; })/* 2 4 6 8 10*/\n",
    "    | views::transform([](const auto& value) { return value * 2.0; })/* 4 8 12 16 20 */\n",
    "    | views::drop(2)                                                 /* 12 16 20 */\n",
    "    | views::reverse                                                 /* 20 16 12 */\n",
    "    | views::transform([](int i) { return to_string(i); })           /* \"20\" \"16\" \"12\" */\n",
    "}"
   ]
  },
  {
   "cell_type": "markdown",
   "metadata": {},
   "source": [
    "## Comparator\n",
    "\n",
    "[這裡](http://fusharblog.com/3-ways-to-define-comparison-functions-in-cpp/)和[這裡](https://docs.oracle.com/cd/E19205-01/819-3701/com_5335.htm)都說 ```>=``` 不能當 comparator 因為會破壞 ```If f(x, y) then !f(y, x)``` （antisymmetry）。但測試起來沒問題啊？？？"
   ]
  },
  {
   "cell_type": "code",
   "execution_count": 1,
   "metadata": {},
   "outputs": [
    {
     "data": {
      "text/plain": [
       "{ 9, 8, 8, 7, 6, 5, 4, 3, 3, 3, 2, 1 }"
      ]
     },
     "execution_count": 1,
     "metadata": {},
     "output_type": "execute_result"
    }
   ],
   "source": [
    "#include <algorithm>\n",
    "#include <vector>\n",
    "\n",
    "std::vector<int> a = {1, 2, 3, 3, 3, 4, 5, 6, 7, 8, 8, 9};\n",
    "\n",
    "std::sort(a.begin(), a.end(), [](int x, int y){ return x >=y; }); \n",
    "\n",
    "a"
   ]
  },
  {
   "cell_type": "markdown",
   "metadata": {},
   "source": [
    "## Raw String"
   ]
  },
  {
   "cell_type": "code",
   "execution_count": 1,
   "metadata": {},
   "outputs": [
    {
     "name": "stdout",
     "output_type": "stream",
     "text": [
      "This is a \\n \"raw string\"\n"
     ]
    }
   ],
   "source": [
    "#include <iostream>\n",
    "\n",
    "std::cout << R\"(This is a \\n \"raw string\")\"<< std::endl;"
   ]
  },
  {
   "cell_type": "markdown",
   "metadata": {},
   "source": [
    "## ```std::greater``` and ```std::sort```\n",
    "\n",
    "* [3 Ways to Define Comparison Functions in C++](http://fusharblog.com/3-ways-to-define-comparison-functions-in-cpp/)"
   ]
  },
  {
   "cell_type": "code",
   "execution_count": 6,
   "metadata": {},
   "outputs": [
    {
     "name": "stdout",
     "output_type": "stream",
     "text": [
      "9, 8, 7, 6, 5, 4, 3, 2, 1, "
     ]
    }
   ],
   "source": [
    "#include <iostream>     // std::cout\n",
    "#include <functional>   // std::greater\n",
    "#include <algorithm>    // std::sort\n",
    "#include <vector>\n",
    "\n",
    "int main () {\n",
    "    std::vector<int> a = {1, 2, 3, 4, 5, 6, 7, 8, 9};\n",
    "    \n",
    "    std::sort(a.begin(), a.end(), std::greater<int>());\n",
    "    \n",
    "    for (const int& value : a)\n",
    "        std::cout << value << \", \";\n",
    "    \n",
    "    return 0;\n",
    "}\n",
    "\n",
    "main();"
   ]
  },
  {
   "cell_type": "markdown",
   "metadata": {},
   "source": [
    "## ```std::to_string``` and ```std::stoi```"
   ]
  },
  {
   "cell_type": "code",
   "execution_count": 4,
   "metadata": {},
   "outputs": [
    {
     "data": {
      "text/plain": [
       "{ 1, 2, 3 }"
      ]
     },
     "execution_count": 4,
     "metadata": {},
     "output_type": "execute_result"
    }
   ],
   "source": [
    "#include <iostream>\n",
    "#include <string>  // std::to_string and std::stoi\n",
    "#include <vector>\n",
    "\n",
    "int a = 123;\n",
    "\n",
    "std::vector<int> v = {};\n",
    "for(char& c : std::to_string(a))\n",
    "    v.push_back(std::stoi(std::string(1, c)));\n",
    "\n",
    "v"
   ]
  },
  {
   "cell_type": "markdown",
   "metadata": {},
   "source": [
    "## Returning a Tuple"
   ]
  },
  {
   "cell_type": "code",
   "execution_count": 2,
   "metadata": {},
   "outputs": [
    {
     "name": "stdout",
     "output_type": "stream",
     "text": [
      "1, 2\n"
     ]
    }
   ],
   "source": [
    "#include <tuple>\n",
    "#include <iostream>\n",
    "\n",
    "std::tuple<int, int> f(){   // cannot define as auto\n",
    "    return {1, 2};\n",
    "}\n",
    "\n",
    "std::cout << std::get<0>(f()) << \", \" << std::get<1>(f()) << std::endl;"
   ]
  },
  {
   "cell_type": "markdown",
   "metadata": {},
   "source": [
    "## Loop Over a Tuple? "
   ]
  },
  {
   "cell_type": "code",
   "execution_count": 2,
   "metadata": {},
   "outputs": [
    {
     "name": "stdout",
     "output_type": "stream",
     "text": [
      "1, 2, 3, 4, 5, "
     ]
    }
   ],
   "source": [
    "#include <iostream>\n",
    "\n",
    "for (auto x : {1, 2, 3, 4, 5})\n",
    "    std::cout << x << \", \";"
   ]
  },
  {
   "cell_type": "markdown",
   "metadata": {},
   "source": [
    "## String Literal"
   ]
  },
  {
   "cell_type": "code",
   "execution_count": 5,
   "metadata": {
    "collapsed": false,
    "jupyter": {
     "outputs_hidden": false
    }
   },
   "outputs": [
    {
     "name": "stdout",
     "output_type": "stream",
     "text": [
      "baa\n"
     ]
    }
   ],
   "source": [
    "#include <iostream>\n",
    "#include <string>\n",
    "\n",
    "{\n",
    "//     const char* s = \"aaa\";  // 可以宣告但不能改內容。string literal 是存在 const 區\n",
    "//     std::string s = \"aaa\";  // 可以宣告也可以改內容\n",
    "//     char* s = \"aaa\";        // interpreter 不給過。因為 string literal 是 const 所以這樣宣告不合法\n",
    "    char s[] = \"aaa\";       // 宣告成 array：可以宣告也可以改內容。其實這樣宣告\n",
    "    \n",
    "    s[0] = 'b';\n",
    "    std::cout << s << std::endl;\n",
    "}"
   ]
  }
 ],
 "metadata": {
  "kernelspec": {
   "display_name": "C++17",
   "language": "C++17",
   "name": "xcpp17"
  },
  "language_info": {
   "codemirror_mode": "text/x-c++src",
   "file_extension": ".cpp",
   "mimetype": "text/x-c++src",
   "name": "c++",
   "version": "17"
  }
 },
 "nbformat": 4,
 "nbformat_minor": 4
}

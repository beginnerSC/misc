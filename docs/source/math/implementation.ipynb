{
 "cells": [
  {
   "cell_type": "markdown",
   "id": "rental-resistance",
   "metadata": {},
   "source": [
    "# Implementation\n",
    "\n",
    "Implementing common pricing algorithms in C++."
   ]
  },
  {
   "cell_type": "markdown",
   "id": "military-theology",
   "metadata": {},
   "source": [
    "## Gauss Quadrature"
   ]
  },
  {
   "cell_type": "code",
   "execution_count": 1,
   "id": "direct-insert",
   "metadata": {},
   "outputs": [
    {
     "data": {
      "text/plain": [
       "0.21065725"
      ]
     },
     "execution_count": 1,
     "metadata": {},
     "output_type": "execute_result"
    }
   ],
   "source": [
    "#include <boost/math/quadrature/gauss.hpp> \n",
    "#include <cmath>\n",
    "\n",
    "using namespace boost::math;\n",
    "\n",
    "auto f = [](const double& t) { return t * t * std::atan(t); };\n",
    "\n",
    "quadrature::gauss<double, 7>::integrate(f, 0, 1)"
   ]
  },
  {
   "cell_type": "markdown",
   "id": "operational-mining",
   "metadata": {},
   "source": [
    "## FFT\n",
    "\n",
    "Simple c++ implementation of the [Cooley–Tukey algorithm](https://en.wikipedia.org/wiki/Cooley%E2%80%93Tukey_FFT_algorithm#The_radix-2_DIT_case) for arrays whose size is a power of 2. "
   ]
  },
  {
   "cell_type": "code",
   "execution_count": 1,
   "id": "logical-chapter",
   "metadata": {},
   "outputs": [
    {
     "name": "stdout",
     "output_type": "stream",
     "text": [
      "(6,0), (-2,2), (-2,0), (-2,-2), "
     ]
    }
   ],
   "source": [
    "#include <complex>\n",
    "#include <vector>\n",
    "#include <cmath>     // M_PI\n",
    "#include <iostream>\n",
    "\n",
    "void _fft(std::vector<std::complex<double> >& out, const std::vector<double>& x, const int& n)\n",
    "{\n",
    "    // assuming n is a power of 2\n",
    "    if (n==1)\n",
    "    {\n",
    "        out.resize(1);\n",
    "        out[0] = x[0];\n",
    "    }\n",
    "    else{\n",
    "        std::vector<std::complex<double> > o(n/2), e(n/2);\n",
    "        std::vector<double> x_odd, x_even;\n",
    "        size_t i=0;\n",
    "        while (i < n){\n",
    "            x_even.push_back(x[i++]);\n",
    "            x_odd.push_back(x[i++]);\n",
    "        }\n",
    "        _fft(e, x_even, n/2);\n",
    "        _fft(o, x_odd, n/2);\n",
    "        \n",
    "        std::vector<std::complex<double> > w;\n",
    "        for (size_t k=0 ; k<n/2 ; k++)\n",
    "            w.push_back(std::exp(-2*M_PI*k*std::complex<double>(0., 1.)/((double)n)));\n",
    "        \n",
    "        out.resize(n);\n",
    "        for (size_t k=0 ; k<n/2 ; k++)\n",
    "            out[k] = e[k] + w[k]*o[k];\n",
    "        for (size_t k=0 ; k<n/2 ; k++)\n",
    "            out[k+n/2] = e[k] - w[k]*o[k];        \n",
    "    }\n",
    "}\n",
    "\n",
    "\n",
    "std::vector<double> x = {0, 1, 2, 3};\n",
    "std::vector<std::complex<double> > out;\n",
    "\n",
    "_fft(out, x, 4);\n",
    "\n",
    "for (auto c : out)\n",
    "    std::cout << c << \", \";"
   ]
  },
  {
   "cell_type": "code",
   "execution_count": 2,
   "id": "spatial-grenada",
   "metadata": {},
   "outputs": [
    {
     "name": "stdout",
     "output_type": "stream",
     "text": [
      "(6,0), (-2,2), (-2,0), (-2,-2), "
     ]
    }
   ],
   "source": [
    "// by Eigen\n",
    "\n",
    "#pragma cling add_include_path(\"/srv/conda/envs/notebook/include/eigen3/\")\n",
    "\n",
    "#include <unsupported/Eigen/FFT>\n",
    "#include <vector>\n",
    "#include <complex>\n",
    "#include <iostream>\n",
    "\n",
    "Eigen::FFT<double> fft;\n",
    "std::vector<double> a = {0, 1, 2, 3};\n",
    "std::vector<std::complex<double> > out;\n",
    "\n",
    "fft.fwd(out, a);\n",
    "\n",
    "for (auto c : out)\n",
    "    std::cout << c << \", \";"
   ]
  }
 ],
 "metadata": {
  "kernelspec": {
   "display_name": "C++17",
   "language": "C++17",
   "name": "xcpp17"
  },
  "language_info": {
   "codemirror_mode": "text/x-c++src",
   "file_extension": ".cpp",
   "mimetype": "text/x-c++src",
   "name": "c++",
   "version": "17"
  }
 },
 "nbformat": 4,
 "nbformat_minor": 5
}

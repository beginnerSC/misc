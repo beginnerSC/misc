{
 "cells": [
  {
   "cell_type": "markdown",
   "id": "colored-workshop",
   "metadata": {},
   "source": [
    "# Implementation\n",
    "\n",
    "Implementing common pricing algorithms in C++."
   ]
  },
  {
   "cell_type": "markdown",
   "id": "advance-liberal",
   "metadata": {},
   "source": [
    "## Gauss Quadrature"
   ]
  },
  {
   "cell_type": "code",
   "execution_count": 1,
   "id": "announced-investing",
   "metadata": {},
   "outputs": [
    {
     "data": {
      "text/plain": [
       "0.21065725"
      ]
     },
     "execution_count": 1,
     "metadata": {},
     "output_type": "execute_result"
    }
   ],
   "source": [
    "#include <boost/math/quadrature/gauss.hpp> \n",
    "#include <cmath>\n",
    "\n",
    "using namespace boost::math;\n",
    "\n",
    "auto f = [](const double& t) { return t * t * std::atan(t); };\n",
    "\n",
    "quadrature::gauss<double, 7>::integrate(f, 0, 1)"
   ]
  },
  {
   "cell_type": "code",
   "execution_count": null,
   "id": "waiting-thumb",
   "metadata": {},
   "outputs": [],
   "source": [
    "#pragma cling add_include_path(\"/srv/conda/envs/notebook/include/eigen3/\")\n",
    "\n",
    "#include <unsupported/Eigen/FFT>\n",
    "#include <vector>\n",
    "#include <complex>\n",
    "#include <iostream>\n",
    "\n",
    "Eigen::FFT<double> fft;\n",
    "std::vector<double> a = {0, 1, 2, 3};\n",
    "std::vector<std::complex<double> > out;\n",
    "\n",
    "fft.fwd(out, a);\n",
    "\n",
    "for (auto c : out)\n",
    "    std::cout << c << \", \";"
   ]
  }
 ],
 "metadata": {
  "kernelspec": {
   "display_name": "C++17",
   "language": "C++17",
   "name": "xcpp17"
  },
  "language_info": {
   "codemirror_mode": "text/x-c++src",
   "file_extension": ".cpp",
   "mimetype": "text/x-c++src",
   "name": "c++",
   "version": "17"
  }
 },
 "nbformat": 4,
 "nbformat_minor": 5
}

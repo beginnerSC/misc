{
 "cells": [
  {
   "cell_type": "markdown",
   "metadata": {},
   "source": [
    "# Formulas I Always Forget\n",
    "\n",
    "## SABR Model\n",
    "\\begin{align*}\n",
    "\\begin{cases}\n",
    "dF_t = \\sigma_tF_t^{\\beta}\\,dW_t\\\\\n",
    "d\\sigma_t = \\alpha \\sigma_t\\,dZ_t\\\\\n",
    "\\end{cases}\n",
    "\\end{align*}\n",
    "兩個 Brownian motion 有相關性 $dW_tdZ_t = \\rho dt$。這裡 $\\alpha$ 是真的 vol of vol，不像 Heston 裡的 $\\sigma$ 其實是 volatility of variance。\n",
    "\n",
    "## ZCB to Forward Rate\n",
    "\\begin{align*}\n",
    "f(t, T) = -\\frac{\\partial}{\\partial T}\\log P(t, T)\n",
    "\\end{align*}\n",
    "\n",
    "## Ito Quotient Rule\n",
    "\\begin{align*}\n",
    "\\frac{d(X/Y)}{X/Y} = \\frac{dX}{X} - \\frac{dY}{Y} - \\frac{dX}{X}\\frac{dY}{Y} + \\left(\\frac{dY}{Y}\\right)^2\n",
    "\\end{align*}\n",
    "\n",
    "## Fibonacci Sequence\n",
    "\\begin{align*}\n",
    "F_n = \\frac{1}{\\sqrt{5}}\\left(\\left(\\frac{1+\\sqrt{5}}{2}\\right)^n - \\left(\\frac{1-\\sqrt{5}}{2}\\right)^n\\right)\n",
    "\\end{align*}\n",
    "CF 是 $x^2 - x - 1$ 所以 $b=-1$，兩根的分子的第一項一定是 1 而不是 -1。兩項中間的負號只要看 $F_0 = 0$ 就不會忘記了。\n",
    "\n"
   ]
  }
 ],
 "metadata": {
  "kernelspec": {
   "display_name": "Python 3",
   "language": "python",
   "name": "python3"
  },
  "language_info": {
   "codemirror_mode": {
    "name": "ipython",
    "version": 3
   },
   "file_extension": ".py",
   "mimetype": "text/x-python",
   "name": "python",
   "nbconvert_exporter": "python",
   "pygments_lexer": "ipython3",
   "version": "3.7.10"
  }
 },
 "nbformat": 4,
 "nbformat_minor": 4
}

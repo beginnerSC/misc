{
 "cells": [
  {
   "cell_type": "markdown",
   "metadata": {},
   "source": [
    "# Fun Math"
   ]
  },
  {
   "cell_type": "markdown",
   "metadata": {},
   "source": [
    "# An Interesting Property of 13\n",
    "\n",
    "If you reverse its digits and then find square, or if you reverse the digits of its square, the results are the same: \n",
    "\\begin{align*}\n",
    "13^2 &= 169, \\\\\n",
    "31^2 &= 961. \n",
    "\\end{align*}\n",
    "Other examples of number with this property are 12 and below: "
   ]
  },
  {
   "cell_type": "code",
   "execution_count": 9,
   "metadata": {},
   "outputs": [
    {
     "data": {
      "text/plain": [
       "True"
      ]
     },
     "execution_count": 9,
     "metadata": {},
     "output_type": "execute_result"
    }
   ],
   "source": [
    "n = 20111001\n",
    "\n",
    "int(str(n**2)[::-1]) == int(str(n)[::-1])**2"
   ]
  },
  {
   "cell_type": "markdown",
   "metadata": {},
   "source": [
    "## A Somewhat Counterintuitive Result\n",
    "\n",
    "Let $X_t$ be the solution of $dX_t = X_t dW_t$ with $X_0 = 1$. Then \n",
    "\\begin{align*}\n",
    "X_t = e^{-\\frac{t}{2} + W_t} \\rightarrow 0 \\qquad\\text{ as }t\\rightarrow \\infty, \n",
    "\\end{align*}\n",
    "but $X_t$ is a martingale so $E[X_t] = X_0 = 1$ for all $t>0$. \n",
    "\n",
    "\n",
    "Although this might seen counterintuitive at first glance, if one think about a large but finite value of $t$, this is less so. "
   ]
  },
  {
   "cell_type": "markdown",
   "metadata": {},
   "source": [
    "## Closed Form Expression of the Fibonacci Numbers\n",
    "\n",
    "\n",
    "令 $\\lambda_1, \\lambda_2$ 為二次方程式 $a x^2 + b x + c = 0$ 的兩根，則\n",
    "\\begin{align*}\n",
    "a \\lambda_1^2 + b \\lambda_1 + c = 0.\n",
    "\\end{align*}\n",
    "等號兩邊同乘 $\\lambda_1^n$ 可以得到 \n",
    "\\begin{align*}\n",
    "a \\lambda_1^{n+2} + b \\lambda_1^{n+1} + c \\lambda_1^n = 0.\n",
    "\\end{align*}\n",
    "同樣的，對 $\\lambda_2$ 也可以得到\n",
    "\\begin{align*}\n",
    "a \\lambda_2^{n+2} + b \\lambda_2^{n+1} + c \\lambda_2^n = 0.\n",
    "\\end{align*}\n",
    "現在把上面兩個式子作線性組合：\n",
    "\\begin{align*}\n",
    "0 &= c_1(a \\lambda_1^{n+2} + b \\lambda_1^{n+1} + c \\lambda_1^n) + c_2(a \\lambda_2^{n+2} + b \\lambda_2^{n+1} + c \\lambda_2^n)\\\\\n",
    "&= a \\left(c_1\\lambda_1^{n+2}+c_2\\lambda_2^{n+2}\\right) + b \\left(c_1\\lambda_1^{n+1}+c_2\\lambda_2^{n+1}\\right) + c \\left(c_1\\lambda_1^{n}+c_2\\lambda_2^{n}\\right).\n",
    "\\end{align*}\n",
    "於是可以得到以下結論：數列 $F_n = c_1\\lambda_1^{n}+c_2\\lambda_2^{n}$ 滿足遞迴式\n",
    "\\begin{align*}\n",
    "\\begin{cases}\n",
    "a F_{n+2} + b F_{n+1} + c F_{n} = 0\\\\\n",
    "F_0 = c_1 + c_2\\\\\n",
    "F_1 = c_1\\lambda_1 + c_2\\lambda_2\n",
    "\\end{cases}\n",
    "\\end{align*}\n",
    "其中 $\\lambda_1, \\lambda_2$ 為 $a x^2 + b x + c = 0$ 的兩根。$a x^2 + b x + c = 0$ 就是這個遞迴式的特徵方程。\n",
    "現在代入費式數列的遞迴定義 $a=1, b=c=-1$ 可以求得\n",
    "\\begin{align*}\n",
    "\\lambda_j = \\frac{1\\pm \\sqrt{5}}{2}, \\qquad j=1, 2, \n",
    "\\end{align*}\n",
    "再把 $\\lambda_1, \\lambda_2$ 代入\n",
    "\\begin{align*}\n",
    "\\begin{cases}\n",
    "F_0 = c_1 + c_2 = 0\\\\\n",
    "F_1 = c_1\\lambda_1 + c_2\\lambda_2 = 1\n",
    "\\end{cases}\n",
    "\\end{align*}\n",
    "可以求得 $c_1 = 1/\\sqrt{5}, c_2 = -1/\\sqrt{5}$，所以\n",
    "\\begin{align*}\n",
    "F_n = \\frac{1}{\\sqrt{5}}\\left(\\left(\\frac{1+\\sqrt{5}}{2}\\right)^n - \\left(\\frac{1-\\sqrt{5}}{2}\\right)^n\\right). \n",
    "\\end{align*}"
   ]
  },
  {
   "cell_type": "markdown",
   "metadata": {},
   "source": [
    "## The Solution Formula to the Riccati Equation \n",
    "\n",
    "Assuming $pq\\neq 0$ and $p\\neq q$, the Riccati equation \n",
    "\\begin{align*}\n",
    "\\begin{cases}\n",
    "y'(t) = a(y(t) - p)(y(t) - q)\\\\\n",
    "y(0) = 0\n",
    "\\end{cases}\n",
    "\\end{align*}\n",
    "has a closed form \"solution\"\n",
    "\\begin{align*}\n",
    "y(t) = pq\\left(\\frac{1-e^{-a(p-q)t}}{p-qe^{-a(p-q)t}}\\right)\n",
    "\\end{align*}\n",
    "that people use all the time, although it does not always hold. \n",
    "Define \n",
    "\\begin{align*}\n",
    "t^* = -\\frac{1}{a}\\left(\\frac{\\log p-\\log q}{p-q}\\right). \n",
    "\\end{align*}\n",
    "If $t^*$ is real positive, the closed form formula is only the solution to the Riccati equation for $t\\in[0, t^*)$. This is because when $t$ approaches $t^*$, the denominator in the closed form formula goes to 0, making the solution infinity. \n",
    "Here is a numerical example: When $a=-1, p=2, q=1$, below is a plot of the closed form formula: "
   ]
  },
  {
   "cell_type": "code",
   "execution_count": 23,
   "metadata": {},
   "outputs": [
    {
     "data": {
      "image/png": "[encoded data removed]",
      "text/plain": [
       "<Figure size 432x288 with 1 Axes>"
      ]
     },
     "metadata": {
      "needs_background": "light"
     },
     "output_type": "display_data"
    }
   ],
   "source": [
    "import numpy as np\n",
    "from pandas import DataFrame\n",
    "\n",
    "a = -1\n",
    "p = 2\n",
    "q = 1\n",
    "\n",
    "t = np.arange(0, 1, 0.01)\n",
    "y = p*q*((1-np.exp(-a*(p-q)*t))/(p-q*np.exp(-a*(p-q)*t)))\n",
    "\n",
    "ax = DataFrame({'t': t, 'y': y}).set_index('t').plot(legend=None)\n",
    "ax.set(ylim=(-20, 20), xlim=(0, 0.99), xlabel='$t$', ylabel='$y(t)$')\n",
    "ax.axhline(0, color='k', lw=1)\n",
    "pass"
   ]
  },
  {
   "cell_type": "markdown",
   "metadata": {},
   "source": [
    "In this example we have $t^* = \\log 2 \\approx 0.693147$. One can see from the plot that only before this critical time the closed form formula is the solution to the initial value problem. \n",
    "\n",
    "If $t^*$ is complex or if it is real negative then the closed form formula gives the solution for all $t\\ge 0$. When $p$ and $q$ are both real, the critical value $t^*$ is real positive if and only if $a$ is real negative, which is not the case in the CIR interest rate model. That is why the CIR model never runs into this issue. The Heston model with complex $p$ and $q$, however, is not so lucky. "
   ]
  },
  {
   "cell_type": "markdown",
   "metadata": {},
   "source": [
    "## Newton's Method for Square Root Has Quadratic Convergence\n",
    "\n",
    "For square root a simple completing the square will do the trick:\n",
    "\\begin{align*}\n",
    "\\frac{x + \\frac{a}{x}}{2} - \\sqrt{a} &= \\frac12\\left(x -2\\sqrt{a} + \\frac{a}{x}\\right)\\\\\n",
    "&= \\frac12\\left(\\sqrt{x} - \\sqrt{\\frac{a}{x}}\\right)^2\\\\\n",
    "&= \\frac{1}{2x}\\left(x - \\sqrt{a}\\right)^2, \n",
    "\\end{align*}\n",
    "which says the error in the next iteration is the error in this iteration squared divided by $2x$.\n",
    "\n",
    "\n",
    "A more general proof for general functions can be found on [wikipedia.](https://en.wikipedia.org/wiki/Newton%27s_method#Proof_of_quadratic_convergence_for_Newton's_iterative_method)"
   ]
  },
  {
   "cell_type": "markdown",
   "metadata": {},
   "source": [
    "## Checking if an Integer Is a Perfect Square\n",
    "\n",
    "The goal here is to prove that Newton's method with integer division (integer division) can be used to determine if an integer is a perfect square. \n",
    "\n",
    "This method is discussed (without proof) in a [stackoverflow post](https://stackoverflow.com/questions/2489435/check-if-a-number-is-a-perfect-square), which gives the following procedure. It works for any large integer, for example 123456789**100 which is too large to convert to float for implementations relying on ```math.sqrt```. "
   ]
  },
  {
   "cell_type": "code",
   "execution_count": 11,
   "metadata": {},
   "outputs": [
    {
     "name": "stdout",
     "output_type": "stream",
     "text": [
      "True\n",
      "CPU times: user 12 ms, sys: 8 ms, total: 20 ms\n",
      "Wall time: 16.5 ms\n"
     ]
    }
   ],
   "source": [
    "%%time\n",
    "\n",
    "def is_square(a):\n",
    "    x = a//2\n",
    "    seen = set([x])\n",
    "    while x*x != a:\n",
    "        x = (x + a//x)//2\n",
    "        if x in seen:\n",
    "            return False\n",
    "        seen.add(x)\n",
    "    return True\n",
    "\n",
    "print(is_square(123456789**100))"
   ]
  },
  {
   "cell_type": "markdown",
   "metadata": {},
   "source": [
    "Assume that $x\\in\\mathbb N, \\sqrt{a}\\in\\mathbb N$ and $x>\\sqrt{a}$. With integer division, the error after one iteration is really \n",
    "\\begin{align*}\n",
    "\\frac{x+\\frac{a - r_1}{x} - r_2}{2} - \\sqrt{a} &= \\frac{x+\\frac{a}{x}}{2} - \\sqrt{a} -\\left( \\frac{r_1}{2x} + \\frac{r_2}{2}\\right)\\\\\n",
    "&= \\frac{1}{2x}\\left(x - \\sqrt{a}\\right)^2 - \\left( \\frac{r_1}{2x} + \\frac{r_2}{2}\\right), \n",
    "\\end{align*}\n",
    "where $r_1$ and $r_2$ are the remainders from the division. Since they must satisfy $r_1 < x$, $r_2\\leq 1$, we have $r_1/(2x) + r_2/2 < 1/2 + 1/2 = 1$.\n",
    "Now note that this error is an integer, so we can write\n",
    "\\begin{align*}\n",
    "\\frac{x+\\frac{a - r_1}{x} - r_2}{2} - \\sqrt{a} &= \\left \\lfloor\\frac{1}{2x}\\left(x - \\sqrt{a}\\right)^2 \\right \\rfloor. \n",
    "\\end{align*}"
   ]
  },
  {
   "cell_type": "markdown",
   "metadata": {},
   "source": [
    "## Simulation\n",
    "\n",
    "This is to confirm the following is correct: \n",
    "\\begin{align*}\n",
    "\\text{cov}\\left(\\int_0^T t\\,dW_t, \\int_0^T W_t \\,dt\\right) = \\frac{T^3}{6}, \n",
    "\\end{align*}\n",
    "which is 1.3333 if $T=2$ like in the below simulation. \n",
    "\n",
    "\n",
    "Recall that $E(W(t)W(s)) = s\\land t$. Roughly speaking, \n",
    "\\begin{align*}\n",
    "E\\left(\\int_0^T t\\,dW_t\\int_0^T W_t dt\\right) &= E\\left(\\int_0^T\\int_0^T s W_t \\,dW_sdt\\right)\\\\\n",
    "&\\approx E\\left(\\sum_i\\sum_j s_j W(t_i) (W(s_{j+1}) - W(s_j)) \\Delta t\\right)\\\\\n",
    "&\\approx \\sum_i\\sum_j s_j \\left[E(W(t_i)W(s_{j+1})) - E(W(t_i)W(s_j))\\right] \\Delta t \\\\\n",
    "&\\approx \\sum_i\\sum_j s_j \\left[ \\Delta s1_{\\{t_i>s_j\\}} \\right] \\Delta t \\\\\n",
    "&\\approx \\iint\\limits_{t>s} s \\,ds dt = \\frac{T^3}{6}.\n",
    "\\end{align*}"
   ]
  },
  {
   "cell_type": "code",
   "execution_count": 2,
   "metadata": {},
   "outputs": [
    {
     "name": "stdout",
     "output_type": "stream",
     "text": [
      "[[2.65784801 1.33743398]\n",
      " [1.33743398 2.68333453]]\n",
      "CPU times: user 23.2 s, sys: 41.1 ms, total: 23.2 s\n",
      "Wall time: 24 s\n"
     ]
    }
   ],
   "source": [
    "%%time\n",
    "import numpy as np\n",
    "from scipy.stats import norm\n",
    "from pandas import Series\n",
    "\n",
    "n = 10000\n",
    "T = 2\n",
    "\n",
    "sample_size = 10000\n",
    "sample = []\n",
    "for i in range(sample_size):\n",
    "    w = Series(norm.rvs(loc=0, scale=np.sqrt(T/n), size=n).cumsum()).shift(1, fill_value=0)\n",
    "    w.index = w.index*T/n\n",
    "    t = w.index\n",
    "    sample.append((w.diff().dropna().values @ t[1:].values, w.sum()*T/n))\n",
    "\n",
    "print(np.cov(np.array(sample).T))"
   ]
  },
  {
   "cell_type": "markdown",
   "metadata": {},
   "source": [
    "## Inverse Mills Ratio \n",
    "\n",
    "We have the conditional expectation\n",
    "\\begin{eqnarray*}\n",
    "E[X|X>K] &=& \\frac{f_X(K)}{1-F_X(K)}, \\\\\n",
    "E[X|X<K] &=& -\\frac{f_X(K)}{F_X(K)}, \n",
    "\\end{eqnarray*}\n",
    "where the last one is what's known as the [inverse Mills ratio](https://en.wikipedia.org/wiki/Mills_ratio#Inverse_Mills_ratio) taking negative. Below is a simulation using the standard normal distribution. "
   ]
  },
  {
   "cell_type": "code",
   "execution_count": 95,
   "metadata": {},
   "outputs": [
    {
     "name": "stdout",
     "output_type": "stream",
     "text": [
      "-0.13895207849237406\n",
      "-0.13878975045885078\n"
     ]
    }
   ],
   "source": [
    "from numpy.random import normal\n",
    "from scipy.stats import norm\n",
    "n = 1000000\n",
    "K = 1.5\n",
    "\n",
    "a = norm.rvs(loc=0, scale=1, size=n)\n",
    "\n",
    "print(a[a < K].mean())\n",
    "print(-norm.pdf(K)/(norm.cdf(K)))"
   ]
  },
  {
   "cell_type": "markdown",
   "metadata": {},
   "source": [
    "## Calculate the 41st Root in 1 Second\n",
    "\n",
    "Python integer can be arbitrarily large. Below is $54^{41}$. "
   ]
  },
  {
   "cell_type": "code",
   "execution_count": 4,
   "metadata": {},
   "outputs": [
    {
     "data": {
      "text/plain": [
       "106695020879414327538426959056889063841348427743537143096812648481685504"
      ]
     },
     "execution_count": 4,
     "metadata": {},
     "output_type": "execute_result"
    }
   ],
   "source": [
    "54**41"
   ]
  },
  {
   "cell_type": "markdown",
   "metadata": {},
   "source": [
    "Generate a random integer between $[0, 100)$ and compute its 41st power. "
   ]
  },
  {
   "cell_type": "code",
   "execution_count": 3,
   "metadata": {},
   "outputs": [
    {
     "data": {
      "text/plain": [
       "3574546132030870770399332670577487090810665965922351838949846024192"
      ]
     },
     "execution_count": 3,
     "metadata": {},
     "output_type": "execute_result"
    }
   ],
   "source": [
    "import random\n",
    "\n",
    "a = random.randrange(100)\n",
    "a**41"
   ]
  },
  {
   "cell_type": "markdown",
   "metadata": {},
   "source": [
    "The answer is "
   ]
  },
  {
   "cell_type": "code",
   "execution_count": 2,
   "metadata": {},
   "outputs": [
    {
     "data": {
      "text/plain": [
       "44"
      ]
     },
     "execution_count": 2,
     "metadata": {},
     "output_type": "execute_result"
    }
   ],
   "source": [
    "a"
   ]
  },
  {
   "cell_type": "markdown",
   "metadata": {},
   "source": [
    "## $3^4$ vs. $4^3$ which one is bigger? \n",
    "\n",
    "（和[常見的微分作法](https://www.youtube.com/watch?v=L0XY6llSzyo)不同）\n",
    "\n",
    "\\begin{eqnarray*}\n",
    "\\frac{d}{da} a^b &=& a^b\\left(\\frac{b}{a}\\right)\\\\\n",
    "\\frac{d}{db} a^b &=& a^b\\ln a\n",
    "\\end{eqnarray*}\n",
    "so \n",
    "\\begin{eqnarray*}\n",
    "(a+h)^b &\\approx& a^b + h(a^b\\left(\\frac{b}{a}\\right))\\\\\n",
    "a^{b+h} &\\approx& a^b + h(a^b\\ln a)\n",
    "\\end{eqnarray*}\n",
    "\n",
    "從 $3^3$ 開始，要把 1 加在底數還是指數會讓值變得更大？（相當於 $a=b=3, h=1$）看上面的式子可以猜到加在指數更好，也就是 $3^4$ 較大。\n",
    "\n",
    "\n",
    "泰展多寫幾項也可以比出 $e^{\\pi} > \\pi^e$。和微分作法一樣可以推出更一般的結論：當指數和底數都大於 $e$ 時，指數比較大者數值就比較大。但像 $2.5^3$ 和 $3^{2.5}$ 這種兩個數分別在 $e$ 的左右時微分作法比不出來，這裡的泰展作法比較好比。不過泰展本來就是在計算數值，有點作弊。\n"
   ]
  },
  {
   "cell_type": "markdown",
   "metadata": {},
   "source": [
    "## Square Root of a Complex Number\n",
    "\n",
    "If $x\\ge 0$, $y\\ge 0$ then \n",
    "\\begin{align*}\n",
    "\\sqrt{x+yi} = \\sqrt{\\frac{\\sqrt{x^2+y^2}+x}{2}} + i \\sqrt{\\frac{\\sqrt{x^2+y^2}-x}{2}}. \n",
    "\\end{align*}\n",
    "This can be used to find the numerical values like $\\sqrt{2+17i} = 3.0917 + 2.74929i$. "
   ]
  },
  {
   "cell_type": "markdown",
   "metadata": {},
   "source": [
    "## $\\cos(1^\\circ)$ in Closed Form\n",
    "\n",
    "用三倍角公式和 $\\cos(60^\\circ)=1/2$ 加上卡當諾公式可以算出 $\\cos(20^\\circ)$ 的 closed form。再利用 $\\sin(18^\\circ)=(-1+\\sqrt 5)/4$ 跟和角公式可以算出 $\\cos(2^\\circ) = \\cos(20^\\circ - 18^\\circ)$。最後用半角公式，可以算出\n",
    "\n",
    "\\begin{align*}\n",
    "\\cos(1^\\circ) = \\sqrt{\\frac{1}{2} \\left(1+\\frac{1}{4} \\sqrt{\\frac{1}{2} \\left(5+\\sqrt{5}\\right)}\n",
    "   \\left(\\sqrt[3]{\\frac{1}{2} \\left(1-i \\sqrt{3}\\right)}+\\sqrt[3]{\\frac{1}{2} \\left(1+i\n",
    "   \\sqrt{3}\\right)}\\right)+\\frac{1}{4} \\left(\\sqrt{5}-1\\right) \\sqrt{1-\\frac{1}{4}\n",
    "   \\left(\\sqrt[3]{\\frac{1}{2} \\left(1-i \\sqrt{3}\\right)}+\\sqrt[3]{\\frac{1}{2} \\left(1+i\n",
    "   \\sqrt{3}\\right)}\\right)^2}\\right)} \n",
    "\\end{align*}\n",
    "\n",
    "但是有 $i$ 在三次根號裡開不出來，所以有這個公式還是沒辦法用古典的方法把數值算出來。$\\cos(1^\\circ)$ 的數值大約是 0.999848。\n",
    "\n",
    "為了計算 $\\cos(1^\\circ)$ 的數值，與其設計複數直式開立方來計算上面這個公式的值，還不如設計直式解三次方式程求 $\\cos(20^\\circ)$。有沒有辦法直接直式計算 $\\cos(x^\\circ)$？\n",
    "\n",
    "\n",
    "把 $\\cos(30^\\circ)=\\sqrt{3}/2$ 拿來套半角公式算出 $\\cos(15^\\circ)$，再用 $\\cos(18^\\circ)$ 的值和合角公式就可以算出\n",
    "\\begin{align*}\n",
    "\\cos(3^\\circ) = \\frac{1}{8} \\left(\\sqrt{2-\\sqrt{3}} \\left(\\sqrt{5}-1\\right)+\\sqrt{2 \\left(2+\\sqrt{3}\\right) \\left(5+\\sqrt{5}\\right)}\\right)\n",
    "\\end{align*}\n",
    "這個是真正的 closed form，沒有任何複數，可以直接用這個公式算出數值。有了這個值，再用卡當諾公式解 $4x^3-3x = \\cos(3^\\circ)$ 就得到\n",
    "\\begin{align*}\n",
    "\\cos(1^\\circ) &= \\frac{1}{4} \\left(\\sqrt[3]{\\sqrt{2-\\sqrt{3}} \\left(\\sqrt{5}-1\\right)+\\sqrt{2 \\left(2+\\sqrt{3}\\right) \\left(5+\\sqrt{5}\\right)}-2 \\sqrt{-8+\\sqrt{3}+\\sqrt{15}-\\sqrt{\\frac{1}{2}\n",
    "   \\left(5+\\sqrt{5}\\right)}+\\sqrt{\\frac{1}{2} \\left(25+5 \\sqrt{5}\\right)}}}\\right.\\\\\n",
    "   &+\\left.\\sqrt[3]{\\sqrt{2-\\sqrt{3}} \\left(\\sqrt{5}-1\\right)+\\sqrt{2 \\left(2+\\sqrt{3}\\right)\n",
    "   \\left(5+\\sqrt{5}\\right)}+2 \\sqrt{-8+\\sqrt{3}+\\sqrt{15}-\\sqrt{\\frac{1}{2} \\left(5+\\sqrt{5}\\right)}+\\sqrt{\\frac{1}{2} \\left(25+5 \\sqrt{5}\\right)}}}\\right)\n",
    "\\end{align*}\n",
    "這個公式乍看之下沒有複數但實際上是作弊的因為根號裡面有負數。結果就是這個公式的數值還是沒辦法用直式開方法算出來。\n"
   ]
  }
 ],
 "metadata": {
  "kernelspec": {
   "display_name": "Python 3 (ipykernel)",
   "language": "python",
   "name": "python3"
  },
  "language_info": {
   "codemirror_mode": {
    "name": "ipython",
    "version": 3
   },
   "file_extension": ".py",
   "mimetype": "text/x-python",
   "name": "python",
   "nbconvert_exporter": "python",
   "pygments_lexer": "ipython3",
   "version": "3.7.10"
  }
 },
 "nbformat": 4,
 "nbformat_minor": 4
}

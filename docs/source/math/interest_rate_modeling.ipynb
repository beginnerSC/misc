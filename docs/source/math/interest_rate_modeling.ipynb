{
 "cells": [
  {
   "cell_type": "markdown",
   "id": "8ecfcbc5-0490-498e-8edb-98cab7254d1a",
   "metadata": {},
   "source": [
    "# Interest Rate Modeling\n",
    "\n",
    "* Yield Curve and Its 6 Representations\n",
    "* Girsanov's Theorem and the Change of Numeraire Formula\n",
    "    * Shreve's Theorem 9.2.1 and 9.2.2\n",
    "* Interest Rate Swaps and Vanilla Options Pricing\n",
    "    * Swaps\n",
    "        * Yield Curve Construction\n",
    "    * Caps and Floors\n",
    "    * Swaptions\n",
    "    * Black Normal Model, SABR Model, and Swaption Grid\n",
    "* The HJM Framework\n",
    "    * Derivation\n",
    "    * Dynamics of $L$ (LIBOR)\n",
    "        * Instantaneous Forward Rate Vol and Skew\n",
    "        * Forward Future Convexity Adjustment\n",
    "    * Dynamics of $S$\n",
    "    * Duration and HJM\n",
    "    * SOFR Extension\n",
    "        * Extended Hexagon\n",
    "        * Dynamics of $L$ and Cap Pricing\n",
    "        * SABR RFR\n",
    "        * Forward Future Convexity Adjustment\n",
    "* HW1F\n",
    "    * Separable Vol and Markovian Short Rate\n",
    "    * Time Stationary Vol and Vol Hump\n",
    "    * Jamshidian for Swaption Pricing\n",
    "    * Bermudan Swaption\n",
    "* LIBOR Market Model\n",
    "    * Spot Measure\n",
    "    * Discrete HJM\n",
    "* Mid-Curve Swaption Pricing\n",
    "* CMS Caps and CMS Spread Options\n",
    "    * Break Even CMS Rate\n",
    "    * CMS Convexity Adjustment\n",
    "    * Annuity Mapping Function\n",
    "    * Replication Method\n",
    "    * Distribution of $S_T$ in the $T_p$-Forward Measure\n",
    "    * Copula Models for CMS Spread Option Pricing\n",
    "* HW2F\n",
    "    * Covariance Structure in the Multi-Dimensional HJM Model\n",
    "    * Separable Vol and Markovian Short Rate\n",
    "    * Time Stationary Vol and Vol Hump\n",
    "    * Jamshidian for Swaption Pricing\n",
    "* Multi-Factor Cheyette Model\n",
    "    * Leif Andersen Parameterization\n",
    "    * Swaption Grid Revisited\n",
    "        * Limiting Swap Curve\n",
    "* Other Topics\n",
    "    * Curve PCA\n",
    "        * Variance Explained\n",
    "        * PnL Attribution\n",
    "        * HW2F Implied PCs\n",
    "    * Nelson Siegel\n",
    "    * MPCA\n",
    "    * Event Weight\n",
    "    * Longstaff Schwartz"
   ]
  }
 ],
 "metadata": {
  "kernelspec": {
   "display_name": "Python 3 (ipykernel)",
   "language": "python",
   "name": "python3"
  },
  "language_info": {
   "codemirror_mode": {
    "name": "ipython",
    "version": 3
   },
   "file_extension": ".py",
   "mimetype": "text/x-python",
   "name": "python",
   "nbconvert_exporter": "python",
   "pygments_lexer": "ipython3",
   "version": "3.10.14"
  }
 },
 "nbformat": 4,
 "nbformat_minor": 5
}

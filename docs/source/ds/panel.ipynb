{
 "cells": [
  {
   "cell_type": "markdown",
   "metadata": {},
   "source": [
    "# Convert Jupyter Notebook to PDF File"
   ]
  },
  {
   "cell_type": "markdown",
   "metadata": {},
   "source": [
    "[Voila 不能正確 render Boken](https://github.com/voila-dashboards/voila/issues/244) 所以應該很多 HoloViz Panel 的元件都沒辦法用 Voila 佈署。\n",
    "\n",
    "下面這個 app 在 Jupyter 的環境下可以讓使用者上傳 notebook file 並編譯成 PDF，但因為檔案上傳的部份是用 Panel 寫的，Voila render 出來的版本就沒辦法用。用 Panel 寫檔案上傳下載比 ipywedgets 容易多了，但 Voila 無法 render"
   ]
  },
  {
   "cell_type": "code",
   "execution_count": null,
   "metadata": {},
   "outputs": [],
   "source": [
    "from ipywidgets import Button, Output\n",
    "from IPython.display import display\n",
    "import subprocess\n",
    "import panel as pn\n",
    "pn.extension()\n",
    "\n",
    "fileInput = pn.widgets.FileInput()\n",
    "output = Output()\n",
    "convertButton = Button(description='Convert')\n",
    "\n",
    "def convert(b):\n",
    "    with output:\n",
    "        print('In convert')\n",
    "        nbName = fileInput.filename\n",
    "        pdfName = nbName.replace('ipynb', 'pdf')\n",
    "        fileInput.save(nbName)\n",
    "        subprocess.run(['jupyter', 'nbconvert', '--to', 'pdf', nbName])\n",
    "\n",
    "convertButton.on_click(convert)\n",
    "\n",
    "\n",
    "display(fileInput, convertButton, output) "
   ]
  }
 ],
 "metadata": {
  "kernelspec": {
   "display_name": "Python 3",
   "language": "python",
   "name": "python3"
  },
  "language_info": {
   "codemirror_mode": {
    "name": "ipython",
    "version": 3
   },
   "file_extension": ".py",
   "mimetype": "text/x-python",
   "name": "python",
   "nbconvert_exporter": "python",
   "pygments_lexer": "ipython3",
   "version": "3.7.8"
  }
 },
 "nbformat": 4,
 "nbformat_minor": 4
}

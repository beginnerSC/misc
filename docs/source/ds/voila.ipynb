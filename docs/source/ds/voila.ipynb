{
 "cells": [
  {
   "cell_type": "markdown",
   "metadata": {},
   "source": [
    "# Voilà"
   ]
  },
  {
   "cell_type": "markdown",
   "metadata": {},
   "source": [
    "## Notebook to PDF Converter"
   ]
  },
  {
   "cell_type": "code",
   "execution_count": null,
   "metadata": {},
   "outputs": [],
   "source": [
    "from ipywidgets import FileUpload, Button, Output, GridspecLayout, HTML\n",
    "from IPython.display import display, clear_output, Image\n",
    "import subprocess, os, base64\n",
    "import Voilà\n",
    "\n",
    "grid = GridspecLayout(6, 3)\n",
    "output = Output()\n",
    "\n",
    "fileInput = FileUpload()\n",
    "convertButton = Button(description='Convert')\n",
    "loadingGifPath = 'https://upload.wikimedia.org/wikipedia/commons/a/a3/Lightness_rotate_36f_cw.gif'\n",
    "\n",
    "def convert(b):\n",
    "    with output:\n",
    "        display(Image(url=loadingGifPath, width=25, height=25))\n",
    "        nbName = list(fileInput.value.keys())[0]\n",
    "        pdfName = nbName.replace('ipynb', 'pdf')\n",
    "        with open(nbName, 'w+b') as f:\n",
    "            f.write(fileInput.data[0])\n",
    "        proc = subprocess.run(['jupyter', 'nbconvert', nbName, '--to', 'pdf'])\n",
    "        clear_output()\n",
    "        if proc.returncode == 1:\n",
    "            print('LaTeX compiling error!')\n",
    "        else:\n",
    "            with open(pdfName, \"rb\") as f:\n",
    "                data = f.read()\n",
    "                b64 = base64.b64encode(data)\n",
    "                payload = b64.decode()\n",
    "            display(HTML(f'''<a download=\"{pdfName}\" href=\"data:text/csv;base64,{payload}\" target=\"_blank\">  \n",
    "                            <button class=\"p-Widget jupyter-widgets jupyter-button widget-button\"> Download PDF </button>\n",
    "                        </a>'''))\n",
    "\n",
    "convertButton.on_click(convert)\n",
    "\n",
    "display(fileInput, convertButton, output) \n",
    "grid[0, :] = HTML(markdown.markdown('''# Notebook to PDF Converter'''))\n",
    "grid[1:4, :2] = HTML(markdown.markdown('''\n",
    "## 3 Easy Steps: \n",
    "1. Upload your notebook (.ipynb) file. You may only convert one notebook at a time \\n\n",
    "* Hit Convert \\n\n",
    "* A Download button will show up when your PDF file is ready. Enjoy!\n",
    "'''))\n",
    "grid[2, 2] = fileInput\n",
    "grid[3, 2] = convertButton\n",
    "grid[4, 2] = output\n",
    "# grid[5, :] = HTML(markdown.markdown('''Powered by [![Jupyter](https://jupyter.org/assets/main-logo.svg)](https://jupyter.org/) \n",
    "# [![Voila](https://voila.readthedocs.io/en/latest/_images/voila-logo.svg =100x)](https://voila.readthedocs.io/en/latest/?badge=latest)'''))\n",
    "grid[5, :] = HTML('''\n",
    "<img src=\"https://jupyter.org/assets/main-logo.svg\" alt=\"Jupyter\" width=\"100\"/>\n",
    "<img src=\"https://voila.readthedocs.io/en/latest/_images/voila-logo.svg\" alt=\"Voila\" width=\"100\"/>\n",
    "''')\n",
    "\n",
    "\n",
    "grid\n"
   ]
  }
 ],
 "metadata": {
  "kernelspec": {
   "display_name": "Python 3",
   "language": "python",
   "name": "python3"
  },
  "language_info": {
   "codemirror_mode": {
    "name": "ipython",
    "version": 3
   },
   "file_extension": ".py",
   "mimetype": "text/x-python",
   "name": "python",
   "nbconvert_exporter": "python",
   "pygments_lexer": "ipython3",
   "version": "3.7.8"
  }
 },
 "nbformat": 4,
 "nbformat_minor": 4
}

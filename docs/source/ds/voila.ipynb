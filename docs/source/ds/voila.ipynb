{
 "cells": [
  {
   "cell_type": "markdown",
   "metadata": {},
   "source": [
    "## Notebook to PDF Converter"
   ]
  },
  {
   "cell_type": "code",
   "execution_count": 5,
   "metadata": {},
   "outputs": [
    {
     "data": {
      "application/vnd.jupyter.widget-view+json": {
       "model_id": "79e7c728a3f64497a19573ee626457d9",
       "version_major": 2,
       "version_minor": 0
      },
      "text/plain": [
       "FileUpload(value={}, description='Upload')"
      ]
     },
     "metadata": {},
     "output_type": "display_data"
    },
    {
     "data": {
      "application/vnd.jupyter.widget-view+json": {
       "model_id": "b9065601f6434dadba6aa53749870703",
       "version_major": 2,
       "version_minor": 0
      },
      "text/plain": [
       "Button(description='Convert', style=ButtonStyle())"
      ]
     },
     "metadata": {},
     "output_type": "display_data"
    },
    {
     "data": {
      "application/vnd.jupyter.widget-view+json": {
       "model_id": "eb96cde5175b4e6494a41c422a322e9b",
       "version_major": 2,
       "version_minor": 0
      },
      "text/plain": [
       "Output()"
      ]
     },
     "metadata": {},
     "output_type": "display_data"
    }
   ],
   "source": [
    "from ipywidgets import FileUpload, Button, Output\n",
    "from IPython.display import display, HTML\n",
    "import subprocess, os, base64\n",
    "\n",
    "output = Output()\n",
    "fileInput = FileUpload()\n",
    "convertButton = Button(description='Convert')\n",
    "\n",
    "def convert(b):\n",
    "    with output:\n",
    "        print('Your PDF will be ready in a few seconds. ')\n",
    "        nbName = list(fileInput.value.keys())[0]\n",
    "        pdfName = nbName.replace('ipynb', 'pdf')\n",
    "        with open(nbName, 'w+b') as f:\n",
    "            f.write(fileInput.data[0])\n",
    "        proc = subprocess.run(['jupyter', 'nbconvert', nbName, '--to', 'pdf'])\n",
    "        if proc.returncode == 1:\n",
    "            print('LaTeX compiling error!')\n",
    "        else:\n",
    "            with open(pdfName, \"rb\") as f:\n",
    "                data = f.read()\n",
    "                b64 = base64.b64encode(data)\n",
    "                payload = b64.decode()\n",
    "            display(HTML(f'''<a download=\"{pdfName}\" href=\"data:text/csv;base64,{payload}\" target=\"_blank\">\n",
    "                                <button class=\"p-Widget jupyter-widgets jupyter-button widget-button\"> Download PDF </button>\n",
    "                            </a>'''))\n",
    "\n",
    "convertButton.on_click(convert)\n",
    "\n",
    "display(fileInput, convertButton, output) "
   ]
  }
 ],
 "metadata": {
  "kernelspec": {
   "display_name": "Python 3",
   "language": "python",
   "name": "python3"
  },
  "language_info": {
   "codemirror_mode": {
    "name": "ipython",
    "version": 3
   },
   "file_extension": ".py",
   "mimetype": "text/x-python",
   "name": "python",
   "nbconvert_exporter": "python",
   "pygments_lexer": "ipython3",
   "version": "3.7.8"
  }
 },
 "nbformat": 4,
 "nbformat_minor": 4
}

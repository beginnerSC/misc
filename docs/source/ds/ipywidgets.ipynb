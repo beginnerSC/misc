{
 "cells": [
  {
   "cell_type": "markdown",
   "metadata": {},
   "source": [
    "# Jupyter Widgets"
   ]
  },
  {
   "cell_type": "markdown",
   "metadata": {},
   "source": [
    "Convert ipynb to PDF: This app is completely working in Jupyter but not if rendered by Voila. "
   ]
  },
  {
   "cell_type": "code",
   "execution_count": null,
   "metadata": {},
   "outputs": [],
   "source": [
    "from ipywidgets import FileUpload, Button, Output\n",
    "from IPython.display import display, FileLink\n",
    "import subprocess\n",
    "\n",
    "output = Output()\n",
    "fileInput = FileUpload()\n",
    "convertButton = Button(description='Convert')\n",
    "\n",
    "def convert(b):\n",
    "    with output:\n",
    "        print('Your PDF will be ready right away. ')\n",
    "        nbName = list(fileInput.value.keys())[0]\n",
    "        pdfName = nbName.replace('ipynb', 'pdf')\n",
    "        with open(nbName, 'w+b') as f:\n",
    "            f.write(fileInput.data[0]) \n",
    "        proc = subprocess.run(['jupyter', 'nbconvert', nbName, '--to', 'pdf'])\n",
    "        if proc.returncode == 1:\n",
    "            print('LaTeX compiling error!')\n",
    "        else:\n",
    "            print('PDF is ready! You may now download it through the below link: ')\n",
    "            display(FileLink(pdfName))\n",
    "\n",
    "convertButton.on_click(convert)\n",
    "\n",
    "display(fileInput, convertButton, output) "
   ]
  },
  {
   "cell_type": "code",
   "execution_count": 21,
   "metadata": {},
   "outputs": [
    {
     "name": "stdout",
     "output_type": "stream",
     "text": [
      "[{'base_url': '/user/beginnersc-sandbox-stable-o84e6rsu/',\n",
      "  'hostname': '0.0.0.0',\n",
      "  'notebook_dir': '/home/jovyan',\n",
      "  'password': False,\n",
      "  'pid': 1,\n",
      "  'port': 8888,\n",
      "  'secure': False,\n",
      "  'token': 'auxguyd5S9y7WWn4dIl4SA',\n",
      "  'url': 'http://0.0.0.0:8888/user/beginnersc-sandbox-stable-o84e6rsu/'}]\n"
     ]
    }
   ],
   "source": [
    "from notebook import notebookapp\n",
    "from pprint import pprint\n",
    "servers = list(notebookapp.list_running_servers())\n",
    "pprint(servers)"
   ]
  },
  {
   "cell_type": "code",
   "execution_count": null,
   "metadata": {},
   "outputs": [],
   "source": [
    "from jupyter_dash import JupyterDash\n",
    "import dash_html_components as html\n",
    "\n",
    "JupyterDash.infer_jupyter_proxy_config()\n",
    "\n",
    "JupyterDash()\n",
    "JupyterDash.default_server_url"
   ]
  }
 ],
 "metadata": {
  "kernelspec": {
   "display_name": "Python 3",
   "language": "python",
   "name": "python3"
  },
  "language_info": {
   "codemirror_mode": {
    "name": "ipython",
    "version": 3
   },
   "file_extension": ".py",
   "mimetype": "text/x-python",
   "name": "python",
   "nbconvert_exporter": "python",
   "pygments_lexer": "ipython3",
   "version": "3.7.8"
  }
 },
 "nbformat": 4,
 "nbformat_minor": 4
}

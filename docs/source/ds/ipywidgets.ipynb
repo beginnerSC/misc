{
 "cells": [
  {
   "cell_type": "markdown",
   "metadata": {},
   "source": [
    "# Jupyter Widgets"
   ]
  },
  {
   "cell_type": "markdown",
   "metadata": {},
   "source": [
    "Convert ipynb to PDF: This app is completely working in Jupyter but not if rendered by Voila. "
   ]
  },
  {
   "cell_type": "code",
   "execution_count": null,
   "metadata": {},
   "outputs": [],
   "source": [
    "from ipywidgets import FileUpload, Button, Output\n",
    "from IPython.display import display, FileLink\n",
    "import subprocess\n",
    "\n",
    "output = Output()\n",
    "fileInput = FileUpload()\n",
    "convertButton = Button(description='Convert')\n",
    "\n",
    "def convert(b):\n",
    "    with output:\n",
    "        print('Your PDF will be ready right away. ')\n",
    "        nbName = list(fileInput.value.keys())[0]\n",
    "        pdfName = nbName.replace('ipynb', 'pdf')\n",
    "        with open(nbName, 'w+b') as f:\n",
    "            f.write(fileInput.data[0]) \n",
    "        proc = subprocess.run(['jupyter', 'nbconvert', nbName, '--to', 'pdf'])\n",
    "        if proc.returncode == 1:\n",
    "            print('LaTeX compiling error!')\n",
    "        else:\n",
    "            print('PDF is ready! You may now download it through the below link: ')\n",
    "            display(FileLink(pdfName))\n",
    "\n",
    "convertButton.on_click(convert)\n",
    "\n",
    "display(fileInput, convertButton, output) "
   ]
  },
  {
   "cell_type": "code",
   "execution_count": 21,
   "metadata": {},
   "outputs": [
    {
     "name": "stdout",
     "output_type": "stream",
     "text": [
      "[{'base_url': '/user/beginnersc-sandbox-stable-o84e6rsu/',\n",
      "  'hostname': '0.0.0.0',\n",
      "  'notebook_dir': '/home/jovyan',\n",
      "  'password': False,\n",
      "  'pid': 1,\n",
      "  'port': 8888,\n",
      "  'secure': False,\n",
      "  'token': 'auxguyd5S9y7WWn4dIl4SA',\n",
      "  'url': 'http://0.0.0.0:8888/user/beginnersc-sandbox-stable-o84e6rsu/'}]\n"
     ]
    }
   ],
   "source": [
    "from notebook import notebookapp\n",
    "from pprint import pprint\n",
    "servers = list(notebookapp.list_running_servers())\n",
    "pprint(servers)"
   ]
  },
  {
   "cell_type": "code",
   "execution_count": null,
   "metadata": {},
   "outputs": [],
   "source": [
    "# from jupyter_dash import JupyterDash\n",
    "# import dash_html_components as html\n",
    "\n",
    "# JupyterDash.infer_jupyter_proxy_config()\n",
    "\n",
    "# JupyterDash()\n",
    "# JupyterDash.default_server_url"
   ]
  },
  {
   "cell_type": "markdown",
   "metadata": {},
   "source": [
    "## Minimum code to get server url\n",
    "\n",
    "From [JupyterDash source code](https://github.com/plotly/jupyter-dash/blob/master/jupyter_dash/comms.py). Below will work if JupyterDash is installed, but in Voila will still fail. "
   ]
  },
  {
   "cell_type": "code",
   "execution_count": 2,
   "metadata": {},
   "outputs": [
    {
     "name": "stdout",
     "output_type": "stream",
     "text": [
      "0\n"
     ]
    }
   ],
   "source": [
    "import IPython\n",
    "from ipykernel.comm import Comm\n",
    "import time\n",
    "import sys\n",
    "\n",
    "_jupyter_config = {}\n",
    "_dash_comm = Comm(target_name='jupyter_dash')\n",
    "\n",
    "print(0)"
   ]
  },
  {
   "cell_type": "code",
   "execution_count": 3,
   "metadata": {},
   "outputs": [
    {
     "name": "stdout",
     "output_type": "stream",
     "text": [
      "0\n"
     ]
    }
   ],
   "source": [
    "@_dash_comm.on_msg\n",
    "def _receive_message(msg):\n",
    "    msg_data = msg.get('content').get('data')\n",
    "    msg_type = msg_data.get('type', None)\n",
    "    if msg_type == 'base_url_response':\n",
    "        _jupyter_config.update(msg_data)\n",
    "\n",
    "_dash_comm.send({'type': 'base_url_request'})\n",
    "print(0)"
   ]
  },
  {
   "cell_type": "code",
   "execution_count": 5,
   "metadata": {},
   "outputs": [
    {
     "name": "stdout",
     "output_type": "stream",
     "text": [
      "0\n"
     ]
    },
    {
     "ename": "OSError",
     "evalue": "Unable to communicate with the jupyter_dash notebook or JupyterLab \nextension required to infer Jupyter configuration.",
     "output_type": "error",
     "traceback": [
      "\u001b[0;31m---------------------------------------------------------------------------\u001b[0m",
      "\u001b[0;31mOSError\u001b[0m                                   Traceback (most recent call last)",
      "\u001b[0;32m<ipython-input-4-175fa47f6d0f>\u001b[0m in \u001b[0;36m<module>\u001b[0;34m\u001b[0m\n\u001b[1;32m     20\u001b[0m         \u001b[0;31m# give up\u001b[0m\u001b[0;34m\u001b[0m\u001b[0;34m\u001b[0m\u001b[0;34m\u001b[0m\u001b[0m\n\u001b[1;32m     21\u001b[0m         raise EnvironmentError(\n\u001b[0;32m---> 22\u001b[0;31m             \u001b[0;34m\"Unable to communicate with the jupyter_dash notebook or JupyterLab \\n\"\u001b[0m\u001b[0;34m\u001b[0m\u001b[0;34m\u001b[0m\u001b[0m\n\u001b[0m\u001b[1;32m     23\u001b[0m             \u001b[0;34m\"extension required to infer Jupyter configuration.\"\u001b[0m\u001b[0;34m\u001b[0m\u001b[0;34m\u001b[0m\u001b[0m\n\u001b[1;32m     24\u001b[0m         )\n",
      "\u001b[0;31mOSError\u001b[0m: Unable to communicate with the jupyter_dash notebook or JupyterLab \nextension required to infer Jupyter configuration."
     ]
    }
   ],
   "source": [
    "# Get shell and kernel\n",
    "shell = IPython.get_ipython()\n",
    "kernel = shell.kernel\n",
    "\n",
    "# Start capturing shell events to replay later\n",
    "captured_events = []\n",
    "\n",
    "def capture_event(stream, ident, parent):\n",
    "    captured_events.append((stream, ident, parent))\n",
    "\n",
    "kernel.shell_handlers['execute_request'] = capture_event\n",
    "\n",
    "# increment execution count to avoid collision error\n",
    "shell.execution_count += 1\n",
    "\n",
    "print(0)\n",
    "t0 = time.time()\n",
    "while True:\n",
    "    if (time.time() - t0) > 2:\n",
    "        # give up\n",
    "        raise EnvironmentError(\n",
    "            \"Unable to communicate with the jupyter_dash notebook or JupyterLab \\n\"\n",
    "            \"extension required to infer Jupyter configuration.\"\n",
    "        )\n",
    "    if bool(_jupyter_config):\n",
    "        break\n",
    "        \n",
    "    kernel.do_one_iteration()\n",
    "\n",
    "print(0)\n",
    "_jupyter_config"
   ]
  }
 ],
 "metadata": {
  "kernelspec": {
   "display_name": "Python 3",
   "language": "python",
   "name": "python3"
  },
  "language_info": {
   "codemirror_mode": {
    "name": "ipython",
    "version": 3
   },
   "file_extension": ".py",
   "mimetype": "text/x-python",
   "name": "python",
   "nbconvert_exporter": "python",
   "pygments_lexer": "ipython3",
   "version": "3.7.8"
  }
 },
 "nbformat": 4,
 "nbformat_minor": 4
}

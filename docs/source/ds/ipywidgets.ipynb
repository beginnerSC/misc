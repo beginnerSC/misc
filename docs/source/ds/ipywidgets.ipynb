{
 "cells": [
  {
   "cell_type": "markdown",
   "metadata": {},
   "source": [
    "# Jupyter Widgets"
   ]
  },
  {
   "cell_type": "markdown",
   "metadata": {},
   "source": [
    "Convert ipynb to PDF: This app is completely working in Jupyter but not if rendered by Voila. "
   ]
  },
  {
   "cell_type": "code",
   "execution_count": 21,
   "metadata": {},
   "outputs": [
    {
     "data": {
      "application/vnd.jupyter.widget-view+json": {
       "model_id": "51a87217fffa487292f6981ca9643632",
       "version_major": 2,
       "version_minor": 0
      },
      "text/plain": [
       "FileUpload(value={}, description='Upload')"
      ]
     },
     "metadata": {},
     "output_type": "display_data"
    },
    {
     "data": {
      "application/vnd.jupyter.widget-view+json": {
       "model_id": "f63cfeacccac49b19593687727cac73e",
       "version_major": 2,
       "version_minor": 0
      },
      "text/plain": [
       "Button(description='Convert', style=ButtonStyle())"
      ]
     },
     "metadata": {},
     "output_type": "display_data"
    },
    {
     "data": {
      "application/vnd.jupyter.widget-view+json": {
       "model_id": "28239c1e920c4612bbd897a9ac031517",
       "version_major": 2,
       "version_minor": 0
      },
      "text/plain": [
       "Output()"
      ]
     },
     "metadata": {},
     "output_type": "display_data"
    }
   ],
   "source": [
    "from ipywidgets import FileUpload, Button, Output\n",
    "from IPython.display import display, FileLink, HTML\n",
    "import subprocess, os\n",
    "\n",
    "env = 'lab'   # change to 'voila' before deploying\n",
    "\n",
    "output = Output()\n",
    "fileInput = FileUpload()\n",
    "convertButton = Button(description='Convert')\n",
    "\n",
    "def convert(b):\n",
    "    with output:\n",
    "        print('Your PDF will be ready in a few seconds. ')\n",
    "        nbName = list(fileInput.value.keys())[0]\n",
    "        pdfName = nbName.replace('ipynb', 'pdf')\n",
    "        with open(nbName, 'w+b') as f:\n",
    "            f.write(fileInput.data[0]) \n",
    "        proc = subprocess.run(['jupyter', 'nbconvert', nbName, '--to', 'pdf'])\n",
    "        if proc.returncode == 1:\n",
    "            print('LaTeX compiling error!')\n",
    "        else:\n",
    "            pdfPath = '/'.join(['tree'] + os.getcwd().split('/')[3:] + [pdfName])\n",
    "            pdfPath = '/'.join(['tree'] + os.getcwd().split('/')[3:])\n",
    "            display(HTML('''\n",
    "                        <html>\n",
    "                        <body>\n",
    "                        <script type=\"text/javascript\">\n",
    "                            function setHref() {\n",
    "                                var server = window.location.href;\n",
    "                                var homeIdx = server.indexOf(\"%s\");\n",
    "                                server = server.slice(0, homeIdx);\n",
    "                                var href = server + \"%s\";\n",
    "                                alert(href);\n",
    "                                document.buttonForm.link.href = href;\n",
    "                            }\n",
    "                        </script>\n",
    "                        <form name=\"buttonForm\">\n",
    "                            <a name=\"link\" href=\"https://www.google.com\">\n",
    "                                <button class=\"p-Widget jupyter-widgets jupyter-button widget-button\" onClick=\"setHref();return true;\">\n",
    "                                    Download PDF\n",
    "                                </button>\n",
    "                            </a>\n",
    "                        </form>\n",
    "                        </body>\n",
    "                        </html>\n",
    "                         '''% (env, pdfPath)))\n",
    "\n",
    "convertButton.on_click(convert)\n",
    "\n",
    "display(fileInput, convertButton, output) "
   ]
  },
  {
   "cell_type": "code",
   "execution_count": 24,
   "metadata": {},
   "outputs": [
    {
     "data": {
      "text/html": [
       "\n",
       "                            <a name=\"link\" href=\"https://www.google.com\" download>\n",
       "                                <button class=\"p-Widget jupyter-widgets jupyter-button widget-button\" onClick=\"setHref();return true;\">\n",
       "                                    Download PDF\n",
       "                                </button>\n",
       "                            </a>\n"
      ],
      "text/plain": [
       "<IPython.core.display.HTML object>"
      ]
     },
     "metadata": {},
     "output_type": "display_data"
    }
   ],
   "source": [
    "display(HTML('''\n",
    "                            <a name=\"link\" href=\"https://www.google.com\" download>\n",
    "                                <button class=\"p-Widget jupyter-widgets jupyter-button widget-button\" onClick=\"setHref();return true;\">\n",
    "                                    Download PDF\n",
    "                                </button>\n",
    "                            </a>\n",
    "'''))"
   ]
  },
  {
   "cell_type": "code",
   "execution_count": 20,
   "metadata": {},
   "outputs": [
    {
     "data": {
      "text/html": [
       "\n",
       "            <html>\n",
       "            <body>\n",
       "            <script>\n",
       "                function setHref() {\n",
       "                    var server = window.location.href;\n",
       "                    var homeIdx = server.indexOf(\"lab\");\n",
       "                    server = server.slice(0, homeIdx);\n",
       "                    var href = server + \"tree/misc/docs/source/ds/__dash1.pdf\";\n",
       "                    alert(href);\n",
       "                    \n",
       "                }\n",
       "            </script>\n",
       "            <form name=\"buttonForm\">\n",
       "                <a name=\"link\" download>\n",
       "                    <button class=\"p-Widget jupyter-widgets jupyter-button widget-button\" onClick=\"setHref();return true;\">\n",
       "                        Download PDF\n",
       "                    </button>\n",
       "                </a>\n",
       "            </form>\n",
       "            </body>\n",
       "            </html>\n",
       "             "
      ],
      "text/plain": [
       "<IPython.core.display.HTML object>"
      ]
     },
     "metadata": {},
     "output_type": "display_data"
    }
   ],
   "source": [
    "pdfPath = 'tree/misc/docs/source/ds/__dash1.pdf'\n",
    "env = 'lab'\n",
    "\n",
    "display(HTML('''\n",
    "            <html>\n",
    "            <body>\n",
    "            <script>\n",
    "                function setHref() {\n",
    "                    var server = window.location.href;\n",
    "                    var homeIdx = server.indexOf(\"%s\");\n",
    "                    server = server.slice(0, homeIdx);\n",
    "                    var href = server + \"%s\";\n",
    "                    alert(href);\n",
    "                    \n",
    "                }\n",
    "            </script>\n",
    "            <form name=\"buttonForm\">\n",
    "                <a name=\"link\" download>\n",
    "                    <button class=\"p-Widget jupyter-widgets jupyter-button widget-button\" onClick=\"setHref();return true;\">\n",
    "                        Download PDF\n",
    "                    </button>\n",
    "                </a>\n",
    "            </form>\n",
    "            </body>\n",
    "            </html>\n",
    "             '''% (env, pdfPath)))\n"
   ]
  },
  {
   "cell_type": "code",
   "execution_count": null,
   "metadata": {},
   "outputs": [],
   "source": [
    "#             \"https://hub.gke2.mybinder.org/user/beginnersc-sandbox-stable-cuvkwhsn/tree/misc/docs/source/ds/__dash1.pdf\"\n",
    "#             print('PDF is ready! You may now download it through the below link: ')\n",
    "#             display(HTML(\"<script>alert(window.location.href);</script>\"))\n",
    "#             print(FileLink(pdfName))\n"
   ]
  },
  {
   "cell_type": "code",
   "execution_count": 9,
   "metadata": {},
   "outputs": [
    {
     "data": {
      "text/plain": [
       "array(['__class__', '__delattr__', '__dict__', '__dir__', '__doc__',\n",
       "       '__eq__', '__format__', '__ge__', '__getattribute__', '__gt__',\n",
       "       '__hash__', '__init__', '__init_subclass__', '__le__', '__lt__',\n",
       "       '__module__', '__ne__', '__new__', '__reduce__', '__reduce_ex__',\n",
       "       '__repr__', '__setattr__', '__sizeof__', '__str__',\n",
       "       '__subclasshook__', '__weakref__', '_check_data',\n",
       "       '_data_and_metadata', '_read_flags', '_repr_javascript_',\n",
       "       '_show_mem_addr', 'css', 'data', 'filename', 'lib', 'metadata',\n",
       "       'reload', 'url'], dtype='<U18')"
      ]
     },
     "execution_count": 9,
     "metadata": {},
     "output_type": "execute_result"
    }
   ],
   "source": [
    "# from IPython.display import Javascript\n",
    "# import numpy as np\n",
    "\n",
    "# np.array(dir(Javascript('window.location.href')))"
   ]
  }
 ],
 "metadata": {
  "kernelspec": {
   "display_name": "Python 3",
   "language": "python",
   "name": "python3"
  },
  "language_info": {
   "codemirror_mode": {
    "name": "ipython",
    "version": 3
   },
   "file_extension": ".py",
   "mimetype": "text/x-python",
   "name": "python",
   "nbconvert_exporter": "python",
   "pygments_lexer": "ipython3",
   "version": "3.7.8"
  }
 },
 "nbformat": 4,
 "nbformat_minor": 4
}

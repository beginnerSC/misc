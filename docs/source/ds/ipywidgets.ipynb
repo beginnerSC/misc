{
 "cells": [
  {
   "cell_type": "markdown",
   "metadata": {},
   "source": [
    "# Jupyter Widgets"
   ]
  },
  {
   "cell_type": "markdown",
   "metadata": {},
   "source": [
    "Convert ipynb to PDF: This app is completely working in Jupyter but not if rendered by Voila. "
   ]
  },
  {
   "cell_type": "code",
   "execution_count": 1,
   "metadata": {},
   "outputs": [
    {
     "data": {
      "application/vnd.jupyter.widget-view+json": {
       "model_id": "1ffba26a5c9e4d8a89a2ff2278926b4c",
       "version_major": 2,
       "version_minor": 0
      },
      "text/plain": [
       "FileUpload(value={}, description='Upload')"
      ]
     },
     "metadata": {},
     "output_type": "display_data"
    },
    {
     "data": {
      "application/vnd.jupyter.widget-view+json": {
       "model_id": "e10a98e6f94f44808984c407f37755eb",
       "version_major": 2,
       "version_minor": 0
      },
      "text/plain": [
       "Button(description='Convert', style=ButtonStyle())"
      ]
     },
     "metadata": {},
     "output_type": "display_data"
    },
    {
     "data": {
      "application/vnd.jupyter.widget-view+json": {
       "model_id": "bb7b10c0c00a4d0b8d3eee4a33f0d3da",
       "version_major": 2,
       "version_minor": 0
      },
      "text/plain": [
       "Output()"
      ]
     },
     "metadata": {},
     "output_type": "display_data"
    }
   ],
   "source": [
    "from ipywidgets import FileUpload, Button, Output\n",
    "from IPython.display import display, FileLink\n",
    "import subprocess\n",
    "\n",
    "output = Output()\n",
    "fileInput = FileUpload()\n",
    "convertButton = Button(description='Convert')\n",
    "\n",
    "def convert(b):\n",
    "    with output:\n",
    "        print('Your PDF will be ready in a few seconds. ')\n",
    "        nbName = list(fileInput.value.keys())[0]\n",
    "        pdfName = nbName.replace('ipynb', 'pdf')\n",
    "        with open(nbName, 'w+b') as f:\n",
    "            f.write(fileInput.data[0]) \n",
    "        proc = subprocess.run(['jupyter', 'nbconvert', nbName, '--to', 'pdf'])\n",
    "        if proc.returncode == 1:\n",
    "            print('LaTeX compiling error!')\n",
    "        else:\n",
    "            print('PDF is ready! You may now download it through the below link: ')\n",
    "            display(FileLink(pdfName))\n",
    "\n",
    "convertButton.on_click(convert)\n",
    "\n",
    "display(fileInput, convertButton, output) "
   ]
  }
 ],
 "metadata": {
  "kernelspec": {
   "display_name": "Python 3",
   "language": "python",
   "name": "python3"
  },
  "language_info": {
   "codemirror_mode": {
    "name": "ipython",
    "version": 3
   },
   "file_extension": ".py",
   "mimetype": "text/x-python",
   "name": "python",
   "nbconvert_exporter": "python",
   "pygments_lexer": "ipython3",
   "version": "3.7.8"
  }
 },
 "nbformat": 4,
 "nbformat_minor": 4
}

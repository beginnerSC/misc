{
 "cells": [
  {
   "cell_type": "markdown",
   "metadata": {},
   "source": [
    "# Jupyter Widgets"
   ]
  },
  {
   "cell_type": "markdown",
   "metadata": {},
   "source": [
    "## Notebook to PDF Converter\n",
    "\n",
    "用 Javascript ```window.location.href``` 可以知道當前 server url。下面這個 download button 的 callback 還有 bug。不過 [Volia 一遇到 Javascript 會有很多問題](https://github.com/voila-dashboards/voila/issues/108)，就算把下面這個修好也不一定能用 Voila 佈署"
   ]
  },
  {
   "cell_type": "code",
   "execution_count": 10,
   "metadata": {},
   "outputs": [
    {
     "data": {
      "application/vnd.jupyter.widget-view+json": {
       "model_id": "de003d3cb0a249b39220667b0e108d90",
       "version_major": 2,
       "version_minor": 0
      },
      "text/plain": [
       "FileUpload(value={}, description='Upload')"
      ]
     },
     "metadata": {},
     "output_type": "display_data"
    },
    {
     "data": {
      "application/vnd.jupyter.widget-view+json": {
       "model_id": "c5e5c5b74cf24fcaafc31a0ba4dfbdc9",
       "version_major": 2,
       "version_minor": 0
      },
      "text/plain": [
       "Button(description='Convert', style=ButtonStyle())"
      ]
     },
     "metadata": {},
     "output_type": "display_data"
    },
    {
     "data": {
      "application/vnd.jupyter.widget-view+json": {
       "model_id": "9535a9409adc45cb9483acbab9e937f2",
       "version_major": 2,
       "version_minor": 0
      },
      "text/plain": [
       "Output()"
      ]
     },
     "metadata": {},
     "output_type": "display_data"
    }
   ],
   "source": [
    "from ipywidgets import FileUpload, Button, Output\n",
    "from IPython.display import display, FileLink, HTML, Javascript\n",
    "import subprocess, os\n",
    "\n",
    "env = 'lab'   # change to 'voila' before deploying\n",
    "\n",
    "output = Output()\n",
    "fileInput = FileUpload()\n",
    "convertButton = Button(description='Convert')\n",
    "\n",
    "def convert(b):\n",
    "    with output:\n",
    "        print('Your PDF will be ready in a few seconds. ')\n",
    "        nbName = list(fileInput.value.keys())[0]\n",
    "        pdfName = nbName.replace('ipynb', 'pdf')\n",
    "        with open(nbName, 'w+b') as f:\n",
    "            f.write(fileInput.data[0]) \n",
    "        proc = subprocess.run(['jupyter', 'nbconvert', nbName, '--to', 'pdf'])\n",
    "        if proc.returncode == 1:\n",
    "            print('LaTeX compiling error!')\n",
    "        else:\n",
    "            pdfPath = '/'.join(['tree'] + str(FileLink('__dash1.pdf')).split('/')[3:])\n",
    "            display(HTML('''\n",
    "                        <html>\n",
    "                        <body>\n",
    "                        <script type=\"text/javascript\">\n",
    "                            function setHref() {\n",
    "                                var server = window.location.href;\n",
    "                                var homeIdx = server.indexOf(\"%s\");\n",
    "                                server = server.slice(0, homeIdx);\n",
    "                                var href = server + \"%s\";\n",
    "                                document.buttonForm.link.href = href;\n",
    "                            }\n",
    "                        </script>\n",
    "                        <form name=\"buttonForm\">\n",
    "                            <a name=\"link\" href=\"https://www.google.com\" download>\n",
    "                                <button class=\"p-Widget jupyter-widgets jupyter-button widget-button\" onClick=\"setHref();return true;\">\n",
    "                                    Download PDF\n",
    "                                </button>\n",
    "                            </a>\n",
    "                        </form>\n",
    "                        </body>\n",
    "                        </html>\n",
    "                         '''% (env, pdfPath)))\n",
    "\n",
    "convertButton.on_click(convert)\n",
    "\n",
    "display(fileInput, convertButton, output) "
   ]
  },
  {
   "cell_type": "markdown",
   "metadata": {},
   "source": [
    "沒有 callback 的按紐是可以用的"
   ]
  },
  {
   "cell_type": "code",
   "execution_count": 2,
   "metadata": {},
   "outputs": [
    {
     "data": {
      "text/html": [
       "\n",
       "    <a name=\"link\" href=\"https://www.google.com\" download>\n",
       "        <button class=\"p-Widget jupyter-widgets jupyter-button widget-button\" onClick=\"setHref();return true;\">\n",
       "            Go to Google!\n",
       "        </button>\n",
       "    </a>\n"
      ],
      "text/plain": [
       "<IPython.core.display.HTML object>"
      ]
     },
     "metadata": {},
     "output_type": "display_data"
    }
   ],
   "source": [
    "display(HTML('''\n",
    "    <a name=\"link\" href=\"https://www.google.com\" download>\n",
    "        <button class=\"p-Widget jupyter-widgets jupyter-button widget-button\" onClick=\"setHref();return true;\">\n",
    "            Go to Google!\n",
    "        </button>\n",
    "    </a>\n",
    "'''))"
   ]
  },
  {
   "cell_type": "markdown",
   "metadata": {},
   "source": [
    "## Get Server URL and Pass to Python\n",
    "\n",
    "下面這段 code 來自[這裡](https://stackoverflow.com/questions/31818127/can-a-jupyter-ipython-notebook-take-arguments-in-the-url/37134476#37134476)。可能在 Jupyter Notebook 可以跑可是在 JupyterLab 不行因為 JavaScript 被 block 了"
   ]
  },
  {
   "cell_type": "code",
   "execution_count": 4,
   "metadata": {},
   "outputs": [
    {
     "data": {
      "application/javascript": [
       "\n",
       "IPython.notebook.kernel.execute(\"url = '\" + window.location + \"'\")\n"
      ],
      "text/plain": [
       "<IPython.core.display.Javascript object>"
      ]
     },
     "metadata": {},
     "output_type": "display_data"
    }
   ],
   "source": [
    "%%javascript\n",
    "\n",
    "IPython.notebook.kernel.execute(\"url = '\" + window.location + \"'\")"
   ]
  },
  {
   "cell_type": "markdown",
   "metadata": {},
   "source": [
    "## [Create New Cell Programmatically](https://discourse.jupyter.org/t/how-to-programmatically-add-serveral-new-cells-in-a-notebook-in-jupyterlab/4323)"
   ]
  },
  {
   "cell_type": "code",
   "execution_count": 3,
   "metadata": {},
   "outputs": [],
   "source": [
    "def create_new_cell(contents):\n",
    "    from IPython.core.getipython import get_ipython\n",
    "    shell = get_ipython()\n",
    "    payload = dict(\n",
    "        source='set_next_input',\n",
    "        text=contents,\n",
    "        replace=False,\n",
    "    )\n",
    "    shell.payload_manager.write_payload(payload, single = False)\n",
    "\n",
    "contents = 'print(\"Hello World\")'\n",
    "create_new_cell(contents=contents)"
   ]
  },
  {
   "cell_type": "code",
   "execution_count": null,
   "metadata": {},
   "outputs": [],
   "source": [
    "print(\"Hello World\")"
   ]
  }
 ],
 "metadata": {
  "kernelspec": {
   "display_name": "Python 3",
   "language": "python",
   "name": "python3"
  },
  "language_info": {
   "codemirror_mode": {
    "name": "ipython",
    "version": 3
   },
   "file_extension": ".py",
   "mimetype": "text/x-python",
   "name": "python",
   "nbconvert_exporter": "python",
   "pygments_lexer": "ipython3",
   "version": "3.7.8"
  }
 },
 "nbformat": 4,
 "nbformat_minor": 4
}

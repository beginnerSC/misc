{
 "cells": [
  {
   "cell_type": "markdown",
   "metadata": {},
   "source": [
    "# Jupyter Widgets"
   ]
  },
  {
   "cell_type": "markdown",
   "metadata": {},
   "source": [
    "Convert ipynb to PDF: This app is completely working in Jupyter but not if rendered by Voila. "
   ]
  },
  {
   "cell_type": "code",
   "execution_count": 17,
   "metadata": {},
   "outputs": [
    {
     "data": {
      "application/vnd.jupyter.widget-view+json": {
       "model_id": "eef55d47389549f2918000b93ac4c22a",
       "version_major": 2,
       "version_minor": 0
      },
      "text/plain": [
       "FileUpload(value={}, description='Upload')"
      ]
     },
     "metadata": {},
     "output_type": "display_data"
    },
    {
     "data": {
      "application/vnd.jupyter.widget-view+json": {
       "model_id": "785ebed162314837b0fd79004a340647",
       "version_major": 2,
       "version_minor": 0
      },
      "text/plain": [
       "Button(description='Convert', style=ButtonStyle())"
      ]
     },
     "metadata": {},
     "output_type": "display_data"
    },
    {
     "data": {
      "application/vnd.jupyter.widget-view+json": {
       "model_id": "fbe2edac835f4e689b851fc7595ec5b7",
       "version_major": 2,
       "version_minor": 0
      },
      "text/plain": [
       "Output()"
      ]
     },
     "metadata": {},
     "output_type": "display_data"
    }
   ],
   "source": [
    "from ipywidgets import FileUpload, Button, Output\n",
    "from IPython.display import display, FileLink, HTML\n",
    "import subprocess\n",
    "\n",
    "output = Output()\n",
    "fileInput = FileUpload()\n",
    "convertButton = Button(description='Convert')\n",
    "\n",
    "def convert(b):\n",
    "    with output:\n",
    "        print('Your PDF will be ready in a few seconds. ')\n",
    "        nbName = list(fileInput.value.keys())[0]\n",
    "        pdfName = nbName.replace('ipynb', 'pdf')\n",
    "        with open(nbName, 'w+b') as f:\n",
    "            f.write(fileInput.data[0]) \n",
    "        proc = subprocess.run(['jupyter', 'nbconvert', nbName, '--to', 'pdf'])\n",
    "        if proc.returncode == 1:\n",
    "            print('LaTeX compiling error!')\n",
    "        else:\n",
    "            display(HTML('''\n",
    "                         <script>\n",
    "                             window.open(\"https://hub.gke2.mybinder.org/user/beginnersc-sandbox-stable-i3r0z5hh/tree/misc/docs/source/ds/__dash1.pdf\");\n",
    "                         </script>\n",
    "                         '''))\n",
    "#             https://hub.gke2.mybinder.org/user/beginnersc-sandbox-stable-i3r0z5hh/tree/misc/docs/source/ds/__dash1.pdf\n",
    "            print('PDF is ready! You may now download it through the below link: ')\n",
    "#             display(HTML(\"<script>alert(window.location.href);</script>\"))\n",
    "            display(FileLink(pdfName))\n",
    "\n",
    "convertButton.on_click(convert)\n",
    "\n",
    "display(fileInput, convertButton, output) "
   ]
  },
  {
   "cell_type": "code",
   "execution_count": 12,
   "metadata": {},
   "outputs": [
    {
     "name": "stdout",
     "output_type": "stream",
     "text": [
      "<IPython.core.display.Javascript object>\n"
     ]
    }
   ],
   "source": [
    "Javascript('window.location.href')"
   ]
  },
  {
   "cell_type": "code",
   "execution_count": 9,
   "metadata": {},
   "outputs": [
    {
     "data": {
      "text/plain": [
       "array(['__class__', '__delattr__', '__dict__', '__dir__', '__doc__',\n",
       "       '__eq__', '__format__', '__ge__', '__getattribute__', '__gt__',\n",
       "       '__hash__', '__init__', '__init_subclass__', '__le__', '__lt__',\n",
       "       '__module__', '__ne__', '__new__', '__reduce__', '__reduce_ex__',\n",
       "       '__repr__', '__setattr__', '__sizeof__', '__str__',\n",
       "       '__subclasshook__', '__weakref__', '_check_data',\n",
       "       '_data_and_metadata', '_read_flags', '_repr_javascript_',\n",
       "       '_show_mem_addr', 'css', 'data', 'filename', 'lib', 'metadata',\n",
       "       'reload', 'url'], dtype='<U18')"
      ]
     },
     "execution_count": 9,
     "metadata": {},
     "output_type": "execute_result"
    }
   ],
   "source": [
    "from IPython.display import Javascript\n",
    "import numpy as np\n",
    "\n",
    "np.array(dir(Javascript('window.location.href')))"
   ]
  }
 ],
 "metadata": {
  "kernelspec": {
   "display_name": "Python 3",
   "language": "python",
   "name": "python3"
  },
  "language_info": {
   "codemirror_mode": {
    "name": "ipython",
    "version": 3
   },
   "file_extension": ".py",
   "mimetype": "text/x-python",
   "name": "python",
   "nbconvert_exporter": "python",
   "pygments_lexer": "ipython3",
   "version": "3.7.8"
  }
 },
 "nbformat": 4,
 "nbformat_minor": 4
}

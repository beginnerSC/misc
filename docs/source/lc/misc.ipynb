{
 "cells": [
  {
   "cell_type": "markdown",
   "metadata": {},
   "source": [
    "# Misc"
   ]
  },
  {
   "cell_type": "markdown",
   "metadata": {},
   "source": [
    "## 171. Excel Sheet Column Number\n",
    "\n",
    "Given a column title as appear in an Excel sheet, return its corresponding column number."
   ]
  },
  {
   "cell_type": "code",
   "execution_count": null,
   "metadata": {},
   "outputs": [],
   "source": [
    "import string\n",
    "\n",
    "def titleToNumber(s):\n",
    "    digit = dict(zip(string.ascii_uppercase, range(1, 27)))\n",
    "    res = 0\n",
    "    for c in s:\n",
    "        res = 26*res + digit[c]\n",
    "        \n",
    "    return res\n",
    "        \n",
    "titleToNumber('ZZ')"
   ]
  },
  {
   "cell_type": "markdown",
   "metadata": {},
   "source": [
    "## 206. Reverse Linked List\n",
    "Easy\n",
    "\n",
    "Reverse a singly linked list.\n",
    "\n",
    "Example:\n",
    "\n",
    "    Input: 1->2->3->4->5->NULL\n",
    "    Output: 5->4->3->2->1->NULL\n",
    "\n",
    "Follow up:\n",
    "\n",
    "A linked list can be reversed either iteratively or recursively. Could you implement both?\n"
   ]
  },
  {
   "cell_type": "code",
   "execution_count": 3,
   "metadata": {},
   "outputs": [
    {
     "name": "stdout",
     "output_type": "stream",
     "text": [
      "[1, 2, 3, 4, 5]\n",
      "[5, 4, 3, 2, 1]\n"
     ]
    }
   ],
   "source": [
    "class ListNode:\n",
    "    def __init__(self, val=0, next=None): \n",
    "        self.val = val\n",
    "        self.next = next\n",
    "        \n",
    "def reverseList_(head):    # recursive solution from LeetCode\n",
    "    if head is None or head.next is None:\n",
    "        return head\n",
    "    else:\n",
    "        res = reverseList(head.next)\n",
    "        head.next.next = head\n",
    "        head.next = None\n",
    "        return res\n",
    "\n",
    "def reverseList(head):   # iterative\n",
    "    res = None\n",
    "    while head:\n",
    "        res = ListNode(val=head.val, next=res)\n",
    "        head = head.next\n",
    "        \n",
    "    return res\n",
    "\n",
    "def list2arr(head):\n",
    "    res = []\n",
    "    while head:\n",
    "        res.append(head.val)\n",
    "        head = head.next\n",
    "    return res\n",
    "\n",
    "head = ListNode(val=1, \n",
    "            next=ListNode(val=2, \n",
    "                next=ListNode(val=3, \n",
    "                    next=ListNode(val=4, \n",
    "                        next=ListNode(val=5, next=None)))))\n",
    "\n",
    "print(list2arr(head))\n",
    "print(list2arr(reverseList(head)))"
   ]
  },
  {
   "cell_type": "markdown",
   "metadata": {},
   "source": [
    "## 46. Permutations\n",
    "Medium\n",
    "\n",
    "Given an array nums of distinct integers, return all the possible permutations. You can return the answer in any order.\n",
    "\n",
    "Example 1:\n",
    "\n",
    "    Input: nums = [1,2,3]\n",
    "    Output: [[1,2,3],[1,3,2],[2,1,3],[2,3,1],[3,1,2],[3,2,1]]\n",
    "\n",
    "Constraints:\n",
    "\n",
    "    1 <= nums.length <= 6\n",
    "    -10 <= nums[i] <= 10\n",
    "    All the integers of nums are unique."
   ]
  },
  {
   "cell_type": "code",
   "execution_count": 12,
   "metadata": {},
   "outputs": [
    {
     "data": {
      "text/plain": [
       "[[1, 2, 3], [1, 3, 2], [2, 1, 3], [2, 3, 1], [3, 1, 2], [3, 2, 1]]"
      ]
     },
     "execution_count": 12,
     "metadata": {},
     "output_type": "execute_result"
    }
   ],
   "source": [
    "nums = [1, 2, 3]\n",
    "\n",
    "def permute(nums):\n",
    "    '''\n",
    "    assuming no duplicates in the input list\n",
    "    '''\n",
    "    if not nums:\n",
    "        return [nums]\n",
    "    else:\n",
    "        res = []\n",
    "        for i, n in enumerate(nums):\n",
    "            for l in permute(nums[:i] + nums[i+1:]):\n",
    "                res.append([n]+l)\n",
    "        return res\n",
    "\n",
    "permute(nums)"
   ]
  },
  {
   "attachments": {
    "a420e5b8-0eb0-4886-8129-1820a221360f.png": {
     "image/png": "[encoded data removed]"
    }
   },
   "cell_type": "markdown",
   "metadata": {},
   "source": [
    "## 144. Binary Tree Preorder Traversal\n",
    "\n",
    "Medium\n",
    "\n",
    "Given the root of a binary tree, return the preorder traversal of its nodes' values.\n",
    "\n",
    "Example 1:\n",
    "\n",
    "![image.png](attachment:a420e5b8-0eb0-4886-8129-1820a221360f.png)\n",
    "\n",
    "    Input: root = [1,null,2,3]\n",
    "    Output: [1,2,3]\n",
    "\n",
    "Constraints:\n",
    "\n",
    "    The number of nodes in the tree is in the range [0, 100].\n",
    "    -100 <= Node.val <= 100"
   ]
  },
  {
   "cell_type": "code",
   "execution_count": 6,
   "metadata": {},
   "outputs": [],
   "source": [
    "# Definition for a binary tree node.\n",
    "# class TreeNode:\n",
    "#     def __init__(self, val=0, left=None, right=None):\n",
    "#         self.val = val\n",
    "#         self.left = left\n",
    "#         self.right = right\n",
    "\n",
    "def preorderTraversal(root):\n",
    "    if not root:\n",
    "        return []\n",
    "    else:\n",
    "        return [root.val] + self.preorderTraversal(root.left) + self.preorderTraversal(root.right)"
   ]
  },
  {
   "cell_type": "markdown",
   "metadata": {},
   "source": [
    "## 226. Invert Binary Tree\n",
    "\n",
    "Easy\n",
    "\n",
    "Invert a binary tree.\n",
    "\n",
    "Example:\n",
    "\n",
    "Input:\n",
    "\n",
    "         4\n",
    "       /   \\\n",
    "      2     7\n",
    "     / \\   / \\\n",
    "    1   3 6   9\n",
    "\n",
    "Output:\n",
    "\n",
    "         4\n",
    "       /   \\\n",
    "      7     2\n",
    "     / \\   / \\\n",
    "    9   6 3   1\n",
    "\n",
    "Trivia:\n",
    "This problem was inspired by this original tweet by Max Howell:\n",
    "\n",
    "    Google: 90% of our engineers use the software you wrote (Homebrew), but you can’t invert a binary tree on a whiteboard so f*** off.\n",
    "\n"
   ]
  },
  {
   "cell_type": "code",
   "execution_count": 5,
   "metadata": {},
   "outputs": [],
   "source": [
    "# Definition for a binary tree node.\n",
    "# class TreeNode:\n",
    "#     def __init__(self, val=0, left=None, right=None):\n",
    "#         self.val = val\n",
    "#         self.left = left\n",
    "#         self.right = right\n",
    "\n",
    "def invertTree(root):\n",
    "    if root:\n",
    "        root.left, root.right = invertTree(root.right), invertTree(root.left)\n",
    "    return root"
   ]
  },
  {
   "attachments": {
    "b59fd9ea-804e-4874-ac4b-e0455459413f.png": {
     "image/png": "[encoded data removed]"
    }
   },
   "cell_type": "markdown",
   "metadata": {},
   "source": [
    "## 559. Maximum Depth of N-ary Tree\n",
    "\n",
    "Easy\n",
    "\n",
    "Given a n-ary tree, find its maximum depth.\n",
    "\n",
    "The maximum depth is the number of nodes along the longest path from the root node down to the farthest leaf node.\n",
    "\n",
    "Nary-Tree input serialization is represented in their level order traversal, each group of children is separated by the null value (See examples).\n",
    "\n",
    "Example 1:\n",
    "\n",
    "![image.png](attachment:b59fd9ea-804e-4874-ac4b-e0455459413f.png)\n",
    "\n",
    "    Input: root = [1,null,3,2,4,null,5,6]\n",
    "    Output: 3 \n",
    "\n",
    "Constraints:\n",
    "\n",
    "    The depth of the n-ary tree is less than or equal to 1000.\n",
    "    The total number of nodes is between [0, 104]."
   ]
  },
  {
   "cell_type": "code",
   "execution_count": null,
   "metadata": {},
   "outputs": [],
   "source": [
    "# recursive solution\n",
    "\n",
    "\"\"\"\n",
    "# Definition for a Node.\n",
    "class Node:\n",
    "    def __init__(self, val=None, children=None):\n",
    "        self.val = val\n",
    "        self.children = children\n",
    "\"\"\"\n",
    "\n",
    "def maxDepth(root):\n",
    "    if not root:\n",
    "        return 0\n",
    "    elif not root.children:\n",
    "        return 1\n",
    "    else:\n",
    "        return 1 + max(maxDepth(node) for node in root.children)"
   ]
  },
  {
   "cell_type": "code",
   "execution_count": null,
   "metadata": {},
   "outputs": [],
   "source": [
    "# BFS solution stolen from LeetCode\n",
    "\n",
    "def maxDepth(root):\n",
    "    if not root:\n",
    "        return 0\n",
    "\n",
    "    qu = [root]\n",
    "    lv = 0\n",
    "    while qu:\n",
    "        for _ in range(len(qu)):\n",
    "            cur = qu.pop(0)\n",
    "            if cur.children:\n",
    "                for ch in cur.children:\n",
    "                    qu.append(ch)\n",
    "        lv+=1\n",
    "        \n",
    "    return lv"
   ]
  },
  {
   "cell_type": "markdown",
   "metadata": {},
   "source": [
    "## 102. Binary Tree Level Order Traversal\n",
    "\n",
    "Medium\n",
    "\n",
    "Given a binary tree, return the level order traversal of its nodes' values. (ie, from left to right, level by level).\n",
    "\n",
    "For example:\n",
    "Given binary tree [3,9,20,null,null,15,7],\n",
    "\n",
    "        3\n",
    "       / \\\n",
    "      9  20\n",
    "        /  \\\n",
    "       15   7\n",
    "\n",
    "return its level order traversal as:\n",
    "\n",
    "    [\n",
    "      [3],\n",
    "      [9,20],\n",
    "      [15,7]\n",
    "    ]\n"
   ]
  },
  {
   "cell_type": "code",
   "execution_count": null,
   "metadata": {},
   "outputs": [],
   "source": [
    "# BFS\n",
    "#\n",
    "# Definition for a binary tree node.\n",
    "# class TreeNode:\n",
    "#     def __init__(self, val=0, left=None, right=None):\n",
    "#         self.val = val\n",
    "#         self.left = left\n",
    "#         self.right = right\n",
    "\n",
    "from collections import deque\n",
    "\n",
    "def levelOrder(root):\n",
    "    q = deque()\n",
    "    res = []\n",
    "\n",
    "    if root:\n",
    "        q.append(root)\n",
    "\n",
    "    while q:\n",
    "        level = []\n",
    "        for _ in range(len(q)):\n",
    "            root = q.popleft()\n",
    "            level.append(root.val)\n",
    "            if root.left:\n",
    "                q.append(root.left)\n",
    "            if root.right:\n",
    "                q.append(root.right)\n",
    "\n",
    "        res.append(level)\n",
    "    return res"
   ]
  },
  {
   "cell_type": "markdown",
   "metadata": {},
   "source": [
    "## 107. Binary Tree Level Order Traversal II\n",
    "\n",
    "Easy\n",
    "\n",
    "Given a binary tree, return the bottom-up level order traversal of its nodes' values. (ie, from left to right, level by level from leaf to root).\n",
    "\n",
    "For example:\n",
    "Given binary tree [3,9,20,null,null,15,7],\n",
    "\n",
    "        3\n",
    "       / \\\n",
    "      9  20\n",
    "        /  \\\n",
    "       15   7\n",
    "\n",
    "return its bottom-up level order traversal as:\n",
    "\n",
    "    [\n",
    "      [15,7],\n",
    "      [9,20],\n",
    "      [3]\n",
    "    ]\n"
   ]
  },
  {
   "cell_type": "code",
   "execution_count": null,
   "metadata": {},
   "outputs": [],
   "source": [
    "# BFS 解答跟上面那題一模一樣只是 return res[::-1]\n",
    "# LeetCode 上速度前幾名的 BFS 解答都是這樣做的\n",
    "\n",
    "# 這題也可以用 recursion"
   ]
  }
 ],
 "metadata": {
  "kernelspec": {
   "display_name": "Python 3",
   "language": "python",
   "name": "python3"
  },
  "language_info": {
   "codemirror_mode": {
    "name": "ipython",
    "version": 3
   },
   "file_extension": ".py",
   "mimetype": "text/x-python",
   "name": "python",
   "nbconvert_exporter": "python",
   "pygments_lexer": "ipython3",
   "version": "3.7.8"
  }
 },
 "nbformat": 4,
 "nbformat_minor": 4
}

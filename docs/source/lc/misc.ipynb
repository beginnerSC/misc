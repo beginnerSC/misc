{
 "cells": [
  {
   "cell_type": "markdown",
   "metadata": {},
   "source": [
    "# Misc"
   ]
  },
  {
   "cell_type": "markdown",
   "metadata": {},
   "source": [
    "## 239. Sliding Window Maximum\n",
    "\n",
    "Given an array nums, there is a sliding window of size k which is moving from the very left of the array to the very right. You can only see the k numbers in the window. Each time the sliding window moves right by one position. Return the max sliding window.\n",
    "\n",
    "Follow up: Could you solve it in linear time?\n",
    "\n",
    "用一個 max heap 存 window 裡的數。當 windown 移動時為了能在 $O(\\log k)$ 時間內砍掉 window 最前面的數，保存一個 index table 用來記下每個數字在 heap 裡的 index 為多少，並且每次動到 heap（push 或 remove）時都要去 update 這個 index table。\n",
    "\n",
    "<font color='red'>下面答案是錯的！</font>"
   ]
  },
  {
   "cell_type": "code",
   "execution_count": 1,
   "metadata": {},
   "outputs": [
    {
     "ename": "IndexError",
     "evalue": "list index out of range",
     "output_type": "error",
     "traceback": [
      "\u001b[0;31m---------------------------------------------------------------------------\u001b[0m",
      "\u001b[0;31mIndexError\u001b[0m                                Traceback (most recent call last)",
      "\u001b[0;32m<ipython-input-1-143ab3acf4f7>\u001b[0m in \u001b[0;36m<module>\u001b[0;34m\u001b[0m\n\u001b[1;32m     70\u001b[0m     \u001b[0;32mreturn\u001b[0m \u001b[0mres\u001b[0m\u001b[0;34m\u001b[0m\u001b[0;34m\u001b[0m\u001b[0m\n\u001b[1;32m     71\u001b[0m \u001b[0;34m\u001b[0m\u001b[0m\n\u001b[0;32m---> 72\u001b[0;31m \u001b[0mmaxSlidingWindow\u001b[0m\u001b[0;34m(\u001b[0m\u001b[0mnums\u001b[0m\u001b[0;34m,\u001b[0m \u001b[0mk\u001b[0m\u001b[0;34m)\u001b[0m\u001b[0;34m\u001b[0m\u001b[0;34m\u001b[0m\u001b[0m\n\u001b[0m\u001b[1;32m     73\u001b[0m \u001b[0;34m\u001b[0m\u001b[0m\n\u001b[1;32m     74\u001b[0m \u001b[0;31m# the right answer is [3,3,5,5,6,7]\u001b[0m\u001b[0;34m\u001b[0m\u001b[0;34m\u001b[0m\u001b[0;34m\u001b[0m\u001b[0m\n",
      "\u001b[0;32m<ipython-input-1-143ab3acf4f7>\u001b[0m in \u001b[0;36mmaxSlidingWindow\u001b[0;34m(nums, k)\u001b[0m\n\u001b[1;32m     58\u001b[0m     \u001b[0;31m# track 每個 element 被 push 到 heap 的哪裡了\u001b[0m\u001b[0;34m\u001b[0m\u001b[0;34m\u001b[0m\u001b[0;34m\u001b[0m\u001b[0m\n\u001b[1;32m     59\u001b[0m     \u001b[0;32mfor\u001b[0m \u001b[0mi\u001b[0m\u001b[0;34m,\u001b[0m \u001b[0mn\u001b[0m \u001b[0;32min\u001b[0m \u001b[0menumerate\u001b[0m\u001b[0;34m(\u001b[0m\u001b[0mnums\u001b[0m\u001b[0;34m[\u001b[0m\u001b[0;34m:\u001b[0m\u001b[0mk\u001b[0m\u001b[0;34m]\u001b[0m\u001b[0;34m)\u001b[0m\u001b[0;34m:\u001b[0m\u001b[0;34m\u001b[0m\u001b[0;34m\u001b[0m\u001b[0m\n\u001b[0;32m---> 60\u001b[0;31m         \u001b[0midxTbl\u001b[0m\u001b[0;34m.\u001b[0m\u001b[0mappend\u001b[0m\u001b[0;34m(\u001b[0m\u001b[0mpush\u001b[0m\u001b[0;34m(\u001b[0m\u001b[0mheap\u001b[0m\u001b[0;34m,\u001b[0m \u001b[0;34m(\u001b[0m\u001b[0mn\u001b[0m\u001b[0;34m,\u001b[0m \u001b[0mi\u001b[0m\u001b[0;34m)\u001b[0m\u001b[0;34m)\u001b[0m\u001b[0;34m)\u001b[0m\u001b[0;34m\u001b[0m\u001b[0;34m\u001b[0m\u001b[0m\n\u001b[0m\u001b[1;32m     61\u001b[0m \u001b[0;34m\u001b[0m\u001b[0m\n\u001b[1;32m     62\u001b[0m     \u001b[0mres\u001b[0m \u001b[0;34m=\u001b[0m \u001b[0;34m[\u001b[0m\u001b[0mheap\u001b[0m\u001b[0;34m[\u001b[0m\u001b[0;36m0\u001b[0m\u001b[0;34m]\u001b[0m\u001b[0;34m[\u001b[0m\u001b[0;36m0\u001b[0m\u001b[0;34m]\u001b[0m\u001b[0;34m]\u001b[0m\u001b[0;34m\u001b[0m\u001b[0;34m\u001b[0m\u001b[0m\n",
      "\u001b[0;32m<ipython-input-1-143ab3acf4f7>\u001b[0m in \u001b[0;36mpush\u001b[0;34m(heap, numOrigIdx)\u001b[0m\n\u001b[1;32m     19\u001b[0m         \u001b[0;32mwhile\u001b[0m \u001b[0mheap\u001b[0m\u001b[0;34m[\u001b[0m\u001b[0mparentIdx\u001b[0m\u001b[0;34m]\u001b[0m\u001b[0;34m[\u001b[0m\u001b[0;36m0\u001b[0m\u001b[0;34m]\u001b[0m \u001b[0;34m<\u001b[0m \u001b[0mheap\u001b[0m\u001b[0;34m[\u001b[0m\u001b[0midx\u001b[0m\u001b[0;34m]\u001b[0m\u001b[0;34m[\u001b[0m\u001b[0;36m0\u001b[0m\u001b[0;34m]\u001b[0m\u001b[0;34m:\u001b[0m\u001b[0;34m\u001b[0m\u001b[0;34m\u001b[0m\u001b[0m\n\u001b[1;32m     20\u001b[0m             \u001b[0mheap\u001b[0m\u001b[0;34m[\u001b[0m\u001b[0mparentIdx\u001b[0m\u001b[0;34m]\u001b[0m\u001b[0;34m,\u001b[0m \u001b[0mheap\u001b[0m\u001b[0;34m[\u001b[0m\u001b[0midx\u001b[0m\u001b[0;34m]\u001b[0m \u001b[0;34m=\u001b[0m \u001b[0mheap\u001b[0m\u001b[0;34m[\u001b[0m\u001b[0midx\u001b[0m\u001b[0;34m]\u001b[0m\u001b[0;34m,\u001b[0m \u001b[0mheap\u001b[0m\u001b[0;34m[\u001b[0m\u001b[0mparentIdx\u001b[0m\u001b[0;34m]\u001b[0m\u001b[0;34m\u001b[0m\u001b[0;34m\u001b[0m\u001b[0m\n\u001b[0;32m---> 21\u001b[0;31m             \u001b[0midxTbl\u001b[0m\u001b[0;34m[\u001b[0m\u001b[0mheap\u001b[0m\u001b[0;34m[\u001b[0m\u001b[0mparentIdx\u001b[0m\u001b[0;34m]\u001b[0m\u001b[0;34m[\u001b[0m\u001b[0;36m1\u001b[0m\u001b[0;34m]\u001b[0m\u001b[0;34m]\u001b[0m\u001b[0;34m,\u001b[0m \u001b[0midxTbl\u001b[0m\u001b[0;34m[\u001b[0m\u001b[0mheap\u001b[0m\u001b[0;34m[\u001b[0m\u001b[0midx\u001b[0m\u001b[0;34m]\u001b[0m\u001b[0;34m[\u001b[0m\u001b[0;36m1\u001b[0m\u001b[0;34m]\u001b[0m\u001b[0;34m]\u001b[0m \u001b[0;34m=\u001b[0m \u001b[0midxTbl\u001b[0m\u001b[0;34m[\u001b[0m\u001b[0mheap\u001b[0m\u001b[0;34m[\u001b[0m\u001b[0midx\u001b[0m\u001b[0;34m]\u001b[0m\u001b[0;34m[\u001b[0m\u001b[0;36m1\u001b[0m\u001b[0;34m]\u001b[0m\u001b[0;34m]\u001b[0m\u001b[0;34m,\u001b[0m \u001b[0midxTbl\u001b[0m\u001b[0;34m[\u001b[0m\u001b[0mheap\u001b[0m\u001b[0;34m[\u001b[0m\u001b[0mparentIdx\u001b[0m\u001b[0;34m]\u001b[0m\u001b[0;34m[\u001b[0m\u001b[0;36m1\u001b[0m\u001b[0;34m]\u001b[0m\u001b[0;34m]\u001b[0m\u001b[0;34m\u001b[0m\u001b[0;34m\u001b[0m\u001b[0m\n\u001b[0m\u001b[1;32m     22\u001b[0m             \u001b[0midx\u001b[0m \u001b[0;34m=\u001b[0m \u001b[0mparentIdx\u001b[0m\u001b[0;34m\u001b[0m\u001b[0;34m\u001b[0m\u001b[0m\n\u001b[1;32m     23\u001b[0m             \u001b[0mparentIdx\u001b[0m \u001b[0;34m=\u001b[0m \u001b[0mmax\u001b[0m\u001b[0;34m(\u001b[0m\u001b[0midx\u001b[0m\u001b[0;34m//\u001b[0m\u001b[0;36m2\u001b[0m \u001b[0;34m-\u001b[0m\u001b[0;36m1\u001b[0m \u001b[0;32mif\u001b[0m \u001b[0misEven\u001b[0m\u001b[0;34m(\u001b[0m\u001b[0midx\u001b[0m\u001b[0;34m)\u001b[0m \u001b[0;32melse\u001b[0m \u001b[0;34m(\u001b[0m\u001b[0midx\u001b[0m\u001b[0;34m+\u001b[0m\u001b[0;36m1\u001b[0m\u001b[0;34m)\u001b[0m\u001b[0;34m//\u001b[0m\u001b[0;36m2\u001b[0m \u001b[0;34m-\u001b[0m\u001b[0;36m1\u001b[0m\u001b[0;34m,\u001b[0m \u001b[0;36m0\u001b[0m\u001b[0;34m)\u001b[0m\u001b[0;34m\u001b[0m\u001b[0;34m\u001b[0m\u001b[0m\n",
      "\u001b[0;31mIndexError\u001b[0m: list index out of range"
     ]
    }
   ],
   "source": [
    "nums = [1,3,-1,-3,5,3,6,7]\n",
    "k = 3\n",
    "\n",
    "def maxSlidingWindow(nums, k):    \n",
    "    idxTbl = []\n",
    "    def push(heap, numOrigIdx):\n",
    "        '''\n",
    "        Push one number to a max heap and return the final location (index) of that number. \n",
    "        Since list is mutable the heap will be updated after each function call. \n",
    "        \n",
    "        numOrigIdx is a tuple (num, origIdx) where origIdx is the location of num in the input array nums.  \n",
    "        '''\n",
    "        idx = len(heap)  # index of num\n",
    "        heap.append(numOrigIdx)\n",
    "        isEven = lambda x: x%2==0\n",
    "        parentIdx = max(idx//2 -1 if isEven(idx) else (idx+1)//2 -1, 0)\n",
    "\n",
    "        # heapify up\n",
    "        while heap[parentIdx][0] < heap[idx][0]:\n",
    "            heap[parentIdx], heap[idx] = heap[idx], heap[parentIdx]\n",
    "            idxTbl[heap[parentIdx][1]], idxTbl[heap[idx][1]] = idxTbl[heap[idx][1]], idxTbl[heap[parentIdx][1]]\n",
    "            idx = parentIdx\n",
    "            parentIdx = max(idx//2 -1 if isEven(idx) else (idx+1)//2 -1, 0)\n",
    "\n",
    "        return idx\n",
    "\n",
    "    def remove(heap, idx):\n",
    "        '''\n",
    "        Remove an element from a max heap by index\n",
    "        Can not input -1 as index or otherwise children index computation will go wrong. \n",
    "        '''\n",
    "        heap[idx], heap[-1] = heap[-1], heap[idx]\n",
    "        del heap[-1]\n",
    "        childIdxL = 2*(idx+1)-1\n",
    "        childIdxR = 2*(idx+1)\n",
    "\n",
    "        # heapify down\n",
    "        while (childIdxL < len(heap) and childIdxR < len(heap)) and (heap[idx][0] < heap[childIdxL][0] or heap[idx][0] < heap[childIdxR][0]): \n",
    "            # still has two children\n",
    "            if heap[childIdxL][0] < heap[childIdxR][0]:\n",
    "                heap[idx], heap[childIdxR] = heap[childIdxR], heap[idx]\n",
    "                idxTbl[heap[idx][1]], idxTbl[heap[childIdxR][1]] = idxTbl[heap[childIdxR][1]], idxTbl[heap[idx][1]]\n",
    "                idx = childIdxR\n",
    "            else:\n",
    "                heap[idx], heap[childIdxL] = heap[childIdxL], heap[idx]\n",
    "                idxTbl[heap[idx][1]], idxTbl[heap[childIdxL][1]] = idxTbl[heap[childIdxL][1]], idxTbl[heap[idx][1]]\n",
    "                idx = childIdxL\n",
    "\n",
    "            childIdxL = 2*(idx+1)-1\n",
    "            childIdxR = 2*(idx+1)\n",
    "\n",
    "        if (childIdxL < len(heap)) and (heap[idx][0] < heap[childIdxL][0]):   # only has left child\n",
    "            heap[idx], heap[childIdxL] = heap[childIdxL], heap[idx]\n",
    "            idxTbl[heap[idx][1]], idxTbl[heap[childIdxL][1]] = idxTbl[heap[childIdxL][1]], idxTbl[heap[idx][1]]\n",
    "\n",
    "    heap = []\n",
    "    \n",
    "    # track 每個 element 被 push 到 heap 的哪裡了\n",
    "    for i, n in enumerate(nums[:k]):\n",
    "        idxTbl.append(push(heap, (n, i)))\n",
    "        \n",
    "    res = [heap[0][0]]\n",
    "            \n",
    "    for i in range(len(nums)-k):\n",
    "        remove(heap, idxTbl[i])\n",
    "        idxTbl.append(push(heap, (nums[i+k], i+k)))  # 這個 index 只有加進去的時候是對的。後來多 push 幾個數進 heap 就亂掉了。需要一個能一邊 push 一邊 update index table 的機制\n",
    "        res.append(heap[0])\n",
    "    \n",
    "\n",
    "    return res\n",
    "\n",
    "maxSlidingWindow(nums, k)\n",
    "\n",
    "# the right answer is [3,3,5,5,6,7] "
   ]
  },
  {
   "cell_type": "markdown",
   "metadata": {},
   "source": [
    "## 171. Excel Sheet Column Number\n",
    "\n",
    "Given a column title as appear in an Excel sheet, return its corresponding column number."
   ]
  },
  {
   "cell_type": "code",
   "execution_count": null,
   "metadata": {},
   "outputs": [],
   "source": [
    "import string\n",
    "\n",
    "def titleToNumber(s):\n",
    "    digit = dict(zip(string.ascii_uppercase, range(1, 27)))\n",
    "    res = 0\n",
    "    for c in s:\n",
    "        res = 26*res + digit[c]\n",
    "        \n",
    "    return res\n",
    "        \n",
    "titleToNumber('ZZ')"
   ]
  },
  {
   "cell_type": "markdown",
   "metadata": {},
   "source": [
    "## 206. Reverse Linked List\n",
    "Easy\n",
    "\n",
    "Reverse a singly linked list.\n",
    "\n",
    "Example:\n",
    "\n",
    "    Input: 1->2->3->4->5->NULL\n",
    "    Output: 5->4->3->2->1->NULL\n",
    "\n",
    "Follow up:\n",
    "\n",
    "A linked list can be reversed either iteratively or recursively. Could you implement both?\n"
   ]
  },
  {
   "cell_type": "code",
   "execution_count": 3,
   "metadata": {},
   "outputs": [
    {
     "name": "stdout",
     "output_type": "stream",
     "text": [
      "[1, 2, 3, 4, 5]\n",
      "[5, 4, 3, 2, 1]\n"
     ]
    }
   ],
   "source": [
    "class ListNode:\n",
    "    def __init__(self, val=0, next=None): \n",
    "        self.val = val\n",
    "        self.next = next\n",
    "        \n",
    "def reverseList_(head):    # recursive solution from LeetCode\n",
    "    if head is None or head.next is None:\n",
    "        return head\n",
    "    else:\n",
    "        res = reverseList(head.next)\n",
    "        head.next.next = head\n",
    "        head.next = None\n",
    "        return res\n",
    "\n",
    "def reverseList(head):   # iterative\n",
    "    res = None\n",
    "    while head:\n",
    "        res = ListNode(val=head.val, next=res)\n",
    "        head = head.next\n",
    "        \n",
    "    return res\n",
    "\n",
    "def list2arr(head):\n",
    "    res = []\n",
    "    while head:\n",
    "        res.append(head.val)\n",
    "        head = head.next\n",
    "    return res\n",
    "\n",
    "head = ListNode(val=1, \n",
    "            next=ListNode(val=2, \n",
    "                next=ListNode(val=3, \n",
    "                    next=ListNode(val=4, \n",
    "                        next=ListNode(val=5, next=None)))))\n",
    "\n",
    "print(list2arr(head))\n",
    "print(list2arr(reverseList(head)))"
   ]
  },
  {
   "cell_type": "markdown",
   "metadata": {},
   "source": [
    "## 46. Permutations\n",
    "Medium\n",
    "\n",
    "Given an array nums of distinct integers, return all the possible permutations. You can return the answer in any order.\n",
    "\n",
    "Example 1:\n",
    "\n",
    "    Input: nums = [1,2,3]\n",
    "    Output: [[1,2,3],[1,3,2],[2,1,3],[2,3,1],[3,1,2],[3,2,1]]\n",
    "\n",
    "Constraints:\n",
    "\n",
    "    1 <= nums.length <= 6\n",
    "    -10 <= nums[i] <= 10\n",
    "    All the integers of nums are unique."
   ]
  },
  {
   "cell_type": "code",
   "execution_count": 12,
   "metadata": {},
   "outputs": [
    {
     "data": {
      "text/plain": [
       "[[1, 2, 3], [1, 3, 2], [2, 1, 3], [2, 3, 1], [3, 1, 2], [3, 2, 1]]"
      ]
     },
     "execution_count": 12,
     "metadata": {},
     "output_type": "execute_result"
    }
   ],
   "source": [
    "nums = [1, 2, 3]\n",
    "\n",
    "def permute(nums):\n",
    "    '''\n",
    "    assuming no duplicates in the input list\n",
    "    '''\n",
    "    if not nums:\n",
    "        return [nums]\n",
    "    else:\n",
    "        res = []\n",
    "        for i, n in enumerate(nums):\n",
    "            for l in permute(nums[:i] + nums[i+1:]):\n",
    "                res.append([n]+l)\n",
    "        return res\n",
    "\n",
    "permute(nums)"
   ]
  },
  {
   "attachments": {
    "a420e5b8-0eb0-4886-8129-1820a221360f.png": {
     "image/png": "[encoded data removed]"
    }
   },
   "cell_type": "markdown",
   "metadata": {},
   "source": [
    "## 144. Binary Tree Preorder Traversal\n",
    "\n",
    "Medium\n",
    "\n",
    "Given the root of a binary tree, return the preorder traversal of its nodes' values.\n",
    "\n",
    "![image.png](attachment:a420e5b8-0eb0-4886-8129-1820a221360f.png)\n",
    "\n",
    "Example 1:\n",
    "\n",
    "    Input: root = [1,null,2,3]\n",
    "    Output: [1,2,3]\n",
    "\n",
    "Constraints:\n",
    "\n",
    "    The number of nodes in the tree is in the range [0, 100].\n",
    "    -100 <= Node.val <= 100"
   ]
  },
  {
   "cell_type": "code",
   "execution_count": 6,
   "metadata": {},
   "outputs": [],
   "source": [
    "# Definition for a binary tree node.\n",
    "# class TreeNode:\n",
    "#     def __init__(self, val=0, left=None, right=None):\n",
    "#         self.val = val\n",
    "#         self.left = left\n",
    "#         self.right = right\n",
    "\n",
    "def preorderTraversal(root):\n",
    "    if not root:\n",
    "        return []\n",
    "    else:\n",
    "        return [root.val] + self.preorderTraversal(root.left) + self.preorderTraversal(root.right)"
   ]
  },
  {
   "cell_type": "markdown",
   "metadata": {},
   "source": [
    "## 226. Invert Binary Tree\n",
    "\n",
    "Easy\n",
    "\n",
    "Invert a binary tree.\n",
    "\n",
    "Example:\n",
    "\n",
    "Input:\n",
    "\n",
    "         4\n",
    "       /   \\\n",
    "      2     7\n",
    "     / \\   / \\\n",
    "    1   3 6   9\n",
    "\n",
    "Output:\n",
    "\n",
    "         4\n",
    "       /   \\\n",
    "      7     2\n",
    "     / \\   / \\\n",
    "    9   6 3   1\n",
    "\n",
    "Trivia:\n",
    "This problem was inspired by this original tweet by Max Howell:\n",
    "\n",
    "    Google: 90% of our engineers use the software you wrote (Homebrew), but you can’t invert a binary tree on a whiteboard so f*** off.\n",
    "\n"
   ]
  },
  {
   "cell_type": "code",
   "execution_count": 5,
   "metadata": {},
   "outputs": [],
   "source": [
    "# Definition for a binary tree node.\n",
    "# class TreeNode:\n",
    "#     def __init__(self, val=0, left=None, right=None):\n",
    "#         self.val = val\n",
    "#         self.left = left\n",
    "#         self.right = right\n",
    "\n",
    "def invertTree(root):\n",
    "    if root:\n",
    "        root.left, root.right = invertTree(root.right), invertTree(root.left)\n",
    "    return root"
   ]
  }
 ],
 "metadata": {
  "kernelspec": {
   "display_name": "Python 3",
   "language": "python",
   "name": "python3"
  },
  "language_info": {
   "codemirror_mode": {
    "name": "ipython",
    "version": 3
   },
   "file_extension": ".py",
   "mimetype": "text/x-python",
   "name": "python",
   "nbconvert_exporter": "python",
   "pygments_lexer": "ipython3",
   "version": "3.7.8"
  }
 },
 "nbformat": 4,
 "nbformat_minor": 4
}

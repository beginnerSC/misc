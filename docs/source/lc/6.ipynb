{
 "cells": [
  {
   "cell_type": "markdown",
   "metadata": {},
   "source": [
    "# 6"
   ]
  },
  {
   "cell_type": "markdown",
   "metadata": {},
   "source": [
    "## Array Reduction\n",
    "\n",
    "* [Array reduction](https://stackoverflow.com/questions/40992062/reduce-array-by-adding-elements) -- coursera interview question"
   ]
  },
  {
   "cell_type": "markdown",
   "metadata": {},
   "source": [
    "## Roll the characters of string\n",
    "\n",
    "Medium\n",
    "\n",
    "Given a string s and an array roll where roll[i] represents rolling first roll[i] characters in string. We need to apply every roll[i] on string and output final string. Rolling means increasing ASCII value of character, like rolling ‘z’ would result in ‘a’, rolling ‘b’ would result in ‘c’, etc.\n",
    "\n",
    "constraints:\n",
    "1 <= |s| <= 10^5\n",
    "1 <= roll[i] <= 10^5\n",
    "\n",
    "Examples:\n",
    "\n",
    "    Input : s = \"bca\"\n",
    "            roll[] = {1, 2, 3}         \n",
    "    Output : eeb\n",
    "\n",
    "    Explanation :\n",
    "    arr[0] = 1 means roll first character of string -> cca\n",
    "    arr[1] = 2 means roll first two characters of string -> dda\n",
    "    arr[2] = 3 means roll first three characters of string -> eeb\n",
    "    So final ans is \"eeb\"\n",
    "\n",
    "    Input : s = \"zcza\"\n",
    "            roll[] = {1, 1, 3, 4}\n",
    "    Output : debb\n"
   ]
  },
  {
   "cell_type": "markdown",
   "metadata": {},
   "source": [
    "[c++ solution here](https://github.com/msdeep14/Algorithms-Practice/blob/master/roll-string.cpp)"
   ]
  },
  {
   "cell_type": "code",
   "execution_count": 29,
   "metadata": {},
   "outputs": [
    {
     "data": {
      "text/plain": [
       "'debb'"
      ]
     },
     "execution_count": 29,
     "metadata": {},
     "output_type": "execute_result"
    }
   ],
   "source": [
    "roll = [1, 1, 3, 4]\n",
    "s = list('zcza')\n",
    "\n",
    "n = len(a)\n",
    "nRolls = [n]+[0]*n\n",
    "\n",
    "for i in range(n):\n",
    "    nRolls[roll[i]] -= 1\n",
    "    \n",
    "for i in range(1, n):\n",
    "    nRolls[i] += nRolls[i-1];\n",
    "\n",
    "for i, m in enumerate(nRolls[:-1]):\n",
    "    s[i] = chr((ord(s[i])-97 + m)%26 + 97)\n",
    "    \n",
    "''.join(s)"
   ]
  }
 ],
 "metadata": {
  "kernelspec": {
   "display_name": "Python 3",
   "language": "python",
   "name": "python3"
  },
  "language_info": {
   "codemirror_mode": {
    "name": "ipython",
    "version": 3
   },
   "file_extension": ".py",
   "mimetype": "text/x-python",
   "name": "python",
   "nbconvert_exporter": "python",
   "pygments_lexer": "ipython3",
   "version": "3.7.8"
  }
 },
 "nbformat": 4,
 "nbformat_minor": 4
}

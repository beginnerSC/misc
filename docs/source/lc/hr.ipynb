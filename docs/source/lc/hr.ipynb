{
 "cells": [
  {
   "cell_type": "markdown",
   "metadata": {},
   "source": [
    "# HR"
   ]
  },
  {
   "cell_type": "markdown",
   "metadata": {},
   "source": [
    "## String Reverse Words\n",
    "\n",
    "Given n strings, output each string in reverse order. The words in each string should be kept intact.\n",
    "\n",
    "Friends!! Read the question deeply. It says you can have at max 1000 lines and each line can have 1mn char.\n",
    "\n",
    "Input Format\n",
    "\n",
    "First line consists of integer N, number of strings you will be given.\n",
    "\n",
    "Next N lines contains one string per line.\n",
    "\n",
    "Constraints\n",
    "\n",
    "    1 ≤ N ≤ 1000\n",
    "    1 ≤ len(string) ≤ 10^6\n",
    "\n",
    "Output Format\n",
    "\n",
    "    N lines of desired output.\n",
    "\n",
    "Sample Input\n",
    "\n",
    "    1\n",
    "\n",
    "    At coding blocks, you get well structured syllabus that helps to build your logic and improve programming quotient.\n",
    "\n",
    "Sample Output\n",
    "\n",
    "    quotient. programming improve and logic your build to helps that syllabus structured well get you blocks, coding At\n",
    "\n",
    "Explanation\n",
    "\n",
    "    Reversed output with words intact."
   ]
  },
  {
   "cell_type": "code",
   "execution_count": 3,
   "metadata": {},
   "outputs": [
    {
     "name": "stdin",
     "output_type": "stream",
     "text": [
      " 1\n",
      " This is a test.\n"
     ]
    },
    {
     "name": "stdout",
     "output_type": "stream",
     "text": [
      "test. a is This \n"
     ]
    },
    {
     "data": {
      "text/plain": [
       "0"
      ]
     },
     "execution_count": 3,
     "metadata": {},
     "output_type": "execute_result"
    }
   ],
   "source": [
    "#include <vector>\n",
    "#include <iostream>\n",
    "#include <algorithm>\n",
    "\n",
    "int main() {\n",
    "    \n",
    "    int n;\n",
    "    std::cin >> n;\n",
    "    \n",
    "    for (int i=0 ; i<n ; i++)\n",
    "    {\n",
    "        std::vector<std::string> line;\n",
    "        char endc;\n",
    "        do{\n",
    "            std::string s;\n",
    "            std::cin >> s;\n",
    "            line.push_back(s);\n",
    "            endc = s.back();\n",
    "        } while (endc != '.');\n",
    "        \n",
    "        std::reverse(line.begin(), line.end());\n",
    "            \n",
    "        for (const std::string& word : line)\n",
    "            std::cout << word << \" \";\n",
    "        \n",
    "        std::cout << std::endl;\n",
    "    }\n",
    "   \n",
    "    return 0;\n",
    "}\n",
    "\n",
    "main()"
   ]
  },
  {
   "cell_type": "markdown",
   "metadata": {},
   "source": [
    "## Reverse String 4\n",
    "\n",
    "Implement a function for reversing the words in a string s. Your function should use O(1) space.\n",
    "\n",
    "NOTE 1 : No checks are provided for memory limit in the environment itself. Memory limits will be checked when a moderator will review the code.\n",
    "\n",
    "NOTE 2 : It will be helpful if your code has proper indentation and naming of variables.\n",
    "\n",
    "Input Format\n",
    "\n",
    "    The first line contains a single integer denoting the number of strings to be reversed (say n).\n",
    "\n",
    "    Each line of the subsequent n lines contain a string S to be reversed.\n",
    "\n",
    "Constraints\n",
    "\n",
    "    0 <= n <=100 0 < length(s) <= 10000\n",
    "\n",
    "Output Format\n",
    "\n",
    "    Return the reversed strings in new lines.\n",
    "\n",
    "Sample Input 0\n",
    "\n",
    "    2\n",
    "    123\n",
    "    abcd\n",
    "\n",
    "Sample Output 0\n",
    "\n",
    "    321\n",
    "    dcba"
   ]
  },
  {
   "cell_type": "code",
   "execution_count": 6,
   "metadata": {},
   "outputs": [
    {
     "name": "stdin",
     "output_type": "stream",
     "text": [
      " 2\n",
      " 123\n"
     ]
    },
    {
     "name": "stdout",
     "output_type": "stream",
     "text": [
      "321\n"
     ]
    },
    {
     "name": "stdin",
     "output_type": "stream",
     "text": [
      " abcd\n"
     ]
    },
    {
     "name": "stdout",
     "output_type": "stream",
     "text": [
      "dcba\n"
     ]
    },
    {
     "data": {
      "text/plain": [
       "0"
      ]
     },
     "execution_count": 6,
     "metadata": {},
     "output_type": "execute_result"
    }
   ],
   "source": [
    "#include <iostream>\n",
    "#include <algorithm>\n",
    "#include <string>\n",
    "\n",
    "int main() {\n",
    "    int n;\n",
    "    std::cin >> n;\n",
    "    \n",
    "    for (int i=0 ; i<n ; i++)\n",
    "    {\n",
    "        std::string s;\n",
    "        std::cin >> s;\n",
    "        std::reverse(s.begin(), s.end());\n",
    "        std::cout << s << std::endl;\n",
    "    }\n",
    "    return 0;\n",
    "}\n",
    "\n",
    "main()"
   ]
  },
  {
   "cell_type": "markdown",
   "metadata": {},
   "source": [
    "## String Reverse\n",
    "\n",
    "Implement a program to reverse the sentence of the given statement word by word and then reverse.\n",
    "\n",
    "Example Input:\n",
    "\n",
    "    Welcome to MCA Department\n",
    "    \n",
    "Output:\n",
    "\n",
    "    tnemtrapeD ACM ot emocleW"
   ]
  },
  {
   "cell_type": "code",
   "execution_count": 1,
   "metadata": {},
   "outputs": [
    {
     "name": "stdin",
     "output_type": "stream",
     "text": [
      " Welcome to MCA Department\n"
     ]
    },
    {
     "name": "stdout",
     "output_type": "stream",
     "text": [
      "tnemtrapeD ACM ot emocleW\n"
     ]
    },
    {
     "data": {
      "text/plain": [
       "0"
      ]
     },
     "execution_count": 1,
     "metadata": {},
     "output_type": "execute_result"
    }
   ],
   "source": [
    "#include <iostream>\n",
    "#include <algorithm>\n",
    "\n",
    "int main() {\n",
    "    std::string s;\n",
    "    std::getline(std::cin, s);\n",
    "    std::reverse(s.begin(), s.end());\n",
    "    std::cout << s << std::endl;\n",
    "    return 0;\n",
    "}\n",
    "\n",
    "main()"
   ]
  }
 ],
 "metadata": {
  "kernelspec": {
   "display_name": "C++14",
   "language": "C++14",
   "name": "xcpp14"
  },
  "language_info": {
   "codemirror_mode": "text/x-c++src",
   "file_extension": ".cpp",
   "mimetype": "text/x-c++src",
   "name": "c++",
   "version": "14"
  }
 },
 "nbformat": 4,
 "nbformat_minor": 4
}

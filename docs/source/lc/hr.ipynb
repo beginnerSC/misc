{
 "cells": [
  {
   "cell_type": "markdown",
   "metadata": {},
   "source": [
    "# hr"
   ]
  },
  {
   "cell_type": "markdown",
   "metadata": {},
   "source": [
    "## String Reverse Words\n",
    "\n",
    "Given n strings, output each string in reverse order. The words in each string should be kept intact.\n",
    "\n",
    "Friends!! Read the question deeply. It says you can have at max 1000 lines and each line can have 1mn char.\n",
    "\n",
    "Input Format\n",
    "\n",
    "First line consists of integer N, number of strings you will be given.\n",
    "\n",
    "Next N lines contains one string per line.\n",
    "\n",
    "Constraints\n",
    "\n",
    "    1 ≤ N ≤ 1000\n",
    "    1 ≤ len(string) ≤ 10^6\n",
    "\n",
    "Output Format\n",
    "\n",
    "    N lines of desired output.\n",
    "\n",
    "Sample Input\n",
    "\n",
    "    1\n",
    "\n",
    "    At coding blocks, you get well structured syllabus that helps to build your logic and improve programming quotient.\n",
    "\n",
    "Sample Output\n",
    "\n",
    "    quotient. programming improve and logic your build to helps that syllabus structured well get you blocks, coding At\n",
    "\n",
    "Explanation\n",
    "\n",
    "    Reversed output with words intact."
   ]
  },
  {
   "cell_type": "code",
   "execution_count": 3,
   "metadata": {},
   "outputs": [
    {
     "name": "stdin",
     "output_type": "stream",
     "text": [
      " 1\n",
      " This is a test.\n"
     ]
    },
    {
     "name": "stdout",
     "output_type": "stream",
     "text": [
      "test. a is This \n"
     ]
    },
    {
     "data": {
      "text/plain": [
       "0"
      ]
     },
     "execution_count": 3,
     "metadata": {},
     "output_type": "execute_result"
    }
   ],
   "source": [
    "#include <vector>\n",
    "#include <iostream>\n",
    "#include <algorithm>\n",
    "\n",
    "int main() {\n",
    "    \n",
    "    int n;\n",
    "    std::cin >> n;\n",
    "    \n",
    "    for (int i=0 ; i<n ; i++)\n",
    "    {\n",
    "        std::vector<std::string> line;\n",
    "        char endc;\n",
    "        do{\n",
    "            std::string s;\n",
    "            std::cin >> s;\n",
    "            line.push_back(s);\n",
    "            endc = s.back();\n",
    "        } while (endc != '.');\n",
    "        \n",
    "        std::reverse(line.begin(), line.end());\n",
    "            \n",
    "        for (const std::string& word : line)\n",
    "            std::cout << word << \" \";\n",
    "        \n",
    "        std::cout << std::endl;\n",
    "    }\n",
    "   \n",
    "    return 0;\n",
    "}\n",
    "\n",
    "main()"
   ]
  }
 ],
 "metadata": {
  "kernelspec": {
   "display_name": "C++14",
   "language": "C++14",
   "name": "xcpp14"
  },
  "language_info": {
   "codemirror_mode": "text/x-c++src",
   "file_extension": ".cpp",
   "mimetype": "text/x-c++src",
   "name": "c++",
   "version": "14"
  }
 },
 "nbformat": 4,
 "nbformat_minor": 4
}

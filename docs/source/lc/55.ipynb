{
 "cells": [
  {
   "cell_type": "markdown",
   "metadata": {},
   "source": [
    "## 829. Consecutive Numbers Sum\n",
    "Hard\n",
    "\n",
    "Given a positive integer N, how many ways can we write it as a sum of consecutive positive integers?\n",
    "\n",
    "Example 1:\n",
    "\n",
    "    Input: 5\n",
    "    Output: 2\n",
    "    Explanation: 5 = 5 = 2 + 3"
   ]
  },
  {
   "cell_type": "code",
   "execution_count": 1,
   "metadata": {},
   "outputs": [
    {
     "data": {
      "text/plain": [
       "2"
      ]
     },
     "execution_count": 1,
     "metadata": {},
     "output_type": "execute_result"
    }
   ],
   "source": [
    "from math import sqrt, ceil, floor\n",
    "\n",
    "def consecutiveNumbersSum(N):\n",
    "    '''\n",
    "    answer is number of odd divisors of N\n",
    "    range(1, ceil(sqrt(N)), 2) is all odd numbers up to floor(sqrt(N))\n",
    "    '''\n",
    "    while N%2 == 0:\n",
    "        N /= 2\n",
    "\n",
    "    if floor(sqrt(N))**2 == N:\n",
    "        return 2*sum([1 for i in range(1, ceil(sqrt(N)), 2) if N%i == 0]) + 1\n",
    "\n",
    "    else:\n",
    "        return 2*sum([1 for i in range(1, ceil(sqrt(N)), 2) if N%i == 0])\n",
    "\n",
    "consecutiveNumbersSum(5)"
   ]
  }
 ],
 "metadata": {
  "kernelspec": {
   "display_name": "Python 3",
   "language": "python",
   "name": "python3"
  },
  "language_info": {
   "codemirror_mode": {
    "name": "ipython",
    "version": 3
   },
   "file_extension": ".py",
   "mimetype": "text/x-python",
   "name": "python",
   "nbconvert_exporter": "python",
   "pygments_lexer": "ipython3",
   "version": "3.7.8"
  }
 },
 "nbformat": 4,
 "nbformat_minor": 4
}

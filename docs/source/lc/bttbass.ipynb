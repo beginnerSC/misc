{
 "cells": [
  {
   "cell_type": "markdown",
   "metadata": {},
   "source": [
    "# Best Time to Buy and Sell Stock"
   ]
  },
  {
   "cell_type": "markdown",
   "metadata": {},
   "source": [
    "## 188. Best Time to Buy and Sell Stock IV\n",
    "Hard\n",
    "\n",
    "Say you have an array for which the i-th element is the price of a given stock on day i.\n",
    "\n",
    "Design an algorithm to find the maximum profit. You may complete at most k transactions.\n",
    "\n",
    "Note:\n",
    "You may not engage in multiple transactions at the same time (ie, you must sell the stock before you buy again).\n",
    "\n",
    "    Example:\n",
    "\n",
    "    Input: [2,4,1], k = 2\n",
    "    Output: 2\n",
    "    Explanation: Buy on day 1 (price = 2) and sell on day 2 (price = 4), profit = 4-2 = 2.\n"
   ]
  },
  {
   "cell_type": "code",
   "execution_count": 8,
   "metadata": {},
   "outputs": [],
   "source": [
    "prices = [2, 4, 1]\n",
    "k = 2\n",
    "\n",
    "def maxProfit(k, prices):\n",
    "    pass\n",
    "\n",
    "maxProfit(k, prices)"
   ]
  },
  {
   "cell_type": "markdown",
   "metadata": {},
   "source": [
    "## 121. Best Time to Buy and Sell Stock\n",
    "Easy\n",
    "\n",
    "Say you have an array for which the ith element is the price of a given stock on day i.\n",
    "\n",
    "If you were only permitted to complete at most one transaction (i.e., buy one and sell one share of the stock), design an algorithm to find the maximum profit.\n",
    "\n",
    "Note that you cannot sell a stock before you buy one.\n",
    "\n",
    "    Example:\n",
    "    \n",
    "    Input: [7,1,5,3,6,4]\n",
    "    Output: 5\n"
   ]
  },
  {
   "cell_type": "code",
   "execution_count": 1,
   "metadata": {},
   "outputs": [
    {
     "data": {
      "text/plain": [
       "5"
      ]
     },
     "execution_count": 1,
     "metadata": {},
     "output_type": "execute_result"
    }
   ],
   "source": [
    "prices = [7, 1, 5, 3, 6, 4]\n",
    "\n",
    "def maxProfit(prices):\n",
    "    curMaxProfit = 0\n",
    "    if len(prices) > 0:\n",
    "        curMin = prices[0]\n",
    "        for price in prices:\n",
    "            curMin = min(curMin, price)\n",
    "            curMaxProfit = max(price - curMin, curMaxProfit)\n",
    "            \n",
    "    return curMaxProfit\n",
    "\n",
    "maxProfit(prices)"
   ]
  },
  {
   "cell_type": "markdown",
   "metadata": {},
   "source": [
    "## 123. Best Time to Buy and Sell Stock III\n",
    "Hard\n",
    "\n",
    "Say you have an array for which the ith element is the price of a given stock on day i.\n",
    "\n",
    "Design an algorithm to find the maximum profit. You may complete at most two transactions.\n",
    "\n",
    "Note: You may not engage in multiple transactions at the same time (i.e., you must sell the stock before you buy again).\n",
    "\n",
    " \n",
    "\n",
    "    Example:\n",
    "\n",
    "    Input: prices = [3,3,5,0,0,3,1,4]\n",
    "    Output: 6\n",
    "    Explanation: Buy on day 4 (price = 0) and sell on day 6 (price = 3), profit = 3-0 = 3.\n",
    "    Then buy on day 7 (price = 1) and sell on day 8 (price = 4), profit = 4-1 = 3."
   ]
  },
  {
   "cell_type": "code",
   "execution_count": 5,
   "metadata": {},
   "outputs": [],
   "source": [
    "prices = [3, 3, 5, 0, 0, 3, 1, 4]\n",
    "\n",
    "def maxProfit(prices):\n",
    "    pass\n",
    "\n",
    "maxProfit(prices)"
   ]
  },
  {
   "cell_type": "markdown",
   "metadata": {},
   "source": [
    "## 309. Best Time to Buy and Sell Stock with Cooldown\n",
    "Medium\n",
    "\n",
    "Say you have an array for which the ith element is the price of a given stock on day i.\n",
    "\n",
    "Design an algorithm to find the maximum profit. You may complete as many transactions as you like (ie, buy one and sell one share of the stock multiple times) with the following restrictions:\n",
    "\n",
    "* You may not engage in multiple transactions at the same time (ie, you must sell the stock before you buy again).\n",
    "* After you sell your stock, you cannot buy stock on next day. (ie, cooldown 1 day)\n",
    "\n",
    "```\n",
    "Example:\n",
    "\n",
    "Input: [1,2,3,0,2]\n",
    "Output: 3 \n",
    "Explanation: transactions = [buy, sell, cooldown, buy, sell]\n",
    "```"
   ]
  },
  {
   "cell_type": "code",
   "execution_count": 4,
   "metadata": {},
   "outputs": [],
   "source": [
    "prices = [1, 2, 3, 0, 2]\n",
    "\n",
    "def maxProfit(prices):\n",
    "    pass\n",
    "\n",
    "maxProfit(prices)"
   ]
  },
  {
   "cell_type": "markdown",
   "metadata": {},
   "source": [
    "## 122. Best Time to Buy and Sell Stock II\n",
    "Easy\n",
    "\n",
    "Say you have an array prices for which the ith element is the price of a given stock on day i.\n",
    "\n",
    "Design an algorithm to find the maximum profit. You may complete as many transactions as you like (i.e., buy one and sell one share of the stock multiple times).\n",
    "\n",
    "Note: You may not engage in multiple transactions at the same time (i.e., you must sell the stock before you buy again).\n",
    "\n",
    "\n",
    "    Example:\n",
    "    \n",
    "    Input: [7,1,5,3,6,4]\n",
    "    Output: 7\n"
   ]
  },
  {
   "cell_type": "code",
   "execution_count": 7,
   "metadata": {},
   "outputs": [
    {
     "data": {
      "text/plain": [
       "7"
      ]
     },
     "execution_count": 7,
     "metadata": {},
     "output_type": "execute_result"
    }
   ],
   "source": [
    "prices = [7, 1, 5, 3, 6, 4]\n",
    "\n",
    "def maxProfit2(prices):\n",
    "    import numpy as np\n",
    "    diff = np.diff(prices)\n",
    "    return diff[np.where(diff > 0)].sum()\n",
    "\n",
    "maxProfit2(prices)"
   ]
  },
  {
   "cell_type": "markdown",
   "metadata": {},
   "source": [
    "## 714. Best Time to Buy and Sell Stock with Transaction Fee\n",
    "Medium\n",
    "\n",
    "Your are given an array of integers prices, for which the i-th element is the price of a given stock on day i; and a non-negative integer fee representing a transaction fee.\n",
    "\n",
    "You may complete as many transactions as you like, but you need to pay the transaction fee for each transaction. You may not buy more than 1 share of a stock at a time (ie. you must sell the stock share before you buy again.)\n",
    "\n",
    "Return the maximum profit you can make.\n",
    "\n",
    "    Example:\n",
    "    \n",
    "    Input: prices = [1, 3, 2, 8, 4, 9], fee = 2\n",
    "    Output: 8\n",
    "    Explanation: The maximum profit can be achieved by:\n",
    "    Buying at prices[0] = 1\n",
    "    Selling at prices[3] = 8\n",
    "    Buying at prices[4] = 4\n",
    "    Selling at prices[5] = 9\n",
    "    The total profit is ((8 - 1) - 2) + ((9 - 4) - 2) = 8.\n"
   ]
  },
  {
   "cell_type": "code",
   "execution_count": 1,
   "metadata": {},
   "outputs": [],
   "source": [
    "prices = [1, 3, 2, 8, 4, 9]\n",
    "fee = 2\n",
    "\n",
    "def maxProfit(prices, fee):\n",
    "    pass\n",
    "\n",
    "maxProfit(prices, fee)"
   ]
  }
 ],
 "metadata": {
  "kernelspec": {
   "display_name": "Python 3",
   "language": "python",
   "name": "python3"
  },
  "language_info": {
   "codemirror_mode": {
    "name": "ipython",
    "version": 3
   },
   "file_extension": ".py",
   "mimetype": "text/x-python",
   "name": "python",
   "nbconvert_exporter": "python",
   "pygments_lexer": "ipython3",
   "version": "3.7.8"
  }
 },
 "nbformat": 4,
 "nbformat_minor": 4
}

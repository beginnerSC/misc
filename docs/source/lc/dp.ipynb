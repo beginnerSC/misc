{
 "cells": [
  {
   "cell_type": "markdown",
   "metadata": {},
   "source": [
    "# DP"
   ]
  },
  {
   "cell_type": "markdown",
   "metadata": {},
   "source": [
    "## 322. Coin Change\n",
    "\n",
    "Medium\n",
    "\n",
    "You are given coins of different denominations and a total amount of money amount. Write a function to compute the fewest number of coins that you need to make up that amount. If that amount of money cannot be made up by any combination of the coins, return -1.\n",
    "\n",
    "You may assume that you have an infinite number of each kind of coin.\n",
    "\n",
    " \n",
    "\n",
    "Example 1:\n",
    "\n",
    "    Input: coins = [1,2,5], amount = 11\n",
    "    Output: 3\n",
    "    Explanation: 11 = 5 + 5 + 1\n"
   ]
  },
  {
   "cell_type": "code",
   "execution_count": 11,
   "metadata": {},
   "outputs": [
    {
     "data": {
      "text/plain": [
       "3"
      ]
     },
     "execution_count": 11,
     "metadata": {},
     "output_type": "execute_result"
    }
   ],
   "source": [
    "from functools import lru_cache\n",
    "\n",
    "coins = (1, 2, 5)\n",
    "amount = 11\n",
    "\n",
    "@lru_cache(maxsize=None)\n",
    "def coinChange(coins, amount):  # without memoizing, this recursive solution is too slow like fibonacci\n",
    "    if amount < 0:\n",
    "        return -1\n",
    "    elif amount==0:\n",
    "        return 0\n",
    "    else:\n",
    "        sc = [coinChange(coins, amount-coin) for coin in coins]\n",
    "\n",
    "        if all( val==-1 for val in sc):\n",
    "            return -1\n",
    "        else: \n",
    "            return 1 + min(val for val in sc if val!=-1)\n",
    "    \n",
    "coinChange(coins, amount)"
   ]
  },
  {
   "cell_type": "markdown",
   "metadata": {},
   "source": [
    "## 198. House Robber\n",
    "\n",
    "You are a professional robber planning to rob houses along a street. Each house has a certain amount of money stashed, the only constraint stopping you from robbing each of them is that adjacent houses have security system connected and it will automatically contact the police if two adjacent houses were broken into on the same night. Given a list of non-negative integers representing the amount of money of each house, determine the maximum amount of money you can rob tonight without alerting the police.\n",
    "\n",
    "上面冗長的題目就只是在說不能連續偷兩家。\n",
    "\n",
    "在前面最佳策略已知的情況下，決定要不要偷最後一家：\n",
    "$$\n",
    "f([2, 7, 9, 3, 1]) = \\max( 1 + f([2, 7, 9]),  f([2, 7, 9, 3]))\n",
    "$$"
   ]
  },
  {
   "cell_type": "code",
   "execution_count": 1,
   "metadata": {},
   "outputs": [
    {
     "data": {
      "text/plain": [
       "12"
      ]
     },
     "execution_count": 1,
     "metadata": {},
     "output_type": "execute_result"
    }
   ],
   "source": [
    "nums = [2, 7, 9, 3, 1]\n",
    "\n",
    "def rob(nums):\n",
    "    if len(nums) == 0:      return 0\n",
    "    elif len(nums) == 1:    return nums[0]\n",
    "    else:\n",
    "        nums[1] = max(nums[:2])\n",
    "        for i in range(2, len(nums)):\n",
    "            nums[i] = max(nums[i] + nums[i-2], nums[i-1])\n",
    "\n",
    "        return nums[-1]\n",
    "    \n",
    "rob(nums)\n"
   ]
  },
  {
   "cell_type": "markdown",
   "metadata": {},
   "source": [
    "## 72. Edit Distance\n",
    "\n",
    "Hard\n",
    "\n",
    "Given two strings word1 and word2, return the minimum number of operations required to convert word1 to word2.\n",
    "\n",
    "You have the following three operations permitted on a word:\n",
    "\n",
    "    Insert a character\n",
    "    Delete a character\n",
    "    Replace a character\n",
    "\n",
    "Example 1:\n",
    "\n",
    "    Input: word1 = \"horse\", word2 = \"ros\"\n",
    "    Output: 3\n",
    "    Explanation: \n",
    "    horse -> rorse (replace 'h' with 'r')\n",
    "    rorse -> rose (remove 'r')\n",
    "    rose -> ros (remove 'e')\n"
   ]
  },
  {
   "cell_type": "code",
   "execution_count": 14,
   "metadata": {},
   "outputs": [
    {
     "data": {
      "text/plain": [
       "3"
      ]
     },
     "execution_count": 14,
     "metadata": {},
     "output_type": "execute_result"
    }
   ],
   "source": [
    "word1 = 'horse'\n",
    "word2 = 'ros'\n",
    "\n",
    "def minDistance(word1, word2):\n",
    "    m = len(word2) + 1\n",
    "    n = len(word1) + 1\n",
    "    a = [[0 for _ in range(n)] for _ in range(m)]\n",
    "    \n",
    "    for j in range(n):\n",
    "        a[0][j] = j \n",
    "        \n",
    "    for i in range(m):\n",
    "        a[i][0] = i\n",
    "    \n",
    "    for i in range(1, m):\n",
    "        for j in range(1, n):\n",
    "            a[i][j] = min(a[i-1][j-1] + (word1[j-1]!=word2[i-1]), a[i-1][j]+1, a[i][j-1]+1)\n",
    "    \n",
    "    return a[-1][-1]\n",
    "    \n",
    "minDistance(word1, word2)"
   ]
  }
 ],
 "metadata": {
  "kernelspec": {
   "display_name": "Python 3",
   "language": "python",
   "name": "python3"
  },
  "language_info": {
   "codemirror_mode": {
    "name": "ipython",
    "version": 3
   },
   "file_extension": ".py",
   "mimetype": "text/x-python",
   "name": "python",
   "nbconvert_exporter": "python",
   "pygments_lexer": "ipython3",
   "version": "3.7.8"
  }
 },
 "nbformat": 4,
 "nbformat_minor": 4
}

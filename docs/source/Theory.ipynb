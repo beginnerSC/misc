{
 "cells": [
  {
   "cell_type": "markdown",
   "metadata": {},
   "source": [
    "# BM Quadratic Variation"
   ]
  },
  {
   "cell_type": "code",
   "execution_count": 5,
   "metadata": {},
   "outputs": [
    {
     "data": {
      "image/png": "[encoded data removed]",
      "text/plain": [
       "<Figure size 432x288 with 1 Axes>"
      ]
     },
     "metadata": {
      "needs_background": "light"
     },
     "output_type": "display_data"
    }
   ],
   "source": [
    "import numpy as np\n",
    "from pandas import DataFrame\n",
    "\n",
    "T = 10\n",
    "n = 2500\n",
    "dt = T/n\n",
    "\n",
    "ax = DataFrame({'QV': (np.random.normal(0, np.sqrt(dt), n)**2).cumsum(), \n",
    "                'Identity': np.arange(dt, T+dt, dt)\n",
    "               }, \n",
    "               index=np.arange(dt, T+dt, dt)).plot()\n",
    "ax.set_aspect(1)\n"
   ]
  },
  {
   "cell_type": "markdown",
   "metadata": {},
   "source": [
    "# SV Models\n",
    "\n",
    "All models below are in the risk-neutral world and there can be a price-volatility correlation, meaning $dZ_tdW_t = \\rho dt$.\n",
    "\n",
    "![](fig/sv.png)\n",
    "\n",
    "\n",
    "From wikipedia: \n",
    "[SV Models](https://en.wikipedia.org/wiki/Stochastic_volatility), \n",
    "[CEV](https://en.wikipedia.org/wiki/Constant_elasticity_of_variance_model), \n",
    "[LV](https://en.wikipedia.org/wiki/Local_volatility), \n",
    "[SABR](https://en.wikipedia.org/wiki/SABR_volatility_model)\n",
    "\n",
    "\n",
    "[GARCH(1, 1) limiting case derivation](https://math.berkeley.edu/~btw/thesis4.pdf)\n",
    "\n",
    "\n",
    "MD 表 + 連結 + 數學符號 publish 之後會爛掉。這裡放的是圖。原本的 code 在下面被 comment out。圖其實可以不用存起來，直接 snipping tool 剪下之後在 cell 裡貼上就可以了\n",
    "\n",
    "<!--\n",
    "|Model| Dynamics | Speed Log Return QV Increase | Note\n",
    "|--|--|--|--|\n",
    "|[CEV](https://en.wikipedia.org/wiki/Constant_elasticity_of_variance_model)|$$dS_t = rS_t dt + \\sigma S_t^{\\beta} dW_t$$ | $$\\sigma^2S_t^{2(\\beta -1)}$$ | $$\\beta< 1: \\text{leverage effect; }\\beta> 1: \\text{inverse leverage effect}$$ |\n",
    "|[LV](https://en.wikipedia.org/wiki/Local_volatility)| $$dS_t = rS_t dt + \\sigma(t, S_t) S_t dW_t$$ | $$\\sigma^2(t, S_t)$$ ||\n",
    "|Heston|$$\n",
    "\\begin{cases}\n",
    "dS_t = rS_tdt + \\sqrt{V_t}S_t dW_t\\\\\n",
    "dV_t = \\theta(\\kappa - V_t)dt + \\sigma\\sqrt{V_t} dZ_t\n",
    "\\end{cases}\n",
    "$$| $$V_t$$ | $$V_t \\text{ accumulates QV at the speed } \\sigma^2 V_t$$ |\n",
    "|[SABR](https://en.wikipedia.org/wiki/SABR_volatility_model)|$$\n",
    "\\begin{cases}\n",
    "dF_t = \\sigma_tF_t^{\\beta} dW_t\\\\\n",
    "d\\sigma_t = \\alpha\\sigma_t dZ_t\n",
    "\\end{cases}\n",
    "$$| $$\\sigma_t^2F_t^{2(\\beta -1)}$$ | $$\\sigma_t \\text{ accumulates QV at the speed } \\alpha^2 \\sigma_t^2$$ |\n",
    "| GARCH(1, 1)|$$\n",
    "dV_t = \\theta(\\kappa-V_t)dt + \\sigma V_t dW_t\n",
    "$$| $$?$$ | $$V_t \\text{ accumulates QV at the speed } \\sigma^2 V_t^2$$ Derivation of limiting case see [here](https://math.berkeley.edu/~btw/thesis4.pdf)|\n",
    "-->"
   ]
  },
  {
   "cell_type": "markdown",
   "metadata": {},
   "source": [
    "# Empirically...\n",
    "\n",
    "* The log return of S&P 500 doesn't accumulate QV at a constant rate $\\sigma^2$ per unit time as it's assumed in the Black-Scholes model\n",
    "* The Heston model assumes that the log return accumulates QV at the rate of the volatility $V_t$, and the volatility accumulates QV at the rate of $\\sigma^2 V_t$. So the speed the log return accumulates QV is a constant times the speed the volatility accumulates QV. "
   ]
  },
  {
   "cell_type": "code",
   "execution_count": 7,
   "metadata": {},
   "outputs": [
    {
     "data": {
      "image/png": "[encoded data removed]",
      "text/plain": [
       "<Figure size 432x288 with 1 Axes>"
      ]
     },
     "metadata": {
      "needs_background": "light"
     },
     "output_type": "display_data"
    }
   ],
   "source": [
    "from pandas import DataFrame\n",
    "import pandas as pd\n",
    "import numpy as np\n",
    "\n",
    "# data from 1928/1/1 - 2020/6/1\n",
    "\n",
    "df = pd.read_csv('./data/^GSPC.csv').set_index('Date')\n",
    "df = np.log(df[['Adj Close']].pct_change()[1:] + 1)\n",
    "\n",
    "log_return = df.values\n",
    "\n",
    "n = len(log_return)\n",
    "dt = 1/252\n",
    "ax = DataFrame({'QV': (log_return**2).cumsum()}, index=np.arange(dt+1928, (n+1)*dt+1928, dt)).tail(4000).plot()\n",
    "# ax.set_aspect(1)\n",
    "\n"
   ]
  },
  {
   "cell_type": "markdown",
   "metadata": {},
   "source": [
    "# [Penalty Method for American Put Pricing](https://cs.uwaterloo.ca/~paforsyt/con7.pdf)\n",
    "\n",
    "$$\n",
    "V_{\\tau} = \\frac{\\sigma^2S^2}{2}V_{SS} + rSV_S - rV + \\rho\\max(V^{*}-V, 0), \n",
    "$$\n",
    "where $V^* = (K-S)^+$ is the payoff function, and $\\rho$ is a large number. \n",
    "\n",
    "* Above the early exercise boundary, the penalty term disappears and the PDE reduces to the Black-Scholes PDE\n",
    "* Below the boundary, the penalty term dominates and PDE is approximately $V_{\\tau} = \\rho(V^{*}-V)$ whose solution is $V = V^{*}$\n"
   ]
  }
 ],
 "metadata": {
  "kernelspec": {
   "display_name": "Python 3",
   "language": "python",
   "name": "python3"
  },
  "language_info": {
   "codemirror_mode": {
    "name": "ipython",
    "version": 3
   },
   "file_extension": ".py",
   "mimetype": "text/x-python",
   "name": "python",
   "nbconvert_exporter": "python",
   "pygments_lexer": "ipython3",
   "version": "3.8.1"
  }
 },
 "nbformat": 4,
 "nbformat_minor": 4
}

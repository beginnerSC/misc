{
 "cells": [
  {
   "cell_type": "markdown",
   "metadata": {},
   "source": [
    "# Notes"
   ]
  },
  {
   "cell_type": "markdown",
   "metadata": {},
   "source": [
    "## Misc\n",
    "\n",
    "* Some links\n",
    "    * [behavior](https://www.indeed.com/career-advice/interviewing/how-to-prepare-for-a-behavioral-interview)\n",
    "    * [STAR wiki](https://en.wikipedia.org/wiki/Situation,_task,_action,_result)\n",
    "    * [coderpad sandbox](https://coderpad.io/sandbox)\n",
    "    * [classic interview questions -- easy](https://leetcode.com/explore/featured/card/top-interview-questions-easy/)\n",
    "    * [DevOps](https://zh.wikipedia.org/zh-tw/DevOps)\n",
    "    * [Debugging in Python](https://pythonconquerstheuniverse.wordpress.com/2009/09/10/debugging-in-python/)\n",
    "* WSL2\n",
    "    * https://docs.microsoft.com/en-us/windows/wsl/install-win10\n",
    "    * [在 BIOS 中開啟虛擬化技術](https://blog.csdn.net/psh1234/article/details/51923273)\n",
    "* [Docker End to End](https://www.youtube.com/playlist?list=PLZoTAELRMXVNKtpy0U_Mx9N26w8n0hIbs)\n",
    "* [sktime](https://github.com/alan-turing-institute/sktime) -- ML for time series\n",
    "* [Directory to json stackoverflow](https://stackoverflow.com/questions/25226208/represent-directory-tree-as-json)\n",
    "* [GitHub Pages Comment 範例](https://sci2lab.github.io/ml_tutorial/)\n",
    "* [Importing Local Python Modules from Jupyter Notebooks](https://mg.readthedocs.io/importing-local-python-modules-from-jupyter-notebooks/index.html)\n",
    "* [ML Tutorial](https://www.youtube.com/playlist?list=PLeo1K3hjS3uvCeTYTeyfe0-rN5r8zn9rw)\n",
    "    * 第 24 - 26 集有講怎麼架 Flask Server 放上 AWS\n",
    "* [AutoML in Python](https://www.youtube.com/watch?v=QrJlj0VCHys)\n",
    "    * [Live Demo TPOT](https://youtu.be/QrJlj0VCHys?t=1055)\n",
    "    * [List of AutoML Tools](https://youtu.be/QrJlj0VCHys?t=1425)\n",
    "        * auto-sklearn\n",
    "        * auto-Weka (Java 版 auto-sklearn)\n",
    "        * tpot\n",
    "        * H2O.ai AutoML\n",
    "        * devol\n",
    "* [Starting a Small Business as a Web Developer](https://www.youtube.com/watch?v=qn6OhK_Irm4)\n",
    "* [Open in Colab link](https://jakevdp.github.io/PythonDataScienceHandbook/04.01-simple-line-plots.html)\n",
    "* [前端學習路線小結（3 Stages）](https://www.youtube.com/watch?v=ORqqZCQCHl4)\n",
    "    1. HTML, CSS, JavaScript\n",
    "        * BOOTSTRAP, jQuery（不需刷新就可以送 requests 的 Ajax 在這裡）\n",
    "    1. SCSS/LESS, NPM WEBPACK, \n",
    "        * REACT/ANGULAR/VUE\n",
    "            * VUE 只有一個人在維護，不像 REACT 和 ANGULAR 是 facebook 和 google 寫的\n",
    "    1. REDUX VUEX ANTD ELEMENT, FLUTTER RX.JS, EXPRESS NEST.JS\n",
    "* [Installing a Python Package without pip](https://stackoverflow.com/questions/13270877/how-to-manually-install-a-pypi-module-without-pip-easy-install)\n",
    "    * 到 PyPI 下載解壓縮之後找到 ```setup.py```，cd 到該目錄下\n",
    "    * ```python setup.py install --user```\n",
    "    * ```--user``` 是只對該 user 安裝，不需要 Admin right 也（有機會）能成功安裝\n",
    "* Heroku\n",
    "    * [How to Deploy 20 min](https://www.youtube.com/watch?v=b-M2KQ6_bM4)\n",
    "    * [Plotly Dash Heroku Example](https://dash.plotly.com/deployment)\n",
    "    * [Plotly Dash v. Bokeh, repo with both examples](https://github.com/flavianh/dashboards-frameworks-comparison)\n",
    "    * [learn-heroku repo](https://github.com/dwyl/learn-heroku)\n",
    "        * [phxchat repo](https://github.com/dwyl/learn-heroku/blob/master/elixir-phoenix-app-deployment.md)\n",
    "    * [Deploying Panel (Holoviz) dashboards using Heroku Container Registry (Medium Post)](https://towardsdatascience.com/deploying-panel-holoviz-dashboards-using-heroku-container-registry-5221eb0538ba)\n",
    "    * [Voila, Dash and Panel Comparison](https://medium.com/informatics-lab/jupyter-dashboarding-some-thoughts-on-voila-panel-and-dash-b84df9c9482f)\n",
    "        * The part about Dash not playing will with Jupyter might be outdated. There is a [Jupyter Dash](https://github.com/plotly/jupyter-dash) now.\n",
    "    * [A Series of 5 Plotly Dash Tutorials](https://www.youtube.com/user/Gharn1989/videos)\n",
    "    * [佈署 Voila App 到 Heroku](https://pythonforundergradengineers.com/deploy-jupyter-notebook-voila-heroku.html)\n",
    "        * [Jupyter 插件](https://github.com/jtpio/jupyterlab-heroku) -- 一鍵完成佈署\n",
    "* CMU\n",
    "    * [Probability Final FAQ](https://docs.google.com/document/d/1mmsT33DBr4-wJiS2cuvIFPl1QntGFPLoEi2lnhm6qAI/edit)\n",
    "    * [Canvas CMU](https://canvas.cmu.edu/)\n",
    "    * [Course Video](https://canvas.cmu.edu/courses/3194/discussion_topics/228985)\n",
    "    * [Tuition](s3.as.cmu.edu/sio/index.html)\n",
    "    * [On-campus Seat Reservation](https://canvas.cmu.edu/courses/3194/pages/in-person-seat-request)\n",
    "* Kaggle\n",
    "    * [Kaggle Titanic Walk-Through 40 min](https://www.youtube.com/watch?v=I3FBJdiExcg)\n",
    "    * [Kaggle Titanic Walk-Through 中文一小時](https://youtu.be/VWg-I3aP4nk?t=1285)\n",
    "    * [Kaggle 入門中文](https://www.youtube.com/watch?v=IaCgX3BQbD0)\n",
    "    * [Schedule Notebooks using PythonAnywhere or Google Cloud](https://www.kaggle.com/rtatman/dashboarding-with-notebooks-day-4)\n",
    "* Cron\n",
    "    * [List of online cron services](https://www.cronjobservices.com/)\n",
    "* Python\n",
    "    * [Python Packaging from Init to Deploy](https://www.youtube.com/watch?v=4fzAMdLKC5k)\n",
    "    * [Stepping Through CPython](https://www.youtube.com/watch?v=XGF3Qu4dUqk)\n",
    "* [美元霸權歷史](https://www.youtube.com/watch?v=X6nxPd50Nws)\n",
    "* [生理時鐘養生法](https://www.businesstoday.com.tw/article/category/80731/post/202007150038/%E6%9B%BE%E8%A2%AB%E5%AE%A3%E5%91%8A%E5%8F%AA%E8%83%BD%E5%86%8D%E6%B4%BB%E5%8D%8A%E5%B9%B4...%E5%8F%B0%E5%A4%A7%E9%86%AB%E5%B8%AB%E7%BD%B9%E7%99%8C%E5%BE%8C%E5%AD%98%E6%B4%BB45%E5%B9%B4%EF%BC%8C%E5%A5%89%E8%A1%8C%E3%80%8C%E7%94%9F%E7%90%86%E6%99%82%E9%90%98%E9%A4%8A%E7%94%9F%E6%B3%95%E3%80%8D%EF%BC%8C%E5%BE%9E%E6%AD%A4%E4%B8%8D%E7%94%9F%E7%97%85?utm_source=FB&utm_medium=article&utm_campaign=200715)\n",
    "* [FIRE 運動的創始人回去上班了](https://www.youtube.com/watch?v=ahcBeXyHGFY)\n",
    "    * 一家四口在灣區生活需要年收入 35 萬才能打平\n",
    "* [37 分鐘什麼是比特幣區塊鍵講的好清楚](https://www.youtube.com/watch?v=obRzfcvMshM)\n",
    "* [陳光旭](https://baike.baidu.com/item/%E9%99%88%E5%85%89%E6%97%AD/2073052)\n",
    "* Adobe pdf reader go back using cross-reference: Alt + <-\n",
    "* [Don't Be a Programmer](https://www.youtube.com/watch?v=EiKK04Ht8QI)\n",
    "    * Be a problem solver, creator, innovator. Programming is just a tool\n",
    "    * 所以不要問放什麼語言在 resume 上比較容易進 google，學什麼語言比較賺錢\n",
    "* 台灣網拍：everrich 昇恆昌免稅店，蝦皮，momo，PChome\n",
    "* [Ivy League Mentality:](https://youtu.be/kJGupYFaCGs?t=625) perseverance, confidence, passion, ability to deal with stress\n",
    "* [Me in My Wife's Eyes](https://youtu.be/_p-yWkkF-FU?t=105)\n",
    "* [如何保持動力](https://www.youtube.com/watch?v=8ZhoeSaPF-k)\n",
    "    * 保持 motivated 的關鍵就是建立「Internal Locus of Control」，相信和不斷告訴自己 I'm in control of my life。如果覺得成敗都來自外在原因，就會不自覺停止努力，停止嘗試\n",
    "    * 小孩子解 puzzle 的實驗：解開後被告知是因為天生聰明的一組之後 motivation 較差。一個 sells 如果整天沒賣出東西之後是怪一些外在因素例如天氣，這個人比較不會在 sells team 久待\n",
    "    * 建立 Internal Locus of Control：花時間心去解決問題，解決之後告訴自己這都是我的功勞，是因為我做了 xxx\n",
    "* [美國上市公司在變少](https://www.wsj.com/articles/where-have-all-the-public-companies-gone-1510869125)\n",
    "    * 1996 年有 7322 家上市公司，到 2017 只剩 3671 家，Wilshire 5000 指數裡根本沒有 5000 支股票\n",
    "        * 自從 late 90s 上市公司數量就一直減少\n",
    "        * 1996 年有 845 家 IPO，到 2016 年只剩 128 家\n",
    "        * 公司上市的動機變小了因為：\n",
    "            * 公司比以前更容易從 VC，PE 拿到投資\n",
    "            * regulation 增加和各種股東訴訟\n",
    "    * 公司 IPO 的時間點也在改變\n",
    "        * 平均 IPO 公司年齡從 1996 年的 12 歲到 2016 年變成 18 歲\n",
    "        * 2017 平均 IPO 市值是 20 年前的 4 倍\n",
    "        * Amazon 1997 上市時才三歲，市值 600M\n",
    "        * Facebook 2012 上市時已經八歲，市值 100B\n",
    "        * Airbnb 和 Uber 也都拖了很久才上市\n",
    "            * microcap，small-cap，midcap 公司在慢慢消失\n",
    "            * 很多成長股都跑到 PE 裡了，交易所買不到\n",
    "            * （所以 small-cap index 的漲幅才大不如前？）\n",
    "    * public market 裡被動投資在增加，主動投資在減少\n",
    "        * 2000 以來被動型的基金成長了 1.7T，主動型萎縮了 1.4T\n",
    "        * 因為交易所的成長型股票少了，選股也變得不再重要\n",
    "        * 以 research 為基礎的 discretionary trade 只佔目前交易量的 10%\n",
    "        * 被動型的基金在交易量中佔比增加，強化了股票報酬間的相關性\n",
    "        * 看起來分散的 portfolio 其實沒有以前分散。20 年前可以在 public market 構造的 profile 今天可能要加入 PE 才造的出來\n",
    "    * emerging markets 現況\n",
    "        * 投資選擇很少\n",
    "        * 漲跌的 driving factor 是 fund flows，不是當地公司基本面"
   ]
  },
  {
   "cell_type": "markdown",
   "metadata": {},
   "source": [
    "## Writing Python Module in C++\n",
    "\n",
    "* [很擺爛的 youtube 教學](https://www.youtube.com/watch?v=P-_kKCzqSn0)\n",
    "* [很簡化的 boost python 筆記](https://pyengr.readthedocs.io/en/latest/inter/bpy/index.html)"
   ]
  },
  {
   "cell_type": "markdown",
   "metadata": {},
   "source": [
    "## [駕照到期日延到 12/31](http://state.nj.us/mvc/pdf/about/FREQUENTLY%20ASKED%20QUESTIONS.pdf)"
   ]
  },
  {
   "cell_type": "markdown",
   "metadata": {},
   "source": [
    "## [Youtube Keyboard Shortcuts](https://sites.google.com/a/umich.edu/u-m-google-170816/accessibility/google-keyboard-shortcuts---youtube)\n",
    "\n",
    "* speed up/slow down: Shift + >, Shift + <\n",
    "* caption on/off: c\n",
    "* full screen: f"
   ]
  },
  {
   "cell_type": "markdown",
   "metadata": {},
   "source": [
    "## [Kinesis Advantage2 Programming the Keyboard](https://www.youtube.com/watch?v=I7tIcZKnPAY)"
   ]
  },
  {
   "cell_type": "markdown",
   "metadata": {},
   "source": [
    "* 把左手的 ctrl 改成 shift：\n",
    "    1. program-F12 （鍵盤最右上角）\n",
    "    1. 按一下 ctrl\n",
    "    1. 按一下 shift"
   ]
  },
  {
   "cell_type": "markdown",
   "metadata": {},
   "source": [
    "## [Set up JupyterHub on Google Cloud Step By Step](https://www.youtube.com/watch?v=Mk6ZHVIw0Xs)"
   ]
  }
 ],
 "metadata": {
  "kernelspec": {
   "display_name": "Python 3",
   "language": "python",
   "name": "python3"
  },
  "language_info": {
   "codemirror_mode": {
    "name": "ipython",
    "version": 3
   },
   "file_extension": ".py",
   "mimetype": "text/x-python",
   "name": "python",
   "nbconvert_exporter": "python",
   "pygments_lexer": "ipython3",
   "version": "3.7.8"
  },
  "toc-autonumbering": false
 },
 "nbformat": 4,
 "nbformat_minor": 4
}

{
 "cells": [
  {
   "cell_type": "markdown",
   "metadata": {},
   "source": [
    "# Notes"
   ]
  },
  {
   "cell_type": "markdown",
   "metadata": {},
   "source": [
    "## Misc\n",
    "\n",
    "\n",
    "* [Installing a Python Package without pip](https://stackoverflow.com/questions/13270877/how-to-manually-install-a-pypi-module-without-pip-easy-install)\n",
    "    * 到 PyPI 下載解壓縮之後找到 ```setup.py```，cd 到該目錄下\n",
    "    * ```python setup.py install --user```\n",
    "    * ```--user``` 是只對該 user 安裝，不需要 Admin right 也（有機會）能成功安裝\n",
    "* Heroku\n",
    "    * [How to Deploy 20 min](https://www.youtube.com/watch?v=b-M2KQ6_bM4)\n",
    "    * [Plotly Dash Heroku Example](https://dash.plotly.com/deployment)\n",
    "    * [Plotly Dash v. Bokeh, repo with both examples](https://github.com/flavianh/dashboards-frameworks-comparison)\n",
    "    * [learn-heroku repo](https://github.com/dwyl/learn-heroku)\n",
    "        * [phxchat repo](https://github.com/dwyl/learn-heroku/blob/master/elixir-phoenix-app-deployment.md)\n",
    "    * [Deploying Panel (Holoviz) dashboards using Heroku Container Registry (Medium Post)](https://towardsdatascience.com/deploying-panel-holoviz-dashboards-using-heroku-container-registry-5221eb0538ba)\n",
    "    * [Voila, Dash and Panel Comparison](https://medium.com/informatics-lab/jupyter-dashboarding-some-thoughts-on-voila-panel-and-dash-b84df9c9482f)\n",
    "        * The part about Dash not playing will with Jupyter might be outdated. There is a [Jupyter Dash](https://github.com/plotly/jupyter-dash) now.\n",
    "    * [A Series of 5 Plotly Dash Tutorials](https://www.youtube.com/user/Gharn1989/videos)\n",
    "* CMU\n",
    "    * [Probability Final FAQ](https://docs.google.com/document/d/1mmsT33DBr4-wJiS2cuvIFPl1QntGFPLoEi2lnhm6qAI/edit)\n",
    "    * [Canvas CMU](https://canvas.cmu.edu/)\n",
    "    * [Course Video](https://canvas.cmu.edu/courses/3194/discussion_topics/228985)\n",
    "    * [Tuition](s3.as.cmu.edu/sio/index.html)\n",
    "    * [On-campus Seat Reservation](https://canvas.cmu.edu/courses/3194/pages/in-person-seat-request)\n",
    "* Kaggle\n",
    "    * [Kaggle Titanic Walk-Through 40 min](https://www.youtube.com/watch?v=I3FBJdiExcg)\n",
    "    * [Kaggle Titanic Walk-Through 中文一小時](https://youtu.be/VWg-I3aP4nk?t=1285)\n",
    "    * [Kaggle 入門中文](https://www.youtube.com/watch?v=IaCgX3BQbD0)\n",
    "    * [Schedule Notebooks using PythonAnywhere or Google Cloud](https://www.kaggle.com/rtatman/dashboarding-with-notebooks-day-4)\n",
    "* Cron\n",
    "    * [List of online cron services](https://www.cronjobservices.com/)\n",
    "* Python\n",
    "    * [Python Packaging from Init to Deploy](https://www.youtube.com/watch?v=4fzAMdLKC5k)\n",
    "    * [Stepping Through CPython](https://www.youtube.com/watch?v=XGF3Qu4dUqk)\n",
    "* [美元霸權歷史](https://www.youtube.com/watch?v=X6nxPd50Nws)\n",
    "* [生理時鐘養生法](https://www.businesstoday.com.tw/article/category/80731/post/202007150038/%E6%9B%BE%E8%A2%AB%E5%AE%A3%E5%91%8A%E5%8F%AA%E8%83%BD%E5%86%8D%E6%B4%BB%E5%8D%8A%E5%B9%B4...%E5%8F%B0%E5%A4%A7%E9%86%AB%E5%B8%AB%E7%BD%B9%E7%99%8C%E5%BE%8C%E5%AD%98%E6%B4%BB45%E5%B9%B4%EF%BC%8C%E5%A5%89%E8%A1%8C%E3%80%8C%E7%94%9F%E7%90%86%E6%99%82%E9%90%98%E9%A4%8A%E7%94%9F%E6%B3%95%E3%80%8D%EF%BC%8C%E5%BE%9E%E6%AD%A4%E4%B8%8D%E7%94%9F%E7%97%85?utm_source=FB&utm_medium=article&utm_campaign=200715)\n",
    "* [FIRE 運動的創始人回去上班了](https://www.youtube.com/watch?v=ahcBeXyHGFY)\n",
    "    * 一家四口在灣區生活需要年收入 35 萬才能打平\n",
    "* [37 分鐘什麼是比特幣區塊鍵講的好清楚](https://www.youtube.com/watch?v=obRzfcvMshM)\n",
    "* [陳光旭](https://baike.baidu.com/item/%E9%99%88%E5%85%89%E6%97%AD/2073052)\n",
    "* Adobe pdf reader go back using cross-reference: Alt + <-\n",
    "* [Don't Be a Programmer](https://www.youtube.com/watch?v=EiKK04Ht8QI)\n",
    "    * Be a problem solver, creator, innovator. Programming is just a tool\n",
    "    * 所以不要問放什麼語言在 resume 上比較容易進 google，學什麼語言比較賺錢\n",
    "* 台灣網拍：everrich 昇恆昌免稅店，蝦皮，momo，PChome\n",
    "* [Ivy League Mentality:](https://youtu.be/kJGupYFaCGs?t=625) perseverance, confidence, passion, ability to deal with stress\n",
    "* [Me in My Wife's Eyes](https://youtu.be/_p-yWkkF-FU?t=105)\n",
    "* [如何保持動力](https://www.youtube.com/watch?v=8ZhoeSaPF-k)\n",
    "    * 保持 motivated 的關鍵就是建立「Internal Locus of Control」，相信和不斷告訴自己 I'm in control of my life。如果覺得成敗都來自外在原因，就會不自覺停止努力，停止嘗試\n",
    "    * 小孩子解 puzzle 的實驗：解開後被告知是因為天生聰明的一組之後 motivation 較差。一個 sells 如果整天沒賣出東西之後是怪一些外在因素例如天氣，這個人比較不會在 sells team 久待\n",
    "    * 建立 Internal Locus of Control：花時間心去解決問題，解決之後告訴自己這都是我的功勞，是因為我做了 xxx\n",
    "* [美國上市公司在變少](https://www.wsj.com/articles/where-have-all-the-public-companies-gone-1510869125)\n",
    "    * 1996 年有 7322 家上市公司，到 2017 只剩 3671 家，Wilshire 5000 指數裡根本沒有 5000 支股票\n",
    "        * 自從 late 90s 上市公司數量就一直減少\n",
    "        * 1996 年有 845 家 IPO，到 2016 年只剩 128 家\n",
    "        * 公司上市的動機變小了因為：\n",
    "            * 公司比以前更容易從 VC，PE 拿到投資\n",
    "            * regulation 增加和各種股東訴訟\n",
    "    * 公司 IPO 的時間點也在改變\n",
    "        * 平均 IPO 公司年齡從 1996 年的 12 歲到 2016 年變成 18 歲\n",
    "        * 2017 平均 IPO 市值是 20 年前的 4 倍\n",
    "        * Amazon 1997 上市時才三歲，市值 600M\n",
    "        * Facebook 2012 上市時已經八歲，市值 100B\n",
    "        * Airbnb 和 Uber 也都拖了很久才上市\n",
    "            * microcap，small-cap，midcap 公司在慢慢消失\n",
    "            * 很多成長股都跑到 PE 裡了，交易所買不到\n",
    "            * （所以 small-cap index 的漲幅才大不如前？）\n",
    "    * public market 裡被動投資在增加，主動投資在減少\n",
    "        * 2000 以來被動型的基金成長了 1.7T，主動型萎縮了 1.4T\n",
    "        * 因為交易所的成長型股票少了，選股也變得不再重要\n",
    "        * 以 research 為基礎的 discretionary trade 只佔目前交易量的 10%\n",
    "        * 被動型的基金在交易量中佔比增加，強化了股票報酬間的相關性\n",
    "        * 看起來分散的 portfolio 其實沒有以前分散。20 年前可以在 public market 構造的 profile 今天可能要加入 PE 才造的出來\n",
    "    * emerging markets 現況\n",
    "        * 投資選擇很少\n",
    "        * 漲跌的 driving factor 是 fund flows，不是當地公司基本面"
   ]
  },
  {
   "cell_type": "markdown",
   "metadata": {},
   "source": [
    "## Writing Python Module in C++\n",
    "\n",
    "* [很擺爛的 youtube 教學](https://www.youtube.com/watch?v=P-_kKCzqSn0)\n",
    "* [很簡化的 boost python 筆記](https://pyengr.readthedocs.io/en/latest/inter/bpy/index.html)"
   ]
  },
  {
   "cell_type": "markdown",
   "metadata": {},
   "source": [
    "## [駕照到期日延到 12/31](http://state.nj.us/mvc/pdf/about/FREQUENTLY%20ASKED%20QUESTIONS.pdf)"
   ]
  },
  {
   "cell_type": "markdown",
   "metadata": {},
   "source": [
    "## JupyterLab\n",
    "\n",
    "* Paste image from clipboard: working in notebook but not recommended\n",
    "    * it won't compile to pdf\n",
    "    * if paste multiple images in the same nb file, sphinx will display the first one only\n",
    "    * even if one only pastes one image, RTD will compile to pdf but the size of the image still won't be correct\n",
    "* Equation Numbering Not Working\n",
    "    * [jupyter_contrib_nbextensions](https://github.com/ipython-contrib/jupyter_contrib_nbextensions) 是一個所有 unofficial (classic) Jupyter notebook extension 的合集，裡面有 Equation Numbering\n",
    "    * 但到 JupyterLab 上 \\ref 會壞掉，只印出 (???) \n",
    "    * 2020/9 為止還沒修好。看這個 [issue](https://github.com/jupyterlab/jupyterlab/issues/4039) \n",
    "* nbconvert to pdf \n",
    "    * [No section numbers](https://stackoverflow.com/questions/35077571/how-to-remove-heading-numbers-in-jupyter-during-pdf-conversion)：```### my heading {-}``` 這樣 exported pdf 只會有 my heading，前面不會有數字 1.1.1\n",
    "    * cell content 置中：放在 ```\\begin{center} ... \\end{center}``` block 裡\n",
    "* [Keyboard Shortcuts](https://blog.ja-ke.tech/assets/jupyterlab-shortcuts/Shortcuts.png)\n",
    "    * Toggle left area: Ctrl + B \n",
    "    * Close current tab: Alt + W\n",
    "    * Splitting a cell: Ctrl + Shift + -\n",
    "    * Merge seleceted cells: Shift + M\n",
    "    * Switch tabs: Ctrl + Shift + ]\n",
    "    * Restart Kernel: 00\n",
    "    * Interrupt Kernel: II\n",
    "\n"
   ]
  },
  {
   "cell_type": "markdown",
   "metadata": {},
   "source": [
    "## [Youtube Keyboard Shortcuts](https://sites.google.com/a/umich.edu/u-m-google-170816/accessibility/google-keyboard-shortcuts---youtube)\n",
    "\n",
    "* speed up/slow down: Shift + >, Shift + <\n",
    "* caption on/off: c\n",
    "* full screen: f"
   ]
  },
  {
   "cell_type": "markdown",
   "metadata": {},
   "source": [
    "## [Kinesis Advantage2 Programming the Keyboard](https://www.youtube.com/watch?v=I7tIcZKnPAY)"
   ]
  },
  {
   "cell_type": "markdown",
   "metadata": {},
   "source": [
    "* 把左手的 ctrl 改成 shift：\n",
    "    1. program-F12 （鍵盤最右上角）\n",
    "    1. 按一下 ctrl\n",
    "    1. 按一下 shift"
   ]
  },
  {
   "cell_type": "markdown",
   "metadata": {},
   "source": [
    "## GitHub\n",
    "\n",
    "* [條件搜尋](https://youtu.be/Uj6WWAqg0NY?t=194)\n",
    "    * in:name spring boot stars:>3000\n",
    "    * in:readme \n",
    "    * in:description 微服務 language:java pushed:>2019-09-03\n",
    "* [diff 不同版本](https://youtu.be/HkphN8Js8AU?t=302)：在網址後面輸入 /compare\n",
    "* Issue：留言區，feature/bug 追蹤系統，可以是 open/closed\n",
    "    * 反應項目是否活躍的重要指標\n",
    "* Pull requests (pr)：貢獻項目\n",
    "* [Projects](https://youtu.be/HkphN8Js8AU?t=607)：項目管理工具，像大看板，可以開 projects 在裡面加 to do list, doing list 等\n",
    "* Insights：項目統計信息\n",
    "* Settings：各種服務\n",
    "    * github.io 網站\n",
    "    * webhooks 事件觸發，例如一收到 pull request 就寄 email\n",
    "    * 刪除 repo，publish 或轉 private\n",
    "* [實用小技巧，快速鍵](https://www.youtube.com/watch?v=VzdU5GwZ47o)\n",
    "* 從 Teminal push 到 github（```git remote add``` 和 ```git push``` 裡的 ```-u``` 都是第一次推送才需要）：\n",
    "    ```\n",
    "    git add *\n",
    "    git commit -m \"test: push from code ocean\"\n",
    "    git remote add github https://github.com/beginnerSC/misc.git\n",
    "    git remote -v\n",
    "    git push -u github master\n",
    "    ```\n",
    "* Default branch name：\n",
    "    * 創建一個新的 repo 時系統預設 default branch name 是 main，這樣就沒辦法 pull master。要改要去 Settings > Repositories > Repository default branch\n",
    "* [同一帳號下多個 GitHub page](https://stackoverflow.com/questions/15563685/can-i-create-more-than-one-repository-for-github-pages)"
   ]
  },
  {
   "cell_type": "markdown",
   "metadata": {},
   "source": [
    "## [Set up JupyterHub on Google Cloud Step By Step](https://www.youtube.com/watch?v=Mk6ZHVIw0Xs)"
   ]
  }
 ],
 "metadata": {
  "kernelspec": {
   "display_name": "Python 3",
   "language": "python",
   "name": "python3"
  },
  "language_info": {
   "codemirror_mode": {
    "name": "ipython",
    "version": 3
   },
   "file_extension": ".py",
   "mimetype": "text/x-python",
   "name": "python",
   "nbconvert_exporter": "python",
   "pygments_lexer": "ipython3",
   "version": "3.7.8"
  },
  "toc-autonumbering": false
 },
 "nbformat": 4,
 "nbformat_minor": 4
}

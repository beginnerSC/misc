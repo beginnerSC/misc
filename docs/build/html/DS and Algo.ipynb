{
 "cells": [
  {
   "cell_type": "markdown",
   "metadata": {},
   "source": [
    "## Heap"
   ]
  },
  {
   "cell_type": "code",
   "execution_count": 1,
   "metadata": {},
   "outputs": [
    {
     "name": "stdout",
     "output_type": "stream",
     "text": [
      "[9, 8, 8, 6, 8, 4, 3, 3, 5, 3, 3, 2, 2]\n",
      "[9, 8, 8, 6, 8, 4, 3, 3, 5, 3, 3, 2]\n",
      "[9, 8, 4, 6, 8, 2, 3, 3, 5, 3, 3]\n"
     ]
    }
   ],
   "source": [
    "def push(heap, num):\n",
    "    '''\n",
    "    Push one number to a max heap and return the final location (index) of that number. \n",
    "    Since list is mutable the heap will be updated after each function call. \n",
    "    '''\n",
    "    idx = len(heap)  # index of num\n",
    "    heap.append(num)\n",
    "    isEven = lambda x: x%2==0\n",
    "    parentIdx = max(idx//2 -1 if isEven(idx) else (idx+1)//2 -1, 0)\n",
    "    \n",
    "    # heapify up\n",
    "    while heap[parentIdx] < heap[idx]:\n",
    "        heap[parentIdx], heap[idx] = heap[idx], heap[parentIdx]\n",
    "        idx = parentIdx\n",
    "        parentIdx = max(idx//2 -1 if isEven(idx) else (idx+1)//2 -1, 0)\n",
    "        \n",
    "    return idx\n",
    "\n",
    "def remove(heap, idx):\n",
    "    '''\n",
    "    Remove an element from a max heap by index\n",
    "    Can not input -1 as index or otherwise children index computation will go wrong. \n",
    "    '''\n",
    "    heap[idx], heap[-1] = heap[-1], heap[idx]\n",
    "    del heap[-1]\n",
    "    childIdxL = 2*(idx+1)-1\n",
    "    childIdxR = 2*(idx+1)\n",
    "    \n",
    "    # heapify down\n",
    "    while (childIdxL < len(heap) and childIdxR < len(heap)) and (heap[idx] < heap[childIdxL] or heap[idx] < heap[childIdxR]): \n",
    "        # still has two children\n",
    "        if heap[childIdxL] < heap[childIdxR]:\n",
    "            heap[idx], heap[childIdxR] = heap[childIdxR], heap[idx]\n",
    "            idx = childIdxR\n",
    "        else:\n",
    "            heap[idx], heap[childIdxL] = heap[childIdxL], heap[idx]\n",
    "            idx = childIdxL\n",
    "        \n",
    "        childIdxL = 2*(idx+1)-1\n",
    "        childIdxR = 2*(idx+1)\n",
    "\n",
    "    if (childIdxL < len(heap)) and (heap[idx] < heap[childIdxL]):   # only has left child\n",
    "        heap[idx], heap[childIdxL] = heap[childIdxL], heap[idx]\n",
    "    \n",
    "heap = []\n",
    "for n in [8, 6, 4, 3, 3, 2, 3, 5, 8, 3, 8, 2, 9]:\n",
    "    push(heap, n)\n",
    "\n",
    "print(heap)\n",
    "\n",
    "remove(heap, len(heap)-1)\n",
    "print(heap)\n",
    "\n",
    "remove(heap, 2)\n",
    "print(heap)"
   ]
  }
 ],
 "metadata": {
  "kernelspec": {
   "display_name": "Python 3",
   "language": "python",
   "name": "python3"
  },
  "language_info": {
   "codemirror_mode": {
    "name": "ipython",
    "version": 3
   },
   "file_extension": ".py",
   "mimetype": "text/x-python",
   "name": "python",
   "nbconvert_exporter": "python",
   "pygments_lexer": "ipython3",
   "version": "3.8.1"
  }
 },
 "nbformat": 4,
 "nbformat_minor": 4
}

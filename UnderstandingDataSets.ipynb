{
 "cells": [
  {
   "cell_type": "markdown",
   "metadata": {},
   "source": [
    "# Part 1: Data from Raw to Ready {-}"
   ]
  },
  {
   "cell_type": "raw",
   "metadata": {},
   "source": [
    "\\lhead{Part 1: Data from Raw to Ready}\n",
    "\n",
    "\\lfoot{Financial Data Science I}\n",
    "\n",
    "\\rfoot{\\footnotesize Page \\thepage\\ of \\pageref{LastPage}}\n",
    "\n",
    "\\cfoot{Updated \\today}"
   ]
  },
  {
   "cell_type": "markdown",
   "metadata": {},
   "source": [
    "Data rarely arrive to us in a form such that they are ready for\n",
    "formal analysis. Typically, steps of preprocessing, cleaning,\n",
    "checking, etc. are required before we have what we can call\n",
    "**ready data**.\n",
    "\n",
    "You will note that I avoid using the term **clean data**, as this\n",
    "can imply a complete lack of issues in the data set. Completely\n",
    "\"clean\" data is not realistic, and should not be expected. The\n",
    "best we can hope is that a data set is sufficiently processed\n",
    "to minimize any biases that may result from errors in the data set.\n",
    "\n",
    "Ultimately, this process is quite situation-specific. We will present\n",
    "some key concepts and stress the importance of taking this step, but\n",
    "each data set will present unique challenges. This topic will be\n",
    "revisited throughout the course as we encounter new data sets.\n",
    "\n",
    "Our discussion will initially focus on data sets that are naturally\n",
    "represented in a **flat** or **spreadsheet** form.\n",
    "Each column contains a different **variable** and each\n",
    "row gives one **instance** or **case**."
   ]
  },
  {
   "cell_type": "markdown",
   "metadata": {},
   "source": [
    "**Exercise:** Give examples of cases and associated variables in\n",
    "data sets typically encountered in finance.\n",
    "\n",
    "\\answerlines{5}"
   ]
  },
  {
   "cell_type": "markdown",
   "metadata": {},
   "source": [
    "\\newpage\n",
    "\n",
    "When is a data set \"ready?\"\n",
    "\n",
    "1. Each variable is properly named.\n",
    "2. Each variable is understood.\n",
    "3. Each variable is represented in its appropriate **form**.\n",
    "4. Each variable has internal consistency, i.e., values have the same interpretation across all\n",
    "cases.\n",
    "5. The source of any extreme values (outliers) is noted, and corrected as needed.\n",
    "6. The source of any missing values is noted."
   ]
  },
  {
   "cell_type": "markdown",
   "metadata": {},
   "source": [
    "## Example Data Set {-}\n",
    "\n",
    "First, we will read in a data set for use in some\n",
    "subsequent examples.\n",
    "\n",
    "Visit the website\n",
    "\n",
    "__[https://bit.ly/31QyYjK](https://www.sec.gov/opa/data/market-structure/marketstructuredownloadshtml-by_security.html)__\n",
    "\n",
    "and download the data from the first quarter of 2017. Create a directory\n",
    "for working on these examples, and place this file in that directory.\n",
    "\n",
    "These data come from the U.S. Securities and Exchange Commission\n",
    "respository on market structure. This data set contains daily\n",
    "characteristics of a range of market variables over 5000 equities and\n",
    "ETFs, accumulated over several exchanges. See also\n",
    "\n",
    "__[https://www.sec.gov/marketstructure/mar_methodology.html](https://www.sec.gov/marketstructure/mar_methodology.html)__"
   ]
  },
  {
   "cell_type": "markdown",
   "metadata": {},
   "source": [
    "\\newpage\n",
    "\n",
    "Be sure that the working directory is correctly set in Python (use `chdir` from `os` if necessary)\n",
    "and use `read_csv` from `pandas`:"
   ]
  },
  {
   "cell_type": "code",
   "execution_count": 1,
   "metadata": {},
   "outputs": [],
   "source": [
    "import pandas as pd\n",
    "import matplotlib.pyplot as plt\n",
    "import numpy as np\n",
    "fulldata = pd.read_csv(\"q1_2017_all.csv\")"
   ]
  },
  {
   "cell_type": "markdown",
   "metadata": {},
   "source": [
    "**Exercise:** Visually inspect the data set and comment.\n",
    "\n",
    "\\answerlines{7}"
   ]
  },
  {
   "cell_type": "markdown",
   "metadata": {},
   "source": [
    "Background on the data can be found in the associated `README` file, available on Canvas in the \"Data Sets\" folder in the \"Files\" page. We will reference portions of it below."
   ]
  },
  {
   "cell_type": "markdown",
   "metadata": {},
   "source": [
    "\\newpage\n",
    "\n",
    "## Understanding the Variables {-}\n",
    "\n",
    "Whenever a new data set is encountered, one should fully understand its variables. Specific questions to address for each variable:\n",
    "\n",
    "1. Describe the information that is stored in this column.\n",
    "\n",
    "2. What type of variable is it? (Timestamp, categorical, ordinal, ratio, other?) Be sure that Python represents the variable correctly.\n",
    "\n",
    "3. Are there any missing values? What is the source of the missingness?\n",
    "\n",
    "4. Are there any extreme/inappropriate values? What is the source of the extreme value?"
   ]
  },
  {
   "cell_type": "markdown",
   "metadata": {},
   "source": [
    "**Exercise:** Describe the distinctions between the variables which are on the categorical, ordinal, and ratio scales.\n",
    "\n",
    "\\answerlines{10}"
   ]
  },
  {
   "cell_type": "markdown",
   "metadata": {},
   "source": [
    "## Column 1: Date {-}\n",
    "\n",
    "The first column in `fulldata` is a date stamp for the observation. Python/Pandas has special functions\n",
    "for handling dates which will prove useful later, including when working with time series.\n",
    "\n",
    "After reading the file, the dates are simply integers."
   ]
  },
  {
   "cell_type": "code",
   "execution_count": 2,
   "metadata": {},
   "outputs": [
    {
     "name": "stdout",
     "output_type": "stream",
     "text": [
      "20170103\n"
     ]
    }
   ],
   "source": [
    "print(fulldata['Date'][0])"
   ]
  },
  {
   "cell_type": "markdown",
   "metadata": {},
   "source": [
    "The function `to_datetime` in Pandas will make the conversion. The list on the following page shows all of the formatting characters. "
   ]
  },
  {
   "cell_type": "code",
   "execution_count": 3,
   "metadata": {},
   "outputs": [],
   "source": [
    "fulldata['Date'] = \\\n",
    "  pd.to_datetime(fulldata['Date'], \\\n",
    "                 format='%Y%m%d')"
   ]
  },
  {
   "cell_type": "markdown",
   "metadata": {},
   "source": [
    "These strings can also be used in formatting output using `strftime`."
   ]
  },
  {
   "cell_type": "code",
   "execution_count": 4,
   "metadata": {},
   "outputs": [
    {
     "name": "stdout",
     "output_type": "stream",
     "text": [
      "01/17\n",
      "Tuesday, January 03\n"
     ]
    }
   ],
   "source": [
    "print(fulldata.Date[0].strftime('%m/%y'))\n",
    "print(fulldata.Date[0].strftime('%A, %B %d'))"
   ]
  },
  {
   "cell_type": "markdown",
   "metadata": {},
   "source": [
    "\\newpage\n",
    "\n",
    "\\large (From `https://stackabuse.com/how-to-format-dates-in-python/`.) \\Large\n",
    "\n",
    "\\vspace{-.2in}\n",
    "* `%b`: Returns the first three characters of the month name.\n",
    "* `%d`: Returns day of the month, from 1 to 31.\n",
    "* `%Y`: Returns the year in four-digit format.\n",
    "* `%H`: Returns the hour.\n",
    "* `%M`: Returns the minute, from 00 to 59.\n",
    "* `%S`: Returns the second, from 00 to 59.\n",
    "* `%a`: Returns the first three characters of the weekday, e.g. Wed.\n",
    "* `%A`: Returns the full name of the weekday, e.g. Wednesday.\n",
    "* `%B`: Returns the full name of the month, e.g. September.\n",
    "* `%w`: Returns the weekday as a number, from 0 to 6, with Sunday as 0.\n",
    "* `%m`: Returns the month as a number, from 01 to 12.\n",
    "* `%p`: Returns AM/PM for time.\n",
    "* `%y`: Returns the year in two-digit format, that is, without the century.\n",
    "* `%f`: Returns microsecond from 000000 to 999999.\n",
    "* `%Z`: Returns the timezone.\n",
    "* `%z`: Returns UTC offset.\n",
    "* `%j`: Returns the number of the day in the year, from 001 to 366.\n",
    "* `%W`: Returns the week number of the year, from 00 to 53, with Monday being counted as the first day of the week.\n",
    "* `%U`: Returns the week number of the year, from 00 to 53, with Sunday counted as the first day of each week.\n",
    "* `%c`: Returns the local date and time version.\n",
    "* `%x`: Returns the local version of date.\n",
    "* `%X`: Returns the local version of time."
   ]
  },
  {
   "cell_type": "markdown",
   "metadata": {},
   "source": [
    "\\newpage\n",
    "## Columns 2 and 3: Security and Ticker {-}\n",
    "\n",
    "The variables `Security` and `Ticker` are currently of type `object`, which is how Pandas stores strings.\n",
    "\n"
   ]
  },
  {
   "cell_type": "code",
   "execution_count": 5,
   "metadata": {},
   "outputs": [
    {
     "data": {
      "text/plain": [
       "Security    object\n",
       "Ticker      object\n",
       "dtype: object"
      ]
     },
     "execution_count": 5,
     "metadata": {},
     "output_type": "execute_result"
    }
   ],
   "source": [
    "fulldata[['Security','Ticker']].dtypes"
   ]
  },
  {
   "cell_type": "markdown",
   "metadata": {},
   "source": [
    "Both of these variables are clearly categorical, and lacking in a natural ordering to the levels. The conversion to the appropriate data type is shown below. (By default, the categories are taken to be unordered.)"
   ]
  },
  {
   "cell_type": "code",
   "execution_count": 6,
   "metadata": {},
   "outputs": [
    {
     "data": {
      "text/plain": [
       "Security    category\n",
       "Ticker      category\n",
       "dtype: object"
      ]
     },
     "execution_count": 6,
     "metadata": {},
     "output_type": "execute_result"
    }
   ],
   "source": [
    "fulldata['Security'] = \\\n",
    "  fulldata['Security'].astype('category')\n",
    "fulldata['Ticker'] = \\\n",
    "  fulldata['Ticker'].astype('category')\n",
    "\n",
    "fulldata[['Security','Ticker']].dtypes"
   ]
  },
  {
   "cell_type": "markdown",
   "metadata": {},
   "source": [
    "\\newpage\n",
    "\n",
    "We can see that there are two possible levels for `Security`, `Stock` or `ETF` (Exchange Traded Fund). There are over 5,000 symbols under consideration."
   ]
  },
  {
   "cell_type": "code",
   "execution_count": 7,
   "metadata": {},
   "outputs": [
    {
     "name": "stdout",
     "output_type": "stream",
     "text": [
      "[Stock, ETF]\n",
      "Categories (2, object): [Stock, ETF]\n",
      "5338\n"
     ]
    }
   ],
   "source": [
    "print(fulldata['Security'].unique())\n",
    "print(len(fulldata['Ticker'].unique()))"
   ]
  },
  {
   "cell_type": "markdown",
   "metadata": {},
   "source": [
    "**Exercise:** How many of the different ticker symbols are ETFs?\n",
    "\n",
    "\\answerlines{5}"
   ]
  },
  {
   "cell_type": "markdown",
   "metadata": {},
   "source": [
    "\\newpage\n",
    "\n",
    "**Exercise:** Execute the commands below, and discuss what you find."
   ]
  },
  {
   "cell_type": "code",
   "execution_count": 8,
   "metadata": {
    "scrolled": true
   },
   "outputs": [],
   "source": [
    "len(fulldata['Date'].unique())\n",
    "fulldata.groupby('Ticker')['Date'].\\\n",
    "  count().value_counts().sort_index()\n",
    "fulldata.groupby('Ticker')['Date'].\\\n",
    "  count().idxmax()\n",
    "fulldata[fulldata.duplicated(\\\n",
    "  subset=('Date','Ticker'),keep=False)]\n",
    "None"
   ]
  },
  {
   "cell_type": "markdown",
   "metadata": {},
   "source": [
    "\\answerlines{10}"
   ]
  },
  {
   "cell_type": "markdown",
   "metadata": {},
   "source": [
    "We can remove the duplicated rows using the following command. "
   ]
  },
  {
   "cell_type": "code",
   "execution_count": 9,
   "metadata": {},
   "outputs": [],
   "source": [
    "fulldata = fulldata.drop_duplicates(\\\n",
    "  subset=('Date','Ticker'), keep='last')"
   ]
  },
  {
   "cell_type": "markdown",
   "metadata": {},
   "source": [
    "\\newpage\n",
    "## Columns 4 through 7: Rank Variables {-}\n",
    "\n",
    "The next four columns provide ranks of the stocks/ETFs\n",
    "with respect to key attributes of Market Capitalization,\n",
    "Turnover, Volatility, and Price.\n",
    "\n",
    "In general, we would prefer to start with data in its\n",
    "most \"raw\" format, and one could construct variables such\n",
    "as these from that data. Alas, we are often left to work\n",
    "with what is avaiable."
   ]
  },
  {
   "cell_type": "markdown",
   "metadata": {},
   "source": [
    "**Exercise:** Inspect the output of"
   ]
  },
  {
   "cell_type": "code",
   "execution_count": 10,
   "metadata": {},
   "outputs": [],
   "source": [
    "fulldata.groupby(by=['Date','Security',\\\n",
    "    'VolatilityRank'])['Security'].count()\n",
    "fulldata.groupby(by=['Security','Ticker',\\\n",
    "    'VolatilityRank'])['VolatilityRank'].count()\n",
    "None"
   ]
  },
  {
   "cell_type": "markdown",
   "metadata": {},
   "source": [
    "What does this tell us about the structure of these variables? Why should we be very careful with these variables?\n",
    "\n",
    "\\answerlines{8}"
   ]
  },
  {
   "cell_type": "markdown",
   "metadata": {},
   "source": [
    "\\newpage\n",
    "\n",
    "We change these into **ordered categorical variables** to reflect their ordinal nature."
   ]
  },
  {
   "cell_type": "code",
   "execution_count": 11,
   "metadata": {},
   "outputs": [],
   "source": [
    "fulldata = fulldata.copy()\n",
    "fulldata['McapRank'] = fulldata['McapRank'].\\\n",
    "  astype('category').cat.as_ordered()\n",
    "fulldata['TurnRank'] = fulldata['TurnRank'].\\\n",
    "  astype('category').cat.as_ordered()\n",
    "fulldata['VolatilityRank'] = \\\n",
    "  fulldata['VolatilityRank'].\\\n",
    "    astype('category').cat.as_ordered()\n",
    "fulldata['PriceRank'] = fulldata['PriceRank'].\\\n",
    "  astype('category').cat.as_ordered()"
   ]
  },
  {
   "cell_type": "markdown",
   "metadata": {},
   "source": [
    "\\newpage\n",
    "## Columns 8 through 19: The Count Variables {-}\n",
    "\n",
    "The remaining column in the data set consist of trade and\n",
    "share counts of different types.\n",
    "\n",
    "Note that some of the volume counts are reported in 1000's\n",
    "of shares, hence there are non-integer values among the counts."
   ]
  },
  {
   "cell_type": "markdown",
   "metadata": {},
   "source": [
    "**Exercise:** Execute the command below and comment on the results. It is especially important to focus on extreme or impossible values."
   ]
  },
  {
   "cell_type": "code",
   "execution_count": 12,
   "metadata": {},
   "outputs": [],
   "source": [
    "fulldata.describe()\n",
    "None"
   ]
  },
  {
   "cell_type": "markdown",
   "metadata": {},
   "source": [
    "\\answerlines{13}"
   ]
  },
  {
   "cell_type": "markdown",
   "metadata": {},
   "source": [
    "\\newpage\n",
    "\n",
    "Of course, graphical tools are useful for understanding the\n",
    "properties of variables. This topic will be covered more\n",
    "fully later, but here we consider a classic\n",
    "approach: the **boxplot**:"
   ]
  },
  {
   "cell_type": "code",
   "execution_count": 13,
   "metadata": {},
   "outputs": [
    {
     "name": "stderr",
     "output_type": "stream",
     "text": [
      "/Users/chadschafer/anaconda3/lib/python3.7/site-packages/ipykernel_launcher.py:2: RuntimeWarning: divide by zero encountered in log\n",
      "  \n",
      "/Users/chadschafer/anaconda3/lib/python3.7/site-packages/ipykernel_launcher.py:2: RuntimeWarning: invalid value encountered in log\n",
      "  \n"
     ]
    },
    {
     "data": {
      "image/png": "[encoded data removed]",
      "text/plain": [
       "<Figure size 360x216 with 1 Axes>"
      ]
     },
     "metadata": {
      "needs_background": "light"
     },
     "output_type": "display_data"
    }
   ],
   "source": [
    "plt.figure(figsize=(5,3))\n",
    "plt.boxplot(np.log(fulldata['Hidden'])\\\n",
    "    .dropna(),labels=[\"\"], vert=False)\n",
    "plt.xlabel(\"Log Count of Hidden Trades\")\n",
    "plt.show()"
   ]
  },
  {
   "cell_type": "markdown",
   "metadata": {},
   "source": [
    "\\newpage\n",
    "\n",
    "The \"box\" of the plot extends from the 25th to the 75th percentile\n",
    "of the data, while the solid line in the middle of the box is at the\n",
    "median. The two \"arms\" extend to the minimum and maximum value,\n",
    "**except** that any value labelled an **outlier** is\n",
    "plotted separately.\n",
    "\n",
    "**Exercise:** How is an outlier defined in this case?\n",
    "\n",
    "\\answerlines{5}\n",
    "\n",
    "**Exercise:** Why was the logarithm of the variable utilized? What\n",
    "issues did that create?\n",
    "\n",
    "\\answerlines{10}"
   ]
  },
  {
   "cell_type": "markdown",
   "metadata": {},
   "source": [
    "\\newpage"
   ]
  },
  {
   "cell_type": "markdown",
   "metadata": {},
   "source": [
    "**Exercise:** Consider the outlier in the previous plot. Is this observation\n",
    "also extreme in the other variables? Can you find the source of this behavior?\n",
    "\n",
    "\\answerlines{8}"
   ]
  },
  {
   "cell_type": "markdown",
   "metadata": {},
   "source": [
    "**Exercise:** Parse the syntax, and comment on the output, of the following command."
   ]
  },
  {
   "cell_type": "code",
   "execution_count": 14,
   "metadata": {
    "scrolled": false
   },
   "outputs": [],
   "source": [
    "fulldata.iloc[:, 7:19].\\\n",
    "   apply(lambda x: x.idxmax())\n",
    "None"
   ]
  },
  {
   "cell_type": "markdown",
   "metadata": {},
   "source": [
    "\\answerlines{7}"
   ]
  },
  {
   "cell_type": "markdown",
   "metadata": {},
   "source": [
    "\\newpage"
   ]
  },
  {
   "cell_type": "markdown",
   "metadata": {},
   "source": [
    "## Missing Data {-}\n",
    "\n",
    "Most data sets contain some amount of missing data, for\n",
    "many reasons.\n",
    "\n",
    "As a first step, it is important to recognize how your data set\n",
    "represents missing values, so that they are read in properly.\n",
    "\n",
    "In a `.csv` file such as that we are using here, it is common to\n",
    "simply have blank values to indiciate missingness, i.e., there are\n",
    "consecutive commas without a value between.\n",
    "\n",
    "The `read_csv()` function has an argument `na_values` which allows\n",
    "the user to specify strings that should be considered as missing\n",
    "values. By default, the following are converted into `NaN`:\n",
    "`‘’, ‘#N/A’, ‘#N/A N/A’, ‘#NA’, ‘-1.#IND’, ‘-1.#QNAN’, ‘-NaN’, ‘-nan’, ‘1.#IND’, ‘1.#QNAN’, ‘N/A’, ‘NA’, ‘NULL’, ‘NaN’, ‘n/a’, ‘nan’, ‘null’`.\n",
    "**Be careful:** It is not unusual for\n",
    "data sets to use numbers such as `-999` to indicate a missing value.\n",
    "\n",
    "Pandas uses `NaN` to represent missing values.\n",
    "\n",
    "\n",
    "\\newpage"
   ]
  },
  {
   "cell_type": "markdown",
   "metadata": {},
   "source": [
    "**Exercise:** Execute the following commands and discuss the results"
   ]
  },
  {
   "cell_type": "code",
   "execution_count": 15,
   "metadata": {},
   "outputs": [
    {
     "data": {
      "text/plain": [
       "77"
      ]
     },
     "execution_count": 15,
     "metadata": {},
     "output_type": "execute_result"
    }
   ],
   "source": [
    "np.where(fulldata.isnull())\n",
    "len(np.unique(np.where(fulldata.isnull())[0]))"
   ]
  },
  {
   "cell_type": "markdown",
   "metadata": {},
   "source": [
    "\\answerlines{15}\n",
    "\n",
    "\\newpage\n",
    "\n",
    "The package `seaborn` has a function `heatmap()` that can be useful for inspecting any patterns in the missingness."
   ]
  },
  {
   "cell_type": "code",
   "execution_count": 16,
   "metadata": {
    "scrolled": true
   },
   "outputs": [
    {
     "data": {
      "image/png": "[encoded data removed]",
      "text/plain": [
       "<Figure size 432x288 with 1 Axes>"
      ]
     },
     "metadata": {
      "needs_background": "light"
     },
     "output_type": "display_data"
    }
   ],
   "source": [
    "import seaborn as sns\n",
    "sns.heatmap(fulldata.iloc[np.unique\\\n",
    "    (np.where(fulldata.isnull())[0]),:]\\\n",
    "    .isnull(),cbar=False)\n",
    "None"
   ]
  },
  {
   "cell_type": "markdown",
   "metadata": {},
   "source": [
    "The `dropna` function will remove any row from the data frame with at least one `NaN` value."
   ]
  },
  {
   "cell_type": "code",
   "execution_count": 17,
   "metadata": {},
   "outputs": [
    {
     "data": {
      "text/plain": [
       "0"
      ]
     },
     "execution_count": 17,
     "metadata": {},
     "output_type": "execute_result"
    }
   ],
   "source": [
    "fulldatacomplete = fulldata.dropna()\n",
    "len(np.unique(np.where(fulldatacomplete.\\\n",
    "        isnull())[0]))"
   ]
  },
  {
   "cell_type": "markdown",
   "metadata": {},
   "source": [
    "Working only with such data is referred to as **complete case analysis**.\n",
    "\n",
    "**Exercise:** Discuss potential drawbacks to complete case analyses.\n",
    "\n",
    "\\answerlines{14}"
   ]
  },
  {
   "cell_type": "markdown",
   "metadata": {},
   "source": [
    "**Exercise:** Consider the output of the following and comment on any features of the incomplete cases that may be releveant."
   ]
  },
  {
   "cell_type": "code",
   "execution_count": 18,
   "metadata": {},
   "outputs": [],
   "source": [
    "fulldata.iloc[np.unique(np.where(fulldata.\\\n",
    "    isnull())[0]),:]\n",
    "None"
   ]
  },
  {
   "cell_type": "markdown",
   "metadata": {},
   "source": [
    "\\answerlines{15}"
   ]
  }
 ],
 "metadata": {
  "celltoolbar": "Tags",
  "kernelspec": {
   "display_name": "Python 3",
   "language": "python",
   "name": "python3"
  },
  "language_info": {
   "codemirror_mode": {
    "name": "ipython",
    "version": 3
   },
   "file_extension": ".py",
   "mimetype": "text/x-python",
   "name": "python",
   "nbconvert_exporter": "python",
   "pygments_lexer": "ipython3",
   "version": "3.7.3"
  }
 },
 "nbformat": 4,
 "nbformat_minor": 2
}

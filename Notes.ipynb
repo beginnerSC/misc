{
 "cells": [
  {
   "cell_type": "markdown",
   "metadata": {},
   "source": [
    "## Misc\n",
    "\n",
    "* CMU\n",
    "    * [Probability Final FAQ](https://docs.google.com/document/d/1mmsT33DBr4-wJiS2cuvIFPl1QntGFPLoEi2lnhm6qAI/edit)\n",
    "    * [Canvas CMU](https://canvas.cmu.edu/)\n",
    "    * [Course Video](https://canvas.cmu.edu/courses/3194/discussion_topics/228985)\n",
    "    * [Tuition](s3.as.cmu.edu/sio/index.html)\n",
    "    * [On-campus Seat Reservation](https://canvas.cmu.edu/courses/3194/pages/in-person-seat-request)\n",
    "* Kaggle\n",
    "    * [Kaggle Titanic Walk-Through 40 min](https://www.youtube.com/watch?v=I3FBJdiExcg)\n",
    "    * [Kaggle Titanic Walk-Through 中文一小時](https://youtu.be/VWg-I3aP4nk?t=1285)\n",
    "    * [Kaggle 入門中文](https://www.youtube.com/watch?v=IaCgX3BQbD0)\n",
    "* [Stepping Through CPython](https://www.youtube.com/watch?v=XGF3Qu4dUqk)\n",
    "\n",
    "======================================\n",
    "\n",
    "* [美元霸權歷史](https://www.youtube.com/watch?v=X6nxPd50Nws)\n",
    "* [生理時鐘養生法](https://www.businesstoday.com.tw/article/category/80731/post/202007150038/%E6%9B%BE%E8%A2%AB%E5%AE%A3%E5%91%8A%E5%8F%AA%E8%83%BD%E5%86%8D%E6%B4%BB%E5%8D%8A%E5%B9%B4...%E5%8F%B0%E5%A4%A7%E9%86%AB%E5%B8%AB%E7%BD%B9%E7%99%8C%E5%BE%8C%E5%AD%98%E6%B4%BB45%E5%B9%B4%EF%BC%8C%E5%A5%89%E8%A1%8C%E3%80%8C%E7%94%9F%E7%90%86%E6%99%82%E9%90%98%E9%A4%8A%E7%94%9F%E6%B3%95%E3%80%8D%EF%BC%8C%E5%BE%9E%E6%AD%A4%E4%B8%8D%E7%94%9F%E7%97%85?utm_source=FB&utm_medium=article&utm_campaign=200715)\n",
    "* [FIRE 運動的創始人回去上班了](https://www.youtube.com/watch?v=ahcBeXyHGFY)\n",
    "    * 一家四口在灣區生活需要年收入 35 萬才能打平\n",
    "* [37 分鐘什麼是比特幣區塊鍵講的好清楚](https://www.youtube.com/watch?v=obRzfcvMshM)\n",
    "* [陳光旭](https://baike.baidu.com/item/%E9%99%88%E5%85%89%E6%97%AD/2073052)\n",
    "* Adobe pdf reader go back using cross-reference: Alt + <-\n",
    "* [Don't Be a Programmer](https://www.youtube.com/watch?v=EiKK04Ht8QI)\n",
    "    * Be a problem solver, creator, innovator. Programming is just a tool\n",
    "    * 所以不要問放什麼語言在 resume 上比較容易進 google，學什麼語言比較賺錢\n",
    "* 台灣網拍：everrich 昇恆昌免稅店，蝦皮，momo，PChome\n",
    "* [Ivy League Mentality:](https://youtu.be/kJGupYFaCGs?t=625) perseverance, confidence, passion, ability to deal with stress\n",
    "* [Me in My Wife's Eyes](https://youtu.be/_p-yWkkF-FU?t=105)\n",
    "* [如何保持動力](https://www.youtube.com/watch?v=8ZhoeSaPF-k)\n",
    "    * 保持 motivated 的關鍵就是建立「Internal Locus of Control」，相信和不斷告訴自己 I'm in control of my life。如果覺得成敗都來自外在原因，就會不自覺停止努力，停止嘗試\n",
    "    * 小孩子解 puzzle 的實驗：解開後被告知是因為天生聰明的一組之後 motivation 較差。一個 sells 如果整天沒賣出東西之後是怪一些外在因素例如天氣，這個人比較不會在 sells team 久待\n",
    "    * 建立 Internal Locus of Control：花時間心去解決問題，解決之後告訴自己這都是我的功勞，是因為我做了 xxx\n",
    "* [美國上市公司在變少](https://www.wsj.com/articles/where-have-all-the-public-companies-gone-1510869125)\n",
    "    * 1996 年有 7322 家上市公司，到 2017 只剩 3671 家，Wilshire 5000 指數裡根本沒有 5000 支股票\n",
    "        * 自從 late 90s 上市公司數量就一直減少\n",
    "        * 1996 年有 845 家 IPO，到 2016 年只剩 128 家\n",
    "        * 公司上市的動機變小了因為：\n",
    "            * 公司比以前更容易從 VC，PE 拿到投資\n",
    "            * regulation 增加和各種股東訴訟\n",
    "    * 公司 IPO 的時間點也在改變\n",
    "        * 平均 IPO 公司年齡從 1996 年的 12 歲到 2016 年變成 18 歲\n",
    "        * 2017 平均 IPO 市值是 20 年前的 4 倍\n",
    "        * Amazon 1997 上市時才三歲，市值 600M\n",
    "        * Facebook 2012 上市時已經八歲，市值 100B\n",
    "        * Airbnb 和 Uber 也都拖了很久才上市\n",
    "            * microcap，small-cap，midcap 公司在慢慢消失\n",
    "            * 很多成長股都跑到 PE 裡了，交易所買不到\n",
    "            * （所以 small-cap index 的漲幅才大不如前？）\n",
    "    * public market 裡被動投資在增加，主動投資在減少\n",
    "        * 2000 以來被動型的基金成長了 1.7T，主動型萎縮了 1.4T\n",
    "        * 因為交易所的成長型股票少了，選股也變得不再重要\n",
    "        * 以 research 為基礎的 discretionary trade 只佔目前交易量的 10%\n",
    "        * 被動型的基金在交易量中佔比增加，強化了股票報酬間的相關性\n",
    "        * 看起來分散的 portfolio 其實沒有以前分散。20 年前可以在 public market 構造的 profile 今天可能要加入 PE 才造的出來\n",
    "    * emerging markets 現況\n",
    "        * 投資選擇很少\n",
    "        * 漲跌的 driving factor 是 fund flows，不是當地公司基本面"
   ]
  },
  {
   "cell_type": "markdown",
   "metadata": {},
   "source": [
    "## Writing Python Module in C++\n",
    "\n",
    "* [很擺爛的 youtube 教學](https://www.youtube.com/watch?v=P-_kKCzqSn0)\n",
    "* [很簡化的 boost python 筆記](https://pyengr.readthedocs.io/en/latest/inter/bpy/index.html)"
   ]
  },
  {
   "cell_type": "markdown",
   "metadata": {},
   "source": [
    "## [駕照到期日延到 12/31](http://state.nj.us/mvc/pdf/about/FREQUENTLY%20ASKED%20QUESTIONS.pdf)"
   ]
  },
  {
   "cell_type": "markdown",
   "metadata": {},
   "source": [
    "## [JupyterLab Keyboard Shortcuts](https://blog.ja-ke.tech/assets/jupyterlab-shortcuts/Shortcuts.png)\n",
    "\n",
    "* Toggle left area: Ctrl + B \n",
    "* Close current tab: Alt + W\n",
    "* Switch tabs: Ctrl + Shift + ]["
   ]
  },
  {
   "cell_type": "markdown",
   "metadata": {},
   "source": [
    "## [Youtube Keyboard Shortcuts](https://sites.google.com/a/umich.edu/u-m-google-170816/accessibility/google-keyboard-shortcuts---youtube)\n",
    "\n",
    "* speed up/slow down: Shift + >, Shift + <\n",
    "* caption on/off: c\n",
    "* full screen: f"
   ]
  },
  {
   "cell_type": "markdown",
   "metadata": {},
   "source": [
    "## [Kinesis Advantage2 Programming the Keyboard](https://www.youtube.com/watch?v=I7tIcZKnPAY)"
   ]
  },
  {
   "cell_type": "markdown",
   "metadata": {},
   "source": [
    "把左手的 ctrl 改成 shift：\n",
    "1. program-F12 （鍵盤最右上角）\n",
    "1. 按一下 ctrl\n",
    "1. 按一下 shift"
   ]
  },
  {
   "cell_type": "markdown",
   "metadata": {},
   "source": [
    "## GitHub\n",
    "\n",
    "* [條件搜尋](https://youtu.be/Uj6WWAqg0NY?t=194)\n",
    "    * in:name spring boot stars:>3000\n",
    "    * in:readme \n",
    "    * in:description 微服務 language:java pushed:>2019-09-03\n",
    "* [diff 不同版本](https://youtu.be/HkphN8Js8AU?t=302)：在網址後面輸入 /compare\n",
    "* Issue：留言區，feature/bug 追蹤系統，可以是 open/closed\n",
    "    * 反應項目是否活躍的重要指標\n",
    "* Pull requests (pr)：貢獻項目\n",
    "* [Projects](https://youtu.be/HkphN8Js8AU?t=607)：項目管理工具，像大看版，可以開 projects 在裡面加 to do list, doing list 等\n",
    "* Insights：項目統計信息\n",
    "* Settings：各種服務\n",
    "    * github.io 網站\n",
    "    * webhooks 事件觸發，例如一收到 pull request 就寄 email\n",
    "    * 刪除 repo，publish 或轉 private\n",
    "* [實用小技巧，快速鍵](https://www.youtube.com/watch?v=VzdU5GwZ47o)\n",
    "* 從 Teminal push 到 github（```git remote add``` 和 ```git push``` 裡的 ```-u``` 都是第一次推送才需要）：\n",
    "    ```\n",
    "    git add *\n",
    "    git commit -m \"test: push from code ocean\"\n",
    "    git remote add github https://github.com/beginnerSC/misc.git\n",
    "    git remote -v\n",
    "    git push -u github master\n",
    "    ```\n"
   ]
  },
  {
   "cell_type": "markdown",
   "metadata": {},
   "source": [
    "## Jupyter Notebooks in the Cloud\n",
    "\n",
    "Notebooks.ai 掛掉之後只剩下[一些選項](https://www.dataschool.io/cloud-services-for-jupyter-notebook/?fbclid=IwAR316JuoHek2bAFjYEgvFH2XIJDtUMoaBNKCml7nusaZkOB0oTTKSnymeu0)，但沒有一個是免費又完美的\n",
    "\n",
    "* private project solution: \n",
    "    * cocalc\n",
    "        * 可以用 JupyterLab 打開（打開 settings 之後在最右下角）\n",
    "        * 連 github 或 publish 或 pip install 需要取得 internet access，都是付費才能打開的功能\n",
    "        * 但在 cocalc 本地端 Terminal 用 git 是可以的\n",
    "        * 唯一的問題就是哪天 cocalc 如果又要倒，檔案只能一個一個下載（或者想辦法下載 .git 檔就可以了？）\n",
    "* public project solutions: \n",
    "    * Gitpod\n",
    "        * 直接在一個 github repo 的網址列前面加上 ```https://gitpod.io/#``` 打開項目\n",
    "        * ipynb file 上按右鍵可以選 Open in Notebook Editor，編輯完在左邊 stage + commit 然後到右邊 push 到 github 上。但這個編輯器沒有 JupyterLab 好用\n",
    "        * gitpod 付費會員可以編輯 private github projects。gitpod 在打開 project 的時候會檢查此 project 是否 public，編輯完 commit 的時候不會\n",
    "    * Binder\n",
    "        * 可以用 JupyterLab 打開，JupyterLab 裡也有 internet access 可以用 Terminal push 到 github\n",
    "        * 沒有給 local storage 所以每次改完一定要 commit + push 不然就不見了\n",
    "        * 缺點是 inactive 十分鐘 kernel 就會自己斷掉\n",
    "        * 環境配置（from [Binder doc](https://mybinder.readthedocs.io/en/latest/config_files.html)）：\n",
    "            * 需要用一個 requirements.txt 列下需要有哪些 python packages，例如\n",
    "                ```\n",
    "                numpy\n",
    "                seaborn\n",
    "                pandas\n",
    "                ```\n",
    "            * 預設是安裝最新版，也可以指定版本例如 ```seaborn==0.11.0```\n",
    "            * 加 C++ Kernel：複製 [xeus-cling repo](https://github.com/jupyter-xeus/xeus-cling) 裡的 environment.yml 放在這裡，但開機就會變很慢\n",
    "            * 一旦配置了 Dockerfile，requirements.txt 和 environment.yml 就會自動被乎略（改用 Dockerfile 會比較快嗎？）\n",
    "            * 雖然不用自己手動配置但 kernel 在 ```../../srv/conda/envs/notebook/share/jupyter/kernels```\n",
    "            * xcpp 相關的執行檔在 ```../../srv/conda/envs/notebook/bin```\n",
    "    * Kyso (read-only)\n",
    "        * 像 Blog，讀者可以留言。Kyso 可以 render nb（nicely），也可以連 github public/private projects 還自動同步，但不能直接在 Kyso 編輯\n",
    "        * 實測過和 GitHub 是同步的\n",
    "            * make sense 因為有 webhook（GitHub Repo -> Settings -> Webhooks），commit 的時候會自動觸發 Kyso 同步\n",
    "        * authorize 的時候要選 all repo 才能連 private project\n",
    "        * Kyso 老記不住哪一個是 main file（然後就沒有 Files tab 可以按，也看不到任何 notebook），加 kyso.yaml 也沒用，README 裡的連結是最後是直接貼 README 在 Kyso 的連結才解決的\n",
    "            * 進去之後自己進 Files tab 看所有 notebook\n",
    "        * Code Hidden/Shown\n",
    "            * 所有 nb 打開的時候預設是 Code Hidden，所有 input cell 都看不見。右上角可以選 Code Shown\n",
    "            * 像這樣貼連結給人，對方打開的時候才是看的到 code 的：https://kyso.io/beginnerSC/misc/file/Piano.ipynb#code=shown\n",
    "        * 還是需要由 nbviewer 補足因為：\n",
    "            * 手機平板上無法顯示 Files tab 也無法顯示 Code Hidden/Shown 的選單，這樣就沒辦法從 README 的連結找到其它 nb 了\n",
    "            * 直接在 input cell 貼上的圖沒辦法顯示（GitHub 也不行），例如 [Backprop.ipynb](https://nbviewer.jupyter.org/github/beginnerSC/misc/blob/master/Backprop.ipynb) 的圖，只有在 nbviewer 看的到\n",
    "            * 一張圖如果要在 Kyso 看的見就要存成圖檔，像 [Theory.ipynb](https://nbviewer.jupyter.org/github/beginnerSC/misc/blob/master/Theory.ipynb)\n",
    "    * nbviewer (read-only)\n",
    "        * 缺點不是即時的，據說有 10 分鐘 delay（真的只有 10 分鐘嗎？）可以手動在 url 後面加上 ```?flush_cache=true``` 或 ```?flush_cache=True``` 有時候會有用（browser dependent）\n",
    "        * readme 裡的 url 是\n",
    "            * nbviewer：https://nbviewer.jupyter.org/github/beginnerSC/misc/tree/master/\n",
    "            * Kyso：https://kyso.io/beginnerSC/misc/file/README.md\n",
    "            * Gitpod：https://gitpod.io/#https://github.com/beginnerSC/misc\n",
    "            * JupyterLab (Binder)：https://mybinder.org/v2/gh/beginnerSC/misc/master?urlpath=lab\n",
    "                * 把 JupyterLab url 最後面的 ```?urlpath=lab``` 拿掉就變成普通的 binder link，用 Jupyter Notebook 打開\n",
    "                * [這裡](https://github.com/binder-examples/jupyterlab)有說明\n",
    "* public/private project solution\n",
    "    * code ocean \n",
    "        * 可以用 JupyterLab 打開，JupyterLab 裡也有 internet access 可以用 Terminal push 到 github\n",
    "        * 在 env 裡可以自己 install 需要的 package 如 numpy，scipy，pandas\n",
    "        * 只能 import from public github repo（如果要 import private repo 要打開一瞬間）\n",
    "        * 唯一的缺點是每個月十小時的計算時間限制\n",
    "        \n",
    "        \n",
    "        "
   ]
  }
 ],
 "metadata": {
  "kernelspec": {
   "display_name": "Python 3",
   "language": "python",
   "name": "python3"
  },
  "language_info": {
   "codemirror_mode": {
    "name": "ipython",
    "version": 3
   },
   "file_extension": ".py",
   "mimetype": "text/x-python",
   "name": "python",
   "nbconvert_exporter": "python",
   "pygments_lexer": "ipython3",
   "version": "3.7.8"
  }
 },
 "nbformat": 4,
 "nbformat_minor": 4
}

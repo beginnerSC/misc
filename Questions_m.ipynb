{
 "cells": [
  {
   "cell_type": "markdown",
   "metadata": {},
   "source": [
    "## Probability\n",
    "\n",
    "1. A portfolio has 3 assets X, Y, Z, suppose we know volatility of all three and correlation between X, Y and Y, Z to be roe_XY, roe_YZ, what is the range of correlation roe X,Z can be?\n",
    "1. Suppose X is normal with mean u1, sigma 1, and Y is lognormal u2, sigma2, what is distribution of Z= XY\n",
    "1. Given a fair coin, suppose X is the number of throws to get 2 consecutive heads and Y is the number of throws to get 3 consecutive heads, find the probability P(X>Y)\n",
    "1. I have a stick of length one. I break the stick in two. If there is an equal probability that the stick breaks anywhere, what is the expected length of the longer half?\n",
    "1. What is the expected number of fair coin tosses before you get two heads in a row?\n",
    "1. If X and Y are random variables with the same (not specified) distribution, what is E(XY)?\n",
    "1. Probability question: Three drawers – one drawer full of white socks, second full of black and third 50:50 black and white. Select one drawer at random and set aside. Then draw one sock randomly from each of the two remaining drawers – What is the probability of getting a matching pair?\n",
    "1. You and your friend go to a dinner party with 8 strangers. If there is one table for 10 and seats are randomly assigned, what’s the probability that you sit next to your friend? If you go with two other friends, what’s the probability that all three of you sit together?\n",
    "1. During its lifetime, an amoeba produces 0, 1, or 2 offspring with probability 25%, 25%, 50% respectively. (a) Starting with one amoeba (amoebum?), what is the probability of its eventual extinction? (b) The math gives you get 2 answers, choose the right one and explain.\n",
    "1. 2-sided coin - probability of head = p. What is the expected number of flips to get 2 heads in a row. 3 heads?\n",
    "1. Two 6-sided dice, 2 players A and B. keep rolling till one wins. A wins on rolling 2 sevens in a row. B wins on rolling a 12. Compute the expectation of winning for either A or B.\n",
    "1. Given a coin with probability p of heads, what is the expected number of tosses required to get two heads in a row?\n",
    "1. Consider 100 tosses of a fair coin. What is the probability that the number of heads is less than 40? What type of distribution can be used to provide an approximately correct answer?\n",
    "1. Consider two people A and B.\n",
    "    * A makes correct predictions 3/4 of the time, independently of B\n",
    "    * B makes correct predictions 2/3 of the time, independently of A\n",
    "    * Consider only the case where their predictions differ. What is the probability that A is correct (i.e., what is probability that A is correct when A and B have different predictions)?\"\n",
    "1. Let X ~ N(0, sig^2). What is E[e^X]?\n",
    "1. I will cast a die a maximum of three times, and you can stop me at any time. When you stop me, you will be awarded one dollar for each dot shown. What is your strategy to maximize your payoff? What is the expected payoff?\n",
    "1. A family has two children. If one of them is a boy, what is the probability the other child is a boy?\n",
    "1. You start with one amoeba. After one minute the amoeba can die, stay the same, split into two or split into three with equal probability. What is the probability the amoeba population will ever die out?\n",
    "1. Suppose you have a coin with probability p of tossing heads. What is the expected number of coin tosses to get two heads in a row?\n",
    "1. A banker gets of work at some random time between 6:00 pm and 7:00 pm. He walks to the subway and takes the first of two trains that arrives. One of these travels downtown to his mother, the other travels uptown to his girlfriend. His mother complains that she never sees him since she has only seen him twice in the last 20 working days. Explain this\n",
    "1. Two people arrive at the center of town at some random time between 5:00 am and 6:00 am. They stay exactly five minutes and then leave. What is the probability they will meet on a given day?\n",
    "1. A baker sells on average 20 cakes in one day. What is the probability he will sell an even number of cakes on any given day?\n",
    "1. Airborne spores produce tiny mold colonies on gelatin plates in a laboratory. The many plates average 3 colonies per plate. What fraction of plates will have exactly 3 colonies?\n",
    "1. \"You walk out of an airport, and the first bus you see has number 26 on it. Assume buses with all numbers up to some number N exist. Estimate N. (See [this](http://en.wikipedia.org/wiki/German_tank_problem))\n",
    "1. Coupons in cereal boxes are numbered 1 to 5, and a set of one each is required for a prize. With one coupon per box, how many boxes on average are required to make a complete set?\n",
    "1. John the analyst talks to Mary, who is also an analyst. Mary learns that John's sister has three children. John tells her the product of their ages is 36. Mary thinks a while, then asks for more information. John then says, \"The sum of their ages is here\", pointing at his computer screen. Mary thinks, again asks for more information. John then says, \"The oldest is dyslexic.\" What are the children's ages?\n",
    "1. You arrive at the interview, the interviewer ties you to a chair, puts two bullets adjacent to each other in a pistol. He puts the gun to your head and pulls the trigger. The hammer hits an empty chamber. The interviewer tells you he will pull the trigger one more time. Do you prefer he spin the chamber first or not?\n",
    "1. Suppose you have a string that is one unit long, and you cut it in two places uniformly distributed. What is the probability you can make a triangle out of the three pieces? If you instead make the second cut on the longest piece, what is then the probability you can make a triangle out of the pieces?\n",
    "1. What is the distribution and density of a log-normal random variable?\n"
   ]
  }
 ],
 "metadata": {
  "kernelspec": {
   "display_name": "Python 3",
   "language": "python",
   "name": "python3"
  },
  "language_info": {
   "codemirror_mode": {
    "name": "ipython",
    "version": 3
   },
   "file_extension": ".py",
   "mimetype": "text/x-python",
   "name": "python",
   "nbconvert_exporter": "python",
   "pygments_lexer": "ipython3",
   "version": "3.8.1"
  }
 },
 "nbformat": 4,
 "nbformat_minor": 4
}

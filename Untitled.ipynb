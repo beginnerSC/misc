{
 "cells": [
  {
   "cell_type": "code",
   "execution_count": 13,
   "metadata": {},
   "outputs": [
    {
     "data": {
      "text/plain": [
       "[2, 3, 2, 3, 3, 4, 3, 5, 8, 6, 8, 8, 9]"
      ]
     },
     "execution_count": 13,
     "metadata": {},
     "output_type": "execute_result"
    }
   ],
   "source": [
    "import heapq\n",
    "\n",
    "aaa = [8, 6, 4, 3, 3, 2, 3, 5, 8, 3, 8, 2, 9]\n",
    "\n",
    "heapq.heapify(aaa)\n",
    "\n",
    "aaa"
   ]
  },
  {
   "cell_type": "markdown",
   "metadata": {},
   "source": [
    "## [Not All LeetCode Questions are Created Equal](https://www.reddit.com/r/cscareerquestions/comments/7rey82/how_to_avoid_wasting_time_on_weird_leetcode/)\n",
    "\n",
    "These types of questions won't get asked: \n",
    "* problem statement are too long for interviewer to remember\n",
    "* too many corner cases to finish in interview\n",
    "\n",
    "Look for: \n",
    "* questions that implement popular fundamental algorithms like trees, string manipulation, dfs/bfs, matrix\n",
    "* questions that have good real life application like regular expression\n"
   ]
  },
  {
   "cell_type": "markdown",
   "metadata": {},
   "source": [
    "## Gauss Quadrature\n",
    "\n",
    "\n",
    "\n",
    "The following is a simplied case of the fundamental theorem from wikipedia, and its proof. \n",
    "\n",
    "If $p_n$ is a polynomial of degree $n$ such that\n",
    "\\begin{eqnarray}\n",
    "\\int_{-1}^1 x^k p_n(x)\\,dx=0\\qquad \\forall k=0, 1, 2, \\ldots, n-1, \n",
    "\\end{eqnarray}\n",
    "and $\\{x_i\\}$ are roots of $p_n$, then there is a set of weights $\\{w_i\\}$ such that\n",
    "$$\n",
    "\\int_{-1}^1 h(x)\\,dx = \\sum_{i=1}^n h(x_i)w_i\n",
    "$$\n",
    "for all polynomial $h$ of degree $2n-1$. \n",
    "\n",
    "\n",
    "To prove, first write \n",
    "$$\n",
    "\\underbrace{h(x)}_{\\text{of degree } 2n-1} = \\underbrace{p_n(x)}_{n}\\underbrace{q(x)}_{n-1}+\\underbrace{r(x)}_{n-1}. \n",
    "$$ Thus\n",
    "$$\n",
    "\\int_{-1}^1 h(x)\\,dx = \\underbrace{\\int_{-1}^1 p_n(x)q(x)\\,dx}_{= 0} + \\int_{-1}^1 r(x)\\,dx. \n",
    "$$\n",
    "The first term of the right hand side vanishes.\n",
    "On the other hand, we also have\n",
    "$$\n",
    "\\sum_{i=1}^n h(x_i)w_i = \\underbrace{\\sum_{i=1}^n p_n(x_i)q(x_i)w_i}_{=0} + \\sum_{i=1}^n r(x_i)w_i\n",
    "$$\n",
    "since $\\{x_i\\}$ are roots of $p_n(x)$. \n",
    "It remains to prove there is a set of weights $\\{w_i\\}$ such that\n",
    "$$\n",
    "\\int_{-1}^1 r(x)\\,dx = \\sum_{i=1}^n r(x_i)w_i\n",
    "$$\n",
    "for all polynomial $r(x)$ of degree $n-1$, which is true if and only if\n",
    "$$\n",
    "\\int_{-1}^1 x^k\\,dx = \\sum_{i=1}^n x_i^k w_i\\qquad\\forall k=0, 1, 2, \\ldots, n-1. \n",
    "$$\n",
    "Set $I_k = \\int_{-1}^1 x^k\\,dx$. The above can be written as a linear system\n",
    "\n",
    "\n",
    "$$\n",
    "\\begin{pmatrix}\n",
    "1   & 1   & 1   & \\cdots & 1   \\\\\n",
    "x_1 & x_2 & x_3 & \\cdots & x_n \\\\\n",
    "x_1^2 & x_2^2 & x_3^2 & \\cdots & x_n^2 \\\\\n",
    "\\vdots & \\vdots & \\vdots & \\ddots & \\vdots \\\\\n",
    "x_1^{n-1} & x_2^{n-1} & x_3^{n-1} & \\cdots & x_n^{n-1}\n",
    "\\end{pmatrix}\n",
    "\\begin{pmatrix}\n",
    "w_1\\\\\n",
    "w_2\\\\\n",
    "w_3\\\\\n",
    "\\vdots\\\\\n",
    "w_n\n",
    "\\end{pmatrix}\n",
    "=\n",
    "\\begin{pmatrix}\n",
    "I_0\\\\\n",
    "I_1\\\\\n",
    "I_2\\\\\n",
    "\\vdots\\\\\n",
    "I_{n-1}\n",
    "\\end{pmatrix}. \n",
    "$$\n",
    "\n",
    "\n",
    "The existence of $\\{w_i\\}$ is obvious since the matrix is invertible. \n"
   ]
  }
 ],
 "metadata": {
  "kernelspec": {
   "display_name": "Python 3",
   "language": "python",
   "name": "python3"
  },
  "language_info": {
   "codemirror_mode": {
    "name": "ipython",
    "version": 3
   },
   "file_extension": ".py",
   "mimetype": "text/x-python",
   "name": "python",
   "nbconvert_exporter": "python",
   "pygments_lexer": "ipython3",
   "version": "3.8.1"
  }
 },
 "nbformat": 4,
 "nbformat_minor": 4
}
